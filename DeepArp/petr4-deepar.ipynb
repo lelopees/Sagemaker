{
 "cells": [
  {
   "cell_type": "markdown",
   "metadata": {},
   "source": [
    "# Tratamento da base de dados"
   ]
  },
  {
   "cell_type": "code",
   "execution_count": 2,
   "metadata": {
    "tags": []
   },
   "outputs": [],
   "source": [
    "import pandas as pd\n",
    "import matplotlib.pyplot as plt\n",
    "%matplotlib inline\n",
    "import json\n",
    "import os\n",
    "import numpy as np\n",
    "import datetime"
   ]
  },
  {
   "cell_type": "code",
   "execution_count": 3,
   "metadata": {
    "tags": []
   },
   "outputs": [
    {
     "data": {
      "text/html": [
       "<div>\n",
       "<style scoped>\n",
       "    .dataframe tbody tr th:only-of-type {\n",
       "        vertical-align: middle;\n",
       "    }\n",
       "\n",
       "    .dataframe tbody tr th {\n",
       "        vertical-align: top;\n",
       "    }\n",
       "\n",
       "    .dataframe thead th {\n",
       "        text-align: right;\n",
       "    }\n",
       "</style>\n",
       "<table border=\"1\" class=\"dataframe\">\n",
       "  <thead>\n",
       "    <tr style=\"text-align: right;\">\n",
       "      <th></th>\n",
       "      <th>Date</th>\n",
       "      <th>Open</th>\n",
       "      <th>High</th>\n",
       "      <th>Low</th>\n",
       "      <th>Close</th>\n",
       "      <th>Adj Close</th>\n",
       "      <th>Volume</th>\n",
       "    </tr>\n",
       "  </thead>\n",
       "  <tbody>\n",
       "    <tr>\n",
       "      <th>0</th>\n",
       "      <td>2013-01-02</td>\n",
       "      <td>19.990000</td>\n",
       "      <td>20.209999</td>\n",
       "      <td>19.690001</td>\n",
       "      <td>19.690001</td>\n",
       "      <td>18.086271</td>\n",
       "      <td>30182600.0</td>\n",
       "    </tr>\n",
       "    <tr>\n",
       "      <th>1</th>\n",
       "      <td>2013-01-03</td>\n",
       "      <td>19.809999</td>\n",
       "      <td>20.400000</td>\n",
       "      <td>19.700001</td>\n",
       "      <td>20.400000</td>\n",
       "      <td>18.738441</td>\n",
       "      <td>30552600.0</td>\n",
       "    </tr>\n",
       "    <tr>\n",
       "      <th>2</th>\n",
       "      <td>2013-01-04</td>\n",
       "      <td>20.330000</td>\n",
       "      <td>20.620001</td>\n",
       "      <td>20.170000</td>\n",
       "      <td>20.430000</td>\n",
       "      <td>18.766001</td>\n",
       "      <td>36141000.0</td>\n",
       "    </tr>\n",
       "    <tr>\n",
       "      <th>3</th>\n",
       "      <td>2013-01-07</td>\n",
       "      <td>20.480000</td>\n",
       "      <td>20.670000</td>\n",
       "      <td>19.950001</td>\n",
       "      <td>20.080000</td>\n",
       "      <td>18.444506</td>\n",
       "      <td>28069600.0</td>\n",
       "    </tr>\n",
       "    <tr>\n",
       "      <th>4</th>\n",
       "      <td>2013-01-08</td>\n",
       "      <td>20.110001</td>\n",
       "      <td>20.230000</td>\n",
       "      <td>19.459999</td>\n",
       "      <td>19.500000</td>\n",
       "      <td>17.911745</td>\n",
       "      <td>29091300.0</td>\n",
       "    </tr>\n",
       "    <tr>\n",
       "      <th>...</th>\n",
       "      <td>...</td>\n",
       "      <td>...</td>\n",
       "      <td>...</td>\n",
       "      <td>...</td>\n",
       "      <td>...</td>\n",
       "      <td>...</td>\n",
       "      <td>...</td>\n",
       "    </tr>\n",
       "    <tr>\n",
       "      <th>1340</th>\n",
       "      <td>2018-05-21</td>\n",
       "      <td>26.100000</td>\n",
       "      <td>26.290001</td>\n",
       "      <td>24.940001</td>\n",
       "      <td>25.049999</td>\n",
       "      <td>25.000000</td>\n",
       "      <td>75971900.0</td>\n",
       "    </tr>\n",
       "    <tr>\n",
       "      <th>1341</th>\n",
       "      <td>2018-05-22</td>\n",
       "      <td>24.809999</td>\n",
       "      <td>25.290001</td>\n",
       "      <td>24.150000</td>\n",
       "      <td>24.709999</td>\n",
       "      <td>24.709999</td>\n",
       "      <td>88109900.0</td>\n",
       "    </tr>\n",
       "    <tr>\n",
       "      <th>1342</th>\n",
       "      <td>2018-05-23</td>\n",
       "      <td>24.230000</td>\n",
       "      <td>24.480000</td>\n",
       "      <td>23.270000</td>\n",
       "      <td>23.270000</td>\n",
       "      <td>23.270000</td>\n",
       "      <td>74622500.0</td>\n",
       "    </tr>\n",
       "    <tr>\n",
       "      <th>1343</th>\n",
       "      <td>2018-05-24</td>\n",
       "      <td>20.049999</td>\n",
       "      <td>20.750000</td>\n",
       "      <td>19.650000</td>\n",
       "      <td>20.080000</td>\n",
       "      <td>20.080000</td>\n",
       "      <td>240343800.0</td>\n",
       "    </tr>\n",
       "    <tr>\n",
       "      <th>1344</th>\n",
       "      <td>2018-05-25</td>\n",
       "      <td>20.650000</td>\n",
       "      <td>21.270000</td>\n",
       "      <td>19.660000</td>\n",
       "      <td>19.799999</td>\n",
       "      <td>19.799999</td>\n",
       "      <td>131188100.0</td>\n",
       "    </tr>\n",
       "  </tbody>\n",
       "</table>\n",
       "<p>1345 rows × 7 columns</p>\n",
       "</div>"
      ],
      "text/plain": [
       "            Date       Open       High        Low      Close  Adj Close  \\\n",
       "0     2013-01-02  19.990000  20.209999  19.690001  19.690001  18.086271   \n",
       "1     2013-01-03  19.809999  20.400000  19.700001  20.400000  18.738441   \n",
       "2     2013-01-04  20.330000  20.620001  20.170000  20.430000  18.766001   \n",
       "3     2013-01-07  20.480000  20.670000  19.950001  20.080000  18.444506   \n",
       "4     2013-01-08  20.110001  20.230000  19.459999  19.500000  17.911745   \n",
       "...          ...        ...        ...        ...        ...        ...   \n",
       "1340  2018-05-21  26.100000  26.290001  24.940001  25.049999  25.000000   \n",
       "1341  2018-05-22  24.809999  25.290001  24.150000  24.709999  24.709999   \n",
       "1342  2018-05-23  24.230000  24.480000  23.270000  23.270000  23.270000   \n",
       "1343  2018-05-24  20.049999  20.750000  19.650000  20.080000  20.080000   \n",
       "1344  2018-05-25  20.650000  21.270000  19.660000  19.799999  19.799999   \n",
       "\n",
       "           Volume  \n",
       "0      30182600.0  \n",
       "1      30552600.0  \n",
       "2      36141000.0  \n",
       "3      28069600.0  \n",
       "4      29091300.0  \n",
       "...           ...  \n",
       "1340   75971900.0  \n",
       "1341   88109900.0  \n",
       "1342   74622500.0  \n",
       "1343  240343800.0  \n",
       "1344  131188100.0  \n",
       "\n",
       "[1345 rows x 7 columns]"
      ]
     },
     "execution_count": 3,
     "metadata": {},
     "output_type": "execute_result"
    }
   ],
   "source": [
    "base = pd.read_csv('petr4_treinamento_ex.csv')\n",
    "base"
   ]
  },
  {
   "cell_type": "code",
   "execution_count": 4,
   "metadata": {
    "tags": []
   },
   "outputs": [
    {
     "data": {
      "text/html": [
       "<div>\n",
       "<style scoped>\n",
       "    .dataframe tbody tr th:only-of-type {\n",
       "        vertical-align: middle;\n",
       "    }\n",
       "\n",
       "    .dataframe tbody tr th {\n",
       "        vertical-align: top;\n",
       "    }\n",
       "\n",
       "    .dataframe thead th {\n",
       "        text-align: right;\n",
       "    }\n",
       "</style>\n",
       "<table border=\"1\" class=\"dataframe\">\n",
       "  <thead>\n",
       "    <tr style=\"text-align: right;\">\n",
       "      <th></th>\n",
       "      <th>Open</th>\n",
       "      <th>High</th>\n",
       "      <th>Low</th>\n",
       "      <th>Close</th>\n",
       "      <th>Adj Close</th>\n",
       "      <th>Volume</th>\n",
       "    </tr>\n",
       "    <tr>\n",
       "      <th>Date</th>\n",
       "      <th></th>\n",
       "      <th></th>\n",
       "      <th></th>\n",
       "      <th></th>\n",
       "      <th></th>\n",
       "      <th></th>\n",
       "    </tr>\n",
       "  </thead>\n",
       "  <tbody>\n",
       "    <tr>\n",
       "      <th>2013-01-02</th>\n",
       "      <td>19.990000</td>\n",
       "      <td>20.209999</td>\n",
       "      <td>19.690001</td>\n",
       "      <td>19.690001</td>\n",
       "      <td>18.086271</td>\n",
       "      <td>30182600.0</td>\n",
       "    </tr>\n",
       "    <tr>\n",
       "      <th>2013-01-03</th>\n",
       "      <td>19.809999</td>\n",
       "      <td>20.400000</td>\n",
       "      <td>19.700001</td>\n",
       "      <td>20.400000</td>\n",
       "      <td>18.738441</td>\n",
       "      <td>30552600.0</td>\n",
       "    </tr>\n",
       "    <tr>\n",
       "      <th>2013-01-04</th>\n",
       "      <td>20.330000</td>\n",
       "      <td>20.620001</td>\n",
       "      <td>20.170000</td>\n",
       "      <td>20.430000</td>\n",
       "      <td>18.766001</td>\n",
       "      <td>36141000.0</td>\n",
       "    </tr>\n",
       "    <tr>\n",
       "      <th>2013-01-07</th>\n",
       "      <td>20.480000</td>\n",
       "      <td>20.670000</td>\n",
       "      <td>19.950001</td>\n",
       "      <td>20.080000</td>\n",
       "      <td>18.444506</td>\n",
       "      <td>28069600.0</td>\n",
       "    </tr>\n",
       "    <tr>\n",
       "      <th>2013-01-08</th>\n",
       "      <td>20.110001</td>\n",
       "      <td>20.230000</td>\n",
       "      <td>19.459999</td>\n",
       "      <td>19.500000</td>\n",
       "      <td>17.911745</td>\n",
       "      <td>29091300.0</td>\n",
       "    </tr>\n",
       "    <tr>\n",
       "      <th>...</th>\n",
       "      <td>...</td>\n",
       "      <td>...</td>\n",
       "      <td>...</td>\n",
       "      <td>...</td>\n",
       "      <td>...</td>\n",
       "      <td>...</td>\n",
       "    </tr>\n",
       "    <tr>\n",
       "      <th>2018-05-21</th>\n",
       "      <td>26.100000</td>\n",
       "      <td>26.290001</td>\n",
       "      <td>24.940001</td>\n",
       "      <td>25.049999</td>\n",
       "      <td>25.000000</td>\n",
       "      <td>75971900.0</td>\n",
       "    </tr>\n",
       "    <tr>\n",
       "      <th>2018-05-22</th>\n",
       "      <td>24.809999</td>\n",
       "      <td>25.290001</td>\n",
       "      <td>24.150000</td>\n",
       "      <td>24.709999</td>\n",
       "      <td>24.709999</td>\n",
       "      <td>88109900.0</td>\n",
       "    </tr>\n",
       "    <tr>\n",
       "      <th>2018-05-23</th>\n",
       "      <td>24.230000</td>\n",
       "      <td>24.480000</td>\n",
       "      <td>23.270000</td>\n",
       "      <td>23.270000</td>\n",
       "      <td>23.270000</td>\n",
       "      <td>74622500.0</td>\n",
       "    </tr>\n",
       "    <tr>\n",
       "      <th>2018-05-24</th>\n",
       "      <td>20.049999</td>\n",
       "      <td>20.750000</td>\n",
       "      <td>19.650000</td>\n",
       "      <td>20.080000</td>\n",
       "      <td>20.080000</td>\n",
       "      <td>240343800.0</td>\n",
       "    </tr>\n",
       "    <tr>\n",
       "      <th>2018-05-25</th>\n",
       "      <td>20.650000</td>\n",
       "      <td>21.270000</td>\n",
       "      <td>19.660000</td>\n",
       "      <td>19.799999</td>\n",
       "      <td>19.799999</td>\n",
       "      <td>131188100.0</td>\n",
       "    </tr>\n",
       "  </tbody>\n",
       "</table>\n",
       "<p>1345 rows × 6 columns</p>\n",
       "</div>"
      ],
      "text/plain": [
       "                 Open       High        Low      Close  Adj Close       Volume\n",
       "Date                                                                          \n",
       "2013-01-02  19.990000  20.209999  19.690001  19.690001  18.086271   30182600.0\n",
       "2013-01-03  19.809999  20.400000  19.700001  20.400000  18.738441   30552600.0\n",
       "2013-01-04  20.330000  20.620001  20.170000  20.430000  18.766001   36141000.0\n",
       "2013-01-07  20.480000  20.670000  19.950001  20.080000  18.444506   28069600.0\n",
       "2013-01-08  20.110001  20.230000  19.459999  19.500000  17.911745   29091300.0\n",
       "...               ...        ...        ...        ...        ...          ...\n",
       "2018-05-21  26.100000  26.290001  24.940001  25.049999  25.000000   75971900.0\n",
       "2018-05-22  24.809999  25.290001  24.150000  24.709999  24.709999   88109900.0\n",
       "2018-05-23  24.230000  24.480000  23.270000  23.270000  23.270000   74622500.0\n",
       "2018-05-24  20.049999  20.750000  19.650000  20.080000  20.080000  240343800.0\n",
       "2018-05-25  20.650000  21.270000  19.660000  19.799999  19.799999  131188100.0\n",
       "\n",
       "[1345 rows x 6 columns]"
      ]
     },
     "execution_count": 4,
     "metadata": {},
     "output_type": "execute_result"
    }
   ],
   "source": [
    "from datetime import datetime\n",
    "# converter a coluna de data para formato de data \n",
    "dateparse = lambda dates: datetime.strptime(dates, '%Y-%m-%d')\n",
    "# coluna date será o indice do dataframe\n",
    "base = pd.read_csv('petr4_treinamento_ex.csv', parse_dates = ['Date'], index_col = 'Date', date_parser = dateparse)\n",
    "base"
   ]
  },
  {
   "cell_type": "code",
   "execution_count": 5,
   "metadata": {
    "tags": []
   },
   "outputs": [
    {
     "name": "stdout",
     "output_type": "stream",
     "text": [
      "<class 'pandas.core.frame.DataFrame'>\n",
      "DatetimeIndex: 1345 entries, 2013-01-02 to 2018-05-25\n",
      "Data columns (total 6 columns):\n",
      " #   Column     Non-Null Count  Dtype  \n",
      "---  ------     --------------  -----  \n",
      " 0   Open       1342 non-null   float64\n",
      " 1   High       1342 non-null   float64\n",
      " 2   Low        1342 non-null   float64\n",
      " 3   Close      1342 non-null   float64\n",
      " 4   Adj Close  1342 non-null   float64\n",
      " 5   Volume     1342 non-null   float64\n",
      "dtypes: float64(6)\n",
      "memory usage: 73.6 KB\n"
     ]
    }
   ],
   "source": [
    "base.info()"
   ]
  },
  {
   "cell_type": "code",
   "execution_count": 6,
   "metadata": {
    "tags": []
   },
   "outputs": [
    {
     "data": {
      "text/html": [
       "<div>\n",
       "<style scoped>\n",
       "    .dataframe tbody tr th:only-of-type {\n",
       "        vertical-align: middle;\n",
       "    }\n",
       "\n",
       "    .dataframe tbody tr th {\n",
       "        vertical-align: top;\n",
       "    }\n",
       "\n",
       "    .dataframe thead th {\n",
       "        text-align: right;\n",
       "    }\n",
       "</style>\n",
       "<table border=\"1\" class=\"dataframe\">\n",
       "  <thead>\n",
       "    <tr style=\"text-align: right;\">\n",
       "      <th></th>\n",
       "      <th>Close</th>\n",
       "    </tr>\n",
       "    <tr>\n",
       "      <th>Date</th>\n",
       "      <th></th>\n",
       "    </tr>\n",
       "  </thead>\n",
       "  <tbody>\n",
       "    <tr>\n",
       "      <th>2013-01-02</th>\n",
       "      <td>19.690001</td>\n",
       "    </tr>\n",
       "    <tr>\n",
       "      <th>2013-01-03</th>\n",
       "      <td>20.400000</td>\n",
       "    </tr>\n",
       "    <tr>\n",
       "      <th>2013-01-04</th>\n",
       "      <td>20.430000</td>\n",
       "    </tr>\n",
       "    <tr>\n",
       "      <th>2013-01-07</th>\n",
       "      <td>20.080000</td>\n",
       "    </tr>\n",
       "    <tr>\n",
       "      <th>2013-01-08</th>\n",
       "      <td>19.500000</td>\n",
       "    </tr>\n",
       "    <tr>\n",
       "      <th>...</th>\n",
       "      <td>...</td>\n",
       "    </tr>\n",
       "    <tr>\n",
       "      <th>2018-05-21</th>\n",
       "      <td>25.049999</td>\n",
       "    </tr>\n",
       "    <tr>\n",
       "      <th>2018-05-22</th>\n",
       "      <td>24.709999</td>\n",
       "    </tr>\n",
       "    <tr>\n",
       "      <th>2018-05-23</th>\n",
       "      <td>23.270000</td>\n",
       "    </tr>\n",
       "    <tr>\n",
       "      <th>2018-05-24</th>\n",
       "      <td>20.080000</td>\n",
       "    </tr>\n",
       "    <tr>\n",
       "      <th>2018-05-25</th>\n",
       "      <td>19.799999</td>\n",
       "    </tr>\n",
       "  </tbody>\n",
       "</table>\n",
       "<p>1345 rows × 1 columns</p>\n",
       "</div>"
      ],
      "text/plain": [
       "                Close\n",
       "Date                 \n",
       "2013-01-02  19.690001\n",
       "2013-01-03  20.400000\n",
       "2013-01-04  20.430000\n",
       "2013-01-07  20.080000\n",
       "2013-01-08  19.500000\n",
       "...               ...\n",
       "2018-05-21  25.049999\n",
       "2018-05-22  24.709999\n",
       "2018-05-23  23.270000\n",
       "2018-05-24  20.080000\n",
       "2018-05-25  19.799999\n",
       "\n",
       "[1345 rows x 1 columns]"
      ]
     },
     "execution_count": 6,
     "metadata": {},
     "output_type": "execute_result"
    }
   ],
   "source": [
    "# será utilizado somente o valor Close (valor de fechamento)\n",
    "base.drop(columns = ['Open', 'High', 'Low', 'Adj Close', 'Volume'], axis = 1, inplace = True)\n",
    "base"
   ]
  },
  {
   "cell_type": "code",
   "execution_count": 7,
   "metadata": {
    "tags": []
   },
   "outputs": [
    {
     "data": {
      "text/plain": [
       "(1345, 1)"
      ]
     },
     "execution_count": 7,
     "metadata": {},
     "output_type": "execute_result"
    }
   ],
   "source": [
    "base_teste = base.copy()\n",
    "base_teste.shape"
   ]
  },
  {
   "cell_type": "code",
   "execution_count": 8,
   "metadata": {
    "tags": []
   },
   "outputs": [
    {
     "data": {
      "text/html": [
       "<div>\n",
       "<style scoped>\n",
       "    .dataframe tbody tr th:only-of-type {\n",
       "        vertical-align: middle;\n",
       "    }\n",
       "\n",
       "    .dataframe tbody tr th {\n",
       "        vertical-align: top;\n",
       "    }\n",
       "\n",
       "    .dataframe thead th {\n",
       "        text-align: right;\n",
       "    }\n",
       "</style>\n",
       "<table border=\"1\" class=\"dataframe\">\n",
       "  <thead>\n",
       "    <tr style=\"text-align: right;\">\n",
       "      <th></th>\n",
       "      <th>Close</th>\n",
       "    </tr>\n",
       "    <tr>\n",
       "      <th>Date</th>\n",
       "      <th></th>\n",
       "    </tr>\n",
       "  </thead>\n",
       "  <tbody>\n",
       "    <tr>\n",
       "      <th>2013-01-02</th>\n",
       "      <td>19.690001</td>\n",
       "    </tr>\n",
       "    <tr>\n",
       "      <th>2013-01-03</th>\n",
       "      <td>20.400000</td>\n",
       "    </tr>\n",
       "    <tr>\n",
       "      <th>2013-01-04</th>\n",
       "      <td>20.430000</td>\n",
       "    </tr>\n",
       "    <tr>\n",
       "      <th>2013-01-07</th>\n",
       "      <td>20.080000</td>\n",
       "    </tr>\n",
       "    <tr>\n",
       "      <th>2013-01-08</th>\n",
       "      <td>19.500000</td>\n",
       "    </tr>\n",
       "    <tr>\n",
       "      <th>...</th>\n",
       "      <td>...</td>\n",
       "    </tr>\n",
       "    <tr>\n",
       "      <th>2018-04-06</th>\n",
       "      <td>21.280001</td>\n",
       "    </tr>\n",
       "    <tr>\n",
       "      <th>2018-04-09</th>\n",
       "      <td>20.530001</td>\n",
       "    </tr>\n",
       "    <tr>\n",
       "      <th>2018-04-10</th>\n",
       "      <td>21.400000</td>\n",
       "    </tr>\n",
       "    <tr>\n",
       "      <th>2018-04-11</th>\n",
       "      <td>21.799999</td>\n",
       "    </tr>\n",
       "    <tr>\n",
       "      <th>2018-04-12</th>\n",
       "      <td>21.680000</td>\n",
       "    </tr>\n",
       "  </tbody>\n",
       "</table>\n",
       "<p>1315 rows × 1 columns</p>\n",
       "</div>"
      ],
      "text/plain": [
       "                Close\n",
       "Date                 \n",
       "2013-01-02  19.690001\n",
       "2013-01-03  20.400000\n",
       "2013-01-04  20.430000\n",
       "2013-01-07  20.080000\n",
       "2013-01-08  19.500000\n",
       "...               ...\n",
       "2018-04-06  21.280001\n",
       "2018-04-09  20.530001\n",
       "2018-04-10  21.400000\n",
       "2018-04-11  21.799999\n",
       "2018-04-12  21.680000\n",
       "\n",
       "[1315 rows x 1 columns]"
      ]
     },
     "execution_count": 8,
     "metadata": {},
     "output_type": "execute_result"
    }
   ],
   "source": [
    "# irá contem -30 menos para que o modelo possa prever as 30 proximas datas\n",
    "base_treinamento = base.iloc[0:1315,:]\n",
    "base_treinamento"
   ]
  },
  {
   "cell_type": "code",
   "execution_count": 9,
   "metadata": {
    "tags": []
   },
   "outputs": [
    {
     "data": {
      "text/plain": [
       "(Timestamp('2013-01-02 00:00:00'), Timestamp('2018-04-12 00:00:00'))"
      ]
     },
     "execution_count": 9,
     "metadata": {},
     "output_type": "execute_result"
    }
   ],
   "source": [
    "base_treinamento.index.min(), base_treinamento.index.max()"
   ]
  },
  {
   "cell_type": "code",
   "execution_count": 10,
   "metadata": {
    "tags": []
   },
   "outputs": [
    {
     "data": {
      "text/plain": [
       "(Timestamp('2013-01-02 00:00:00'), Timestamp('2018-05-25 00:00:00'))"
      ]
     },
     "execution_count": 10,
     "metadata": {},
     "output_type": "execute_result"
    }
   ],
   "source": [
    "base_teste.index.min(), base_teste.index.max()"
   ]
  },
  {
   "cell_type": "code",
   "execution_count": 11,
   "metadata": {
    "tags": []
   },
   "outputs": [
    {
     "name": "stderr",
     "output_type": "stream",
     "text": [
      "/opt/conda/lib/python3.7/site-packages/ipykernel_launcher.py:1: FutureWarning: The 'freq' argument in Timestamp is deprecated and will be removed in a future version.\n",
      "  \"\"\"Entry point for launching an IPython kernel.\n",
      "/opt/conda/lib/python3.7/site-packages/ipykernel_launcher.py:2: FutureWarning: The 'freq' argument in Timestamp is deprecated and will be removed in a future version.\n",
      "  \n",
      "/opt/conda/lib/python3.7/site-packages/ipykernel_launcher.py:3: FutureWarning: The 'freq' argument in Timestamp is deprecated and will be removed in a future version.\n",
      "  This is separate from the ipykernel package so we can avoid doing imports until\n"
     ]
    }
   ],
   "source": [
    "dt_data_inicial = pd.Timestamp(\"2013-01-02\", freq = 'D')\n",
    "dt_data_final_treinamento = pd.Timestamp(\"2018-12-04\", freq = 'D')\n",
    "dt_previsao_maxima = pd.Timestamp(\"2018-05-25\", freq = 'D')\n",
    "\n",
    "faixa_treinamento = (dt_data_inicial, dt_data_final_treinamento)\n",
    "faixa_teste = (dt_data_inicial, dt_previsao_maxima)"
   ]
  },
  {
   "cell_type": "code",
   "execution_count": 12,
   "metadata": {
    "tags": []
   },
   "outputs": [
    {
     "data": {
      "text/plain": [
       "(Timestamp('2013-01-02 00:00:00', freq='D'),\n",
       " Timestamp('2018-12-04 00:00:00', freq='D'))"
      ]
     },
     "execution_count": 12,
     "metadata": {},
     "output_type": "execute_result"
    }
   ],
   "source": [
    "faixa_treinamento"
   ]
  },
  {
   "cell_type": "code",
   "execution_count": 13,
   "metadata": {
    "tags": []
   },
   "outputs": [
    {
     "data": {
      "text/plain": [
       "(Timestamp('2013-01-02 00:00:00', freq='D'),\n",
       " Timestamp('2018-05-25 00:00:00', freq='D'))"
      ]
     },
     "execution_count": 13,
     "metadata": {},
     "output_type": "execute_result"
    }
   ],
   "source": [
    "faixa_teste"
   ]
  },
  {
   "cell_type": "code",
   "execution_count": 14,
   "metadata": {
    "tags": []
   },
   "outputs": [],
   "source": [
    "serie_temporal_treinamento = []\n",
    "serie_temporal_teste = []\n",
    "\n",
    "# Close é o target\n",
    "serie_temporal_treinamento.append(base_treinamento[faixa_treinamento[0]:faixa_treinamento[1]]['Close'])\n",
    "serie_temporal_teste.append(base_teste[faixa_teste[0]:faixa_teste[1]]['Close'])"
   ]
  },
  {
   "cell_type": "code",
   "execution_count": 15,
   "metadata": {
    "tags": []
   },
   "outputs": [
    {
     "data": {
      "text/plain": [
       "(list, list)"
      ]
     },
     "execution_count": 15,
     "metadata": {},
     "output_type": "execute_result"
    }
   ],
   "source": [
    "type(serie_temporal_treinamento), type(serie_temporal_teste)"
   ]
  },
  {
   "cell_type": "code",
   "execution_count": 16,
   "metadata": {
    "tags": []
   },
   "outputs": [
    {
     "data": {
      "text/plain": [
       "[Date\n",
       " 2013-01-02    19.690001\n",
       " 2013-01-03    20.400000\n",
       " 2013-01-04    20.430000\n",
       " 2013-01-07    20.080000\n",
       " 2013-01-08    19.500000\n",
       "                 ...    \n",
       " 2018-04-06    21.280001\n",
       " 2018-04-09    20.530001\n",
       " 2018-04-10    21.400000\n",
       " 2018-04-11    21.799999\n",
       " 2018-04-12    21.680000\n",
       " Name: Close, Length: 1315, dtype: float64]"
      ]
     },
     "execution_count": 16,
     "metadata": {},
     "output_type": "execute_result"
    }
   ],
   "source": [
    "serie_temporal_treinamento"
   ]
  },
  {
   "cell_type": "code",
   "execution_count": 17,
   "metadata": {
    "tags": []
   },
   "outputs": [
    {
     "data": {
      "text/plain": [
       "[Date\n",
       " 2013-01-02    19.690001\n",
       " 2013-01-03    20.400000\n",
       " 2013-01-04    20.430000\n",
       " 2013-01-07    20.080000\n",
       " 2013-01-08    19.500000\n",
       "                 ...    \n",
       " 2018-05-21    25.049999\n",
       " 2018-05-22    24.709999\n",
       " 2018-05-23    23.270000\n",
       " 2018-05-24    20.080000\n",
       " 2018-05-25    19.799999\n",
       " Name: Close, Length: 1345, dtype: float64]"
      ]
     },
     "execution_count": 17,
     "metadata": {},
     "output_type": "execute_result"
    }
   ],
   "source": [
    "serie_temporal_teste"
   ]
  },
  {
   "cell_type": "code",
   "execution_count": 18,
   "metadata": {
    "tags": []
   },
   "outputs": [
    {
     "data": {
      "text/plain": [
       "(1315, 1345)"
      ]
     },
     "execution_count": 18,
     "metadata": {},
     "output_type": "execute_result"
    }
   ],
   "source": [
    "len(serie_temporal_treinamento[0]), len(serie_temporal_teste[0])"
   ]
  },
  {
   "cell_type": "code",
   "execution_count": 19,
   "metadata": {
    "tags": []
   },
   "outputs": [
    {
     "data": {
      "image/png": "[encoded data removed]",
      "text/plain": [
       "<Figure size 1000x1000 with 1 Axes>"
      ]
     },
     "metadata": {},
     "output_type": "display_data"
    }
   ],
   "source": [
    "plt.figure(figsize=(10,10))\n",
    "serie_temporal_teste[0].plot(label = \"Teste\")\n",
    "serie_temporal_treinamento[0].plot(label = \"Treinamento\")\n",
    "plt.legend()\n",
    "plt.show()"
   ]
  },
  {
   "cell_type": "code",
   "execution_count": 20,
   "metadata": {
    "tags": []
   },
   "outputs": [],
   "source": [
    "# ajuste para os dados Nan\n",
    "def encode_target(ts):\n",
    "    return [x if np.isfinite(x) else \"NaN\" for x in ts]"
   ]
  },
  {
   "cell_type": "code",
   "execution_count": 21,
   "metadata": {
    "tags": []
   },
   "outputs": [
    {
     "data": {
      "text/plain": [
       "[19.690001, 20.4, 20.43, 20.08, 19.5]"
      ]
     },
     "execution_count": 21,
     "metadata": {},
     "output_type": "execute_result"
    }
   ],
   "source": [
    "encode_target(serie_temporal_treinamento[0][0:5])"
   ]
  },
  {
   "cell_type": "code",
   "execution_count": 22,
   "metadata": {
    "tags": []
   },
   "outputs": [],
   "source": [
    "def series_to_obj(ts):\n",
    "    obj = {\"start\": str(ts.index[0]), \"target\": encode_target(ts)}\n",
    "    return obj"
   ]
  },
  {
   "cell_type": "code",
   "execution_count": 23,
   "metadata": {
    "tags": []
   },
   "outputs": [
    {
     "data": {
      "text/plain": [
       "{'start': '2013-01-02 00:00:00',\n",
       " 'target': [19.690001, 20.4, 20.43, 20.08, 19.5]}"
      ]
     },
     "execution_count": 23,
     "metadata": {},
     "output_type": "execute_result"
    }
   ],
   "source": [
    "series_to_obj(serie_temporal_treinamento[0][0:5])"
   ]
  },
  {
   "cell_type": "code",
   "execution_count": 24,
   "metadata": {
    "tags": []
   },
   "outputs": [],
   "source": [
    "# conversão de serie para json\n",
    "def series_to_jsonline(ts):\n",
    "    return json.dumps(series_to_obj(ts))"
   ]
  },
  {
   "cell_type": "code",
   "execution_count": 25,
   "metadata": {
    "tags": []
   },
   "outputs": [
    {
     "data": {
      "text/plain": [
       "'{\"start\": \"2013-01-02 00:00:00\", \"target\": [19.690001, 20.4, 20.43, 20.08, 19.5]}'"
      ]
     },
     "execution_count": 25,
     "metadata": {},
     "output_type": "execute_result"
    }
   ],
   "source": [
    "series_to_jsonline(serie_temporal_treinamento[0][0:5])"
   ]
  },
  {
   "cell_type": "code",
   "execution_count": 26,
   "metadata": {
    "tags": []
   },
   "outputs": [],
   "source": [
    "encoding = 'utf-8'\n",
    "arquivo_json_treinamento = 'train_petr.json'\n",
    "arquivo_json_teste = 'test_petr.json'\n",
    "with open(arquivo_json_treinamento, 'wb') as fp:\n",
    "    for ts in serie_temporal_treinamento:\n",
    "        fp.write(series_to_jsonline(ts).encode(encoding))\n",
    "        fp.write('\\n'.encode(encoding))\n",
    "\n",
    "with open(arquivo_json_teste, 'wb') as fp:\n",
    "    for ts in serie_temporal_teste:\n",
    "        fp.write(series_to_jsonline(ts).encode(encoding))\n",
    "        fp.write('\\n'.encode(encoding))"
   ]
  },
  {
   "cell_type": "markdown",
   "metadata": {},
   "source": [
    "# Configurações do SageMaker"
   ]
  },
  {
   "cell_type": "code",
   "execution_count": 28,
   "metadata": {
    "tags": []
   },
   "outputs": [],
   "source": [
    "import boto3\n",
    "import sagemaker"
   ]
  },
  {
   "cell_type": "code",
   "execution_count": 29,
   "metadata": {
    "tags": []
   },
   "outputs": [
    {
     "name": "stdout",
     "output_type": "stream",
     "text": [
      "Role: arn:aws:iam::605390214759:role/service-role/AmazonSageMaker-ExecutionRole-20230311T091643\n",
      "Localização da base de treinamento: s3://cursoawssagemakersp/datasets/petr/train/train_petr.json\n",
      "Localização da base de teste: s3://cursoawssagemakersp/datasets/petr/test/test_petr.json\n",
      "Modelo será salvo em: s3://cursoawssagemakersp/modelos/petr/deepar/output\n"
     ]
    }
   ],
   "source": [
    "session = sagemaker.Session()\n",
    "role = sagemaker.get_execution_role()\n",
    "job_name = 'deepar-petr'\n",
    "bucket = 'cursoawssagemakersp'\n",
    "subpasta_dataset = 'datasets/petr'\n",
    "subpasta_modelo = 'modelos/petr/deepar'\n",
    "s3_train_data = 's3://{}/{}/train/{}'.format(bucket, subpasta_dataset, 'train_petr.json')\n",
    "s3_test_data = 's3://{}/{}/test/{}'.format(bucket, subpasta_dataset, 'test_petr.json')\n",
    "output_location = 's3://{}/{}/output'.format(bucket, subpasta_modelo)\n",
    "\n",
    "print('Role: {}'.format(role))\n",
    "print('Localização da base de treinamento: {}'.format(s3_train_data))\n",
    "print('Localização da base de teste: {}'.format(s3_test_data))\n",
    "print('Modelo será salvo em: {}'.format(output_location))"
   ]
  },
  {
   "cell_type": "code",
   "execution_count": 30,
   "metadata": {
    "tags": []
   },
   "outputs": [],
   "source": [
    "def escreve_s3(arquivo, bucket, nome):\n",
    "    with open(arquivo, 'rb') as f:\n",
    "        return boto3.Session().resource('s3').Bucket(bucket).Object(nome).upload_fileobj(f)"
   ]
  },
  {
   "cell_type": "code",
   "execution_count": 31,
   "metadata": {
    "tags": []
   },
   "outputs": [],
   "source": [
    "escreve_s3('train_petr.json', bucket, os.path.join(subpasta_dataset, 'train', 'train_petr.json'))\n",
    "escreve_s3('test_petr.json', bucket, os.path.join(subpasta_dataset, 'test', 'test_petr.json'))"
   ]
  },
  {
   "cell_type": "markdown",
   "metadata": {},
   "source": [
    "# Treinamento do DeepAR"
   ]
  },
  {
   "cell_type": "code",
   "execution_count": 32,
   "metadata": {
    "tags": []
   },
   "outputs": [],
   "source": [
    "# https://docs.aws.amazon.com/sagemaker/latest/dg/ecr-sa-east-1.html\n",
    "container = sagemaker.image_uris.retrieve(framework = 'forecasting-deepar', region = session.boto_region_name)"
   ]
  },
  {
   "cell_type": "code",
   "execution_count": 33,
   "metadata": {
    "tags": []
   },
   "outputs": [],
   "source": [
    "# https://sagemaker.readthedocs.io/en/stable/api/training/estimators.html\n",
    "# https://github.com/aws-samples/amazon-sagemaker-managed-spot-training/blob/main/xgboost_built_in_managed_spot_training_checkpointing/xgboost_built_in_managed_spot_training_checkpointing.ipynb\n",
    "deepar = sagemaker.estimator.Estimator(image_uri = container,\n",
    "                                       role = role,\n",
    "                                       instance_count = 1,\n",
    "                                       instance_type = 'ml.m5.large',\n",
    "                                       output_path = output_location,\n",
    "                                       sagemaker_session = session,\n",
    "                                       base_job_name = job_name,\n",
    "                                       use_spot_instances = True,\n",
    "                                       max_run = 3600,\n",
    "                                       max_wait = 3600)"
   ]
  },
  {
   "cell_type": "code",
   "execution_count": 34,
   "metadata": {
    "tags": []
   },
   "outputs": [],
   "source": [
    "# https://docs.aws.amazon.com/sagemaker/latest/dg/deepar_hyperparameters.html\n",
    "freq = 'D'\n",
    "prediction_length = 30\n",
    "context_length = 30"
   ]
  },
  {
   "cell_type": "code",
   "execution_count": 35,
   "metadata": {
    "tags": []
   },
   "outputs": [],
   "source": [
    "hyperparametros = {\n",
    "    'time_freq': freq,\n",
    "    'epochs': \"20\",\n",
    "    'context_length': str(context_length),\n",
    "    'prediction_length': str(prediction_length)\n",
    "}"
   ]
  },
  {
   "cell_type": "code",
   "execution_count": 36,
   "metadata": {
    "tags": []
   },
   "outputs": [],
   "source": [
    "deepar.set_hyperparameters(**hyperparametros)"
   ]
  },
  {
   "cell_type": "code",
   "execution_count": 37,
   "metadata": {
    "tags": []
   },
   "outputs": [
    {
     "data": {
      "text/plain": [
       "{'train': 's3://cursoawssagemakersp/datasets/petr/train/train_petr.json',\n",
       " 'test': 's3://cursoawssagemakersp/datasets/petr/test/test_petr.json'}"
      ]
     },
     "execution_count": 37,
     "metadata": {},
     "output_type": "execute_result"
    }
   ],
   "source": [
    "data_channels = {'train': s3_train_data, 'test': s3_test_data}\n",
    "data_channels"
   ]
  },
  {
   "cell_type": "code",
   "execution_count": 38,
   "metadata": {
    "tags": []
   },
   "outputs": [
    {
     "name": "stderr",
     "output_type": "stream",
     "text": [
      "INFO:sagemaker:Creating training-job with name: deepar-petr-2023-03-24-13-06-11-960\n"
     ]
    },
    {
     "name": "stdout",
     "output_type": "stream",
     "text": [
      "2023-03-24 13:06:12 Starting - Starting the training job...\n",
      "2023-03-24 13:06:28 Starting - Preparing the instances for training.........\n",
      "2023-03-24 13:08:00 Downloading - Downloading input data...\n",
      "2023-03-24 13:08:36 Training - Downloading the training image......\n",
      "2023-03-24 13:09:42 Training - Training image download completed. Training in progress..\u001b[34mArguments: train\u001b[0m\n",
      "\u001b[34m/opt/amazon/lib/python3.8/site-packages/mxnet/model.py:78: SyntaxWarning: \"is\" with a literal. Did you mean \"==\"?\n",
      "  if num_device is 1 and 'dist' not in kvstore:\u001b[0m\n",
      "\u001b[34m/opt/amazon/lib/python3.8/site-packages/jsonref.py:8: DeprecationWarning: Using or importing the ABCs from 'collections' instead of from 'collections.abc' is deprecated since Python 3.3, and in 3.10 it will stop working\n",
      "  from collections import Mapping, MutableMapping, Sequence\u001b[0m\n",
      "\u001b[34m[03/24/2023 13:09:48 INFO 140699289274176] Reading default configuration from /opt/amazon/lib/python3.8/site-packages/algorithm/resources/default-input.json: {'_kvstore': 'auto', '_num_gpus': 'auto', '_num_kv_servers': 'auto', '_tuning_objective_metric': '', 'cardinality': 'auto', 'dropout_rate': '0.10', 'early_stopping_patience': '', 'embedding_dimension': '10', 'learning_rate': '0.001', 'likelihood': 'student-t', 'mini_batch_size': '128', 'num_cells': '40', 'num_dynamic_feat': 'auto', 'num_eval_samples': '100', 'num_layers': '2', 'test_quantiles': '[0.1, 0.2, 0.3, 0.4, 0.5, 0.6, 0.7, 0.8, 0.9]'}\u001b[0m\n",
      "\u001b[34m[03/24/2023 13:09:48 INFO 140699289274176] Merging with provided configuration from /opt/ml/input/config/hyperparameters.json: {'context_length': '30', 'epochs': '20', 'prediction_length': '30', 'time_freq': 'D'}\u001b[0m\n",
      "\u001b[34m[03/24/2023 13:09:48 INFO 140699289274176] Final configuration: {'_kvstore': 'auto', '_num_gpus': 'auto', '_num_kv_servers': 'auto', '_tuning_objective_metric': '', 'cardinality': 'auto', 'dropout_rate': '0.10', 'early_stopping_patience': '', 'embedding_dimension': '10', 'learning_rate': '0.001', 'likelihood': 'student-t', 'mini_batch_size': '128', 'num_cells': '40', 'num_dynamic_feat': 'auto', 'num_eval_samples': '100', 'num_layers': '2', 'test_quantiles': '[0.1, 0.2, 0.3, 0.4, 0.5, 0.6, 0.7, 0.8, 0.9]', 'context_length': '30', 'epochs': '20', 'prediction_length': '30', 'time_freq': 'D'}\u001b[0m\n",
      "\u001b[34mProcess 7 is a worker.\u001b[0m\n",
      "\u001b[34m[03/24/2023 13:09:48 INFO 140699289274176] Detected entry point for worker worker\u001b[0m\n",
      "\u001b[34m[03/24/2023 13:09:48 INFO 140699289274176] random_seed is None\u001b[0m\n",
      "\u001b[34m[03/24/2023 13:09:48 INFO 140699289274176] [cardinality=auto] `cat` field was NOT found in the file `/opt/ml/input/data/train/train_petr.json` and will NOT be used for training.\u001b[0m\n",
      "\u001b[34m[03/24/2023 13:09:48 INFO 140699289274176] [num_dynamic_feat=auto] `dynamic_feat` field was NOT found in the file `/opt/ml/input/data/train/train_petr.json` and will NOT be used for training.\u001b[0m\n",
      "\u001b[34m[03/24/2023 13:09:48 INFO 140699289274176] Training set statistics:\u001b[0m\n",
      "\u001b[34m[03/24/2023 13:09:48 INFO 140699289274176] Real time series\u001b[0m\n",
      "\u001b[34m[03/24/2023 13:09:48 INFO 140699289274176] number of time series: 1\u001b[0m\n",
      "\u001b[34m[03/24/2023 13:09:48 INFO 140699289274176] number of observations: 1315\u001b[0m\n",
      "\u001b[34m[03/24/2023 13:09:48 INFO 140699289274176] mean target length: 1315.0\u001b[0m\n",
      "\u001b[34m[03/24/2023 13:09:48 INFO 140699289274176] min/mean/max target: 0.0/14.306752019961976/24.559999465942383\u001b[0m\n",
      "\u001b[34m[03/24/2023 13:09:48 INFO 140699289274176] mean abs(target): 14.306752019961976\u001b[0m\n",
      "\u001b[34m[03/24/2023 13:09:48 INFO 140699289274176] contains missing values: yes (0.2%)\u001b[0m\n",
      "\u001b[34m[03/24/2023 13:09:48 INFO 140699289274176] Small number of time series. Doing 1280 passes over dataset with prob 1.0 per epoch.\u001b[0m\n",
      "\u001b[34m[03/24/2023 13:09:48 INFO 140699289274176] Test set statistics:\u001b[0m\n",
      "\u001b[34m[03/24/2023 13:09:48 INFO 140699289274176] Real time series\u001b[0m\n",
      "\u001b[34m[03/24/2023 13:09:48 INFO 140699289274176] number of time series: 1\u001b[0m\n",
      "\u001b[34m[03/24/2023 13:09:48 INFO 140699289274176] number of observations: 1345\u001b[0m\n",
      "\u001b[34m[03/24/2023 13:09:48 INFO 140699289274176] mean target length: 1345.0\u001b[0m\n",
      "\u001b[34m[03/24/2023 13:09:48 INFO 140699289274176] min/mean/max target: 0.0/14.506534618959108/27.389999389648438\u001b[0m\n",
      "\u001b[34m[03/24/2023 13:09:48 INFO 140699289274176] mean abs(target): 14.506534618959108\u001b[0m\n",
      "\u001b[34m[03/24/2023 13:09:48 INFO 140699289274176] contains missing values: yes (0.2%)\u001b[0m\n",
      "\u001b[34m/opt/amazon/lib/python3.8/site-packages/algorithm/core/date_feature_set.py:44: FutureWarning: weekofyear and week have been deprecated, please use DatetimeIndex.isocalendar().week instead, which returns a Series.  To exactly reproduce the behavior of week and weekofyear and return an Index, you may call pd.Int64Index(idx.isocalendar().week)\n",
      "  return index.weekofyear / 51.0 - 0.5\u001b[0m\n",
      "\u001b[34m[03/24/2023 13:09:48 INFO 140699289274176] #memory_usage::<batchbuffer> = 44.8974609375 mb\u001b[0m\n",
      "\u001b[34m/opt/amazon/python3.8/lib/python3.8/subprocess.py:848: RuntimeWarning: line buffering (buffering=1) isn't supported in binary mode, the default buffer size will be used\n",
      "  self.stdout = io.open(c2pread, 'rb', bufsize)\u001b[0m\n",
      "\u001b[34m[03/24/2023 13:09:49 INFO 140699289274176] nvidia-smi: took 0.030 seconds to run.\u001b[0m\n",
      "\u001b[34m[03/24/2023 13:09:49 INFO 140699289274176] nvidia-smi identified 0 GPUs.\u001b[0m\n",
      "\u001b[34m[03/24/2023 13:09:49 INFO 140699289274176] Number of GPUs being used: 0\u001b[0m\n",
      "\u001b[34m[03/24/2023 13:09:49 INFO 140699289274176] Create Store: local\u001b[0m\n",
      "\u001b[34m#metrics {\"StartTime\": 1679663389.0312138, \"EndTime\": 1679663389.1855924, \"Dimensions\": {\"Algorithm\": \"AWS/DeepAR\", \"Host\": \"algo-1\", \"Operation\": \"training\"}, \"Metrics\": {\"get_graph.time\": {\"sum\": 153.3651351928711, \"count\": 1, \"min\": 153.3651351928711, \"max\": 153.3651351928711}}}\u001b[0m\n",
      "\u001b[34m[03/24/2023 13:09:49 INFO 140699289274176] Number of GPUs being used: 0\u001b[0m\n",
      "\u001b[34m[03/24/2023 13:09:49 INFO 140699289274176] #memory_usage::<model> = 39 mb\u001b[0m\n",
      "\u001b[34m#metrics {\"StartTime\": 1679663389.185677, \"EndTime\": 1679663389.4438245, \"Dimensions\": {\"Algorithm\": \"AWS/DeepAR\", \"Host\": \"algo-1\", \"Operation\": \"training\"}, \"Metrics\": {\"initialize.time\": {\"sum\": 412.51063346862793, \"count\": 1, \"min\": 412.51063346862793, \"max\": 412.51063346862793}}}\u001b[0m\n",
      "\u001b[34m[03/24/2023 13:09:50 INFO 140699289274176] Epoch[0] Batch[0] avg_epoch_loss=3.882768\u001b[0m\n",
      "\u001b[34m[03/24/2023 13:09:50 INFO 140699289274176] #quality_metric: host=algo-1, epoch=0, batch=0 train loss <loss>=3.882767915725708\u001b[0m\n",
      "\u001b[34m[03/24/2023 13:09:51 INFO 140699289274176] Epoch[0] Batch[5] avg_epoch_loss=3.387605\u001b[0m\n",
      "\u001b[34m[03/24/2023 13:09:51 INFO 140699289274176] #quality_metric: host=algo-1, epoch=0, batch=5 train loss <loss>=3.387604832649231\u001b[0m\n",
      "\u001b[34m[03/24/2023 13:09:51 INFO 140699289274176] Epoch[0] Batch [5]#011Speed: 607.40 samples/sec#011loss=3.387605\u001b[0m\n",
      "\u001b[34m[03/24/2023 13:09:53 INFO 140699289274176] Epoch[0] Batch[10] avg_epoch_loss=3.114919\u001b[0m\n",
      "\u001b[34m[03/24/2023 13:09:53 INFO 140699289274176] #quality_metric: host=algo-1, epoch=0, batch=10 train loss <loss>=2.787696695327759\u001b[0m\n",
      "\u001b[34m[03/24/2023 13:09:53 INFO 140699289274176] Epoch[0] Batch [10]#011Speed: 578.91 samples/sec#011loss=2.787697\u001b[0m\n",
      "\u001b[34m[03/24/2023 13:09:53 INFO 140699289274176] processed a total of 1353 examples\u001b[0m\n",
      "\u001b[34m#metrics {\"StartTime\": 1679663389.443889, \"EndTime\": 1679663393.0655236, \"Dimensions\": {\"Algorithm\": \"AWS/DeepAR\", \"Host\": \"algo-1\", \"Operation\": \"training\"}, \"Metrics\": {\"epochs\": {\"sum\": 20.0, \"count\": 1, \"min\": 20, \"max\": 20}, \"update.time\": {\"sum\": 3621.53697013855, \"count\": 1, \"min\": 3621.53697013855, \"max\": 3621.53697013855}}}\u001b[0m\n",
      "\u001b[34m[03/24/2023 13:09:53 INFO 140699289274176] #throughput_metric: host=algo-1, train throughput=373.5844134624316 records/second\u001b[0m\n",
      "\u001b[34m[03/24/2023 13:09:53 INFO 140699289274176] #progress_metric: host=algo-1, completed 5.0 % of epochs\u001b[0m\n",
      "\u001b[34m[03/24/2023 13:09:53 INFO 140699289274176] #quality_metric: host=algo-1, epoch=0, train loss <loss>=3.1149193156849253\u001b[0m\n",
      "\u001b[34m[03/24/2023 13:09:54 INFO 140699289274176] Epoch[1] Batch[0] avg_epoch_loss=2.639014\u001b[0m\n",
      "\u001b[34m[03/24/2023 13:09:54 INFO 140699289274176] #quality_metric: host=algo-1, epoch=1, batch=0 train loss <loss>=2.63901424407959\u001b[0m\n",
      "\u001b[34m[03/24/2023 13:09:56 INFO 140699289274176] Epoch[1] Batch[5] avg_epoch_loss=2.319126\u001b[0m\n",
      "\u001b[34m[03/24/2023 13:09:56 INFO 140699289274176] #quality_metric: host=algo-1, epoch=1, batch=5 train loss <loss>=2.3191258907318115\u001b[0m\n",
      "\u001b[34m[03/24/2023 13:09:56 INFO 140699289274176] Epoch[1] Batch [5]#011Speed: 411.88 samples/sec#011loss=2.319126\u001b[0m\n",
      "\u001b[34m[03/24/2023 13:09:57 INFO 140699289274176] Epoch[1] Batch[10] avg_epoch_loss=2.154272\u001b[0m\n",
      "\u001b[34m[03/24/2023 13:09:57 INFO 140699289274176] #quality_metric: host=algo-1, epoch=1, batch=10 train loss <loss>=1.956446361541748\u001b[0m\n",
      "\u001b[34m[03/24/2023 13:09:57 INFO 140699289274176] Epoch[1] Batch [10]#011Speed: 470.26 samples/sec#011loss=1.956446\u001b[0m\n",
      "\u001b[34m[03/24/2023 13:09:57 INFO 140699289274176] processed a total of 1331 examples\u001b[0m\n",
      "\u001b[34m#metrics {\"StartTime\": 1679663393.0656207, \"EndTime\": 1679663397.8864596, \"Dimensions\": {\"Algorithm\": \"AWS/DeepAR\", \"Host\": \"algo-1\", \"Operation\": \"training\"}, \"Metrics\": {\"update.time\": {\"sum\": 4820.274829864502, \"count\": 1, \"min\": 4820.274829864502, \"max\": 4820.274829864502}}}\u001b[0m\n",
      "\u001b[34m[03/24/2023 13:09:57 INFO 140699289274176] #throughput_metric: host=algo-1, train throughput=276.1139718861856 records/second\u001b[0m\n",
      "\u001b[34m[03/24/2023 13:09:57 INFO 140699289274176] #progress_metric: host=algo-1, completed 10.0 % of epochs\u001b[0m\n",
      "\u001b[34m[03/24/2023 13:09:57 INFO 140699289274176] #quality_metric: host=algo-1, epoch=1, train loss <loss>=2.1542715592817827\u001b[0m\n",
      "\u001b[34m[03/24/2023 13:09:59 INFO 140699289274176] Epoch[2] Batch[0] avg_epoch_loss=1.893130\u001b[0m\n",
      "\u001b[34m[03/24/2023 13:09:59 INFO 140699289274176] #quality_metric: host=algo-1, epoch=2, batch=0 train loss <loss>=1.8931300640106201\u001b[0m\n",
      "\u001b[34m[03/24/2023 13:10:00 INFO 140699289274176] Epoch[2] Batch[5] avg_epoch_loss=1.943855\u001b[0m\n",
      "\u001b[34m[03/24/2023 13:10:00 INFO 140699289274176] #quality_metric: host=algo-1, epoch=2, batch=5 train loss <loss>=1.9438553651173909\u001b[0m\n",
      "\u001b[34m[03/24/2023 13:10:00 INFO 140699289274176] Epoch[2] Batch [5]#011Speed: 578.15 samples/sec#011loss=1.943855\u001b[0m\n",
      "\u001b[34m[03/24/2023 13:10:01 INFO 140699289274176] processed a total of 1241 examples\u001b[0m\n",
      "\u001b[34m#metrics {\"StartTime\": 1679663397.8865218, \"EndTime\": 1679663401.2517626, \"Dimensions\": {\"Algorithm\": \"AWS/DeepAR\", \"Host\": \"algo-1\", \"Operation\": \"training\"}, \"Metrics\": {\"update.time\": {\"sum\": 3364.5122051239014, \"count\": 1, \"min\": 3364.5122051239014, \"max\": 3364.5122051239014}}}\u001b[0m\n",
      "\u001b[34m[03/24/2023 13:10:01 INFO 140699289274176] #throughput_metric: host=algo-1, train throughput=368.8353185810012 records/second\u001b[0m\n",
      "\u001b[34m[03/24/2023 13:10:01 INFO 140699289274176] #progress_metric: host=algo-1, completed 15.0 % of epochs\u001b[0m\n",
      "\u001b[34m[03/24/2023 13:10:01 INFO 140699289274176] #quality_metric: host=algo-1, epoch=2, train loss <loss>=1.905051577091217\u001b[0m\n",
      "\u001b[34m[03/24/2023 13:10:03 INFO 140699289274176] Epoch[3] Batch[0] avg_epoch_loss=1.790389\u001b[0m\n",
      "\u001b[34m[03/24/2023 13:10:03 INFO 140699289274176] #quality_metric: host=algo-1, epoch=3, batch=0 train loss <loss>=1.7903887033462524\u001b[0m\n",
      "\u001b[34m[03/24/2023 13:10:04 INFO 140699289274176] Epoch[3] Batch[5] avg_epoch_loss=1.774221\u001b[0m\n",
      "\u001b[34m[03/24/2023 13:10:04 INFO 140699289274176] #quality_metric: host=algo-1, epoch=3, batch=5 train loss <loss>=1.7742210825284321\u001b[0m\n",
      "\u001b[34m[03/24/2023 13:10:04 INFO 140699289274176] Epoch[3] Batch [5]#011Speed: 390.89 samples/sec#011loss=1.774221\u001b[0m\n",
      "\u001b[34m[03/24/2023 13:10:05 INFO 140699289274176] Epoch[3] Batch[10] avg_epoch_loss=1.746030\u001b[0m\n",
      "\u001b[34m[03/24/2023 13:10:05 INFO 140699289274176] #quality_metric: host=algo-1, epoch=3, batch=10 train loss <loss>=1.7122016906738282\u001b[0m\n",
      "\u001b[34m[03/24/2023 13:10:05 INFO 140699289274176] Epoch[3] Batch [10]#011Speed: 590.55 samples/sec#011loss=1.712202\u001b[0m\n",
      "\u001b[34m[03/24/2023 13:10:05 INFO 140699289274176] processed a total of 1328 examples\u001b[0m\n",
      "\u001b[34m#metrics {\"StartTime\": 1679663401.2518408, \"EndTime\": 1679663405.997493, \"Dimensions\": {\"Algorithm\": \"AWS/DeepAR\", \"Host\": \"algo-1\", \"Operation\": \"training\"}, \"Metrics\": {\"update.time\": {\"sum\": 4745.22590637207, \"count\": 1, \"min\": 4745.22590637207, \"max\": 4745.22590637207}}}\u001b[0m\n",
      "\u001b[34m[03/24/2023 13:10:05 INFO 140699289274176] #throughput_metric: host=algo-1, train throughput=279.84895046263205 records/second\u001b[0m\n",
      "\u001b[34m[03/24/2023 13:10:05 INFO 140699289274176] #progress_metric: host=algo-1, completed 20.0 % of epochs\u001b[0m\n",
      "\u001b[34m[03/24/2023 13:10:05 INFO 140699289274176] #quality_metric: host=algo-1, epoch=3, train loss <loss>=1.7460304498672485\u001b[0m\n",
      "\u001b[34m[03/24/2023 13:10:07 INFO 140699289274176] Epoch[4] Batch[0] avg_epoch_loss=1.750675\u001b[0m\n",
      "\u001b[34m[03/24/2023 13:10:07 INFO 140699289274176] #quality_metric: host=algo-1, epoch=4, batch=0 train loss <loss>=1.750674843788147\u001b[0m\n",
      "\u001b[34m[03/24/2023 13:10:08 INFO 140699289274176] Epoch[4] Batch[5] avg_epoch_loss=1.700581\u001b[0m\n",
      "\u001b[34m[03/24/2023 13:10:08 INFO 140699289274176] #quality_metric: host=algo-1, epoch=4, batch=5 train loss <loss>=1.700580934683482\u001b[0m\n",
      "\u001b[34m[03/24/2023 13:10:08 INFO 140699289274176] Epoch[4] Batch [5]#011Speed: 616.49 samples/sec#011loss=1.700581\u001b[0m\n",
      "\u001b[34m[03/24/2023 13:10:09 INFO 140699289274176] Epoch[4] Batch[10] avg_epoch_loss=1.663402\u001b[0m\n",
      "\u001b[34m[03/24/2023 13:10:09 INFO 140699289274176] #quality_metric: host=algo-1, epoch=4, batch=10 train loss <loss>=1.618786358833313\u001b[0m\n",
      "\u001b[34m[03/24/2023 13:10:09 INFO 140699289274176] Epoch[4] Batch [10]#011Speed: 603.04 samples/sec#011loss=1.618786\u001b[0m\n",
      "\u001b[34m[03/24/2023 13:10:09 INFO 140699289274176] processed a total of 1308 examples\u001b[0m\n",
      "\u001b[34m#metrics {\"StartTime\": 1679663405.9975526, \"EndTime\": 1679663409.5124114, \"Dimensions\": {\"Algorithm\": \"AWS/DeepAR\", \"Host\": \"algo-1\", \"Operation\": \"training\"}, \"Metrics\": {\"update.time\": {\"sum\": 3514.1398906707764, \"count\": 1, \"min\": 3514.1398906707764, \"max\": 3514.1398906707764}}}\u001b[0m\n",
      "\u001b[34m[03/24/2023 13:10:09 INFO 140699289274176] #throughput_metric: host=algo-1, train throughput=372.1991527306671 records/second\u001b[0m\n",
      "\u001b[34m[03/24/2023 13:10:09 INFO 140699289274176] #progress_metric: host=algo-1, completed 25.0 % of epochs\u001b[0m\n",
      "\u001b[34m[03/24/2023 13:10:09 INFO 140699289274176] #quality_metric: host=algo-1, epoch=4, train loss <loss>=1.6634015820243142\u001b[0m\n",
      "\u001b[34m[03/24/2023 13:10:10 INFO 140699289274176] Epoch[5] Batch[0] avg_epoch_loss=1.897702\u001b[0m\n",
      "\u001b[34m[03/24/2023 13:10:10 INFO 140699289274176] #quality_metric: host=algo-1, epoch=5, batch=0 train loss <loss>=1.8977017402648926\u001b[0m\n",
      "\u001b[34m[03/24/2023 13:10:12 INFO 140699289274176] Epoch[5] Batch[5] avg_epoch_loss=1.734434\u001b[0m\n",
      "\u001b[34m[03/24/2023 13:10:12 INFO 140699289274176] #quality_metric: host=algo-1, epoch=5, batch=5 train loss <loss>=1.734434425830841\u001b[0m\n",
      "\u001b[34m[03/24/2023 13:10:12 INFO 140699289274176] Epoch[5] Batch [5]#011Speed: 520.82 samples/sec#011loss=1.734434\u001b[0m\n",
      "\u001b[34m[03/24/2023 13:10:13 INFO 140699289274176] processed a total of 1265 examples\u001b[0m\n",
      "\u001b[34m#metrics {\"StartTime\": 1679663409.5124724, \"EndTime\": 1679663413.1294317, \"Dimensions\": {\"Algorithm\": \"AWS/DeepAR\", \"Host\": \"algo-1\", \"Operation\": \"training\"}, \"Metrics\": {\"update.time\": {\"sum\": 3616.3172721862793, \"count\": 1, \"min\": 3616.3172721862793, \"max\": 3616.3172721862793}}}\u001b[0m\n",
      "\u001b[34m[03/24/2023 13:10:13 INFO 140699289274176] #throughput_metric: host=algo-1, train throughput=349.7808484735654 records/second\u001b[0m\n",
      "\u001b[34m[03/24/2023 13:10:13 INFO 140699289274176] #progress_metric: host=algo-1, completed 30.0 % of epochs\u001b[0m\n",
      "\u001b[34m[03/24/2023 13:10:13 INFO 140699289274176] #quality_metric: host=algo-1, epoch=5, train loss <loss>=1.7003451228141784\u001b[0m\n",
      "\u001b[34m[03/24/2023 13:10:14 INFO 140699289274176] Epoch[6] Batch[0] avg_epoch_loss=1.688648\u001b[0m\n",
      "\u001b[34m[03/24/2023 13:10:14 INFO 140699289274176] #quality_metric: host=algo-1, epoch=6, batch=0 train loss <loss>=1.688647747039795\u001b[0m\n",
      "\u001b[34m[03/24/2023 13:10:15 INFO 140699289274176] Epoch[6] Batch[5] avg_epoch_loss=1.579711\u001b[0m\n",
      "\u001b[34m[03/24/2023 13:10:15 INFO 140699289274176] #quality_metric: host=algo-1, epoch=6, batch=5 train loss <loss>=1.5797112385431926\u001b[0m\n",
      "\u001b[34m[03/24/2023 13:10:15 INFO 140699289274176] Epoch[6] Batch [5]#011Speed: 615.85 samples/sec#011loss=1.579711\u001b[0m\n",
      "\u001b[34m[03/24/2023 13:10:16 INFO 140699289274176] Epoch[6] Batch[10] avg_epoch_loss=1.541295\u001b[0m\n",
      "\u001b[34m[03/24/2023 13:10:16 INFO 140699289274176] #quality_metric: host=algo-1, epoch=6, batch=10 train loss <loss>=1.495195174217224\u001b[0m\n",
      "\u001b[34m[03/24/2023 13:10:16 INFO 140699289274176] Epoch[6] Batch [10]#011Speed: 580.50 samples/sec#011loss=1.495195\u001b[0m\n",
      "\u001b[34m[03/24/2023 13:10:16 INFO 140699289274176] processed a total of 1343 examples\u001b[0m\n",
      "\u001b[34m#metrics {\"StartTime\": 1679663413.1295612, \"EndTime\": 1679663416.6314425, \"Dimensions\": {\"Algorithm\": \"AWS/DeepAR\", \"Host\": \"algo-1\", \"Operation\": \"training\"}, \"Metrics\": {\"update.time\": {\"sum\": 3501.3818740844727, \"count\": 1, \"min\": 3501.3818740844727, \"max\": 3501.3818740844727}}}\u001b[0m\n",
      "\u001b[34m[03/24/2023 13:10:16 INFO 140699289274176] #throughput_metric: host=algo-1, train throughput=383.54801262771315 records/second\u001b[0m\n",
      "\u001b[34m[03/24/2023 13:10:16 INFO 140699289274176] #progress_metric: host=algo-1, completed 35.0 % of epochs\u001b[0m\n",
      "\u001b[34m[03/24/2023 13:10:16 INFO 140699289274176] #quality_metric: host=algo-1, epoch=6, train loss <loss>=1.5412948456677524\u001b[0m\n",
      "\u001b[34m[03/24/2023 13:10:18 INFO 140699289274176] Epoch[7] Batch[0] avg_epoch_loss=1.489575\u001b[0m\n",
      "\u001b[34m[03/24/2023 13:10:18 INFO 140699289274176] #quality_metric: host=algo-1, epoch=7, batch=0 train loss <loss>=1.4895750284194946\u001b[0m\n",
      "\u001b[34m[03/24/2023 13:10:19 INFO 140699289274176] Epoch[7] Batch[5] avg_epoch_loss=1.438869\u001b[0m\n",
      "\u001b[34m[03/24/2023 13:10:19 INFO 140699289274176] #quality_metric: host=algo-1, epoch=7, batch=5 train loss <loss>=1.4388689796129863\u001b[0m\n",
      "\u001b[34m[03/24/2023 13:10:19 INFO 140699289274176] Epoch[7] Batch [5]#011Speed: 628.34 samples/sec#011loss=1.438869\u001b[0m\n",
      "\u001b[34m[03/24/2023 13:10:20 INFO 140699289274176] Epoch[7] Batch[10] avg_epoch_loss=1.430359\u001b[0m\n",
      "\u001b[34m[03/24/2023 13:10:20 INFO 140699289274176] #quality_metric: host=algo-1, epoch=7, batch=10 train loss <loss>=1.420146107673645\u001b[0m\n",
      "\u001b[34m[03/24/2023 13:10:20 INFO 140699289274176] Epoch[7] Batch [10]#011Speed: 586.42 samples/sec#011loss=1.420146\u001b[0m\n",
      "\u001b[34m[03/24/2023 13:10:20 INFO 140699289274176] processed a total of 1333 examples\u001b[0m\n",
      "\u001b[34m#metrics {\"StartTime\": 1679663416.631541, \"EndTime\": 1679663420.1265051, \"Dimensions\": {\"Algorithm\": \"AWS/DeepAR\", \"Host\": \"algo-1\", \"Operation\": \"training\"}, \"Metrics\": {\"update.time\": {\"sum\": 3494.385242462158, \"count\": 1, \"min\": 3494.385242462158, \"max\": 3494.385242462158}}}\u001b[0m\n",
      "\u001b[34m[03/24/2023 13:10:20 INFO 140699289274176] #throughput_metric: host=algo-1, train throughput=381.45634892369543 records/second\u001b[0m\n",
      "\u001b[34m[03/24/2023 13:10:20 INFO 140699289274176] #progress_metric: host=algo-1, completed 40.0 % of epochs\u001b[0m\n",
      "\u001b[34m[03/24/2023 13:10:20 INFO 140699289274176] #quality_metric: host=algo-1, epoch=7, train loss <loss>=1.4303585832769221\u001b[0m\n",
      "\u001b[34m[03/24/2023 13:10:21 INFO 140699289274176] Epoch[8] Batch[0] avg_epoch_loss=1.339899\u001b[0m\n",
      "\u001b[34m[03/24/2023 13:10:21 INFO 140699289274176] #quality_metric: host=algo-1, epoch=8, batch=0 train loss <loss>=1.3398985862731934\u001b[0m\n",
      "\u001b[34m[03/24/2023 13:10:22 INFO 140699289274176] Epoch[8] Batch[5] avg_epoch_loss=1.379757\u001b[0m\n",
      "\u001b[34m[03/24/2023 13:10:22 INFO 140699289274176] #quality_metric: host=algo-1, epoch=8, batch=5 train loss <loss>=1.3797566692034404\u001b[0m\n",
      "\u001b[34m[03/24/2023 13:10:22 INFO 140699289274176] Epoch[8] Batch [5]#011Speed: 614.75 samples/sec#011loss=1.379757\u001b[0m\n",
      "\u001b[34m[03/24/2023 13:10:23 INFO 140699289274176] processed a total of 1261 examples\u001b[0m\n",
      "\u001b[34m#metrics {\"StartTime\": 1679663420.126585, \"EndTime\": 1679663423.406214, \"Dimensions\": {\"Algorithm\": \"AWS/DeepAR\", \"Host\": \"algo-1\", \"Operation\": \"training\"}, \"Metrics\": {\"update.time\": {\"sum\": 3279.1693210601807, \"count\": 1, \"min\": 3279.1693210601807, \"max\": 3279.1693210601807}}}\u001b[0m\n",
      "\u001b[34m[03/24/2023 13:10:23 INFO 140699289274176] #throughput_metric: host=algo-1, train throughput=384.53253269788127 records/second\u001b[0m\n",
      "\u001b[34m[03/24/2023 13:10:23 INFO 140699289274176] #progress_metric: host=algo-1, completed 45.0 % of epochs\u001b[0m\n",
      "\u001b[34m[03/24/2023 13:10:23 INFO 140699289274176] #quality_metric: host=algo-1, epoch=8, train loss <loss>=1.368199598789215\u001b[0m\n",
      "\u001b[34m[03/24/2023 13:10:24 INFO 140699289274176] Epoch[9] Batch[0] avg_epoch_loss=1.374582\u001b[0m\n",
      "\u001b[34m[03/24/2023 13:10:24 INFO 140699289274176] #quality_metric: host=algo-1, epoch=9, batch=0 train loss <loss>=1.3745819330215454\u001b[0m\n",
      "\u001b[34m[03/24/2023 13:10:25 INFO 140699289274176] Epoch[9] Batch[5] avg_epoch_loss=1.347257\u001b[0m\n",
      "\u001b[34m[03/24/2023 13:10:25 INFO 140699289274176] #quality_metric: host=algo-1, epoch=9, batch=5 train loss <loss>=1.3472567399342854\u001b[0m\n",
      "\u001b[34m[03/24/2023 13:10:25 INFO 140699289274176] Epoch[9] Batch [5]#011Speed: 622.82 samples/sec#011loss=1.347257\u001b[0m\n",
      "\u001b[34m[03/24/2023 13:10:26 INFO 140699289274176] processed a total of 1254 examples\u001b[0m\n",
      "\u001b[34m#metrics {\"StartTime\": 1679663423.4062934, \"EndTime\": 1679663426.6767223, \"Dimensions\": {\"Algorithm\": \"AWS/DeepAR\", \"Host\": \"algo-1\", \"Operation\": \"training\"}, \"Metrics\": {\"update.time\": {\"sum\": 3269.845724105835, \"count\": 1, \"min\": 3269.845724105835, \"max\": 3269.845724105835}}}\u001b[0m\n",
      "\u001b[34m[03/24/2023 13:10:26 INFO 140699289274176] #throughput_metric: host=algo-1, train throughput=383.4689061543771 records/second\u001b[0m\n",
      "\u001b[34m[03/24/2023 13:10:26 INFO 140699289274176] #progress_metric: host=algo-1, completed 50.0 % of epochs\u001b[0m\n",
      "\u001b[34m[03/24/2023 13:10:26 INFO 140699289274176] #quality_metric: host=algo-1, epoch=9, train loss <loss>=1.3392301321029663\u001b[0m\n",
      "\u001b[34m[03/24/2023 13:10:28 INFO 140699289274176] Epoch[10] Batch[0] avg_epoch_loss=1.297478\u001b[0m\n",
      "\u001b[34m[03/24/2023 13:10:28 INFO 140699289274176] #quality_metric: host=algo-1, epoch=10, batch=0 train loss <loss>=1.2974777221679688\u001b[0m\n",
      "\u001b[34m[03/24/2023 13:10:29 INFO 140699289274176] Epoch[10] Batch[5] avg_epoch_loss=1.277782\u001b[0m\n",
      "\u001b[34m[03/24/2023 13:10:29 INFO 140699289274176] #quality_metric: host=algo-1, epoch=10, batch=5 train loss <loss>=1.27778156598409\u001b[0m\n",
      "\u001b[34m[03/24/2023 13:10:29 INFO 140699289274176] Epoch[10] Batch [5]#011Speed: 628.50 samples/sec#011loss=1.277782\u001b[0m\n",
      "\u001b[34m[03/24/2023 13:10:30 INFO 140699289274176] Epoch[10] Batch[10] avg_epoch_loss=1.270587\u001b[0m\n",
      "\u001b[34m[03/24/2023 13:10:30 INFO 140699289274176] #quality_metric: host=algo-1, epoch=10, batch=10 train loss <loss>=1.261953091621399\u001b[0m\n",
      "\u001b[34m[03/24/2023 13:10:30 INFO 140699289274176] Epoch[10] Batch [10]#011Speed: 598.45 samples/sec#011loss=1.261953\u001b[0m\n",
      "\u001b[34m[03/24/2023 13:10:30 INFO 140699289274176] processed a total of 1302 examples\u001b[0m\n",
      "\u001b[34m#metrics {\"StartTime\": 1679663426.676851, \"EndTime\": 1679663430.2138052, \"Dimensions\": {\"Algorithm\": \"AWS/DeepAR\", \"Host\": \"algo-1\", \"Operation\": \"training\"}, \"Metrics\": {\"update.time\": {\"sum\": 3536.2136363983154, \"count\": 1, \"min\": 3536.2136363983154, \"max\": 3536.2136363983154}}}\u001b[0m\n",
      "\u001b[34m[03/24/2023 13:10:30 INFO 140699289274176] #throughput_metric: host=algo-1, train throughput=368.178484505175 records/second\u001b[0m\n",
      "\u001b[34m[03/24/2023 13:10:30 INFO 140699289274176] #progress_metric: host=algo-1, completed 55.0 % of epochs\u001b[0m\n",
      "\u001b[34m[03/24/2023 13:10:30 INFO 140699289274176] #quality_metric: host=algo-1, epoch=10, train loss <loss>=1.2705868049101396\u001b[0m\n",
      "\u001b[34m[03/24/2023 13:10:31 INFO 140699289274176] Epoch[11] Batch[0] avg_epoch_loss=1.325833\u001b[0m\n",
      "\u001b[34m[03/24/2023 13:10:31 INFO 140699289274176] #quality_metric: host=algo-1, epoch=11, batch=0 train loss <loss>=1.3258334398269653\u001b[0m\n",
      "\u001b[34m[03/24/2023 13:10:32 INFO 140699289274176] Epoch[11] Batch[5] avg_epoch_loss=1.278008\u001b[0m\n",
      "\u001b[34m[03/24/2023 13:10:32 INFO 140699289274176] #quality_metric: host=algo-1, epoch=11, batch=5 train loss <loss>=1.2780081629753113\u001b[0m\n",
      "\u001b[34m[03/24/2023 13:10:32 INFO 140699289274176] Epoch[11] Batch [5]#011Speed: 613.12 samples/sec#011loss=1.278008\u001b[0m\n",
      "\u001b[34m[03/24/2023 13:10:33 INFO 140699289274176] processed a total of 1275 examples\u001b[0m\n",
      "\u001b[34m#metrics {\"StartTime\": 1679663430.2138815, \"EndTime\": 1679663433.522232, \"Dimensions\": {\"Algorithm\": \"AWS/DeepAR\", \"Host\": \"algo-1\", \"Operation\": \"training\"}, \"Metrics\": {\"update.time\": {\"sum\": 3307.9187870025635, \"count\": 1, \"min\": 3307.9187870025635, \"max\": 3307.9187870025635}}}\u001b[0m\n",
      "\u001b[34m[03/24/2023 13:10:33 INFO 140699289274176] #throughput_metric: host=algo-1, train throughput=385.42352974753663 records/second\u001b[0m\n",
      "\u001b[34m[03/24/2023 13:10:33 INFO 140699289274176] #progress_metric: host=algo-1, completed 60.0 % of epochs\u001b[0m\n",
      "\u001b[34m[03/24/2023 13:10:33 INFO 140699289274176] #quality_metric: host=algo-1, epoch=11, train loss <loss>=1.2565621256828308\u001b[0m\n",
      "\u001b[34m[03/24/2023 13:10:34 INFO 140699289274176] Epoch[12] Batch[0] avg_epoch_loss=1.239498\u001b[0m\n",
      "\u001b[34m[03/24/2023 13:10:34 INFO 140699289274176] #quality_metric: host=algo-1, epoch=12, batch=0 train loss <loss>=1.239498496055603\u001b[0m\n",
      "\u001b[34m[03/24/2023 13:10:35 INFO 140699289274176] Epoch[12] Batch[5] avg_epoch_loss=1.218377\u001b[0m\n",
      "\u001b[34m[03/24/2023 13:10:35 INFO 140699289274176] #quality_metric: host=algo-1, epoch=12, batch=5 train loss <loss>=1.2183770140012105\u001b[0m\n",
      "\u001b[34m[03/24/2023 13:10:35 INFO 140699289274176] Epoch[12] Batch [5]#011Speed: 627.17 samples/sec#011loss=1.218377\u001b[0m\n",
      "\u001b[34m[03/24/2023 13:10:36 INFO 140699289274176] processed a total of 1273 examples\u001b[0m\n",
      "\u001b[34m#metrics {\"StartTime\": 1679663433.522312, \"EndTime\": 1679663436.807765, \"Dimensions\": {\"Algorithm\": \"AWS/DeepAR\", \"Host\": \"algo-1\", \"Operation\": \"training\"}, \"Metrics\": {\"update.time\": {\"sum\": 3284.9953174591064, \"count\": 1, \"min\": 3284.9953174591064, \"max\": 3284.9953174591064}}}\u001b[0m\n",
      "\u001b[34m[03/24/2023 13:10:36 INFO 140699289274176] #throughput_metric: host=algo-1, train throughput=387.50754095252984 records/second\u001b[0m\n",
      "\u001b[34m[03/24/2023 13:10:36 INFO 140699289274176] #progress_metric: host=algo-1, completed 65.0 % of epochs\u001b[0m\n",
      "\u001b[34m[03/24/2023 13:10:36 INFO 140699289274176] #quality_metric: host=algo-1, epoch=12, train loss <loss>=1.2086918234825135\u001b[0m\n",
      "\u001b[34m[03/24/2023 13:10:38 INFO 140699289274176] Epoch[13] Batch[0] avg_epoch_loss=1.187579\u001b[0m\n",
      "\u001b[34m[03/24/2023 13:10:38 INFO 140699289274176] #quality_metric: host=algo-1, epoch=13, batch=0 train loss <loss>=1.1875786781311035\u001b[0m\n",
      "\u001b[34m[03/24/2023 13:10:39 INFO 140699289274176] Epoch[13] Batch[5] avg_epoch_loss=1.163951\u001b[0m\n",
      "\u001b[34m[03/24/2023 13:10:39 INFO 140699289274176] #quality_metric: host=algo-1, epoch=13, batch=5 train loss <loss>=1.1639511386553447\u001b[0m\n",
      "\u001b[34m[03/24/2023 13:10:39 INFO 140699289274176] Epoch[13] Batch [5]#011Speed: 621.42 samples/sec#011loss=1.163951\u001b[0m\n",
      "\u001b[34m[03/24/2023 13:10:40 INFO 140699289274176] Epoch[13] Batch[10] avg_epoch_loss=1.138272\u001b[0m\n",
      "\u001b[34m[03/24/2023 13:10:40 INFO 140699289274176] #quality_metric: host=algo-1, epoch=13, batch=10 train loss <loss>=1.1074578762054443\u001b[0m\n",
      "\u001b[34m[03/24/2023 13:10:40 INFO 140699289274176] Epoch[13] Batch [10]#011Speed: 607.80 samples/sec#011loss=1.107458\u001b[0m\n",
      "\u001b[34m[03/24/2023 13:10:40 INFO 140699289274176] processed a total of 1288 examples\u001b[0m\n",
      "\u001b[34m#metrics {\"StartTime\": 1679663436.807831, \"EndTime\": 1679663440.3030136, \"Dimensions\": {\"Algorithm\": \"AWS/DeepAR\", \"Host\": \"algo-1\", \"Operation\": \"training\"}, \"Metrics\": {\"update.time\": {\"sum\": 3494.4870471954346, \"count\": 1, \"min\": 3494.4870471954346, \"max\": 3494.4870471954346}}}\u001b[0m\n",
      "\u001b[34m[03/24/2023 13:10:40 INFO 140699289274176] #throughput_metric: host=algo-1, train throughput=368.5658012729022 records/second\u001b[0m\n",
      "\u001b[34m[03/24/2023 13:10:40 INFO 140699289274176] #progress_metric: host=algo-1, completed 70.0 % of epochs\u001b[0m\n",
      "\u001b[34m[03/24/2023 13:10:40 INFO 140699289274176] #quality_metric: host=algo-1, epoch=13, train loss <loss>=1.138272382996299\u001b[0m\n",
      "\u001b[34m[03/24/2023 13:10:41 INFO 140699289274176] Epoch[14] Batch[0] avg_epoch_loss=1.174237\u001b[0m\n",
      "\u001b[34m[03/24/2023 13:10:41 INFO 140699289274176] #quality_metric: host=algo-1, epoch=14, batch=0 train loss <loss>=1.1742370128631592\u001b[0m\n",
      "\u001b[34m[03/24/2023 13:10:42 INFO 140699289274176] Epoch[14] Batch[5] avg_epoch_loss=1.166189\u001b[0m\n",
      "\u001b[34m[03/24/2023 13:10:42 INFO 140699289274176] #quality_metric: host=algo-1, epoch=14, batch=5 train loss <loss>=1.1661891142527263\u001b[0m\n",
      "\u001b[34m[03/24/2023 13:10:42 INFO 140699289274176] Epoch[14] Batch [5]#011Speed: 613.49 samples/sec#011loss=1.166189\u001b[0m\n",
      "\u001b[34m[03/24/2023 13:10:43 INFO 140699289274176] processed a total of 1252 examples\u001b[0m\n",
      "\u001b[34m#metrics {\"StartTime\": 1679663440.3031168, \"EndTime\": 1679663443.584256, \"Dimensions\": {\"Algorithm\": \"AWS/DeepAR\", \"Host\": \"algo-1\", \"Operation\": \"training\"}, \"Metrics\": {\"update.time\": {\"sum\": 3280.752420425415, \"count\": 1, \"min\": 3280.752420425415, \"max\": 3280.752420425415}}}\u001b[0m\n",
      "\u001b[34m[03/24/2023 13:10:43 INFO 140699289274176] #throughput_metric: host=algo-1, train throughput=381.607683620319 records/second\u001b[0m\n",
      "\u001b[34m[03/24/2023 13:10:43 INFO 140699289274176] #progress_metric: host=algo-1, completed 75.0 % of epochs\u001b[0m\n",
      "\u001b[34m[03/24/2023 13:10:43 INFO 140699289274176] #quality_metric: host=algo-1, epoch=14, train loss <loss>=1.1520825028419495\u001b[0m\n",
      "\u001b[34m[03/24/2023 13:10:44 INFO 140699289274176] Epoch[15] Batch[0] avg_epoch_loss=1.167129\u001b[0m\n",
      "\u001b[34m[03/24/2023 13:10:44 INFO 140699289274176] #quality_metric: host=algo-1, epoch=15, batch=0 train loss <loss>=1.1671292781829834\u001b[0m\n",
      "\u001b[34m[03/24/2023 13:10:45 INFO 140699289274176] Epoch[15] Batch[5] avg_epoch_loss=1.118151\u001b[0m\n",
      "\u001b[34m[03/24/2023 13:10:45 INFO 140699289274176] #quality_metric: host=algo-1, epoch=15, batch=5 train loss <loss>=1.1181509693463643\u001b[0m\n",
      "\u001b[34m[03/24/2023 13:10:45 INFO 140699289274176] Epoch[15] Batch [5]#011Speed: 630.25 samples/sec#011loss=1.118151\u001b[0m\n",
      "\u001b[34m[03/24/2023 13:10:46 INFO 140699289274176] processed a total of 1279 examples\u001b[0m\n",
      "\u001b[34m#metrics {\"StartTime\": 1679663443.584324, \"EndTime\": 1679663446.854972, \"Dimensions\": {\"Algorithm\": \"AWS/DeepAR\", \"Host\": \"algo-1\", \"Operation\": \"training\"}, \"Metrics\": {\"update.time\": {\"sum\": 3269.960880279541, \"count\": 1, \"min\": 3269.960880279541, \"max\": 3269.960880279541}}}\u001b[0m\n",
      "\u001b[34m[03/24/2023 13:10:46 INFO 140699289274176] #throughput_metric: host=algo-1, train throughput=391.1230026498155 records/second\u001b[0m\n",
      "\u001b[34m[03/24/2023 13:10:46 INFO 140699289274176] #progress_metric: host=algo-1, completed 80.0 % of epochs\u001b[0m\n",
      "\u001b[34m[03/24/2023 13:10:46 INFO 140699289274176] #quality_metric: host=algo-1, epoch=15, train loss <loss>=1.116123902797699\u001b[0m\n",
      "\u001b[34m[03/24/2023 13:10:48 INFO 140699289274176] Epoch[16] Batch[0] avg_epoch_loss=1.097357\u001b[0m\n",
      "\u001b[34m[03/24/2023 13:10:48 INFO 140699289274176] #quality_metric: host=algo-1, epoch=16, batch=0 train loss <loss>=1.0973573923110962\u001b[0m\n",
      "\u001b[34m[03/24/2023 13:10:49 INFO 140699289274176] Epoch[16] Batch[5] avg_epoch_loss=1.123044\u001b[0m\n",
      "\u001b[34m[03/24/2023 13:10:49 INFO 140699289274176] #quality_metric: host=algo-1, epoch=16, batch=5 train loss <loss>=1.1230444709459941\u001b[0m\n",
      "\u001b[34m[03/24/2023 13:10:49 INFO 140699289274176] Epoch[16] Batch [5]#011Speed: 623.21 samples/sec#011loss=1.123044\u001b[0m\n",
      "\u001b[34m[03/24/2023 13:10:50 INFO 140699289274176] processed a total of 1274 examples\u001b[0m\n",
      "\u001b[34m#metrics {\"StartTime\": 1679663446.855046, \"EndTime\": 1679663450.2134643, \"Dimensions\": {\"Algorithm\": \"AWS/DeepAR\", \"Host\": \"algo-1\", \"Operation\": \"training\"}, \"Metrics\": {\"update.time\": {\"sum\": 3357.893466949463, \"count\": 1, \"min\": 3357.893466949463, \"max\": 3357.893466949463}}}\u001b[0m\n",
      "\u001b[34m[03/24/2023 13:10:50 INFO 140699289274176] #throughput_metric: host=algo-1, train throughput=379.39084786191717 records/second\u001b[0m\n",
      "\u001b[34m[03/24/2023 13:10:50 INFO 140699289274176] #progress_metric: host=algo-1, completed 85.0 % of epochs\u001b[0m\n",
      "\u001b[34m[03/24/2023 13:10:50 INFO 140699289274176] #quality_metric: host=algo-1, epoch=16, train loss <loss>=1.102450829744339\u001b[0m\n",
      "\u001b[34m[03/24/2023 13:10:51 INFO 140699289274176] Epoch[17] Batch[0] avg_epoch_loss=1.124684\u001b[0m\n",
      "\u001b[34m[03/24/2023 13:10:51 INFO 140699289274176] #quality_metric: host=algo-1, epoch=17, batch=0 train loss <loss>=1.12468421459198\u001b[0m\n",
      "\u001b[34m[03/24/2023 13:10:52 INFO 140699289274176] Epoch[17] Batch[5] avg_epoch_loss=1.090843\u001b[0m\n",
      "\u001b[34m[03/24/2023 13:10:52 INFO 140699289274176] #quality_metric: host=algo-1, epoch=17, batch=5 train loss <loss>=1.090843141078949\u001b[0m\n",
      "\u001b[34m[03/24/2023 13:10:52 INFO 140699289274176] Epoch[17] Batch [5]#011Speed: 622.82 samples/sec#011loss=1.090843\u001b[0m\n",
      "\u001b[34m[03/24/2023 13:10:53 INFO 140699289274176] processed a total of 1258 examples\u001b[0m\n",
      "\u001b[34m#metrics {\"StartTime\": 1679663450.2135453, \"EndTime\": 1679663453.5036366, \"Dimensions\": {\"Algorithm\": \"AWS/DeepAR\", \"Host\": \"algo-1\", \"Operation\": \"training\"}, \"Metrics\": {\"update.time\": {\"sum\": 3289.613723754883, \"count\": 1, \"min\": 3289.613723754883, \"max\": 3289.613723754883}}}\u001b[0m\n",
      "\u001b[34m[03/24/2023 13:10:53 INFO 140699289274176] #throughput_metric: host=algo-1, train throughput=382.3980377841351 records/second\u001b[0m\n",
      "\u001b[34m[03/24/2023 13:10:53 INFO 140699289274176] #progress_metric: host=algo-1, completed 90.0 % of epochs\u001b[0m\n",
      "\u001b[34m[03/24/2023 13:10:53 INFO 140699289274176] #quality_metric: host=algo-1, epoch=17, train loss <loss>=1.084126877784729\u001b[0m\n",
      "\u001b[34m[03/24/2023 13:10:54 INFO 140699289274176] Epoch[18] Batch[0] avg_epoch_loss=1.119127\u001b[0m\n",
      "\u001b[34m[03/24/2023 13:10:54 INFO 140699289274176] #quality_metric: host=algo-1, epoch=18, batch=0 train loss <loss>=1.1191271543502808\u001b[0m\n",
      "\u001b[34m[03/24/2023 13:10:55 INFO 140699289274176] Epoch[18] Batch[5] avg_epoch_loss=1.088385\u001b[0m\n",
      "\u001b[34m[03/24/2023 13:10:55 INFO 140699289274176] #quality_metric: host=algo-1, epoch=18, batch=5 train loss <loss>=1.0883854230244954\u001b[0m\n",
      "\u001b[34m[03/24/2023 13:10:55 INFO 140699289274176] Epoch[18] Batch [5]#011Speed: 626.21 samples/sec#011loss=1.088385\u001b[0m\n",
      "\u001b[34m[03/24/2023 13:10:57 INFO 140699289274176] Epoch[18] Batch[10] avg_epoch_loss=1.062204\u001b[0m\n",
      "\u001b[34m[03/24/2023 13:10:57 INFO 140699289274176] #quality_metric: host=algo-1, epoch=18, batch=10 train loss <loss>=1.0307867407798768\u001b[0m\n",
      "\u001b[34m[03/24/2023 13:10:57 INFO 140699289274176] Epoch[18] Batch [10]#011Speed: 582.13 samples/sec#011loss=1.030787\u001b[0m\n",
      "\u001b[34m[03/24/2023 13:10:57 INFO 140699289274176] processed a total of 1339 examples\u001b[0m\n",
      "\u001b[34m#metrics {\"StartTime\": 1679663453.5037496, \"EndTime\": 1679663457.0115433, \"Dimensions\": {\"Algorithm\": \"AWS/DeepAR\", \"Host\": \"algo-1\", \"Operation\": \"training\"}, \"Metrics\": {\"update.time\": {\"sum\": 3507.2391033172607, \"count\": 1, \"min\": 3507.2391033172607, \"max\": 3507.2391033172607}}}\u001b[0m\n",
      "\u001b[34m[03/24/2023 13:10:57 INFO 140699289274176] #throughput_metric: host=algo-1, train throughput=381.7687035579189 records/second\u001b[0m\n",
      "\u001b[34m[03/24/2023 13:10:57 INFO 140699289274176] #progress_metric: host=algo-1, completed 95.0 % of epochs\u001b[0m\n",
      "\u001b[34m[03/24/2023 13:10:57 INFO 140699289274176] #quality_metric: host=algo-1, epoch=18, train loss <loss>=1.062204203822396\u001b[0m\n",
      "\u001b[34m[03/24/2023 13:10:58 INFO 140699289274176] Epoch[19] Batch[0] avg_epoch_loss=1.180429\u001b[0m\n",
      "\u001b[34m[03/24/2023 13:10:58 INFO 140699289274176] #quality_metric: host=algo-1, epoch=19, batch=0 train loss <loss>=1.1804286241531372\u001b[0m\n",
      "\u001b[34m[03/24/2023 13:10:59 INFO 140699289274176] Epoch[19] Batch[5] avg_epoch_loss=1.095803\u001b[0m\n",
      "\u001b[34m[03/24/2023 13:10:59 INFO 140699289274176] #quality_metric: host=algo-1, epoch=19, batch=5 train loss <loss>=1.0958032111326854\u001b[0m\n",
      "\u001b[34m[03/24/2023 13:10:59 INFO 140699289274176] Epoch[19] Batch [5]#011Speed: 622.00 samples/sec#011loss=1.095803\u001b[0m\n",
      "\u001b[34m[03/24/2023 13:11:00 INFO 140699289274176] processed a total of 1199 examples\u001b[0m\n",
      "\u001b[34m#metrics {\"StartTime\": 1679663457.0116243, \"EndTime\": 1679663460.3045838, \"Dimensions\": {\"Algorithm\": \"AWS/DeepAR\", \"Host\": \"algo-1\", \"Operation\": \"training\"}, \"Metrics\": {\"update.time\": {\"sum\": 3292.5338745117188, \"count\": 1, \"min\": 3292.5338745117188, \"max\": 3292.5338745117188}}}\u001b[0m\n",
      "\u001b[34m[03/24/2023 13:11:00 INFO 140699289274176] #throughput_metric: host=algo-1, train throughput=364.13325719000864 records/second\u001b[0m\n",
      "\u001b[34m[03/24/2023 13:11:00 INFO 140699289274176] #progress_metric: host=algo-1, completed 100.0 % of epochs\u001b[0m\n",
      "\u001b[34m[03/24/2023 13:11:00 INFO 140699289274176] #quality_metric: host=algo-1, epoch=19, train loss <loss>=1.0882650792598725\u001b[0m\n",
      "\u001b[34m[03/24/2023 13:11:00 INFO 140699289274176] Final loss: 1.0882650792598725 (occurred at epoch 19)\u001b[0m\n",
      "\u001b[34m[03/24/2023 13:11:00 INFO 140699289274176] #quality_metric: host=algo-1, train final_loss <loss>=1.0882650792598725\u001b[0m\n",
      "\u001b[34m[03/24/2023 13:11:00 INFO 140699289274176] Worker algo-1 finished training.\u001b[0m\n",
      "\u001b[34m[03/24/2023 13:11:00 WARNING 140699289274176] wait_for_all_workers will not sync workers since the kv store is not running distributed\u001b[0m\n",
      "\u001b[34m[03/24/2023 13:11:00 INFO 140699289274176] All workers finished. Serializing model for prediction.\u001b[0m\n",
      "\u001b[34m#metrics {\"StartTime\": 1679663460.3047283, \"EndTime\": 1679663460.5283551, \"Dimensions\": {\"Algorithm\": \"AWS/DeepAR\", \"Host\": \"algo-1\", \"Operation\": \"training\"}, \"Metrics\": {\"get_graph.time\": {\"sum\": 222.1081256866455, \"count\": 1, \"min\": 222.1081256866455, \"max\": 222.1081256866455}}}\u001b[0m\n",
      "\u001b[34m[03/24/2023 13:11:00 INFO 140699289274176] Number of GPUs being used: 0\u001b[0m\n",
      "\u001b[34m#metrics {\"StartTime\": 1679663460.5284252, \"EndTime\": 1679663460.6128411, \"Dimensions\": {\"Algorithm\": \"AWS/DeepAR\", \"Host\": \"algo-1\", \"Operation\": \"training\"}, \"Metrics\": {\"finalize.time\": {\"sum\": 306.6844940185547, \"count\": 1, \"min\": 306.6844940185547, \"max\": 306.6844940185547}}}\u001b[0m\n",
      "\u001b[34m[03/24/2023 13:11:00 INFO 140699289274176] Serializing to /opt/ml/model/model_algo-1\u001b[0m\n",
      "\u001b[34m[03/24/2023 13:11:00 INFO 140699289274176] Saved checkpoint to \"/opt/ml/model/model_algo-1-0000.params\"\u001b[0m\n",
      "\u001b[34m#metrics {\"StartTime\": 1679663460.6129103, \"EndTime\": 1679663460.6239111, \"Dimensions\": {\"Algorithm\": \"AWS/DeepAR\", \"Host\": \"algo-1\", \"Operation\": \"training\"}, \"Metrics\": {\"model.serialize.time\": {\"sum\": 10.958433151245117, \"count\": 1, \"min\": 10.958433151245117, \"max\": 10.958433151245117}}}\u001b[0m\n",
      "\u001b[34m[03/24/2023 13:11:00 INFO 140699289274176] Successfully serialized the model for prediction.\u001b[0m\n",
      "\u001b[34m[03/24/2023 13:11:00 INFO 140699289274176] #memory_usage::<batchbuffer> = 44.8974609375 mb\u001b[0m\n",
      "\u001b[34m[03/24/2023 13:11:00 INFO 140699289274176] Evaluating model accuracy on testset using 100 samples\u001b[0m\n",
      "\u001b[34m#metrics {\"StartTime\": 1679663460.6239634, \"EndTime\": 1679663460.6293123, \"Dimensions\": {\"Algorithm\": \"AWS/DeepAR\", \"Host\": \"algo-1\", \"Operation\": \"training\"}, \"Metrics\": {\"model.bind.time\": {\"sum\": 0.04887580871582031, \"count\": 1, \"min\": 0.04887580871582031, \"max\": 0.04887580871582031}}}\u001b[0m\n",
      "\u001b[34m#metrics {\"StartTime\": 1679663460.6293762, \"EndTime\": 1679663465.7544098, \"Dimensions\": {\"Algorithm\": \"AWS/DeepAR\", \"Host\": \"algo-1\", \"Operation\": \"training\"}, \"Metrics\": {\"model.score.time\": {\"sum\": 5125.150918960571, \"count\": 1, \"min\": 5125.150918960571, \"max\": 5125.150918960571}}}\u001b[0m\n",
      "\u001b[34m[03/24/2023 13:11:05 INFO 140699289274176] #test_score (algo-1, RMSE): 6.604629773129162\u001b[0m\n",
      "\u001b[34m[03/24/2023 13:11:05 INFO 140699289274176] #test_score (algo-1, mean_absolute_QuantileLoss): 157.9430529912313\u001b[0m\n",
      "\u001b[34m[03/24/2023 13:11:05 INFO 140699289274176] #test_score (algo-1, mean_wQuantileLoss): 0.2263085948665212\u001b[0m\n",
      "\u001b[34m[03/24/2023 13:11:05 INFO 140699289274176] #test_score (algo-1, wQuantileLoss[0.1]): 0.061665017262580925\u001b[0m\n",
      "\u001b[34m[03/24/2023 13:11:05 INFO 140699289274176] #test_score (algo-1, wQuantileLoss[0.2]): 0.11420219726007799\u001b[0m\n",
      "\u001b[34m[03/24/2023 13:11:05 INFO 140699289274176] #test_score (algo-1, wQuantileLoss[0.3]): 0.1623502092975339\u001b[0m\n",
      "\u001b[34m[03/24/2023 13:11:05 INFO 140699289274176] #test_score (algo-1, wQuantileLoss[0.4]): 0.20571875246784768\u001b[0m\n",
      "\u001b[34m[03/24/2023 13:11:05 INFO 140699289274176] #test_score (algo-1, wQuantileLoss[0.5]): 0.24583985240488943\u001b[0m\n",
      "\u001b[34m[03/24/2023 13:11:05 INFO 140699289274176] #test_score (algo-1, wQuantileLoss[0.6]): 0.280492542388386\u001b[0m\n",
      "\u001b[34m[03/24/2023 13:11:05 INFO 140699289274176] #test_score (algo-1, wQuantileLoss[0.7]): 0.3091830875375255\u001b[0m\n",
      "\u001b[34m[03/24/2023 13:11:05 INFO 140699289274176] #test_score (algo-1, wQuantileLoss[0.8]): 0.32899213690707274\u001b[0m\n",
      "\u001b[34m[03/24/2023 13:11:05 INFO 140699289274176] #test_score (algo-1, wQuantileLoss[0.9]): 0.32833355827277644\u001b[0m\n",
      "\u001b[34m[03/24/2023 13:11:05 INFO 140699289274176] #quality_metric: host=algo-1, test RMSE <loss>=6.604629773129162\u001b[0m\n",
      "\u001b[34m[03/24/2023 13:11:05 INFO 140699289274176] #quality_metric: host=algo-1, test mean_wQuantileLoss <loss>=0.2263085948665212\u001b[0m\n",
      "\u001b[34m#metrics {\"StartTime\": 1679663465.754496, \"EndTime\": 1679663465.7801588, \"Dimensions\": {\"Algorithm\": \"AWS/DeepAR\", \"Host\": \"algo-1\", \"Operation\": \"training\"}, \"Metrics\": {\"setuptime\": {\"sum\": 5.599021911621094, \"count\": 1, \"min\": 5.599021911621094, \"max\": 5.599021911621094}, \"totaltime\": {\"sum\": 76901.98373794556, \"count\": 1, \"min\": 76901.98373794556, \"max\": 76901.98373794556}}}\u001b[0m\n",
      "\n",
      "2023-03-24 13:11:19 Uploading - Uploading generated training model\n",
      "2023-03-24 13:11:19 Completed - Training job completed\n",
      "Training seconds: 199\n",
      "Billable seconds: 88\n",
      "Managed Spot Training savings: 55.8%\n"
     ]
    }
   ],
   "source": [
    "deepar.fit(inputs = data_channels)"
   ]
  },
  {
   "cell_type": "markdown",
   "metadata": {},
   "source": [
    "# Deploy e previsões"
   ]
  },
  {
   "cell_type": "code",
   "execution_count": 39,
   "metadata": {
    "tags": []
   },
   "outputs": [
    {
     "name": "stdout",
     "output_type": "stream",
     "text": [
      "Job name:  deepar-petr-2023-03-24-13-06-11-960\n"
     ]
    }
   ],
   "source": [
    "job_name = deepar.latest_training_job.name\n",
    "print('Job name: ', job_name)"
   ]
  },
  {
   "cell_type": "code",
   "execution_count": 40,
   "metadata": {
    "tags": []
   },
   "outputs": [
    {
     "name": "stderr",
     "output_type": "stream",
     "text": [
      "INFO:sagemaker:Creating model with name: deepar-petr-2023-03-24-13-06-11-960\n",
      "INFO:sagemaker:Creating endpoint-config with name deepar-petr-2023-03-24-13-06-11-960\n",
      "INFO:sagemaker:Creating endpoint with name deepar-petr-2023-03-24-13-06-11-960\n"
     ]
    },
    {
     "name": "stdout",
     "output_type": "stream",
     "text": [
      "-----!"
     ]
    }
   ],
   "source": [
    "endpoint = session.endpoint_from_job(job_name = job_name,\n",
    "                                     initial_instance_count = 1,\n",
    "                                     instance_type = \"ml.m5.large\",\n",
    "                                     image_uri = container,\n",
    "                                     role = role)"
   ]
  },
  {
   "cell_type": "code",
   "execution_count": 42,
   "metadata": {
    "tags": []
   },
   "outputs": [
    {
     "name": "stdout",
     "output_type": "stream",
     "text": [
      "Endpoint:  deepar-petr-2023-03-24-13-06-11-960\n"
     ]
    }
   ],
   "source": [
    "print('Endpoint: ', endpoint)"
   ]
  },
  {
   "cell_type": "code",
   "execution_count": 43,
   "metadata": {
    "tags": []
   },
   "outputs": [],
   "source": [
    "class DeepARPredictor(sagemaker.predictor.Predictor):\n",
    "\n",
    "    def set_prediction_parameters(self, freq, prediction_length):\n",
    "        \"\"\"Set the time frequency and prediction length parameters. \n",
    "          This method **must** be called before being able to use `predict`.\n",
    "        \n",
    "        Parameters:\n",
    "        freq -- string indicating the time frequency\n",
    "        prediction_length -- integer, number of predicted time points\n",
    "        \n",
    "        Return value: none.\n",
    "        \"\"\"\n",
    "        self.freq = freq\n",
    "        self.prediction_length = prediction_length\n",
    "        \n",
    "    def predict(self, ts, cat=None, dynamic_feat=None, \n",
    "                encoding=\"utf-8\", num_samples=100, quantiles=[\"0.1\", \"0.5\", \"0.9\"]):\n",
    "        \"\"\"Requests the prediction of for the time series listed in `ts`, \n",
    "           each with the (optional) corresponding category listed in `cat`.\n",
    "        \n",
    "        Parameters:\n",
    "        ts -- list of `pandas.Series` objects, the time series to predict\n",
    "        cat -- list of integers (default: None)\n",
    "        encoding -- string, encoding to use for the request (default: \"utf-8\")\n",
    "        num_samples -- integer, number of samples to compute at prediction time (default: 100)\n",
    "        quantiles -- list of strings specifying the quantiles to compute (default: [\"0.1\", \"0.5\", \"0.9\"])\n",
    "        \n",
    "        Return value: list of `pandas.DataFrame` objects, each containing the predictions\n",
    "        \"\"\"\n",
    "        prediction_times = [x.index[-1] + datetime.timedelta(hours=1) for x in ts] \n",
    "        \n",
    "        req = self.__encode_request(ts, cat, dynamic_feat, encoding, num_samples, quantiles)\n",
    "        res = super(DeepARPredictor, self).predict(req)\n",
    "        return self.__decode_response(res, prediction_times, encoding)\n",
    "    \n",
    "    def __encode_request(self, ts, cat, dynamic_feat, encoding, num_samples, quantiles):\n",
    "        \n",
    "        instances = [series_to_obj(ts[k]) for k in range(len(ts))]\n",
    "        \n",
    "        configuration = {\"num_samples\": num_samples, \"output_types\": [\"quantiles\"], \"quantiles\": quantiles}\n",
    "        http_request_data = {\"instances\": instances, \"configuration\": configuration}\n",
    "        return json.dumps(http_request_data).encode(encoding)\n",
    "    \n",
    "    def __decode_response(self, response, prediction_times, encoding):\n",
    "        response_data = json.loads(response.decode(encoding))\n",
    "        list_of_df = []\n",
    "        for k in range(len(prediction_times)):\n",
    "            prediction_index = pd.date_range(start=prediction_times[k], freq=self.freq, periods=self.prediction_length)\n",
    "            list_of_df.append(pd.DataFrame(data=response_data['predictions'][k]['quantiles'], index=prediction_index))\n",
    "        return list_of_df"
   ]
  },
  {
   "cell_type": "code",
   "execution_count": 44,
   "metadata": {
    "tags": []
   },
   "outputs": [],
   "source": [
    "predictor = DeepARPredictor(endpoint_name = 'deepar-petr-2023-03-24-13-06-11-960',\n",
    "                            sagemaker_session = session)\n",
    "predictor.set_prediction_parameters(freq, prediction_length)\n",
    "predictor.serializer.content_type = \"application/json\""
   ]
  },
  {
   "cell_type": "code",
   "execution_count": 45,
   "metadata": {
    "tags": []
   },
   "outputs": [],
   "source": [
    "import datetime\n",
    "previsoes = predictor.predict(serie_temporal_treinamento)"
   ]
  },
  {
   "cell_type": "code",
   "execution_count": 46,
   "metadata": {
    "tags": []
   },
   "outputs": [
    {
     "data": {
      "text/plain": [
       "30"
      ]
     },
     "execution_count": 46,
     "metadata": {},
     "output_type": "execute_result"
    }
   ],
   "source": [
    "len(previsoes[0])"
   ]
  },
  {
   "cell_type": "code",
   "execution_count": 47,
   "metadata": {
    "tags": []
   },
   "outputs": [
    {
     "data": {
      "text/plain": [
       "[                           0.1        0.5        0.9\n",
       " 2018-04-12 01:00:00  18.872927  20.251459  21.393972\n",
       " 2018-04-13 01:00:00  19.132330  20.323055  21.294136\n",
       " 2018-04-14 01:00:00  19.243620  20.300367  21.630217\n",
       " 2018-04-15 01:00:00  19.118525  20.241116  21.646929\n",
       " 2018-04-16 01:00:00  18.663269  19.900656  20.955040\n",
       " 2018-04-17 01:00:00  18.203009  19.482862  20.851425\n",
       " 2018-04-18 01:00:00  18.365671  19.282629  20.298740\n",
       " 2018-04-19 01:00:00  17.940214  18.915947  20.395903\n",
       " 2018-04-20 01:00:00  17.779791  18.994257  20.400187\n",
       " 2018-04-21 01:00:00  17.607594  18.781090  20.545446\n",
       " 2018-04-22 01:00:00  17.227144  18.519394  19.893015\n",
       " 2018-04-23 01:00:00  16.771688  18.673468  19.860790\n",
       " 2018-04-24 01:00:00  16.698633  18.312809  19.978970\n",
       " 2018-04-25 01:00:00  16.655003  18.203535  19.807739\n",
       " 2018-04-26 01:00:00  16.595865  17.907227  19.457825\n",
       " 2018-04-27 01:00:00  16.209539  17.672493  19.362175\n",
       " 2018-04-28 01:00:00  15.596560  17.387213  18.886557\n",
       " 2018-04-29 01:00:00  15.982989  17.250175  18.678520\n",
       " 2018-04-30 01:00:00  15.728158  16.778625  18.599049\n",
       " 2018-05-01 01:00:00  15.008313  16.632927  18.780287\n",
       " 2018-05-02 01:00:00  14.994759  16.349007  18.177458\n",
       " 2018-05-03 01:00:00  14.545542  16.073044  17.889843\n",
       " 2018-05-04 01:00:00  14.134753  15.921519  18.112463\n",
       " 2018-05-05 01:00:00  14.224855  15.866976  17.839794\n",
       " 2018-05-06 01:00:00  14.065651  15.931122  17.665726\n",
       " 2018-05-07 01:00:00  13.919077  15.370456  16.878101\n",
       " 2018-05-08 01:00:00  13.777642  15.198597  17.253042\n",
       " 2018-05-09 01:00:00  13.795893  15.414914  17.238129\n",
       " 2018-05-10 01:00:00  13.661140  14.935065  16.949183\n",
       " 2018-05-11 01:00:00  13.627931  15.099936  16.657572]"
      ]
     },
     "execution_count": 47,
     "metadata": {},
     "output_type": "execute_result"
    }
   ],
   "source": [
    "previsoes"
   ]
  },
  {
   "cell_type": "code",
   "execution_count": 48,
   "metadata": {
    "tags": []
   },
   "outputs": [
    {
     "data": {
      "image/png": "[encoded data removed]",
      "text/plain": [
       "<Figure size 1200x600 with 1 Axes>"
      ]
     },
     "metadata": {},
     "output_type": "display_data"
    }
   ],
   "source": [
    "for k in range(len(previsoes)):\n",
    "    plt.figure(figsize=(12,6))\n",
    "    previsoes[k]['0.5'].plot(label = 'Mediana', color = 'red')\n",
    "    #serie_temporal_teste[k].plot(label = 'Alvo')\n",
    "    serie_temporal_teste[k][-prediction_length - context_length:].plot(label = 'Alvo')\n",
    "    p10 = previsoes[k]['0.1']\n",
    "    p90 = previsoes[k]['0.9']\n",
    "    plt.fill_between(p10.index, p10, p90, color = 'y', alpha = 0.5, label = 'Intervalo de confiança')\n",
    "    plt.legend()\n",
    "    plt.show()"
   ]
  },
  {
   "cell_type": "code",
   "execution_count": 49,
   "metadata": {
    "tags": []
   },
   "outputs": [
    {
     "data": {
      "text/plain": [
       "30"
      ]
     },
     "execution_count": 49,
     "metadata": {},
     "output_type": "execute_result"
    }
   ],
   "source": [
    "df_teste = base.iloc[1315:,:]\n",
    "len(df_teste)"
   ]
  },
  {
   "cell_type": "code",
   "execution_count": 50,
   "metadata": {
    "tags": []
   },
   "outputs": [
    {
     "data": {
      "text/html": [
       "<div>\n",
       "<style scoped>\n",
       "    .dataframe tbody tr th:only-of-type {\n",
       "        vertical-align: middle;\n",
       "    }\n",
       "\n",
       "    .dataframe tbody tr th {\n",
       "        vertical-align: top;\n",
       "    }\n",
       "\n",
       "    .dataframe thead th {\n",
       "        text-align: right;\n",
       "    }\n",
       "</style>\n",
       "<table border=\"1\" class=\"dataframe\">\n",
       "  <thead>\n",
       "    <tr style=\"text-align: right;\">\n",
       "      <th></th>\n",
       "      <th>Close</th>\n",
       "    </tr>\n",
       "    <tr>\n",
       "      <th>Date</th>\n",
       "      <th></th>\n",
       "    </tr>\n",
       "  </thead>\n",
       "  <tbody>\n",
       "    <tr>\n",
       "      <th>2018-04-13</th>\n",
       "      <td>21.200001</td>\n",
       "    </tr>\n",
       "    <tr>\n",
       "      <th>2018-04-16</th>\n",
       "      <td>20.620001</td>\n",
       "    </tr>\n",
       "    <tr>\n",
       "      <th>2018-04-17</th>\n",
       "      <td>21.030001</td>\n",
       "    </tr>\n",
       "    <tr>\n",
       "      <th>2018-04-18</th>\n",
       "      <td>21.799999</td>\n",
       "    </tr>\n",
       "    <tr>\n",
       "      <th>2018-04-19</th>\n",
       "      <td>22.200001</td>\n",
       "    </tr>\n",
       "    <tr>\n",
       "      <th>2018-04-20</th>\n",
       "      <td>22.360001</td>\n",
       "    </tr>\n",
       "    <tr>\n",
       "      <th>2018-04-23</th>\n",
       "      <td>22.480000</td>\n",
       "    </tr>\n",
       "    <tr>\n",
       "      <th>2018-04-24</th>\n",
       "      <td>22.400000</td>\n",
       "    </tr>\n",
       "    <tr>\n",
       "      <th>2018-04-25</th>\n",
       "      <td>21.730000</td>\n",
       "    </tr>\n",
       "    <tr>\n",
       "      <th>2018-04-26</th>\n",
       "      <td>22.629999</td>\n",
       "    </tr>\n",
       "    <tr>\n",
       "      <th>2018-04-27</th>\n",
       "      <td>22.709999</td>\n",
       "    </tr>\n",
       "    <tr>\n",
       "      <th>2018-04-30</th>\n",
       "      <td>22.969999</td>\n",
       "    </tr>\n",
       "    <tr>\n",
       "      <th>2018-05-02</th>\n",
       "      <td>22.600000</td>\n",
       "    </tr>\n",
       "    <tr>\n",
       "      <th>2018-05-03</th>\n",
       "      <td>22.450001</td>\n",
       "    </tr>\n",
       "    <tr>\n",
       "      <th>2018-05-04</th>\n",
       "      <td>22.270000</td>\n",
       "    </tr>\n",
       "    <tr>\n",
       "      <th>2018-05-07</th>\n",
       "      <td>22.650000</td>\n",
       "    </tr>\n",
       "    <tr>\n",
       "      <th>2018-05-08</th>\n",
       "      <td>22.910000</td>\n",
       "    </tr>\n",
       "    <tr>\n",
       "      <th>2018-05-09</th>\n",
       "      <td>24.780001</td>\n",
       "    </tr>\n",
       "    <tr>\n",
       "      <th>2018-05-10</th>\n",
       "      <td>25.750000</td>\n",
       "    </tr>\n",
       "    <tr>\n",
       "      <th>2018-05-11</th>\n",
       "      <td>25.440001</td>\n",
       "    </tr>\n",
       "    <tr>\n",
       "      <th>2018-05-14</th>\n",
       "      <td>26.240000</td>\n",
       "    </tr>\n",
       "    <tr>\n",
       "      <th>2018-05-15</th>\n",
       "      <td>26.790001</td>\n",
       "    </tr>\n",
       "    <tr>\n",
       "      <th>2018-05-16</th>\n",
       "      <td>27.389999</td>\n",
       "    </tr>\n",
       "    <tr>\n",
       "      <th>2018-05-17</th>\n",
       "      <td>25.950001</td>\n",
       "    </tr>\n",
       "    <tr>\n",
       "      <th>2018-05-18</th>\n",
       "      <td>25.650000</td>\n",
       "    </tr>\n",
       "    <tr>\n",
       "      <th>2018-05-21</th>\n",
       "      <td>25.049999</td>\n",
       "    </tr>\n",
       "    <tr>\n",
       "      <th>2018-05-22</th>\n",
       "      <td>24.709999</td>\n",
       "    </tr>\n",
       "    <tr>\n",
       "      <th>2018-05-23</th>\n",
       "      <td>23.270000</td>\n",
       "    </tr>\n",
       "    <tr>\n",
       "      <th>2018-05-24</th>\n",
       "      <td>20.080000</td>\n",
       "    </tr>\n",
       "    <tr>\n",
       "      <th>2018-05-25</th>\n",
       "      <td>19.799999</td>\n",
       "    </tr>\n",
       "  </tbody>\n",
       "</table>\n",
       "</div>"
      ],
      "text/plain": [
       "                Close\n",
       "Date                 \n",
       "2018-04-13  21.200001\n",
       "2018-04-16  20.620001\n",
       "2018-04-17  21.030001\n",
       "2018-04-18  21.799999\n",
       "2018-04-19  22.200001\n",
       "2018-04-20  22.360001\n",
       "2018-04-23  22.480000\n",
       "2018-04-24  22.400000\n",
       "2018-04-25  21.730000\n",
       "2018-04-26  22.629999\n",
       "2018-04-27  22.709999\n",
       "2018-04-30  22.969999\n",
       "2018-05-02  22.600000\n",
       "2018-05-03  22.450001\n",
       "2018-05-04  22.270000\n",
       "2018-05-07  22.650000\n",
       "2018-05-08  22.910000\n",
       "2018-05-09  24.780001\n",
       "2018-05-10  25.750000\n",
       "2018-05-11  25.440001\n",
       "2018-05-14  26.240000\n",
       "2018-05-15  26.790001\n",
       "2018-05-16  27.389999\n",
       "2018-05-17  25.950001\n",
       "2018-05-18  25.650000\n",
       "2018-05-21  25.049999\n",
       "2018-05-22  24.709999\n",
       "2018-05-23  23.270000\n",
       "2018-05-24  20.080000\n",
       "2018-05-25  19.799999"
      ]
     },
     "execution_count": 50,
     "metadata": {},
     "output_type": "execute_result"
    }
   ],
   "source": [
    "df_teste"
   ]
  },
  {
   "cell_type": "code",
   "execution_count": 51,
   "metadata": {
    "tags": []
   },
   "outputs": [
    {
     "data": {
      "text/plain": [
       "array([20.25145912, 20.32305527, 20.30036736, 20.24111557, 19.90065575,\n",
       "       19.48286247, 19.28262901, 18.91594696, 18.99425697, 18.78108978,\n",
       "       18.51939392, 18.67346764, 18.31280899, 18.20353508, 17.90722656,\n",
       "       17.67249298, 17.38721275, 17.25017548, 16.77862549, 16.63292694,\n",
       "       16.34900665, 16.07304382, 15.92151928, 15.86697578, 15.93112183,\n",
       "       15.37045574, 15.19859695, 15.41491413, 14.93506527, 15.09993649])"
      ]
     },
     "execution_count": 51,
     "metadata": {},
     "output_type": "execute_result"
    }
   ],
   "source": [
    "previsoes2 = previsoes[0]['0.5'].values\n",
    "previsoes2"
   ]
  },
  {
   "cell_type": "code",
   "execution_count": 52,
   "metadata": {
    "tags": []
   },
   "outputs": [
    {
     "data": {
      "text/plain": [
       "array([21.200001, 20.620001, 21.030001, 21.799999, 22.200001, 22.360001,\n",
       "       22.48    , 22.4     , 21.73    , 22.629999, 22.709999, 22.969999,\n",
       "       22.6     , 22.450001, 22.27    , 22.65    , 22.91    , 24.780001,\n",
       "       25.75    , 25.440001, 26.24    , 26.790001, 27.389999, 25.950001,\n",
       "       25.65    , 25.049999, 24.709999, 23.27    , 20.08    , 19.799999])"
      ]
     },
     "execution_count": 52,
     "metadata": {},
     "output_type": "execute_result"
    }
   ],
   "source": [
    "esperado = df_teste['Close'].values\n",
    "esperado"
   ]
  },
  {
   "cell_type": "code",
   "execution_count": 53,
   "metadata": {
    "tags": []
   },
   "outputs": [
    {
     "name": "stdout",
     "output_type": "stream",
     "text": [
      "MAE:  5.597935398643333 \n",
      "MSE:  41.947561682242764\n"
     ]
    }
   ],
   "source": [
    "from sklearn.metrics import mean_absolute_error, mean_squared_error\n",
    "mae = mean_absolute_error(esperado, previsoes2)\n",
    "mse = mean_squared_error(esperado, previsoes2)\n",
    "print('MAE: ', mae, '\\nMSE: ', mse)"
   ]
  },
  {
   "cell_type": "code",
   "execution_count": null,
   "metadata": {},
   "outputs": [],
   "source": []
  }
 ],
 "metadata": {
  "availableInstances": [
   {
    "_defaultOrder": 0,
    "_isFastLaunch": true,
    "category": "General purpose",
    "gpuNum": 0,
    "memoryGiB": 4,
    "name": "ml.t3.medium",
    "vcpuNum": 2
   },
   {
    "_defaultOrder": 1,
    "_isFastLaunch": false,
    "category": "General purpose",
    "gpuNum": 0,
    "memoryGiB": 8,
    "name": "ml.t3.large",
    "vcpuNum": 2
   },
   {
    "_defaultOrder": 2,
    "_isFastLaunch": false,
    "category": "General purpose",
    "gpuNum": 0,
    "memoryGiB": 16,
    "name": "ml.t3.xlarge",
    "vcpuNum": 4
   },
   {
    "_defaultOrder": 3,
    "_isFastLaunch": false,
    "category": "General purpose",
    "gpuNum": 0,
    "memoryGiB": 32,
    "name": "ml.t3.2xlarge",
    "vcpuNum": 8
   },
   {
    "_defaultOrder": 4,
    "_isFastLaunch": true,
    "category": "General purpose",
    "gpuNum": 0,
    "memoryGiB": 8,
    "name": "ml.m5.large",
    "vcpuNum": 2
   },
   {
    "_defaultOrder": 5,
    "_isFastLaunch": false,
    "category": "General purpose",
    "gpuNum": 0,
    "memoryGiB": 16,
    "name": "ml.m5.xlarge",
    "vcpuNum": 4
   },
   {
    "_defaultOrder": 6,
    "_isFastLaunch": false,
    "category": "General purpose",
    "gpuNum": 0,
    "memoryGiB": 32,
    "name": "ml.m5.2xlarge",
    "vcpuNum": 8
   },
   {
    "_defaultOrder": 7,
    "_isFastLaunch": false,
    "category": "General purpose",
    "gpuNum": 0,
    "memoryGiB": 64,
    "name": "ml.m5.4xlarge",
    "vcpuNum": 16
   },
   {
    "_defaultOrder": 8,
    "_isFastLaunch": false,
    "category": "General purpose",
    "gpuNum": 0,
    "memoryGiB": 128,
    "name": "ml.m5.8xlarge",
    "vcpuNum": 32
   },
   {
    "_defaultOrder": 9,
    "_isFastLaunch": false,
    "category": "General purpose",
    "gpuNum": 0,
    "memoryGiB": 192,
    "name": "ml.m5.12xlarge",
    "vcpuNum": 48
   },
   {
    "_defaultOrder": 10,
    "_isFastLaunch": false,
    "category": "General purpose",
    "gpuNum": 0,
    "memoryGiB": 256,
    "name": "ml.m5.16xlarge",
    "vcpuNum": 64
   },
   {
    "_defaultOrder": 11,
    "_isFastLaunch": false,
    "category": "General purpose",
    "gpuNum": 0,
    "memoryGiB": 384,
    "name": "ml.m5.24xlarge",
    "vcpuNum": 96
   },
   {
    "_defaultOrder": 12,
    "_isFastLaunch": false,
    "category": "General purpose",
    "gpuNum": 0,
    "memoryGiB": 8,
    "name": "ml.m5d.large",
    "vcpuNum": 2
   },
   {
    "_defaultOrder": 13,
    "_isFastLaunch": false,
    "category": "General purpose",
    "gpuNum": 0,
    "memoryGiB": 16,
    "name": "ml.m5d.xlarge",
    "vcpuNum": 4
   },
   {
    "_defaultOrder": 14,
    "_isFastLaunch": false,
    "category": "General purpose",
    "gpuNum": 0,
    "memoryGiB": 32,
    "name": "ml.m5d.2xlarge",
    "vcpuNum": 8
   },
   {
    "_defaultOrder": 15,
    "_isFastLaunch": false,
    "category": "General purpose",
    "gpuNum": 0,
    "memoryGiB": 64,
    "name": "ml.m5d.4xlarge",
    "vcpuNum": 16
   },
   {
    "_defaultOrder": 16,
    "_isFastLaunch": false,
    "category": "General purpose",
    "gpuNum": 0,
    "memoryGiB": 128,
    "name": "ml.m5d.8xlarge",
    "vcpuNum": 32
   },
   {
    "_defaultOrder": 17,
    "_isFastLaunch": false,
    "category": "General purpose",
    "gpuNum": 0,
    "memoryGiB": 192,
    "name": "ml.m5d.12xlarge",
    "vcpuNum": 48
   },
   {
    "_defaultOrder": 18,
    "_isFastLaunch": false,
    "category": "General purpose",
    "gpuNum": 0,
    "memoryGiB": 256,
    "name": "ml.m5d.16xlarge",
    "vcpuNum": 64
   },
   {
    "_defaultOrder": 19,
    "_isFastLaunch": false,
    "category": "General purpose",
    "gpuNum": 0,
    "memoryGiB": 384,
    "name": "ml.m5d.24xlarge",
    "vcpuNum": 96
   },
   {
    "_defaultOrder": 20,
    "_isFastLaunch": true,
    "category": "Compute optimized",
    "gpuNum": 0,
    "memoryGiB": 4,
    "name": "ml.c5.large",
    "vcpuNum": 2
   },
   {
    "_defaultOrder": 21,
    "_isFastLaunch": false,
    "category": "Compute optimized",
    "gpuNum": 0,
    "memoryGiB": 8,
    "name": "ml.c5.xlarge",
    "vcpuNum": 4
   },
   {
    "_defaultOrder": 22,
    "_isFastLaunch": false,
    "category": "Compute optimized",
    "gpuNum": 0,
    "memoryGiB": 16,
    "name": "ml.c5.2xlarge",
    "vcpuNum": 8
   },
   {
    "_defaultOrder": 23,
    "_isFastLaunch": false,
    "category": "Compute optimized",
    "gpuNum": 0,
    "memoryGiB": 32,
    "name": "ml.c5.4xlarge",
    "vcpuNum": 16
   },
   {
    "_defaultOrder": 24,
    "_isFastLaunch": false,
    "category": "Compute optimized",
    "gpuNum": 0,
    "memoryGiB": 72,
    "name": "ml.c5.9xlarge",
    "vcpuNum": 36
   },
   {
    "_defaultOrder": 25,
    "_isFastLaunch": false,
    "category": "Compute optimized",
    "gpuNum": 0,
    "memoryGiB": 96,
    "name": "ml.c5.12xlarge",
    "vcpuNum": 48
   },
   {
    "_defaultOrder": 26,
    "_isFastLaunch": false,
    "category": "Compute optimized",
    "gpuNum": 0,
    "memoryGiB": 144,
    "name": "ml.c5.18xlarge",
    "vcpuNum": 72
   },
   {
    "_defaultOrder": 27,
    "_isFastLaunch": false,
    "category": "Compute optimized",
    "gpuNum": 0,
    "memoryGiB": 192,
    "name": "ml.c5.24xlarge",
    "vcpuNum": 96
   },
   {
    "_defaultOrder": 28,
    "_isFastLaunch": true,
    "category": "Accelerated computing",
    "gpuNum": 1,
    "memoryGiB": 16,
    "name": "ml.g4dn.xlarge",
    "vcpuNum": 4
   },
   {
    "_defaultOrder": 29,
    "_isFastLaunch": false,
    "category": "Accelerated computing",
    "gpuNum": 1,
    "memoryGiB": 32,
    "name": "ml.g4dn.2xlarge",
    "vcpuNum": 8
   },
   {
    "_defaultOrder": 30,
    "_isFastLaunch": false,
    "category": "Accelerated computing",
    "gpuNum": 1,
    "memoryGiB": 64,
    "name": "ml.g4dn.4xlarge",
    "vcpuNum": 16
   },
   {
    "_defaultOrder": 31,
    "_isFastLaunch": false,
    "category": "Accelerated computing",
    "gpuNum": 1,
    "memoryGiB": 128,
    "name": "ml.g4dn.8xlarge",
    "vcpuNum": 32
   },
   {
    "_defaultOrder": 32,
    "_isFastLaunch": false,
    "category": "Accelerated computing",
    "gpuNum": 4,
    "memoryGiB": 192,
    "name": "ml.g4dn.12xlarge",
    "vcpuNum": 48
   },
   {
    "_defaultOrder": 33,
    "_isFastLaunch": false,
    "category": "Accelerated computing",
    "gpuNum": 1,
    "memoryGiB": 256,
    "name": "ml.g4dn.16xlarge",
    "vcpuNum": 64
   },
   {
    "_defaultOrder": 34,
    "_isFastLaunch": false,
    "category": "Accelerated computing",
    "gpuNum": 1,
    "memoryGiB": 61,
    "name": "ml.p3.2xlarge",
    "vcpuNum": 8
   },
   {
    "_defaultOrder": 35,
    "_isFastLaunch": false,
    "category": "Accelerated computing",
    "gpuNum": 4,
    "memoryGiB": 244,
    "name": "ml.p3.8xlarge",
    "vcpuNum": 32
   },
   {
    "_defaultOrder": 36,
    "_isFastLaunch": false,
    "category": "Accelerated computing",
    "gpuNum": 8,
    "memoryGiB": 488,
    "name": "ml.p3.16xlarge",
    "vcpuNum": 64
   },
   {
    "_defaultOrder": 37,
    "_isFastLaunch": false,
    "category": "Accelerated computing",
    "gpuNum": 8,
    "memoryGiB": 768,
    "name": "ml.p3dn.24xlarge",
    "vcpuNum": 96
   },
   {
    "_defaultOrder": 38,
    "_isFastLaunch": false,
    "category": "Memory Optimized",
    "gpuNum": 0,
    "memoryGiB": 16,
    "name": "ml.r5.large",
    "vcpuNum": 2
   },
   {
    "_defaultOrder": 39,
    "_isFastLaunch": false,
    "category": "Memory Optimized",
    "gpuNum": 0,
    "memoryGiB": 32,
    "name": "ml.r5.xlarge",
    "vcpuNum": 4
   },
   {
    "_defaultOrder": 40,
    "_isFastLaunch": false,
    "category": "Memory Optimized",
    "gpuNum": 0,
    "memoryGiB": 64,
    "name": "ml.r5.2xlarge",
    "vcpuNum": 8
   },
   {
    "_defaultOrder": 41,
    "_isFastLaunch": false,
    "category": "Memory Optimized",
    "gpuNum": 0,
    "memoryGiB": 128,
    "name": "ml.r5.4xlarge",
    "vcpuNum": 16
   },
   {
    "_defaultOrder": 42,
    "_isFastLaunch": false,
    "category": "Memory Optimized",
    "gpuNum": 0,
    "memoryGiB": 256,
    "name": "ml.r5.8xlarge",
    "vcpuNum": 32
   },
   {
    "_defaultOrder": 43,
    "_isFastLaunch": false,
    "category": "Memory Optimized",
    "gpuNum": 0,
    "memoryGiB": 384,
    "name": "ml.r5.12xlarge",
    "vcpuNum": 48
   },
   {
    "_defaultOrder": 44,
    "_isFastLaunch": false,
    "category": "Memory Optimized",
    "gpuNum": 0,
    "memoryGiB": 512,
    "name": "ml.r5.16xlarge",
    "vcpuNum": 64
   },
   {
    "_defaultOrder": 45,
    "_isFastLaunch": false,
    "category": "Memory Optimized",
    "gpuNum": 0,
    "memoryGiB": 768,
    "name": "ml.r5.24xlarge",
    "vcpuNum": 96
   },
   {
    "_defaultOrder": 46,
    "_isFastLaunch": false,
    "category": "Accelerated computing",
    "gpuNum": 1,
    "memoryGiB": 16,
    "name": "ml.g5.xlarge",
    "vcpuNum": 4
   },
   {
    "_defaultOrder": 47,
    "_isFastLaunch": false,
    "category": "Accelerated computing",
    "gpuNum": 1,
    "memoryGiB": 32,
    "name": "ml.g5.2xlarge",
    "vcpuNum": 8
   },
   {
    "_defaultOrder": 48,
    "_isFastLaunch": false,
    "category": "Accelerated computing",
    "gpuNum": 1,
    "memoryGiB": 64,
    "name": "ml.g5.4xlarge",
    "vcpuNum": 16
   },
   {
    "_defaultOrder": 49,
    "_isFastLaunch": false,
    "category": "Accelerated computing",
    "gpuNum": 1,
    "memoryGiB": 128,
    "name": "ml.g5.8xlarge",
    "vcpuNum": 32
   },
   {
    "_defaultOrder": 50,
    "_isFastLaunch": false,
    "category": "Accelerated computing",
    "gpuNum": 1,
    "memoryGiB": 256,
    "name": "ml.g5.16xlarge",
    "vcpuNum": 64
   },
   {
    "_defaultOrder": 51,
    "_isFastLaunch": false,
    "category": "Accelerated computing",
    "gpuNum": 4,
    "memoryGiB": 192,
    "name": "ml.g5.12xlarge",
    "vcpuNum": 48
   },
   {
    "_defaultOrder": 52,
    "_isFastLaunch": false,
    "category": "Accelerated computing",
    "gpuNum": 4,
    "memoryGiB": 384,
    "name": "ml.g5.24xlarge",
    "vcpuNum": 96
   },
   {
    "_defaultOrder": 53,
    "_isFastLaunch": false,
    "category": "Accelerated computing",
    "gpuNum": 8,
    "memoryGiB": 768,
    "name": "ml.g5.48xlarge",
    "vcpuNum": 192
   }
  ],
  "instance_type": "ml.t3.medium",
  "kernelspec": {
   "display_name": "Python 3 (Data Science)",
   "language": "python",
   "name": "python3__SAGEMAKER_INTERNAL__arn:aws:sagemaker:sa-east-1:782484402741:image/datascience-1.0"
  },
  "language_info": {
   "codemirror_mode": {
    "name": "ipython",
    "version": 3
   },
   "file_extension": ".py",
   "mimetype": "text/x-python",
   "name": "python",
   "nbconvert_exporter": "python",
   "pygments_lexer": "ipython3",
   "version": "3.7.10"
  }
 },
 "nbformat": 4,
 "nbformat_minor": 4
}
