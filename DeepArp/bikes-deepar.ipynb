{
 "cells": [
  {
   "cell_type": "markdown",
   "metadata": {},
   "source": [
    "# Tratamento da base de dados"
   ]
  },
  {
   "cell_type": "code",
   "execution_count": 2,
   "metadata": {
    "tags": []
   },
   "outputs": [],
   "source": [
    "# Baseado em https://github.com/ChandraLingam/AmazonSageMakerCourse/tree/master/DeepAR/BikeRental\n",
    "import pandas as pd\n",
    "import matplotlib.pyplot as plt\n",
    "%matplotlib inline\n",
    "import json\n",
    "import os\n",
    "import numpy as np\n",
    "import datetime"
   ]
  },
  {
   "cell_type": "code",
   "execution_count": 3,
   "metadata": {
    "tags": []
   },
   "outputs": [
    {
     "data": {
      "text/html": [
       "<div>\n",
       "<style scoped>\n",
       "    .dataframe tbody tr th:only-of-type {\n",
       "        vertical-align: middle;\n",
       "    }\n",
       "\n",
       "    .dataframe tbody tr th {\n",
       "        vertical-align: top;\n",
       "    }\n",
       "\n",
       "    .dataframe thead th {\n",
       "        text-align: right;\n",
       "    }\n",
       "</style>\n",
       "<table border=\"1\" class=\"dataframe\">\n",
       "  <thead>\n",
       "    <tr style=\"text-align: right;\">\n",
       "      <th></th>\n",
       "      <th>datetime</th>\n",
       "      <th>season</th>\n",
       "      <th>holiday</th>\n",
       "      <th>workingday</th>\n",
       "      <th>weather</th>\n",
       "      <th>temp</th>\n",
       "      <th>atemp</th>\n",
       "      <th>humidity</th>\n",
       "      <th>windspeed</th>\n",
       "      <th>casual</th>\n",
       "      <th>registered</th>\n",
       "      <th>count</th>\n",
       "    </tr>\n",
       "  </thead>\n",
       "  <tbody>\n",
       "    <tr>\n",
       "      <th>0</th>\n",
       "      <td>2011-01-01 00:00:00</td>\n",
       "      <td>1</td>\n",
       "      <td>0</td>\n",
       "      <td>0</td>\n",
       "      <td>1</td>\n",
       "      <td>9.84</td>\n",
       "      <td>14.395</td>\n",
       "      <td>81</td>\n",
       "      <td>0.0000</td>\n",
       "      <td>3</td>\n",
       "      <td>13</td>\n",
       "      <td>16</td>\n",
       "    </tr>\n",
       "    <tr>\n",
       "      <th>1</th>\n",
       "      <td>2011-01-01 01:00:00</td>\n",
       "      <td>1</td>\n",
       "      <td>0</td>\n",
       "      <td>0</td>\n",
       "      <td>1</td>\n",
       "      <td>9.02</td>\n",
       "      <td>13.635</td>\n",
       "      <td>80</td>\n",
       "      <td>0.0000</td>\n",
       "      <td>8</td>\n",
       "      <td>32</td>\n",
       "      <td>40</td>\n",
       "    </tr>\n",
       "    <tr>\n",
       "      <th>2</th>\n",
       "      <td>2011-01-01 02:00:00</td>\n",
       "      <td>1</td>\n",
       "      <td>0</td>\n",
       "      <td>0</td>\n",
       "      <td>1</td>\n",
       "      <td>9.02</td>\n",
       "      <td>13.635</td>\n",
       "      <td>80</td>\n",
       "      <td>0.0000</td>\n",
       "      <td>5</td>\n",
       "      <td>27</td>\n",
       "      <td>32</td>\n",
       "    </tr>\n",
       "    <tr>\n",
       "      <th>3</th>\n",
       "      <td>2011-01-01 03:00:00</td>\n",
       "      <td>1</td>\n",
       "      <td>0</td>\n",
       "      <td>0</td>\n",
       "      <td>1</td>\n",
       "      <td>9.84</td>\n",
       "      <td>14.395</td>\n",
       "      <td>75</td>\n",
       "      <td>0.0000</td>\n",
       "      <td>3</td>\n",
       "      <td>10</td>\n",
       "      <td>13</td>\n",
       "    </tr>\n",
       "    <tr>\n",
       "      <th>4</th>\n",
       "      <td>2011-01-01 04:00:00</td>\n",
       "      <td>1</td>\n",
       "      <td>0</td>\n",
       "      <td>0</td>\n",
       "      <td>1</td>\n",
       "      <td>9.84</td>\n",
       "      <td>14.395</td>\n",
       "      <td>75</td>\n",
       "      <td>0.0000</td>\n",
       "      <td>0</td>\n",
       "      <td>1</td>\n",
       "      <td>1</td>\n",
       "    </tr>\n",
       "    <tr>\n",
       "      <th>...</th>\n",
       "      <td>...</td>\n",
       "      <td>...</td>\n",
       "      <td>...</td>\n",
       "      <td>...</td>\n",
       "      <td>...</td>\n",
       "      <td>...</td>\n",
       "      <td>...</td>\n",
       "      <td>...</td>\n",
       "      <td>...</td>\n",
       "      <td>...</td>\n",
       "      <td>...</td>\n",
       "      <td>...</td>\n",
       "    </tr>\n",
       "    <tr>\n",
       "      <th>10881</th>\n",
       "      <td>2012-12-19 19:00:00</td>\n",
       "      <td>4</td>\n",
       "      <td>0</td>\n",
       "      <td>1</td>\n",
       "      <td>1</td>\n",
       "      <td>15.58</td>\n",
       "      <td>19.695</td>\n",
       "      <td>50</td>\n",
       "      <td>26.0027</td>\n",
       "      <td>7</td>\n",
       "      <td>329</td>\n",
       "      <td>336</td>\n",
       "    </tr>\n",
       "    <tr>\n",
       "      <th>10882</th>\n",
       "      <td>2012-12-19 20:00:00</td>\n",
       "      <td>4</td>\n",
       "      <td>0</td>\n",
       "      <td>1</td>\n",
       "      <td>1</td>\n",
       "      <td>14.76</td>\n",
       "      <td>17.425</td>\n",
       "      <td>57</td>\n",
       "      <td>15.0013</td>\n",
       "      <td>10</td>\n",
       "      <td>231</td>\n",
       "      <td>241</td>\n",
       "    </tr>\n",
       "    <tr>\n",
       "      <th>10883</th>\n",
       "      <td>2012-12-19 21:00:00</td>\n",
       "      <td>4</td>\n",
       "      <td>0</td>\n",
       "      <td>1</td>\n",
       "      <td>1</td>\n",
       "      <td>13.94</td>\n",
       "      <td>15.910</td>\n",
       "      <td>61</td>\n",
       "      <td>15.0013</td>\n",
       "      <td>4</td>\n",
       "      <td>164</td>\n",
       "      <td>168</td>\n",
       "    </tr>\n",
       "    <tr>\n",
       "      <th>10884</th>\n",
       "      <td>2012-12-19 22:00:00</td>\n",
       "      <td>4</td>\n",
       "      <td>0</td>\n",
       "      <td>1</td>\n",
       "      <td>1</td>\n",
       "      <td>13.94</td>\n",
       "      <td>17.425</td>\n",
       "      <td>61</td>\n",
       "      <td>6.0032</td>\n",
       "      <td>12</td>\n",
       "      <td>117</td>\n",
       "      <td>129</td>\n",
       "    </tr>\n",
       "    <tr>\n",
       "      <th>10885</th>\n",
       "      <td>2012-12-19 23:00:00</td>\n",
       "      <td>4</td>\n",
       "      <td>0</td>\n",
       "      <td>1</td>\n",
       "      <td>1</td>\n",
       "      <td>13.12</td>\n",
       "      <td>16.665</td>\n",
       "      <td>66</td>\n",
       "      <td>8.9981</td>\n",
       "      <td>4</td>\n",
       "      <td>84</td>\n",
       "      <td>88</td>\n",
       "    </tr>\n",
       "  </tbody>\n",
       "</table>\n",
       "<p>10886 rows × 12 columns</p>\n",
       "</div>"
      ],
      "text/plain": [
       "                  datetime  season  holiday  workingday  weather   temp  \\\n",
       "0      2011-01-01 00:00:00       1        0           0        1   9.84   \n",
       "1      2011-01-01 01:00:00       1        0           0        1   9.02   \n",
       "2      2011-01-01 02:00:00       1        0           0        1   9.02   \n",
       "3      2011-01-01 03:00:00       1        0           0        1   9.84   \n",
       "4      2011-01-01 04:00:00       1        0           0        1   9.84   \n",
       "...                    ...     ...      ...         ...      ...    ...   \n",
       "10881  2012-12-19 19:00:00       4        0           1        1  15.58   \n",
       "10882  2012-12-19 20:00:00       4        0           1        1  14.76   \n",
       "10883  2012-12-19 21:00:00       4        0           1        1  13.94   \n",
       "10884  2012-12-19 22:00:00       4        0           1        1  13.94   \n",
       "10885  2012-12-19 23:00:00       4        0           1        1  13.12   \n",
       "\n",
       "        atemp  humidity  windspeed  casual  registered  count  \n",
       "0      14.395        81     0.0000       3          13     16  \n",
       "1      13.635        80     0.0000       8          32     40  \n",
       "2      13.635        80     0.0000       5          27     32  \n",
       "3      14.395        75     0.0000       3          10     13  \n",
       "4      14.395        75     0.0000       0           1      1  \n",
       "...       ...       ...        ...     ...         ...    ...  \n",
       "10881  19.695        50    26.0027       7         329    336  \n",
       "10882  17.425        57    15.0013      10         231    241  \n",
       "10883  15.910        61    15.0013       4         164    168  \n",
       "10884  17.425        61     6.0032      12         117    129  \n",
       "10885  16.665        66     8.9981       4          84     88  \n",
       "\n",
       "[10886 rows x 12 columns]"
      ]
     },
     "execution_count": 3,
     "metadata": {},
     "output_type": "execute_result"
    }
   ],
   "source": [
    "# https://www.kaggle.com/competitions/bike-sharing-demand/data\n",
    "base = pd.read_csv('train.csv')\n",
    "base"
   ]
  },
  {
   "cell_type": "code",
   "execution_count": 4,
   "metadata": {
    "tags": []
   },
   "outputs": [
    {
     "data": {
      "text/html": [
       "<div>\n",
       "<style scoped>\n",
       "    .dataframe tbody tr th:only-of-type {\n",
       "        vertical-align: middle;\n",
       "    }\n",
       "\n",
       "    .dataframe tbody tr th {\n",
       "        vertical-align: top;\n",
       "    }\n",
       "\n",
       "    .dataframe thead th {\n",
       "        text-align: right;\n",
       "    }\n",
       "</style>\n",
       "<table border=\"1\" class=\"dataframe\">\n",
       "  <thead>\n",
       "    <tr style=\"text-align: right;\">\n",
       "      <th></th>\n",
       "      <th>season</th>\n",
       "      <th>holiday</th>\n",
       "      <th>workingday</th>\n",
       "      <th>weather</th>\n",
       "      <th>temp</th>\n",
       "      <th>atemp</th>\n",
       "      <th>humidity</th>\n",
       "      <th>windspeed</th>\n",
       "      <th>casual</th>\n",
       "      <th>registered</th>\n",
       "      <th>count</th>\n",
       "    </tr>\n",
       "    <tr>\n",
       "      <th>datetime</th>\n",
       "      <th></th>\n",
       "      <th></th>\n",
       "      <th></th>\n",
       "      <th></th>\n",
       "      <th></th>\n",
       "      <th></th>\n",
       "      <th></th>\n",
       "      <th></th>\n",
       "      <th></th>\n",
       "      <th></th>\n",
       "      <th></th>\n",
       "    </tr>\n",
       "  </thead>\n",
       "  <tbody>\n",
       "    <tr>\n",
       "      <th>2011-01-01 00:00:00</th>\n",
       "      <td>1</td>\n",
       "      <td>0</td>\n",
       "      <td>0</td>\n",
       "      <td>1</td>\n",
       "      <td>9.84</td>\n",
       "      <td>14.395</td>\n",
       "      <td>81</td>\n",
       "      <td>0.0000</td>\n",
       "      <td>3</td>\n",
       "      <td>13</td>\n",
       "      <td>16</td>\n",
       "    </tr>\n",
       "    <tr>\n",
       "      <th>2011-01-01 01:00:00</th>\n",
       "      <td>1</td>\n",
       "      <td>0</td>\n",
       "      <td>0</td>\n",
       "      <td>1</td>\n",
       "      <td>9.02</td>\n",
       "      <td>13.635</td>\n",
       "      <td>80</td>\n",
       "      <td>0.0000</td>\n",
       "      <td>8</td>\n",
       "      <td>32</td>\n",
       "      <td>40</td>\n",
       "    </tr>\n",
       "    <tr>\n",
       "      <th>2011-01-01 02:00:00</th>\n",
       "      <td>1</td>\n",
       "      <td>0</td>\n",
       "      <td>0</td>\n",
       "      <td>1</td>\n",
       "      <td>9.02</td>\n",
       "      <td>13.635</td>\n",
       "      <td>80</td>\n",
       "      <td>0.0000</td>\n",
       "      <td>5</td>\n",
       "      <td>27</td>\n",
       "      <td>32</td>\n",
       "    </tr>\n",
       "    <tr>\n",
       "      <th>2011-01-01 03:00:00</th>\n",
       "      <td>1</td>\n",
       "      <td>0</td>\n",
       "      <td>0</td>\n",
       "      <td>1</td>\n",
       "      <td>9.84</td>\n",
       "      <td>14.395</td>\n",
       "      <td>75</td>\n",
       "      <td>0.0000</td>\n",
       "      <td>3</td>\n",
       "      <td>10</td>\n",
       "      <td>13</td>\n",
       "    </tr>\n",
       "    <tr>\n",
       "      <th>2011-01-01 04:00:00</th>\n",
       "      <td>1</td>\n",
       "      <td>0</td>\n",
       "      <td>0</td>\n",
       "      <td>1</td>\n",
       "      <td>9.84</td>\n",
       "      <td>14.395</td>\n",
       "      <td>75</td>\n",
       "      <td>0.0000</td>\n",
       "      <td>0</td>\n",
       "      <td>1</td>\n",
       "      <td>1</td>\n",
       "    </tr>\n",
       "    <tr>\n",
       "      <th>...</th>\n",
       "      <td>...</td>\n",
       "      <td>...</td>\n",
       "      <td>...</td>\n",
       "      <td>...</td>\n",
       "      <td>...</td>\n",
       "      <td>...</td>\n",
       "      <td>...</td>\n",
       "      <td>...</td>\n",
       "      <td>...</td>\n",
       "      <td>...</td>\n",
       "      <td>...</td>\n",
       "    </tr>\n",
       "    <tr>\n",
       "      <th>2012-12-19 19:00:00</th>\n",
       "      <td>4</td>\n",
       "      <td>0</td>\n",
       "      <td>1</td>\n",
       "      <td>1</td>\n",
       "      <td>15.58</td>\n",
       "      <td>19.695</td>\n",
       "      <td>50</td>\n",
       "      <td>26.0027</td>\n",
       "      <td>7</td>\n",
       "      <td>329</td>\n",
       "      <td>336</td>\n",
       "    </tr>\n",
       "    <tr>\n",
       "      <th>2012-12-19 20:00:00</th>\n",
       "      <td>4</td>\n",
       "      <td>0</td>\n",
       "      <td>1</td>\n",
       "      <td>1</td>\n",
       "      <td>14.76</td>\n",
       "      <td>17.425</td>\n",
       "      <td>57</td>\n",
       "      <td>15.0013</td>\n",
       "      <td>10</td>\n",
       "      <td>231</td>\n",
       "      <td>241</td>\n",
       "    </tr>\n",
       "    <tr>\n",
       "      <th>2012-12-19 21:00:00</th>\n",
       "      <td>4</td>\n",
       "      <td>0</td>\n",
       "      <td>1</td>\n",
       "      <td>1</td>\n",
       "      <td>13.94</td>\n",
       "      <td>15.910</td>\n",
       "      <td>61</td>\n",
       "      <td>15.0013</td>\n",
       "      <td>4</td>\n",
       "      <td>164</td>\n",
       "      <td>168</td>\n",
       "    </tr>\n",
       "    <tr>\n",
       "      <th>2012-12-19 22:00:00</th>\n",
       "      <td>4</td>\n",
       "      <td>0</td>\n",
       "      <td>1</td>\n",
       "      <td>1</td>\n",
       "      <td>13.94</td>\n",
       "      <td>17.425</td>\n",
       "      <td>61</td>\n",
       "      <td>6.0032</td>\n",
       "      <td>12</td>\n",
       "      <td>117</td>\n",
       "      <td>129</td>\n",
       "    </tr>\n",
       "    <tr>\n",
       "      <th>2012-12-19 23:00:00</th>\n",
       "      <td>4</td>\n",
       "      <td>0</td>\n",
       "      <td>1</td>\n",
       "      <td>1</td>\n",
       "      <td>13.12</td>\n",
       "      <td>16.665</td>\n",
       "      <td>66</td>\n",
       "      <td>8.9981</td>\n",
       "      <td>4</td>\n",
       "      <td>84</td>\n",
       "      <td>88</td>\n",
       "    </tr>\n",
       "  </tbody>\n",
       "</table>\n",
       "<p>10886 rows × 11 columns</p>\n",
       "</div>"
      ],
      "text/plain": [
       "                     season  holiday  workingday  weather   temp   atemp  \\\n",
       "datetime                                                                   \n",
       "2011-01-01 00:00:00       1        0           0        1   9.84  14.395   \n",
       "2011-01-01 01:00:00       1        0           0        1   9.02  13.635   \n",
       "2011-01-01 02:00:00       1        0           0        1   9.02  13.635   \n",
       "2011-01-01 03:00:00       1        0           0        1   9.84  14.395   \n",
       "2011-01-01 04:00:00       1        0           0        1   9.84  14.395   \n",
       "...                     ...      ...         ...      ...    ...     ...   \n",
       "2012-12-19 19:00:00       4        0           1        1  15.58  19.695   \n",
       "2012-12-19 20:00:00       4        0           1        1  14.76  17.425   \n",
       "2012-12-19 21:00:00       4        0           1        1  13.94  15.910   \n",
       "2012-12-19 22:00:00       4        0           1        1  13.94  17.425   \n",
       "2012-12-19 23:00:00       4        0           1        1  13.12  16.665   \n",
       "\n",
       "                     humidity  windspeed  casual  registered  count  \n",
       "datetime                                                             \n",
       "2011-01-01 00:00:00        81     0.0000       3          13     16  \n",
       "2011-01-01 01:00:00        80     0.0000       8          32     40  \n",
       "2011-01-01 02:00:00        80     0.0000       5          27     32  \n",
       "2011-01-01 03:00:00        75     0.0000       3          10     13  \n",
       "2011-01-01 04:00:00        75     0.0000       0           1      1  \n",
       "...                       ...        ...     ...         ...    ...  \n",
       "2012-12-19 19:00:00        50    26.0027       7         329    336  \n",
       "2012-12-19 20:00:00        57    15.0013      10         231    241  \n",
       "2012-12-19 21:00:00        61    15.0013       4         164    168  \n",
       "2012-12-19 22:00:00        61     6.0032      12         117    129  \n",
       "2012-12-19 23:00:00        66     8.9981       4          84     88  \n",
       "\n",
       "[10886 rows x 11 columns]"
      ]
     },
     "execution_count": 4,
     "metadata": {},
     "output_type": "execute_result"
    }
   ],
   "source": [
    "#as datetime serão os indices\n",
    "base = pd.read_csv('train.csv', parse_dates=['datetime'], index_col=0)\n",
    "base"
   ]
  },
  {
   "cell_type": "code",
   "execution_count": 5,
   "metadata": {
    "tags": []
   },
   "outputs": [
    {
     "data": {
      "text/html": [
       "<div>\n",
       "<style scoped>\n",
       "    .dataframe tbody tr th:only-of-type {\n",
       "        vertical-align: middle;\n",
       "    }\n",
       "\n",
       "    .dataframe tbody tr th {\n",
       "        vertical-align: top;\n",
       "    }\n",
       "\n",
       "    .dataframe thead th {\n",
       "        text-align: right;\n",
       "    }\n",
       "</style>\n",
       "<table border=\"1\" class=\"dataframe\">\n",
       "  <thead>\n",
       "    <tr style=\"text-align: right;\">\n",
       "      <th></th>\n",
       "      <th>count</th>\n",
       "    </tr>\n",
       "    <tr>\n",
       "      <th>datetime</th>\n",
       "      <th></th>\n",
       "    </tr>\n",
       "  </thead>\n",
       "  <tbody>\n",
       "    <tr>\n",
       "      <th>2011-01-01 00:00:00</th>\n",
       "      <td>16</td>\n",
       "    </tr>\n",
       "    <tr>\n",
       "      <th>2011-01-01 01:00:00</th>\n",
       "      <td>40</td>\n",
       "    </tr>\n",
       "    <tr>\n",
       "      <th>2011-01-01 02:00:00</th>\n",
       "      <td>32</td>\n",
       "    </tr>\n",
       "    <tr>\n",
       "      <th>2011-01-01 03:00:00</th>\n",
       "      <td>13</td>\n",
       "    </tr>\n",
       "    <tr>\n",
       "      <th>2011-01-01 04:00:00</th>\n",
       "      <td>1</td>\n",
       "    </tr>\n",
       "    <tr>\n",
       "      <th>...</th>\n",
       "      <td>...</td>\n",
       "    </tr>\n",
       "    <tr>\n",
       "      <th>2012-12-19 19:00:00</th>\n",
       "      <td>336</td>\n",
       "    </tr>\n",
       "    <tr>\n",
       "      <th>2012-12-19 20:00:00</th>\n",
       "      <td>241</td>\n",
       "    </tr>\n",
       "    <tr>\n",
       "      <th>2012-12-19 21:00:00</th>\n",
       "      <td>168</td>\n",
       "    </tr>\n",
       "    <tr>\n",
       "      <th>2012-12-19 22:00:00</th>\n",
       "      <td>129</td>\n",
       "    </tr>\n",
       "    <tr>\n",
       "      <th>2012-12-19 23:00:00</th>\n",
       "      <td>88</td>\n",
       "    </tr>\n",
       "  </tbody>\n",
       "</table>\n",
       "<p>10886 rows × 1 columns</p>\n",
       "</div>"
      ],
      "text/plain": [
       "                     count\n",
       "datetime                  \n",
       "2011-01-01 00:00:00     16\n",
       "2011-01-01 01:00:00     40\n",
       "2011-01-01 02:00:00     32\n",
       "2011-01-01 03:00:00     13\n",
       "2011-01-01 04:00:00      1\n",
       "...                    ...\n",
       "2012-12-19 19:00:00    336\n",
       "2012-12-19 20:00:00    241\n",
       "2012-12-19 21:00:00    168\n",
       "2012-12-19 22:00:00    129\n",
       "2012-12-19 23:00:00     88\n",
       "\n",
       "[10886 rows x 1 columns]"
      ]
     },
     "execution_count": 5,
     "metadata": {},
     "output_type": "execute_result"
    }
   ],
   "source": [
    "base.drop(columns = ['season', 'holiday','workingday','weather','temp','atemp', 'humidity','windspeed','casual', 'registered'], axis=1, inplace = True)\n",
    "base"
   ]
  },
  {
   "cell_type": "code",
   "execution_count": 6,
   "metadata": {
    "tags": []
   },
   "outputs": [
    {
     "data": {
      "text/html": [
       "<div>\n",
       "<style scoped>\n",
       "    .dataframe tbody tr th:only-of-type {\n",
       "        vertical-align: middle;\n",
       "    }\n",
       "\n",
       "    .dataframe tbody tr th {\n",
       "        vertical-align: top;\n",
       "    }\n",
       "\n",
       "    .dataframe thead th {\n",
       "        text-align: right;\n",
       "    }\n",
       "</style>\n",
       "<table border=\"1\" class=\"dataframe\">\n",
       "  <thead>\n",
       "    <tr style=\"text-align: right;\">\n",
       "      <th></th>\n",
       "      <th>count</th>\n",
       "    </tr>\n",
       "    <tr>\n",
       "      <th>datetime</th>\n",
       "      <th></th>\n",
       "    </tr>\n",
       "  </thead>\n",
       "  <tbody>\n",
       "    <tr>\n",
       "      <th>2011-01-01</th>\n",
       "      <td>985</td>\n",
       "    </tr>\n",
       "    <tr>\n",
       "      <th>2011-01-02</th>\n",
       "      <td>801</td>\n",
       "    </tr>\n",
       "    <tr>\n",
       "      <th>2011-01-03</th>\n",
       "      <td>1349</td>\n",
       "    </tr>\n",
       "    <tr>\n",
       "      <th>2011-01-04</th>\n",
       "      <td>1562</td>\n",
       "    </tr>\n",
       "    <tr>\n",
       "      <th>2011-01-05</th>\n",
       "      <td>1600</td>\n",
       "    </tr>\n",
       "    <tr>\n",
       "      <th>...</th>\n",
       "      <td>...</td>\n",
       "    </tr>\n",
       "    <tr>\n",
       "      <th>2012-12-15</th>\n",
       "      <td>5047</td>\n",
       "    </tr>\n",
       "    <tr>\n",
       "      <th>2012-12-16</th>\n",
       "      <td>3786</td>\n",
       "    </tr>\n",
       "    <tr>\n",
       "      <th>2012-12-17</th>\n",
       "      <td>4585</td>\n",
       "    </tr>\n",
       "    <tr>\n",
       "      <th>2012-12-18</th>\n",
       "      <td>5557</td>\n",
       "    </tr>\n",
       "    <tr>\n",
       "      <th>2012-12-19</th>\n",
       "      <td>5267</td>\n",
       "    </tr>\n",
       "  </tbody>\n",
       "</table>\n",
       "<p>719 rows × 1 columns</p>\n",
       "</div>"
      ],
      "text/plain": [
       "            count\n",
       "datetime         \n",
       "2011-01-01    985\n",
       "2011-01-02    801\n",
       "2011-01-03   1349\n",
       "2011-01-04   1562\n",
       "2011-01-05   1600\n",
       "...           ...\n",
       "2012-12-15   5047\n",
       "2012-12-16   3786\n",
       "2012-12-17   4585\n",
       "2012-12-18   5557\n",
       "2012-12-19   5267\n",
       "\n",
       "[719 rows x 1 columns]"
      ]
     },
     "execution_count": 6,
     "metadata": {},
     "output_type": "execute_result"
    }
   ],
   "source": [
    "# para agrupar por dia\n",
    "base = base.groupby(pd.Grouper(freq = 'D')).sum()\n",
    "base"
   ]
  },
  {
   "cell_type": "code",
   "execution_count": 7,
   "metadata": {
    "tags": []
   },
   "outputs": [
    {
     "data": {
      "text/plain": [
       "(719, 1)"
      ]
     },
     "execution_count": 7,
     "metadata": {},
     "output_type": "execute_result"
    }
   ],
   "source": [
    "base_teste = base.copy()\n",
    "base_teste.shape"
   ]
  },
  {
   "cell_type": "code",
   "execution_count": 8,
   "metadata": {
    "tags": []
   },
   "outputs": [
    {
     "data": {
      "text/html": [
       "<div>\n",
       "<style scoped>\n",
       "    .dataframe tbody tr th:only-of-type {\n",
       "        vertical-align: middle;\n",
       "    }\n",
       "\n",
       "    .dataframe tbody tr th {\n",
       "        vertical-align: top;\n",
       "    }\n",
       "\n",
       "    .dataframe thead th {\n",
       "        text-align: right;\n",
       "    }\n",
       "</style>\n",
       "<table border=\"1\" class=\"dataframe\">\n",
       "  <thead>\n",
       "    <tr style=\"text-align: right;\">\n",
       "      <th></th>\n",
       "      <th>count</th>\n",
       "    </tr>\n",
       "    <tr>\n",
       "      <th>datetime</th>\n",
       "      <th></th>\n",
       "    </tr>\n",
       "  </thead>\n",
       "  <tbody>\n",
       "    <tr>\n",
       "      <th>2011-01-01</th>\n",
       "      <td>985</td>\n",
       "    </tr>\n",
       "    <tr>\n",
       "      <th>2011-01-02</th>\n",
       "      <td>801</td>\n",
       "    </tr>\n",
       "    <tr>\n",
       "      <th>2011-01-03</th>\n",
       "      <td>1349</td>\n",
       "    </tr>\n",
       "    <tr>\n",
       "      <th>2011-01-04</th>\n",
       "      <td>1562</td>\n",
       "    </tr>\n",
       "    <tr>\n",
       "      <th>2011-01-05</th>\n",
       "      <td>1600</td>\n",
       "    </tr>\n",
       "    <tr>\n",
       "      <th>...</th>\n",
       "      <td>...</td>\n",
       "    </tr>\n",
       "    <tr>\n",
       "      <th>2012-11-15</th>\n",
       "      <td>5445</td>\n",
       "    </tr>\n",
       "    <tr>\n",
       "      <th>2012-11-16</th>\n",
       "      <td>5698</td>\n",
       "    </tr>\n",
       "    <tr>\n",
       "      <th>2012-11-17</th>\n",
       "      <td>5629</td>\n",
       "    </tr>\n",
       "    <tr>\n",
       "      <th>2012-11-18</th>\n",
       "      <td>4669</td>\n",
       "    </tr>\n",
       "    <tr>\n",
       "      <th>2012-11-19</th>\n",
       "      <td>5499</td>\n",
       "    </tr>\n",
       "  </tbody>\n",
       "</table>\n",
       "<p>689 rows × 1 columns</p>\n",
       "</div>"
      ],
      "text/plain": [
       "            count\n",
       "datetime         \n",
       "2011-01-01    985\n",
       "2011-01-02    801\n",
       "2011-01-03   1349\n",
       "2011-01-04   1562\n",
       "2011-01-05   1600\n",
       "...           ...\n",
       "2012-11-15   5445\n",
       "2012-11-16   5698\n",
       "2012-11-17   5629\n",
       "2012-11-18   4669\n",
       "2012-11-19   5499\n",
       "\n",
       "[689 rows x 1 columns]"
      ]
     },
     "execution_count": 8,
     "metadata": {},
     "output_type": "execute_result"
    }
   ],
   "source": [
    "base_treinamento = base.iloc[0:689,:]\n",
    "base_treinamento"
   ]
  },
  {
   "cell_type": "code",
   "execution_count": 9,
   "metadata": {
    "tags": []
   },
   "outputs": [
    {
     "data": {
      "text/plain": [
       "(Timestamp('2011-01-01 00:00:00', freq='D'),\n",
       " Timestamp('2012-11-19 00:00:00', freq='D'))"
      ]
     },
     "execution_count": 9,
     "metadata": {},
     "output_type": "execute_result"
    }
   ],
   "source": [
    "# primeira e a ultima data \n",
    "base_treinamento.index.min(), base_treinamento.index.max()"
   ]
  },
  {
   "cell_type": "code",
   "execution_count": 10,
   "metadata": {
    "tags": []
   },
   "outputs": [
    {
     "data": {
      "text/plain": [
       "(Timestamp('2011-01-01 00:00:00', freq='D'),\n",
       " Timestamp('2012-12-19 00:00:00', freq='D'))"
      ]
     },
     "execution_count": 10,
     "metadata": {},
     "output_type": "execute_result"
    }
   ],
   "source": [
    "# primeira e a ultima data \n",
    "base_teste.index.min(), base_teste.index.max()"
   ]
  },
  {
   "cell_type": "code",
   "execution_count": 11,
   "metadata": {
    "tags": []
   },
   "outputs": [
    {
     "name": "stderr",
     "output_type": "stream",
     "text": [
      "/opt/conda/lib/python3.7/site-packages/ipykernel_launcher.py:1: FutureWarning: The 'freq' argument in Timestamp is deprecated and will be removed in a future version.\n",
      "  \"\"\"Entry point for launching an IPython kernel.\n",
      "/opt/conda/lib/python3.7/site-packages/ipykernel_launcher.py:2: FutureWarning: The 'freq' argument in Timestamp is deprecated and will be removed in a future version.\n",
      "  \n",
      "/opt/conda/lib/python3.7/site-packages/ipykernel_launcher.py:3: FutureWarning: The 'freq' argument in Timestamp is deprecated and will be removed in a future version.\n",
      "  This is separate from the ipykernel package so we can avoid doing imports until\n"
     ]
    }
   ],
   "source": [
    "dt_data_inicial = pd.Timestamp(\"2011-01-01\", freq = 'D')\n",
    "dt_data_final_treinamento = pd.Timestamp(\"2012-11-19\", freq = 'D')\n",
    "dt_previsao_maxima = pd.Timestamp(\"2012-12-19\", freq = 'D')\n",
    "\n",
    "faixa_treinamento = (dt_data_inicial, dt_data_final_treinamento)\n",
    "faixa_teste = (dt_data_inicial, dt_previsao_maxima)"
   ]
  },
  {
   "cell_type": "code",
   "execution_count": 12,
   "metadata": {
    "tags": []
   },
   "outputs": [
    {
     "data": {
      "text/plain": [
       "(Timestamp('2011-01-01 00:00:00', freq='D'),\n",
       " Timestamp('2012-11-19 00:00:00', freq='D'))"
      ]
     },
     "execution_count": 12,
     "metadata": {},
     "output_type": "execute_result"
    }
   ],
   "source": [
    "faixa_treinamento"
   ]
  },
  {
   "cell_type": "code",
   "execution_count": 13,
   "metadata": {
    "tags": []
   },
   "outputs": [
    {
     "data": {
      "text/plain": [
       "(Timestamp('2011-01-01 00:00:00', freq='D'),\n",
       " Timestamp('2012-12-19 00:00:00', freq='D'))"
      ]
     },
     "execution_count": 13,
     "metadata": {},
     "output_type": "execute_result"
    }
   ],
   "source": [
    "faixa_teste"
   ]
  },
  {
   "cell_type": "code",
   "execution_count": 14,
   "metadata": {
    "tags": []
   },
   "outputs": [],
   "source": [
    "serie_temporal_treinamento = []\n",
    "serie_temporal_teste = []\n",
    "\n",
    "serie_temporal_treinamento.append(base_treinamento[faixa_treinamento[0]:faixa_treinamento[1]]['count'])\n",
    "serie_temporal_teste.append(base_teste[faixa_teste[0]:faixa_teste[1]]['count'])"
   ]
  },
  {
   "cell_type": "code",
   "execution_count": 15,
   "metadata": {
    "tags": []
   },
   "outputs": [
    {
     "data": {
      "text/plain": [
       "(list, list)"
      ]
     },
     "execution_count": 15,
     "metadata": {},
     "output_type": "execute_result"
    }
   ],
   "source": [
    "type(serie_temporal_treinamento), type(serie_temporal_teste)"
   ]
  },
  {
   "cell_type": "code",
   "execution_count": 16,
   "metadata": {
    "tags": []
   },
   "outputs": [
    {
     "data": {
      "text/plain": [
       "[datetime\n",
       " 2011-01-01     985\n",
       " 2011-01-02     801\n",
       " 2011-01-03    1349\n",
       " 2011-01-04    1562\n",
       " 2011-01-05    1600\n",
       "               ... \n",
       " 2012-11-15    5445\n",
       " 2012-11-16    5698\n",
       " 2012-11-17    5629\n",
       " 2012-11-18    4669\n",
       " 2012-11-19    5499\n",
       " Freq: D, Name: count, Length: 689, dtype: int64]"
      ]
     },
     "execution_count": 16,
     "metadata": {},
     "output_type": "execute_result"
    }
   ],
   "source": [
    "serie_temporal_treinamento"
   ]
  },
  {
   "cell_type": "code",
   "execution_count": 17,
   "metadata": {
    "tags": []
   },
   "outputs": [
    {
     "data": {
      "text/plain": [
       "[datetime\n",
       " 2011-01-01     985\n",
       " 2011-01-02     801\n",
       " 2011-01-03    1349\n",
       " 2011-01-04    1562\n",
       " 2011-01-05    1600\n",
       "               ... \n",
       " 2012-12-15    5047\n",
       " 2012-12-16    3786\n",
       " 2012-12-17    4585\n",
       " 2012-12-18    5557\n",
       " 2012-12-19    5267\n",
       " Freq: D, Name: count, Length: 719, dtype: int64]"
      ]
     },
     "execution_count": 17,
     "metadata": {},
     "output_type": "execute_result"
    }
   ],
   "source": [
    "serie_temporal_teste"
   ]
  },
  {
   "cell_type": "code",
   "execution_count": 18,
   "metadata": {
    "tags": []
   },
   "outputs": [
    {
     "data": {
      "text/plain": [
       "(689, 719)"
      ]
     },
     "execution_count": 18,
     "metadata": {},
     "output_type": "execute_result"
    }
   ],
   "source": [
    "len(serie_temporal_treinamento[0]), len(serie_temporal_teste[0])"
   ]
  },
  {
   "cell_type": "code",
   "execution_count": 19,
   "metadata": {
    "tags": []
   },
   "outputs": [
    {
     "data": {
      "image/png": "[encoded data removed]",
      "text/plain": [
       "<Figure size 1000x1000 with 1 Axes>"
      ]
     },
     "metadata": {},
     "output_type": "display_data"
    }
   ],
   "source": [
    "plt.figure(figsize=(10,10))\n",
    "serie_temporal_teste[0].plot(label = \"Teste\")\n",
    "serie_temporal_treinamento[0].plot(label = \"Treinamento\")\n",
    "plt.legend()\n",
    "plt.show()"
   ]
  },
  {
   "cell_type": "code",
   "execution_count": 20,
   "metadata": {
    "tags": []
   },
   "outputs": [],
   "source": [
    "# receberá uma serie temporal\n",
    "#se um um numero retornará um x senão Nan\n",
    "def encode_target(ts):\n",
    "    return [x if np.isfinite(x) else \"NaN\" for x in ts]"
   ]
  },
  {
   "cell_type": "code",
   "execution_count": 21,
   "metadata": {
    "tags": []
   },
   "outputs": [
    {
     "data": {
      "text/plain": [
       "[985,\n",
       " 801,\n",
       " 1349,\n",
       " 1562,\n",
       " 1600,\n",
       " 1606,\n",
       " 1510,\n",
       " 959,\n",
       " 822,\n",
       " 1321,\n",
       " 1263,\n",
       " 1162,\n",
       " 1406,\n",
       " 1421,\n",
       " 1248,\n",
       " 1204,\n",
       " 1000,\n",
       " 683,\n",
       " 1650,\n",
       " 0,\n",
       " 0,\n",
       " 0,\n",
       " 0,\n",
       " 0,\n",
       " 0]"
      ]
     },
     "execution_count": 21,
     "metadata": {},
     "output_type": "execute_result"
    }
   ],
   "source": [
    "encode_target(serie_temporal_treinamento[0][0:25])"
   ]
  },
  {
   "cell_type": "code",
   "execution_count": 22,
   "metadata": {
    "tags": []
   },
   "outputs": [],
   "source": [
    "def series_to_obj(ts):\n",
    "    obj = {\"start\": str(ts.index[0]), \"target\": encode_target(ts)}\n",
    "    return obj"
   ]
  },
  {
   "cell_type": "code",
   "execution_count": 23,
   "metadata": {
    "tags": []
   },
   "outputs": [
    {
     "data": {
      "text/plain": [
       "{'start': '2011-01-01 00:00:00', 'target': [985, 801, 1349, 1562, 1600]}"
      ]
     },
     "execution_count": 23,
     "metadata": {},
     "output_type": "execute_result"
    }
   ],
   "source": [
    "series_to_obj(serie_temporal_treinamento[0][0:5])"
   ]
  },
  {
   "cell_type": "code",
   "execution_count": 24,
   "metadata": {
    "tags": []
   },
   "outputs": [],
   "source": [
    "def series_to_jsonline(ts):\n",
    "    return json.dumps(series_to_obj(ts))"
   ]
  },
  {
   "cell_type": "code",
   "execution_count": 25,
   "metadata": {
    "tags": []
   },
   "outputs": [
    {
     "data": {
      "text/plain": [
       "'{\"start\": \"2011-01-01 00:00:00\", \"target\": [985, 801, 1349, 1562, 1600]}'"
      ]
     },
     "execution_count": 25,
     "metadata": {},
     "output_type": "execute_result"
    }
   ],
   "source": [
    "# passando para o tipo de json\n",
    "series_to_jsonline(serie_temporal_treinamento[0][0:5])"
   ]
  },
  {
   "cell_type": "code",
   "execution_count": 26,
   "metadata": {
    "tags": []
   },
   "outputs": [],
   "source": [
    "encoding = 'utf-8'\n",
    "arquivo_json_treinamento = 'train.json'\n",
    "arquivo_json_teste = 'test.json'\n",
    "\n",
    "# abrindo o arquivo json, percorrendo a serie temporal e escrevendo em formatado json\n",
    "with open(arquivo_json_treinamento, 'wb') as fp:\n",
    "    for ts in serie_temporal_treinamento:\n",
    "        fp.write(series_to_jsonline(ts).encode(encoding))\n",
    "        fp.write('\\n'.encode(encoding))\n",
    "\n",
    "with open(arquivo_json_teste, 'wb') as fp:\n",
    "    for ts in serie_temporal_teste:\n",
    "        fp.write(series_to_jsonline(ts).encode(encoding))\n",
    "        fp.write('\\n'.encode(encoding))"
   ]
  },
  {
   "cell_type": "markdown",
   "metadata": {},
   "source": [
    "# Configurações do SageMaker"
   ]
  },
  {
   "cell_type": "code",
   "execution_count": 27,
   "metadata": {
    "tags": []
   },
   "outputs": [],
   "source": [
    "import boto3\n",
    "import sagemaker"
   ]
  },
  {
   "cell_type": "code",
   "execution_count": 28,
   "metadata": {
    "tags": []
   },
   "outputs": [
    {
     "name": "stdout",
     "output_type": "stream",
     "text": [
      "Role: arn:aws:iam::605390214759:role/service-role/AmazonSageMaker-ExecutionRole-20230311T091643\n",
      "Localização da base de treinamento: s3://cursoawssagemakersp/datasets/bike/train/train.json\n",
      "Localização da base de teste: s3://cursoawssagemakersp/datasets/bike/test/test.json\n",
      "Modelo será salvo em: s3://cursoawssagemakersp/modelos/bike/deepar/output\n"
     ]
    }
   ],
   "source": [
    "session = sagemaker.Session()\n",
    "role = sagemaker.get_execution_role()\n",
    "job_name = 'deepar-bike'\n",
    "bucket = 'cursoawssagemakersp'\n",
    "subpasta_dataset = 'datasets/bike'\n",
    "subpasta_modelo = 'modelos/bike/deepar'\n",
    "s3_train_data = 's3://{}/{}/train/{}'.format(bucket, subpasta_dataset, 'train.json')\n",
    "s3_test_data = 's3://{}/{}/test/{}'.format(bucket, subpasta_dataset, 'test.json')\n",
    "output_location = 's3://{}/{}/output'.format(bucket, subpasta_modelo)\n",
    "\n",
    "print('Role: {}'.format(role))\n",
    "print('Localização da base de treinamento: {}'.format(s3_train_data))\n",
    "print('Localização da base de teste: {}'.format(s3_test_data))\n",
    "print('Modelo será salvo em: {}'.format(output_location))"
   ]
  },
  {
   "cell_type": "code",
   "execution_count": 29,
   "metadata": {
    "tags": []
   },
   "outputs": [],
   "source": [
    "# criar os arquivos no s3\n",
    "def escreve_s3(arquivo, bucket, nome):\n",
    "    with open(arquivo, 'rb') as f:\n",
    "        return boto3.Session().resource('s3').Bucket(bucket).Object(nome).upload_fileobj(f)"
   ]
  },
  {
   "cell_type": "code",
   "execution_count": 30,
   "metadata": {
    "tags": []
   },
   "outputs": [],
   "source": [
    "escreve_s3('train.json', bucket, os.path.join(subpasta_dataset, 'train', 'train.json'))\n",
    "escreve_s3('test.json', bucket, os.path.join(subpasta_dataset, 'test', 'test.json'))"
   ]
  },
  {
   "cell_type": "code",
   "execution_count": 31,
   "metadata": {
    "tags": []
   },
   "outputs": [
    {
     "name": "stdout",
     "output_type": "stream",
     "text": [
      "datasets/bike/train/train.json\n",
      "datasets/bike/test/test.json\n"
     ]
    }
   ],
   "source": [
    "# caminhao train\n",
    "print(os.path.join(subpasta_dataset, 'train', 'train.json'))\n",
    "# caminhao teste\n",
    "print(os.path.join(subpasta_dataset, 'test', 'test.json'))"
   ]
  },
  {
   "cell_type": "markdown",
   "metadata": {},
   "source": [
    "# Treinamento do DeepAR"
   ]
  },
  {
   "cell_type": "code",
   "execution_count": 32,
   "metadata": {
    "tags": []
   },
   "outputs": [],
   "source": [
    "# https://docs.aws.amazon.com/sagemaker/latest/dg/ecr-sa-east-1.html\n",
    "container = sagemaker.image_uris.retrieve(framework = 'forecasting-deepar', region = session.boto_region_name)"
   ]
  },
  {
   "cell_type": "code",
   "execution_count": 33,
   "metadata": {
    "tags": []
   },
   "outputs": [],
   "source": [
    "# https://sagemaker.readthedocs.io/en/stable/api/training/estimators.html\n",
    "# https://github.com/aws-samples/amazon-sagemaker-managed-spot-training/blob/main/xgboost_built_in_managed_spot_training_checkpointing/xgboost_built_in_managed_spot_training_checkpointing.ipynb\n",
    "deepar = sagemaker.estimator.Estimator(image_uri = container,\n",
    "                                       role = role,\n",
    "                                       instance_count = 1,\n",
    "                                       instance_type = 'ml.m5.large',\n",
    "                                       output_path = output_location,\n",
    "                                       sagemaker_session = session,\n",
    "                                       base_job_name = job_name,\n",
    "                                       use_spot_instances = True,\n",
    "                                       max_run = 3600,\n",
    "                                       max_wait = 3600)"
   ]
  },
  {
   "cell_type": "code",
   "execution_count": 34,
   "metadata": {
    "tags": []
   },
   "outputs": [],
   "source": [
    "# https://docs.aws.amazon.com/sagemaker/latest/dg/deepar_hyperparameters.html\n",
    "freq = 'D'\n",
    "prediction_length = 30\n",
    "context_length = 30"
   ]
  },
  {
   "cell_type": "code",
   "execution_count": 35,
   "metadata": {
    "tags": []
   },
   "outputs": [],
   "source": [
    "hyperparametros = {\n",
    "    'time_freq': freq,\n",
    "    'epochs': \"20\",\n",
    "    'context_length': str(context_length),\n",
    "    'prediction_length': str(prediction_length)\n",
    "}"
   ]
  },
  {
   "cell_type": "code",
   "execution_count": 36,
   "metadata": {
    "tags": []
   },
   "outputs": [],
   "source": [
    "deepar.set_hyperparameters(**hyperparametros)"
   ]
  },
  {
   "cell_type": "code",
   "execution_count": 37,
   "metadata": {
    "tags": []
   },
   "outputs": [
    {
     "data": {
      "text/plain": [
       "{'train': 's3://cursoawssagemakersp/datasets/bike/train/train.json',\n",
       " 'test': 's3://cursoawssagemakersp/datasets/bike/test/test.json'}"
      ]
     },
     "execution_count": 37,
     "metadata": {},
     "output_type": "execute_result"
    }
   ],
   "source": [
    "data_channels = {'train': s3_train_data, 'test': s3_test_data}\n",
    "data_channels"
   ]
  },
  {
   "cell_type": "code",
   "execution_count": 38,
   "metadata": {
    "tags": []
   },
   "outputs": [
    {
     "name": "stderr",
     "output_type": "stream",
     "text": [
      "INFO:sagemaker:Creating training-job with name: deepar-bike-2023-03-24-12-18-56-054\n"
     ]
    },
    {
     "name": "stdout",
     "output_type": "stream",
     "text": [
      "2023-03-24 12:18:58 Starting - Starting the training job...\n",
      "2023-03-24 12:19:14 Starting - Preparing the instances for training.........\n",
      "2023-03-24 12:20:53 Downloading - Downloading input data...\n",
      "2023-03-24 12:21:28 Training - Downloading the training image......\n",
      "2023-03-24 12:22:24 Training - Training image download completed. Training in progress.\u001b[34mArguments: train\u001b[0m\n",
      "\u001b[34m/opt/amazon/lib/python3.8/site-packages/mxnet/model.py:78: SyntaxWarning: \"is\" with a literal. Did you mean \"==\"?\n",
      "  if num_device is 1 and 'dist' not in kvstore:\u001b[0m\n",
      "\u001b[34m/opt/amazon/lib/python3.8/site-packages/jsonref.py:8: DeprecationWarning: Using or importing the ABCs from 'collections' instead of from 'collections.abc' is deprecated since Python 3.3, and in 3.10 it will stop working\n",
      "  from collections import Mapping, MutableMapping, Sequence\u001b[0m\n",
      "\u001b[34m[03/24/2023 12:22:30 INFO 140238720345920] Reading default configuration from /opt/amazon/lib/python3.8/site-packages/algorithm/resources/default-input.json: {'_kvstore': 'auto', '_num_gpus': 'auto', '_num_kv_servers': 'auto', '_tuning_objective_metric': '', 'cardinality': 'auto', 'dropout_rate': '0.10', 'early_stopping_patience': '', 'embedding_dimension': '10', 'learning_rate': '0.001', 'likelihood': 'student-t', 'mini_batch_size': '128', 'num_cells': '40', 'num_dynamic_feat': 'auto', 'num_eval_samples': '100', 'num_layers': '2', 'test_quantiles': '[0.1, 0.2, 0.3, 0.4, 0.5, 0.6, 0.7, 0.8, 0.9]'}\u001b[0m\n",
      "\u001b[34m[03/24/2023 12:22:30 INFO 140238720345920] Merging with provided configuration from /opt/ml/input/config/hyperparameters.json: {'context_length': '30', 'epochs': '20', 'prediction_length': '30', 'time_freq': 'D'}\u001b[0m\n",
      "\u001b[34m[03/24/2023 12:22:30 INFO 140238720345920] Final configuration: {'_kvstore': 'auto', '_num_gpus': 'auto', '_num_kv_servers': 'auto', '_tuning_objective_metric': '', 'cardinality': 'auto', 'dropout_rate': '0.10', 'early_stopping_patience': '', 'embedding_dimension': '10', 'learning_rate': '0.001', 'likelihood': 'student-t', 'mini_batch_size': '128', 'num_cells': '40', 'num_dynamic_feat': 'auto', 'num_eval_samples': '100', 'num_layers': '2', 'test_quantiles': '[0.1, 0.2, 0.3, 0.4, 0.5, 0.6, 0.7, 0.8, 0.9]', 'context_length': '30', 'epochs': '20', 'prediction_length': '30', 'time_freq': 'D'}\u001b[0m\n",
      "\u001b[34mProcess 7 is a worker.\u001b[0m\n",
      "\u001b[34m[03/24/2023 12:22:30 INFO 140238720345920] Detected entry point for worker worker\u001b[0m\n",
      "\u001b[34m[03/24/2023 12:22:30 INFO 140238720345920] random_seed is None\u001b[0m\n",
      "\u001b[34m[03/24/2023 12:22:30 INFO 140238720345920] [cardinality=auto] `cat` field was NOT found in the file `/opt/ml/input/data/train/train.json` and will NOT be used for training.\u001b[0m\n",
      "\u001b[34m[03/24/2023 12:22:30 INFO 140238720345920] [num_dynamic_feat=auto] `dynamic_feat` field was NOT found in the file `/opt/ml/input/data/train/train.json` and will NOT be used for training.\u001b[0m\n",
      "\u001b[34m[03/24/2023 12:22:30 INFO 140238720345920] Training set statistics:\u001b[0m\n",
      "\u001b[34m[03/24/2023 12:22:30 INFO 140238720345920] Integer time series\u001b[0m\n",
      "\u001b[34m[03/24/2023 12:22:30 INFO 140238720345920] number of time series: 1\u001b[0m\n",
      "\u001b[34m[03/24/2023 12:22:30 INFO 140238720345920] number of observations: 689\u001b[0m\n",
      "\u001b[34m[03/24/2023 12:22:30 INFO 140238720345920] mean target length: 689.0\u001b[0m\n",
      "\u001b[34m[03/24/2023 12:22:30 INFO 140238720345920] min/mean/max target: 0.0/2883.1625544267054/8714.0\u001b[0m\n",
      "\u001b[34m[03/24/2023 12:22:30 INFO 140238720345920] mean abs(target): 2883.1625544267054\u001b[0m\n",
      "\u001b[34m[03/24/2023 12:22:30 INFO 140238720345920] contains missing values: no\u001b[0m\n",
      "\u001b[34m[03/24/2023 12:22:30 INFO 140238720345920] Small number of time series. Doing 1280 passes over dataset with prob 1.0 per epoch.\u001b[0m\n",
      "\u001b[34m[03/24/2023 12:22:30 INFO 140238720345920] Test set statistics:\u001b[0m\n",
      "\u001b[34m[03/24/2023 12:22:30 INFO 140238720345920] Integer time series\u001b[0m\n",
      "\u001b[34m[03/24/2023 12:22:30 INFO 140238720345920] number of time series: 1\u001b[0m\n",
      "\u001b[34m[03/24/2023 12:22:30 INFO 140238720345920] number of observations: 719\u001b[0m\n",
      "\u001b[34m[03/24/2023 12:22:30 INFO 140238720345920] mean target length: 719.0\u001b[0m\n",
      "\u001b[34m[03/24/2023 12:22:30 INFO 140238720345920] min/mean/max target: 0.0/2900.5229485396385/8714.0\u001b[0m\n",
      "\u001b[34m[03/24/2023 12:22:30 INFO 140238720345920] mean abs(target): 2900.5229485396385\u001b[0m\n",
      "\u001b[34m[03/24/2023 12:22:30 INFO 140238720345920] contains missing values: no\u001b[0m\n",
      "\u001b[34m/opt/amazon/lib/python3.8/site-packages/algorithm/core/date_feature_set.py:44: FutureWarning: weekofyear and week have been deprecated, please use DatetimeIndex.isocalendar().week instead, which returns a Series.  To exactly reproduce the behavior of week and weekofyear and return an Index, you may call pd.Int64Index(idx.isocalendar().week)\n",
      "  return index.weekofyear / 51.0 - 0.5\u001b[0m\n",
      "\u001b[34m[03/24/2023 12:22:30 INFO 140238720345920] #memory_usage::<batchbuffer> = 16.4599609375 mb\u001b[0m\n",
      "\u001b[34m/opt/amazon/python3.8/lib/python3.8/subprocess.py:848: RuntimeWarning: line buffering (buffering=1) isn't supported in binary mode, the default buffer size will be used\n",
      "  self.stdout = io.open(c2pread, 'rb', bufsize)\u001b[0m\n",
      "\u001b[34m[03/24/2023 12:22:30 INFO 140238720345920] nvidia-smi: took 0.030 seconds to run.\u001b[0m\n",
      "\u001b[34m[03/24/2023 12:22:30 INFO 140238720345920] nvidia-smi identified 0 GPUs.\u001b[0m\n",
      "\u001b[34m[03/24/2023 12:22:30 INFO 140238720345920] Number of GPUs being used: 0\u001b[0m\n",
      "\u001b[34m[03/24/2023 12:22:30 INFO 140238720345920] Create Store: local\u001b[0m\n",
      "\u001b[34m#metrics {\"StartTime\": 1679660550.9663038, \"EndTime\": 1679660551.1263185, \"Dimensions\": {\"Algorithm\": \"AWS/DeepAR\", \"Host\": \"algo-1\", \"Operation\": \"training\"}, \"Metrics\": {\"get_graph.time\": {\"sum\": 158.96868705749512, \"count\": 1, \"min\": 158.96868705749512, \"max\": 158.96868705749512}}}\u001b[0m\n",
      "\u001b[34m[03/24/2023 12:22:31 INFO 140238720345920] Number of GPUs being used: 0\u001b[0m\n",
      "\u001b[34m[03/24/2023 12:22:31 INFO 140238720345920] #memory_usage::<model> = 52 mb\u001b[0m\n",
      "\u001b[34m#metrics {\"StartTime\": 1679660551.1264243, \"EndTime\": 1679660551.3582895, \"Dimensions\": {\"Algorithm\": \"AWS/DeepAR\", \"Host\": \"algo-1\", \"Operation\": \"training\"}, \"Metrics\": {\"initialize.time\": {\"sum\": 391.86811447143555, \"count\": 1, \"min\": 391.86811447143555, \"max\": 391.86811447143555}}}\u001b[0m\n",
      "\u001b[34m[03/24/2023 12:22:32 INFO 140238720345920] Epoch[0] Batch[0] avg_epoch_loss=9.790097\u001b[0m\n",
      "\u001b[34m[03/24/2023 12:22:32 INFO 140238720345920] #quality_metric: host=algo-1, epoch=0, batch=0 train loss <loss>=9.7900972366333\u001b[0m\n",
      "\u001b[34m[03/24/2023 12:22:33 INFO 140238720345920] Epoch[0] Batch[5] avg_epoch_loss=9.294548\u001b[0m\n",
      "\u001b[34m[03/24/2023 12:22:33 INFO 140238720345920] #quality_metric: host=algo-1, epoch=0, batch=5 train loss <loss>=9.294548193613688\u001b[0m\n",
      "\u001b[34m[03/24/2023 12:22:33 INFO 140238720345920] Epoch[0] Batch [5]#011Speed: 638.79 samples/sec#011loss=9.294548\u001b[0m\n",
      "\u001b[34m[03/24/2023 12:22:34 INFO 140238720345920] Epoch[0] Batch[10] avg_epoch_loss=9.276802\u001b[0m\n",
      "\u001b[34m[03/24/2023 12:22:34 INFO 140238720345920] #quality_metric: host=algo-1, epoch=0, batch=10 train loss <loss>=9.255506706237792\u001b[0m\n",
      "\u001b[34m[03/24/2023 12:22:34 INFO 140238720345920] Epoch[0] Batch [10]#011Speed: 584.79 samples/sec#011loss=9.255507\u001b[0m\n",
      "\u001b[34m[03/24/2023 12:22:34 INFO 140238720345920] processed a total of 1308 examples\u001b[0m\n",
      "\u001b[34m#metrics {\"StartTime\": 1679660551.3583553, \"EndTime\": 1679660554.200489, \"Dimensions\": {\"Algorithm\": \"AWS/DeepAR\", \"Host\": \"algo-1\", \"Operation\": \"training\"}, \"Metrics\": {\"epochs\": {\"sum\": 20.0, \"count\": 1, \"min\": 20, \"max\": 20}, \"update.time\": {\"sum\": 2842.0355319976807, \"count\": 1, \"min\": 2842.0355319976807, \"max\": 2842.0355319976807}}}\u001b[0m\n",
      "\u001b[34m[03/24/2023 12:22:34 INFO 140238720345920] #throughput_metric: host=algo-1, train throughput=460.21316801231586 records/second\u001b[0m\n",
      "\u001b[34m[03/24/2023 12:22:34 INFO 140238720345920] #progress_metric: host=algo-1, completed 5.0 % of epochs\u001b[0m\n",
      "\u001b[34m[03/24/2023 12:22:34 INFO 140238720345920] #quality_metric: host=algo-1, epoch=0, train loss <loss>=9.276802062988281\u001b[0m\n",
      "\u001b[34m[03/24/2023 12:22:35 INFO 140238720345920] Epoch[1] Batch[0] avg_epoch_loss=8.981080\u001b[0m\n",
      "\u001b[34m[03/24/2023 12:22:35 INFO 140238720345920] #quality_metric: host=algo-1, epoch=1, batch=0 train loss <loss>=8.981080055236816\u001b[0m\n",
      "\u001b[34m[03/24/2023 12:22:36 INFO 140238720345920] Epoch[1] Batch[5] avg_epoch_loss=8.924702\u001b[0m\n",
      "\u001b[34m[03/24/2023 12:22:36 INFO 140238720345920] #quality_metric: host=algo-1, epoch=1, batch=5 train loss <loss>=8.924702008565268\u001b[0m\n",
      "\u001b[34m[03/24/2023 12:22:36 INFO 140238720345920] Epoch[1] Batch [5]#011Speed: 431.00 samples/sec#011loss=8.924702\u001b[0m\n",
      "\u001b[34m[03/24/2023 12:22:37 INFO 140238720345920] Epoch[1] Batch[10] avg_epoch_loss=8.885063\u001b[0m\n",
      "\u001b[34m[03/24/2023 12:22:37 INFO 140238720345920] #quality_metric: host=algo-1, epoch=1, batch=10 train loss <loss>=8.837496948242187\u001b[0m\n",
      "\u001b[34m[03/24/2023 12:22:37 INFO 140238720345920] Epoch[1] Batch [10]#011Speed: 604.74 samples/sec#011loss=8.837497\u001b[0m\n",
      "\u001b[34m[03/24/2023 12:22:37 INFO 140238720345920] processed a total of 1290 examples\u001b[0m\n",
      "\u001b[34m#metrics {\"StartTime\": 1679660554.2005768, \"EndTime\": 1679660557.745174, \"Dimensions\": {\"Algorithm\": \"AWS/DeepAR\", \"Host\": \"algo-1\", \"Operation\": \"training\"}, \"Metrics\": {\"update.time\": {\"sum\": 3544.1906452178955, \"count\": 1, \"min\": 3544.1906452178955, \"max\": 3544.1906452178955}}}\u001b[0m\n",
      "\u001b[34m[03/24/2023 12:22:37 INFO 140238720345920] #throughput_metric: host=algo-1, train throughput=363.90072854771205 records/second\u001b[0m\n",
      "\u001b[34m[03/24/2023 12:22:37 INFO 140238720345920] #progress_metric: host=algo-1, completed 10.0 % of epochs\u001b[0m\n",
      "\u001b[34m[03/24/2023 12:22:37 INFO 140238720345920] #quality_metric: host=algo-1, epoch=1, train loss <loss>=8.885063344782049\u001b[0m\n",
      "\u001b[34m[03/24/2023 12:22:38 INFO 140238720345920] Epoch[2] Batch[0] avg_epoch_loss=8.515485\u001b[0m\n",
      "\u001b[34m[03/24/2023 12:22:38 INFO 140238720345920] #quality_metric: host=algo-1, epoch=2, batch=0 train loss <loss>=8.515484809875488\u001b[0m\n",
      "\u001b[34m[03/24/2023 12:22:39 INFO 140238720345920] Epoch[2] Batch[5] avg_epoch_loss=8.554986\u001b[0m\n",
      "\u001b[34m[03/24/2023 12:22:39 INFO 140238720345920] #quality_metric: host=algo-1, epoch=2, batch=5 train loss <loss>=8.554986159006754\u001b[0m\n",
      "\u001b[34m[03/24/2023 12:22:39 INFO 140238720345920] Epoch[2] Batch [5]#011Speed: 639.11 samples/sec#011loss=8.554986\u001b[0m\n",
      "\u001b[34m[03/24/2023 12:22:40 INFO 140238720345920] Epoch[2] Batch[10] avg_epoch_loss=8.485246\u001b[0m\n",
      "\u001b[34m[03/24/2023 12:22:40 INFO 140238720345920] #quality_metric: host=algo-1, epoch=2, batch=10 train loss <loss>=8.40155849456787\u001b[0m\n",
      "\u001b[34m[03/24/2023 12:22:40 INFO 140238720345920] Epoch[2] Batch [10]#011Speed: 611.37 samples/sec#011loss=8.401558\u001b[0m\n",
      "\u001b[34m[03/24/2023 12:22:40 INFO 140238720345920] processed a total of 1318 examples\u001b[0m\n",
      "\u001b[34m#metrics {\"StartTime\": 1679660557.7458546, \"EndTime\": 1679660560.4437814, \"Dimensions\": {\"Algorithm\": \"AWS/DeepAR\", \"Host\": \"algo-1\", \"Operation\": \"training\"}, \"Metrics\": {\"update.time\": {\"sum\": 2697.158098220825, \"count\": 1, \"min\": 2697.158098220825, \"max\": 2697.158098220825}}}\u001b[0m\n",
      "\u001b[34m[03/24/2023 12:22:40 INFO 140238720345920] #throughput_metric: host=algo-1, train throughput=488.6406367354544 records/second\u001b[0m\n",
      "\u001b[34m[03/24/2023 12:22:40 INFO 140238720345920] #progress_metric: host=algo-1, completed 15.0 % of epochs\u001b[0m\n",
      "\u001b[34m[03/24/2023 12:22:40 INFO 140238720345920] #quality_metric: host=algo-1, epoch=2, train loss <loss>=8.485246311534535\u001b[0m\n",
      "\u001b[34m[03/24/2023 12:22:41 INFO 140238720345920] Epoch[3] Batch[0] avg_epoch_loss=8.432716\u001b[0m\n",
      "\u001b[34m[03/24/2023 12:22:41 INFO 140238720345920] #quality_metric: host=algo-1, epoch=3, batch=0 train loss <loss>=8.432716369628906\u001b[0m\n",
      "\u001b[34m[03/24/2023 12:22:42 INFO 140238720345920] Epoch[3] Batch[5] avg_epoch_loss=8.352499\u001b[0m\n",
      "\u001b[34m[03/24/2023 12:22:42 INFO 140238720345920] #quality_metric: host=algo-1, epoch=3, batch=5 train loss <loss>=8.352498849232992\u001b[0m\n",
      "\u001b[34m[03/24/2023 12:22:42 INFO 140238720345920] Epoch[3] Batch [5]#011Speed: 614.95 samples/sec#011loss=8.352499\u001b[0m\n",
      "\u001b[34m[03/24/2023 12:22:43 INFO 140238720345920] Epoch[3] Batch[10] avg_epoch_loss=8.318573\u001b[0m\n",
      "\u001b[34m[03/24/2023 12:22:43 INFO 140238720345920] #quality_metric: host=algo-1, epoch=3, batch=10 train loss <loss>=8.277862930297852\u001b[0m\n",
      "\u001b[34m[03/24/2023 12:22:43 INFO 140238720345920] Epoch[3] Batch [10]#011Speed: 613.37 samples/sec#011loss=8.277863\u001b[0m\n",
      "\u001b[34m[03/24/2023 12:22:43 INFO 140238720345920] processed a total of 1348 examples\u001b[0m\n",
      "\u001b[34m#metrics {\"StartTime\": 1679660560.443866, \"EndTime\": 1679660563.1553104, \"Dimensions\": {\"Algorithm\": \"AWS/DeepAR\", \"Host\": \"algo-1\", \"Operation\": \"training\"}, \"Metrics\": {\"update.time\": {\"sum\": 2710.918188095093, \"count\": 1, \"min\": 2710.918188095093, \"max\": 2710.918188095093}}}\u001b[0m\n",
      "\u001b[34m[03/24/2023 12:22:43 INFO 140238720345920] #throughput_metric: host=algo-1, train throughput=497.2225674276194 records/second\u001b[0m\n",
      "\u001b[34m[03/24/2023 12:22:43 INFO 140238720345920] #progress_metric: host=algo-1, completed 20.0 % of epochs\u001b[0m\n",
      "\u001b[34m[03/24/2023 12:22:43 INFO 140238720345920] #quality_metric: host=algo-1, epoch=3, train loss <loss>=8.318573431535201\u001b[0m\n",
      "\u001b[34m[03/24/2023 12:22:43 INFO 140238720345920] Epoch[4] Batch[0] avg_epoch_loss=8.238723\u001b[0m\n",
      "\u001b[34m[03/24/2023 12:22:43 INFO 140238720345920] #quality_metric: host=algo-1, epoch=4, batch=0 train loss <loss>=8.238722801208496\u001b[0m\n",
      "\u001b[34m[03/24/2023 12:22:44 INFO 140238720345920] Epoch[4] Batch[5] avg_epoch_loss=8.234875\u001b[0m\n",
      "\u001b[34m[03/24/2023 12:22:44 INFO 140238720345920] #quality_metric: host=algo-1, epoch=4, batch=5 train loss <loss>=8.234874566396078\u001b[0m\n",
      "\u001b[34m[03/24/2023 12:22:44 INFO 140238720345920] Epoch[4] Batch [5]#011Speed: 634.33 samples/sec#011loss=8.234875\u001b[0m\n",
      "\u001b[34m[03/24/2023 12:22:45 INFO 140238720345920] processed a total of 1270 examples\u001b[0m\n",
      "\u001b[34m#metrics {\"StartTime\": 1679660563.1553733, \"EndTime\": 1679660565.665809, \"Dimensions\": {\"Algorithm\": \"AWS/DeepAR\", \"Host\": \"algo-1\", \"Operation\": \"training\"}, \"Metrics\": {\"update.time\": {\"sum\": 2509.8516941070557, \"count\": 1, \"min\": 2509.8516941070557, \"max\": 2509.8516941070557}}}\u001b[0m\n",
      "\u001b[34m[03/24/2023 12:22:45 INFO 140238720345920] #throughput_metric: host=algo-1, train throughput=505.9806634137593 records/second\u001b[0m\n",
      "\u001b[34m[03/24/2023 12:22:45 INFO 140238720345920] #progress_metric: host=algo-1, completed 25.0 % of epochs\u001b[0m\n",
      "\u001b[34m[03/24/2023 12:22:45 INFO 140238720345920] #quality_metric: host=algo-1, epoch=4, train loss <loss>=8.229607200622558\u001b[0m\n",
      "\u001b[34m[03/24/2023 12:22:46 INFO 140238720345920] Epoch[5] Batch[0] avg_epoch_loss=8.132781\u001b[0m\n",
      "\u001b[34m[03/24/2023 12:22:46 INFO 140238720345920] #quality_metric: host=algo-1, epoch=5, batch=0 train loss <loss>=8.132781028747559\u001b[0m\n",
      "\u001b[34m[03/24/2023 12:22:47 INFO 140238720345920] Epoch[5] Batch[5] avg_epoch_loss=8.156528\u001b[0m\n",
      "\u001b[34m[03/24/2023 12:22:47 INFO 140238720345920] #quality_metric: host=algo-1, epoch=5, batch=5 train loss <loss>=8.15652847290039\u001b[0m\n",
      "\u001b[34m[03/24/2023 12:22:47 INFO 140238720345920] Epoch[5] Batch [5]#011Speed: 630.81 samples/sec#011loss=8.156528\u001b[0m\n",
      "\u001b[34m[03/24/2023 12:22:48 INFO 140238720345920] Epoch[5] Batch[10] avg_epoch_loss=8.112690\u001b[0m\n",
      "\u001b[34m[03/24/2023 12:22:48 INFO 140238720345920] #quality_metric: host=algo-1, epoch=5, batch=10 train loss <loss>=8.060083293914795\u001b[0m\n",
      "\u001b[34m[03/24/2023 12:22:48 INFO 140238720345920] Epoch[5] Batch [10]#011Speed: 619.22 samples/sec#011loss=8.060083\u001b[0m\n",
      "\u001b[34m[03/24/2023 12:22:48 INFO 140238720345920] processed a total of 1308 examples\u001b[0m\n",
      "\u001b[34m#metrics {\"StartTime\": 1679660565.6658986, \"EndTime\": 1679660568.357342, \"Dimensions\": {\"Algorithm\": \"AWS/DeepAR\", \"Host\": \"algo-1\", \"Operation\": \"training\"}, \"Metrics\": {\"update.time\": {\"sum\": 2690.946578979492, \"count\": 1, \"min\": 2690.946578979492, \"max\": 2690.946578979492}}}\u001b[0m\n",
      "\u001b[34m[03/24/2023 12:22:48 INFO 140238720345920] #throughput_metric: host=algo-1, train throughput=486.0543274488638 records/second\u001b[0m\n",
      "\u001b[34m[03/24/2023 12:22:48 INFO 140238720345920] #progress_metric: host=algo-1, completed 30.0 % of epochs\u001b[0m\n",
      "\u001b[34m[03/24/2023 12:22:48 INFO 140238720345920] #quality_metric: host=algo-1, epoch=5, train loss <loss>=8.112689755179666\u001b[0m\n",
      "\u001b[34m[03/24/2023 12:22:49 INFO 140238720345920] Epoch[6] Batch[0] avg_epoch_loss=7.998205\u001b[0m\n",
      "\u001b[34m[03/24/2023 12:22:49 INFO 140238720345920] #quality_metric: host=algo-1, epoch=6, batch=0 train loss <loss>=7.998204708099365\u001b[0m\n",
      "\u001b[34m[03/24/2023 12:22:50 INFO 140238720345920] Epoch[6] Batch[5] avg_epoch_loss=7.997600\u001b[0m\n",
      "\u001b[34m[03/24/2023 12:22:50 INFO 140238720345920] #quality_metric: host=algo-1, epoch=6, batch=5 train loss <loss>=7.997600396474202\u001b[0m\n",
      "\u001b[34m[03/24/2023 12:22:50 INFO 140238720345920] Epoch[6] Batch [5]#011Speed: 630.80 samples/sec#011loss=7.997600\u001b[0m\n",
      "\u001b[34m[03/24/2023 12:22:51 INFO 140238720345920] Epoch[6] Batch[10] avg_epoch_loss=7.964800\u001b[0m\n",
      "\u001b[34m[03/24/2023 12:22:51 INFO 140238720345920] #quality_metric: host=algo-1, epoch=6, batch=10 train loss <loss>=7.925439453125\u001b[0m\n",
      "\u001b[34m[03/24/2023 12:22:51 INFO 140238720345920] Epoch[6] Batch [10]#011Speed: 622.63 samples/sec#011loss=7.925439\u001b[0m\n",
      "\u001b[34m[03/24/2023 12:22:51 INFO 140238720345920] processed a total of 1325 examples\u001b[0m\n",
      "\u001b[34m#metrics {\"StartTime\": 1679660568.3574178, \"EndTime\": 1679660571.0478797, \"Dimensions\": {\"Algorithm\": \"AWS/DeepAR\", \"Host\": \"algo-1\", \"Operation\": \"training\"}, \"Metrics\": {\"update.time\": {\"sum\": 2690.0854110717773, \"count\": 1, \"min\": 2690.0854110717773, \"max\": 2690.0854110717773}}}\u001b[0m\n",
      "\u001b[34m[03/24/2023 12:22:51 INFO 140238720345920] #throughput_metric: host=algo-1, train throughput=492.5242732557624 records/second\u001b[0m\n",
      "\u001b[34m[03/24/2023 12:22:51 INFO 140238720345920] #progress_metric: host=algo-1, completed 35.0 % of epochs\u001b[0m\n",
      "\u001b[34m[03/24/2023 12:22:51 INFO 140238720345920] #quality_metric: host=algo-1, epoch=6, train loss <loss>=7.96479996767911\u001b[0m\n",
      "\u001b[34m[03/24/2023 12:22:51 INFO 140238720345920] Epoch[7] Batch[0] avg_epoch_loss=7.914896\u001b[0m\n",
      "\u001b[34m[03/24/2023 12:22:51 INFO 140238720345920] #quality_metric: host=algo-1, epoch=7, batch=0 train loss <loss>=7.914895534515381\u001b[0m\n",
      "\u001b[34m[03/24/2023 12:22:52 INFO 140238720345920] Epoch[7] Batch[5] avg_epoch_loss=7.911387\u001b[0m\n",
      "\u001b[34m[03/24/2023 12:22:52 INFO 140238720345920] #quality_metric: host=algo-1, epoch=7, batch=5 train loss <loss>=7.911386648813884\u001b[0m\n",
      "\u001b[34m[03/24/2023 12:22:52 INFO 140238720345920] Epoch[7] Batch [5]#011Speed: 627.16 samples/sec#011loss=7.911387\u001b[0m\n",
      "\u001b[34m[03/24/2023 12:22:53 INFO 140238720345920] Epoch[7] Batch[10] avg_epoch_loss=7.947220\u001b[0m\n",
      "\u001b[34m[03/24/2023 12:22:53 INFO 140238720345920] #quality_metric: host=algo-1, epoch=7, batch=10 train loss <loss>=7.990219688415527\u001b[0m\n",
      "\u001b[34m[03/24/2023 12:22:53 INFO 140238720345920] Epoch[7] Batch [10]#011Speed: 622.94 samples/sec#011loss=7.990220\u001b[0m\n",
      "\u001b[34m[03/24/2023 12:22:53 INFO 140238720345920] processed a total of 1299 examples\u001b[0m\n",
      "\u001b[34m#metrics {\"StartTime\": 1679660571.0479677, \"EndTime\": 1679660573.7457697, \"Dimensions\": {\"Algorithm\": \"AWS/DeepAR\", \"Host\": \"algo-1\", \"Operation\": \"training\"}, \"Metrics\": {\"update.time\": {\"sum\": 2697.2973346710205, \"count\": 1, \"min\": 2697.2973346710205, \"max\": 2697.2973346710205}}}\u001b[0m\n",
      "\u001b[34m[03/24/2023 12:22:53 INFO 140238720345920] #throughput_metric: host=algo-1, train throughput=481.5681079707976 records/second\u001b[0m\n",
      "\u001b[34m[03/24/2023 12:22:53 INFO 140238720345920] #progress_metric: host=algo-1, completed 40.0 % of epochs\u001b[0m\n",
      "\u001b[34m[03/24/2023 12:22:53 INFO 140238720345920] #quality_metric: host=algo-1, epoch=7, train loss <loss>=7.9472198486328125\u001b[0m\n",
      "\u001b[34m[03/24/2023 12:22:54 INFO 140238720345920] Epoch[8] Batch[0] avg_epoch_loss=7.874908\u001b[0m\n",
      "\u001b[34m[03/24/2023 12:22:54 INFO 140238720345920] #quality_metric: host=algo-1, epoch=8, batch=0 train loss <loss>=7.874907970428467\u001b[0m\n",
      "\u001b[34m[03/24/2023 12:22:55 INFO 140238720345920] Epoch[8] Batch[5] avg_epoch_loss=7.799271\u001b[0m\n",
      "\u001b[34m[03/24/2023 12:22:55 INFO 140238720345920] #quality_metric: host=algo-1, epoch=8, batch=5 train loss <loss>=7.799270709355672\u001b[0m\n",
      "\u001b[34m[03/24/2023 12:22:55 INFO 140238720345920] Epoch[8] Batch [5]#011Speed: 626.57 samples/sec#011loss=7.799271\u001b[0m\n",
      "\u001b[34m[03/24/2023 12:22:56 INFO 140238720345920] Epoch[8] Batch[10] avg_epoch_loss=7.795887\u001b[0m\n",
      "\u001b[34m[03/24/2023 12:22:56 INFO 140238720345920] #quality_metric: host=algo-1, epoch=8, batch=10 train loss <loss>=7.791827583312989\u001b[0m\n",
      "\u001b[34m[03/24/2023 12:22:56 INFO 140238720345920] Epoch[8] Batch [10]#011Speed: 618.99 samples/sec#011loss=7.791828\u001b[0m\n",
      "\u001b[34m[03/24/2023 12:22:56 INFO 140238720345920] processed a total of 1325 examples\u001b[0m\n",
      "\u001b[34m#metrics {\"StartTime\": 1679660573.7458746, \"EndTime\": 1679660576.4619932, \"Dimensions\": {\"Algorithm\": \"AWS/DeepAR\", \"Host\": \"algo-1\", \"Operation\": \"training\"}, \"Metrics\": {\"update.time\": {\"sum\": 2715.3446674346924, \"count\": 1, \"min\": 2715.3446674346924, \"max\": 2715.3446674346924}}}\u001b[0m\n",
      "\u001b[34m[03/24/2023 12:22:56 INFO 140238720345920] #throughput_metric: host=algo-1, train throughput=487.92968906389046 records/second\u001b[0m\n",
      "\u001b[34m[03/24/2023 12:22:56 INFO 140238720345920] #progress_metric: host=algo-1, completed 45.0 % of epochs\u001b[0m\n",
      "\u001b[34m[03/24/2023 12:22:56 INFO 140238720345920] #quality_metric: host=algo-1, epoch=8, train loss <loss>=7.795887470245361\u001b[0m\n",
      "\u001b[34m[03/24/2023 12:22:57 INFO 140238720345920] Epoch[9] Batch[0] avg_epoch_loss=7.732146\u001b[0m\n",
      "\u001b[34m[03/24/2023 12:22:57 INFO 140238720345920] #quality_metric: host=algo-1, epoch=9, batch=0 train loss <loss>=7.732146263122559\u001b[0m\n",
      "\u001b[34m[03/24/2023 12:22:58 INFO 140238720345920] Epoch[9] Batch[5] avg_epoch_loss=7.759675\u001b[0m\n",
      "\u001b[34m[03/24/2023 12:22:58 INFO 140238720345920] #quality_metric: host=algo-1, epoch=9, batch=5 train loss <loss>=7.759674946467082\u001b[0m\n",
      "\u001b[34m[03/24/2023 12:22:58 INFO 140238720345920] Epoch[9] Batch [5]#011Speed: 631.07 samples/sec#011loss=7.759675\u001b[0m\n",
      "\u001b[34m[03/24/2023 12:22:59 INFO 140238720345920] Epoch[9] Batch[10] avg_epoch_loss=7.765619\u001b[0m\n",
      "\u001b[34m[03/24/2023 12:22:59 INFO 140238720345920] #quality_metric: host=algo-1, epoch=9, batch=10 train loss <loss>=7.772752857208252\u001b[0m\n",
      "\u001b[34m[03/24/2023 12:22:59 INFO 140238720345920] Epoch[9] Batch [10]#011Speed: 620.90 samples/sec#011loss=7.772753\u001b[0m\n",
      "\u001b[34m[03/24/2023 12:22:59 INFO 140238720345920] processed a total of 1321 examples\u001b[0m\n",
      "\u001b[34m#metrics {\"StartTime\": 1679660576.4620535, \"EndTime\": 1679660579.144588, \"Dimensions\": {\"Algorithm\": \"AWS/DeepAR\", \"Host\": \"algo-1\", \"Operation\": \"training\"}, \"Metrics\": {\"update.time\": {\"sum\": 2681.927442550659, \"count\": 1, \"min\": 2681.927442550659, \"max\": 2681.927442550659}}}\u001b[0m\n",
      "\u001b[34m[03/24/2023 12:22:59 INFO 140238720345920] #throughput_metric: host=algo-1, train throughput=492.53299759834994 records/second\u001b[0m\n",
      "\u001b[34m[03/24/2023 12:22:59 INFO 140238720345920] #progress_metric: host=algo-1, completed 50.0 % of epochs\u001b[0m\n",
      "\u001b[34m[03/24/2023 12:22:59 INFO 140238720345920] #quality_metric: host=algo-1, epoch=9, train loss <loss>=7.765619451349432\u001b[0m\n",
      "\u001b[34m[03/24/2023 12:22:59 INFO 140238720345920] Epoch[10] Batch[0] avg_epoch_loss=7.665442\u001b[0m\n",
      "\u001b[34m[03/24/2023 12:22:59 INFO 140238720345920] #quality_metric: host=algo-1, epoch=10, batch=0 train loss <loss>=7.66544246673584\u001b[0m\n",
      "\u001b[34m[03/24/2023 12:23:00 INFO 140238720345920] Epoch[10] Batch[5] avg_epoch_loss=7.659005\u001b[0m\n",
      "\u001b[34m[03/24/2023 12:23:00 INFO 140238720345920] #quality_metric: host=algo-1, epoch=10, batch=5 train loss <loss>=7.659004767735799\u001b[0m\n",
      "\u001b[34m[03/24/2023 12:23:00 INFO 140238720345920] Epoch[10] Batch [5]#011Speed: 633.45 samples/sec#011loss=7.659005\u001b[0m\n",
      "\u001b[34m[03/24/2023 12:23:01 INFO 140238720345920] processed a total of 1272 examples\u001b[0m\n",
      "\u001b[34m#metrics {\"StartTime\": 1679660579.1446793, \"EndTime\": 1679660581.6334665, \"Dimensions\": {\"Algorithm\": \"AWS/DeepAR\", \"Host\": \"algo-1\", \"Operation\": \"training\"}, \"Metrics\": {\"update.time\": {\"sum\": 2488.2919788360596, \"count\": 1, \"min\": 2488.2919788360596, \"max\": 2488.2919788360596}}}\u001b[0m\n",
      "\u001b[34m[03/24/2023 12:23:01 INFO 140238720345920] #throughput_metric: host=algo-1, train throughput=511.17282045965703 records/second\u001b[0m\n",
      "\u001b[34m[03/24/2023 12:23:01 INFO 140238720345920] #progress_metric: host=algo-1, completed 55.0 % of epochs\u001b[0m\n",
      "\u001b[34m[03/24/2023 12:23:01 INFO 140238720345920] #quality_metric: host=algo-1, epoch=10, train loss <loss>=7.653492403030396\u001b[0m\n",
      "\u001b[34m[03/24/2023 12:23:02 INFO 140238720345920] Epoch[11] Batch[0] avg_epoch_loss=7.586493\u001b[0m\n",
      "\u001b[34m[03/24/2023 12:23:02 INFO 140238720345920] #quality_metric: host=algo-1, epoch=11, batch=0 train loss <loss>=7.586492538452148\u001b[0m\n",
      "\u001b[34m[03/24/2023 12:23:03 INFO 140238720345920] Epoch[11] Batch[5] avg_epoch_loss=7.653584\u001b[0m\n",
      "\u001b[34m[03/24/2023 12:23:03 INFO 140238720345920] #quality_metric: host=algo-1, epoch=11, batch=5 train loss <loss>=7.653584003448486\u001b[0m\n",
      "\u001b[34m[03/24/2023 12:23:03 INFO 140238720345920] Epoch[11] Batch [5]#011Speed: 446.18 samples/sec#011loss=7.653584\u001b[0m\n",
      "\u001b[34m[03/24/2023 12:23:05 INFO 140238720345920] processed a total of 1256 examples\u001b[0m\n",
      "\u001b[34m#metrics {\"StartTime\": 1679660581.6335359, \"EndTime\": 1679660585.1678941, \"Dimensions\": {\"Algorithm\": \"AWS/DeepAR\", \"Host\": \"algo-1\", \"Operation\": \"training\"}, \"Metrics\": {\"update.time\": {\"sum\": 3533.496618270874, \"count\": 1, \"min\": 3533.496618270874, \"max\": 3533.496618270874}}}\u001b[0m\n",
      "\u001b[34m[03/24/2023 12:23:05 INFO 140238720345920] #throughput_metric: host=algo-1, train throughput=355.43157701419426 records/second\u001b[0m\n",
      "\u001b[34m[03/24/2023 12:23:05 INFO 140238720345920] #progress_metric: host=algo-1, completed 60.0 % of epochs\u001b[0m\n",
      "\u001b[34m[03/24/2023 12:23:05 INFO 140238720345920] #quality_metric: host=algo-1, epoch=11, train loss <loss>=7.630325889587402\u001b[0m\n",
      "\u001b[34m[03/24/2023 12:23:05 INFO 140238720345920] Epoch[12] Batch[0] avg_epoch_loss=7.640497\u001b[0m\n",
      "\u001b[34m[03/24/2023 12:23:05 INFO 140238720345920] #quality_metric: host=algo-1, epoch=12, batch=0 train loss <loss>=7.640497207641602\u001b[0m\n",
      "\u001b[34m[03/24/2023 12:23:06 INFO 140238720345920] Epoch[12] Batch[5] avg_epoch_loss=7.634172\u001b[0m\n",
      "\u001b[34m[03/24/2023 12:23:06 INFO 140238720345920] #quality_metric: host=algo-1, epoch=12, batch=5 train loss <loss>=7.634171883265178\u001b[0m\n",
      "\u001b[34m[03/24/2023 12:23:06 INFO 140238720345920] Epoch[12] Batch [5]#011Speed: 627.30 samples/sec#011loss=7.634172\u001b[0m\n",
      "\u001b[34m[03/24/2023 12:23:07 INFO 140238720345920] processed a total of 1190 examples\u001b[0m\n",
      "\u001b[34m#metrics {\"StartTime\": 1679660585.1679742, \"EndTime\": 1679660587.6456938, \"Dimensions\": {\"Algorithm\": \"AWS/DeepAR\", \"Host\": \"algo-1\", \"Operation\": \"training\"}, \"Metrics\": {\"update.time\": {\"sum\": 2477.2510528564453, \"count\": 1, \"min\": 2477.2510528564453, \"max\": 2477.2510528564453}}}\u001b[0m\n",
      "\u001b[34m[03/24/2023 12:23:07 INFO 140238720345920] #throughput_metric: host=algo-1, train throughput=480.3241615799894 records/second\u001b[0m\n",
      "\u001b[34m[03/24/2023 12:23:07 INFO 140238720345920] #progress_metric: host=algo-1, completed 65.0 % of epochs\u001b[0m\n",
      "\u001b[34m[03/24/2023 12:23:07 INFO 140238720345920] #quality_metric: host=algo-1, epoch=12, train loss <loss>=7.634308910369873\u001b[0m\n",
      "\u001b[34m[03/24/2023 12:23:08 INFO 140238720345920] Epoch[13] Batch[0] avg_epoch_loss=7.729156\u001b[0m\n",
      "\u001b[34m[03/24/2023 12:23:08 INFO 140238720345920] #quality_metric: host=algo-1, epoch=13, batch=0 train loss <loss>=7.729156017303467\u001b[0m\n",
      "\u001b[34m[03/24/2023 12:23:09 INFO 140238720345920] Epoch[13] Batch[5] avg_epoch_loss=7.601950\u001b[0m\n",
      "\u001b[34m[03/24/2023 12:23:09 INFO 140238720345920] #quality_metric: host=algo-1, epoch=13, batch=5 train loss <loss>=7.60194993019104\u001b[0m\n",
      "\u001b[34m[03/24/2023 12:23:09 INFO 140238720345920] Epoch[13] Batch [5]#011Speed: 636.48 samples/sec#011loss=7.601950\u001b[0m\n",
      "\u001b[34m[03/24/2023 12:23:10 INFO 140238720345920] Epoch[13] Batch[10] avg_epoch_loss=7.601682\u001b[0m\n",
      "\u001b[34m[03/24/2023 12:23:10 INFO 140238720345920] #quality_metric: host=algo-1, epoch=13, batch=10 train loss <loss>=7.601359558105469\u001b[0m\n",
      "\u001b[34m[03/24/2023 12:23:10 INFO 140238720345920] Epoch[13] Batch [10]#011Speed: 616.10 samples/sec#011loss=7.601360\u001b[0m\n",
      "\u001b[34m[03/24/2023 12:23:10 INFO 140238720345920] processed a total of 1358 examples\u001b[0m\n",
      "\u001b[34m#metrics {\"StartTime\": 1679660587.645872, \"EndTime\": 1679660590.3386567, \"Dimensions\": {\"Algorithm\": \"AWS/DeepAR\", \"Host\": \"algo-1\", \"Operation\": \"training\"}, \"Metrics\": {\"update.time\": {\"sum\": 2692.295789718628, \"count\": 1, \"min\": 2692.295789718628, \"max\": 2692.295789718628}}}\u001b[0m\n",
      "\u001b[34m[03/24/2023 12:23:10 INFO 140238720345920] #throughput_metric: host=algo-1, train throughput=504.38056700238525 records/second\u001b[0m\n",
      "\u001b[34m[03/24/2023 12:23:10 INFO 140238720345920] #progress_metric: host=algo-1, completed 70.0 % of epochs\u001b[0m\n",
      "\u001b[34m[03/24/2023 12:23:10 INFO 140238720345920] #quality_metric: host=algo-1, epoch=13, train loss <loss>=7.601681579243053\u001b[0m\n",
      "\u001b[34m[03/24/2023 12:23:10 INFO 140238720345920] Epoch[14] Batch[0] avg_epoch_loss=7.455506\u001b[0m\n",
      "\u001b[34m[03/24/2023 12:23:10 INFO 140238720345920] #quality_metric: host=algo-1, epoch=14, batch=0 train loss <loss>=7.455506324768066\u001b[0m\n",
      "\u001b[34m[03/24/2023 12:23:11 INFO 140238720345920] Epoch[14] Batch[5] avg_epoch_loss=7.543077\u001b[0m\n",
      "\u001b[34m[03/24/2023 12:23:11 INFO 140238720345920] #quality_metric: host=algo-1, epoch=14, batch=5 train loss <loss>=7.54307746887207\u001b[0m\n",
      "\u001b[34m[03/24/2023 12:23:11 INFO 140238720345920] Epoch[14] Batch [5]#011Speed: 632.71 samples/sec#011loss=7.543077\u001b[0m\n",
      "\u001b[34m[03/24/2023 12:23:12 INFO 140238720345920] processed a total of 1255 examples\u001b[0m\n",
      "\u001b[34m#metrics {\"StartTime\": 1679660590.3387358, \"EndTime\": 1679660592.799807, \"Dimensions\": {\"Algorithm\": \"AWS/DeepAR\", \"Host\": \"algo-1\", \"Operation\": \"training\"}, \"Metrics\": {\"update.time\": {\"sum\": 2460.6640338897705, \"count\": 1, \"min\": 2460.6640338897705, \"max\": 2460.6640338897705}}}\u001b[0m\n",
      "\u001b[34m[03/24/2023 12:23:12 INFO 140238720345920] #throughput_metric: host=algo-1, train throughput=509.9813963924774 records/second\u001b[0m\n",
      "\u001b[34m[03/24/2023 12:23:12 INFO 140238720345920] #progress_metric: host=algo-1, completed 75.0 % of epochs\u001b[0m\n",
      "\u001b[34m[03/24/2023 12:23:12 INFO 140238720345920] #quality_metric: host=algo-1, epoch=14, train loss <loss>=7.529466247558593\u001b[0m\n",
      "\u001b[34m[03/24/2023 12:23:13 INFO 140238720345920] Epoch[15] Batch[0] avg_epoch_loss=7.560462\u001b[0m\n",
      "\u001b[34m[03/24/2023 12:23:13 INFO 140238720345920] #quality_metric: host=algo-1, epoch=15, batch=0 train loss <loss>=7.560461521148682\u001b[0m\n",
      "\u001b[34m[03/24/2023 12:23:14 INFO 140238720345920] Epoch[15] Batch[5] avg_epoch_loss=7.556908\u001b[0m\n",
      "\u001b[34m[03/24/2023 12:23:14 INFO 140238720345920] #quality_metric: host=algo-1, epoch=15, batch=5 train loss <loss>=7.556907574335734\u001b[0m\n",
      "\u001b[34m[03/24/2023 12:23:14 INFO 140238720345920] Epoch[15] Batch [5]#011Speed: 638.28 samples/sec#011loss=7.556908\u001b[0m\n",
      "\u001b[34m[03/24/2023 12:23:15 INFO 140238720345920] processed a total of 1270 examples\u001b[0m\n",
      "\u001b[34m#metrics {\"StartTime\": 1679660592.79996, \"EndTime\": 1679660595.2619383, \"Dimensions\": {\"Algorithm\": \"AWS/DeepAR\", \"Host\": \"algo-1\", \"Operation\": \"training\"}, \"Metrics\": {\"update.time\": {\"sum\": 2461.4622592926025, \"count\": 1, \"min\": 2461.4622592926025, \"max\": 2461.4622592926025}}}\u001b[0m\n",
      "\u001b[34m[03/24/2023 12:23:15 INFO 140238720345920] #throughput_metric: host=algo-1, train throughput=515.924238423835 records/second\u001b[0m\n",
      "\u001b[34m[03/24/2023 12:23:15 INFO 140238720345920] #progress_metric: host=algo-1, completed 80.0 % of epochs\u001b[0m\n",
      "\u001b[34m[03/24/2023 12:23:15 INFO 140238720345920] #quality_metric: host=algo-1, epoch=15, train loss <loss>=7.521904993057251\u001b[0m\n",
      "\u001b[34m[03/24/2023 12:23:15 INFO 140238720345920] Epoch[16] Batch[0] avg_epoch_loss=7.525016\u001b[0m\n",
      "\u001b[34m[03/24/2023 12:23:15 INFO 140238720345920] #quality_metric: host=algo-1, epoch=16, batch=0 train loss <loss>=7.525015830993652\u001b[0m\n",
      "\u001b[34m[03/24/2023 12:23:16 INFO 140238720345920] Epoch[16] Batch[5] avg_epoch_loss=7.494403\u001b[0m\n",
      "\u001b[34m[03/24/2023 12:23:16 INFO 140238720345920] #quality_metric: host=algo-1, epoch=16, batch=5 train loss <loss>=7.494402964909871\u001b[0m\n",
      "\u001b[34m[03/24/2023 12:23:16 INFO 140238720345920] Epoch[16] Batch [5]#011Speed: 634.14 samples/sec#011loss=7.494403\u001b[0m\n",
      "\u001b[34m[03/24/2023 12:23:17 INFO 140238720345920] processed a total of 1228 examples\u001b[0m\n",
      "\u001b[34m#metrics {\"StartTime\": 1679660595.2620163, \"EndTime\": 1679660597.7314203, \"Dimensions\": {\"Algorithm\": \"AWS/DeepAR\", \"Host\": \"algo-1\", \"Operation\": \"training\"}, \"Metrics\": {\"update.time\": {\"sum\": 2468.8198566436768, \"count\": 1, \"min\": 2468.8198566436768, \"max\": 2468.8198566436768}}}\u001b[0m\n",
      "\u001b[34m[03/24/2023 12:23:17 INFO 140238720345920] #throughput_metric: host=algo-1, train throughput=497.37809338851685 records/second\u001b[0m\n",
      "\u001b[34m[03/24/2023 12:23:17 INFO 140238720345920] #progress_metric: host=algo-1, completed 85.0 % of epochs\u001b[0m\n",
      "\u001b[34m[03/24/2023 12:23:17 INFO 140238720345920] #quality_metric: host=algo-1, epoch=16, train loss <loss>=7.502922821044922\u001b[0m\n",
      "\u001b[34m[03/24/2023 12:23:18 INFO 140238720345920] Epoch[17] Batch[0] avg_epoch_loss=7.497809\u001b[0m\n",
      "\u001b[34m[03/24/2023 12:23:18 INFO 140238720345920] #quality_metric: host=algo-1, epoch=17, batch=0 train loss <loss>=7.497809410095215\u001b[0m\n",
      "\u001b[34m[03/24/2023 12:23:19 INFO 140238720345920] Epoch[17] Batch[5] avg_epoch_loss=7.474301\u001b[0m\n",
      "\u001b[34m[03/24/2023 12:23:19 INFO 140238720345920] #quality_metric: host=algo-1, epoch=17, batch=5 train loss <loss>=7.4743014971415205\u001b[0m\n",
      "\u001b[34m[03/24/2023 12:23:19 INFO 140238720345920] Epoch[17] Batch [5]#011Speed: 630.11 samples/sec#011loss=7.474301\u001b[0m\n",
      "\u001b[34m[03/24/2023 12:23:20 INFO 140238720345920] processed a total of 1275 examples\u001b[0m\n",
      "\u001b[34m#metrics {\"StartTime\": 1679660597.7315023, \"EndTime\": 1679660600.4422607, \"Dimensions\": {\"Algorithm\": \"AWS/DeepAR\", \"Host\": \"algo-1\", \"Operation\": \"training\"}, \"Metrics\": {\"update.time\": {\"sum\": 2710.304021835327, \"count\": 1, \"min\": 2710.304021835327, \"max\": 2710.304021835327}}}\u001b[0m\n",
      "\u001b[34m[03/24/2023 12:23:20 INFO 140238720345920] #throughput_metric: host=algo-1, train throughput=470.36747106851834 records/second\u001b[0m\n",
      "\u001b[34m[03/24/2023 12:23:20 INFO 140238720345920] #progress_metric: host=algo-1, completed 90.0 % of epochs\u001b[0m\n",
      "\u001b[34m[03/24/2023 12:23:20 INFO 140238720345920] #quality_metric: host=algo-1, epoch=17, train loss <loss>=7.458647441864014\u001b[0m\n",
      "\u001b[34m[03/24/2023 12:23:21 INFO 140238720345920] Epoch[18] Batch[0] avg_epoch_loss=7.461173\u001b[0m\n",
      "\u001b[34m[03/24/2023 12:23:21 INFO 140238720345920] #quality_metric: host=algo-1, epoch=18, batch=0 train loss <loss>=7.461172580718994\u001b[0m\n",
      "\u001b[34m[03/24/2023 12:23:22 INFO 140238720345920] Epoch[18] Batch[5] avg_epoch_loss=7.453376\u001b[0m\n",
      "\u001b[34m[03/24/2023 12:23:22 INFO 140238720345920] #quality_metric: host=algo-1, epoch=18, batch=5 train loss <loss>=7.453376452128093\u001b[0m\n",
      "\u001b[34m[03/24/2023 12:23:22 INFO 140238720345920] Epoch[18] Batch [5]#011Speed: 628.44 samples/sec#011loss=7.453376\u001b[0m\n",
      "\u001b[34m[03/24/2023 12:23:23 INFO 140238720345920] processed a total of 1203 examples\u001b[0m\n",
      "\u001b[34m#metrics {\"StartTime\": 1679660600.4425604, \"EndTime\": 1679660603.0008469, \"Dimensions\": {\"Algorithm\": \"AWS/DeepAR\", \"Host\": \"algo-1\", \"Operation\": \"training\"}, \"Metrics\": {\"update.time\": {\"sum\": 2557.4159622192383, \"count\": 1, \"min\": 2557.4159622192383, \"max\": 2557.4159622192383}}}\u001b[0m\n",
      "\u001b[34m[03/24/2023 12:23:23 INFO 140238720345920] #throughput_metric: host=algo-1, train throughput=470.3500332412224 records/second\u001b[0m\n",
      "\u001b[34m[03/24/2023 12:23:23 INFO 140238720345920] #progress_metric: host=algo-1, completed 95.0 % of epochs\u001b[0m\n",
      "\u001b[34m[03/24/2023 12:23:23 INFO 140238720345920] #quality_metric: host=algo-1, epoch=18, train loss <loss>=7.466985177993775\u001b[0m\n",
      "\n",
      "2023-03-24 12:23:35 Uploading - Uploading generated training model\u001b[34m[03/24/2023 12:23:23 INFO 140238720345920] Epoch[19] Batch[0] avg_epoch_loss=7.409299\u001b[0m\n",
      "\u001b[34m[03/24/2023 12:23:23 INFO 140238720345920] #quality_metric: host=algo-1, epoch=19, batch=0 train loss <loss>=7.409298896789551\u001b[0m\n",
      "\u001b[34m[03/24/2023 12:23:24 INFO 140238720345920] Epoch[19] Batch[5] avg_epoch_loss=7.417848\u001b[0m\n",
      "\u001b[34m[03/24/2023 12:23:24 INFO 140238720345920] #quality_metric: host=algo-1, epoch=19, batch=5 train loss <loss>=7.4178478717803955\u001b[0m\n",
      "\u001b[34m[03/24/2023 12:23:24 INFO 140238720345920] Epoch[19] Batch [5]#011Speed: 628.45 samples/sec#011loss=7.417848\u001b[0m\n",
      "\u001b[34m[03/24/2023 12:23:25 INFO 140238720345920] processed a total of 1236 examples\u001b[0m\n",
      "\u001b[34m#metrics {\"StartTime\": 1679660603.0009215, \"EndTime\": 1679660605.5014873, \"Dimensions\": {\"Algorithm\": \"AWS/DeepAR\", \"Host\": \"algo-1\", \"Operation\": \"training\"}, \"Metrics\": {\"update.time\": {\"sum\": 2499.701738357544, \"count\": 1, \"min\": 2499.701738357544, \"max\": 2499.701738357544}}}\u001b[0m\n",
      "\u001b[34m[03/24/2023 12:23:25 INFO 140238720345920] #throughput_metric: host=algo-1, train throughput=494.40311189702845 records/second\u001b[0m\n",
      "\u001b[34m[03/24/2023 12:23:25 INFO 140238720345920] #progress_metric: host=algo-1, completed 100.0 % of epochs\u001b[0m\n",
      "\u001b[34m[03/24/2023 12:23:25 INFO 140238720345920] #quality_metric: host=algo-1, epoch=19, train loss <loss>=7.419471502304077\u001b[0m\n",
      "\u001b[34m[03/24/2023 12:23:25 INFO 140238720345920] Final loss: 7.419471502304077 (occurred at epoch 19)\u001b[0m\n",
      "\u001b[34m[03/24/2023 12:23:25 INFO 140238720345920] #quality_metric: host=algo-1, train final_loss <loss>=7.419471502304077\u001b[0m\n",
      "\u001b[34m[03/24/2023 12:23:25 INFO 140238720345920] Worker algo-1 finished training.\u001b[0m\n",
      "\u001b[34m[03/24/2023 12:23:25 WARNING 140238720345920] wait_for_all_workers will not sync workers since the kv store is not running distributed\u001b[0m\n",
      "\u001b[34m[03/24/2023 12:23:25 INFO 140238720345920] All workers finished. Serializing model for prediction.\u001b[0m\n",
      "\u001b[34m#metrics {\"StartTime\": 1679660605.501702, \"EndTime\": 1679660605.690253, \"Dimensions\": {\"Algorithm\": \"AWS/DeepAR\", \"Host\": \"algo-1\", \"Operation\": \"training\"}, \"Metrics\": {\"get_graph.time\": {\"sum\": 187.24775314331055, \"count\": 1, \"min\": 187.24775314331055, \"max\": 187.24775314331055}}}\u001b[0m\n",
      "\u001b[34m[03/24/2023 12:23:25 INFO 140238720345920] Number of GPUs being used: 0\u001b[0m\n",
      "\u001b[34m#metrics {\"StartTime\": 1679660605.6903253, \"EndTime\": 1679660605.7699761, \"Dimensions\": {\"Algorithm\": \"AWS/DeepAR\", \"Host\": \"algo-1\", \"Operation\": \"training\"}, \"Metrics\": {\"finalize.time\": {\"sum\": 267.0159339904785, \"count\": 1, \"min\": 267.0159339904785, \"max\": 267.0159339904785}}}\u001b[0m\n",
      "\u001b[34m[03/24/2023 12:23:25 INFO 140238720345920] Serializing to /opt/ml/model/model_algo-1\u001b[0m\n",
      "\u001b[34m[03/24/2023 12:23:25 INFO 140238720345920] Saved checkpoint to \"/opt/ml/model/model_algo-1-0000.params\"\u001b[0m\n",
      "\u001b[34m#metrics {\"StartTime\": 1679660605.7701037, \"EndTime\": 1679660605.7820394, \"Dimensions\": {\"Algorithm\": \"AWS/DeepAR\", \"Host\": \"algo-1\", \"Operation\": \"training\"}, \"Metrics\": {\"model.serialize.time\": {\"sum\": 11.88516616821289, \"count\": 1, \"min\": 11.88516616821289, \"max\": 11.88516616821289}}}\u001b[0m\n",
      "\u001b[34m[03/24/2023 12:23:25 INFO 140238720345920] Successfully serialized the model for prediction.\u001b[0m\n",
      "\u001b[34m[03/24/2023 12:23:25 INFO 140238720345920] #memory_usage::<batchbuffer> = 16.4599609375 mb\u001b[0m\n",
      "\u001b[34m[03/24/2023 12:23:25 INFO 140238720345920] Evaluating model accuracy on testset using 100 samples\u001b[0m\n",
      "\u001b[34m#metrics {\"StartTime\": 1679660605.7821229, \"EndTime\": 1679660605.7877426, \"Dimensions\": {\"Algorithm\": \"AWS/DeepAR\", \"Host\": \"algo-1\", \"Operation\": \"training\"}, \"Metrics\": {\"model.bind.time\": {\"sum\": 0.061511993408203125, \"count\": 1, \"min\": 0.061511993408203125, \"max\": 0.061511993408203125}}}\u001b[0m\n",
      "\u001b[34m#metrics {\"StartTime\": 1679660605.787803, \"EndTime\": 1679660609.9406798, \"Dimensions\": {\"Algorithm\": \"AWS/DeepAR\", \"Host\": \"algo-1\", \"Operation\": \"training\"}, \"Metrics\": {\"model.score.time\": {\"sum\": 4153.0091762542725, \"count\": 1, \"min\": 4153.0091762542725, \"max\": 4153.0091762542725}}}\u001b[0m\n",
      "\u001b[34m[03/24/2023 12:23:29 INFO 140238720345920] #test_score (algo-1, RMSE): 933.8435272214148\u001b[0m\n",
      "\u001b[34m[03/24/2023 12:23:29 INFO 140238720345920] #test_score (algo-1, mean_absolute_QuantileLoss): 14300.68939666748\u001b[0m\n",
      "\u001b[34m[03/24/2023 12:23:29 INFO 140238720345920] #test_score (algo-1, mean_wQuantileLoss): 0.14448497526362164\u001b[0m\n",
      "\u001b[34m[03/24/2023 12:23:29 INFO 140238720345920] #test_score (algo-1, wQuantileLoss[0.1]): 0.10878170283255022\u001b[0m\n",
      "\u001b[34m[03/24/2023 12:23:29 INFO 140238720345920] #test_score (algo-1, wQuantileLoss[0.2]): 0.1458514772689556\u001b[0m\n",
      "\u001b[34m[03/24/2023 12:23:29 INFO 140238720345920] #test_score (algo-1, wQuantileLoss[0.3]): 0.16069789695965211\u001b[0m\n",
      "\u001b[34m[03/24/2023 12:23:29 INFO 140238720345920] #test_score (algo-1, wQuantileLoss[0.4]): 0.1717478339484706\u001b[0m\n",
      "\u001b[34m[03/24/2023 12:23:29 INFO 140238720345920] #test_score (algo-1, wQuantileLoss[0.5]): 0.16871511157052294\u001b[0m\n",
      "\u001b[34m[03/24/2023 12:23:29 INFO 140238720345920] #test_score (algo-1, wQuantileLoss[0.6]): 0.16868623033437977\u001b[0m\n",
      "\u001b[34m[03/24/2023 12:23:29 INFO 140238720345920] #test_score (algo-1, wQuantileLoss[0.7]): 0.14524506078731445\u001b[0m\n",
      "\u001b[34m[03/24/2023 12:23:29 INFO 140238720345920] #test_score (algo-1, wQuantileLoss[0.8]): 0.12775493018925402\u001b[0m\n",
      "\u001b[34m[03/24/2023 12:23:29 INFO 140238720345920] #test_score (algo-1, wQuantileLoss[0.9]): 0.10288453348149515\u001b[0m\n",
      "\u001b[34m[03/24/2023 12:23:29 INFO 140238720345920] #quality_metric: host=algo-1, test RMSE <loss>=933.8435272214148\u001b[0m\n",
      "\u001b[34m[03/24/2023 12:23:29 INFO 140238720345920] #quality_metric: host=algo-1, test mean_wQuantileLoss <loss>=0.14448497526362164\u001b[0m\n",
      "\u001b[34m#metrics {\"StartTime\": 1679660609.9407568, \"EndTime\": 1679660609.9596133, \"Dimensions\": {\"Algorithm\": \"AWS/DeepAR\", \"Host\": \"algo-1\", \"Operation\": \"training\"}, \"Metrics\": {\"setuptime\": {\"sum\": 5.745410919189453, \"count\": 1, \"min\": 5.745410919189453, \"max\": 5.745410919189453}, \"totaltime\": {\"sum\": 59195.72949409485, \"count\": 1, \"min\": 59195.72949409485, \"max\": 59195.72949409485}}}\u001b[0m\n",
      "\n",
      "2023-03-24 12:23:45 Completed - Training job completed\n",
      "Training seconds: 172\n",
      "Billable seconds: 76\n",
      "Managed Spot Training savings: 55.8%\n"
     ]
    }
   ],
   "source": [
    "deepar.fit(inputs = data_channels)"
   ]
  },
  {
   "cell_type": "markdown",
   "metadata": {},
   "source": [
    "# Deploy e previsões"
   ]
  },
  {
   "cell_type": "code",
   "execution_count": 39,
   "metadata": {
    "tags": []
   },
   "outputs": [
    {
     "name": "stdout",
     "output_type": "stream",
     "text": [
      "Job name:  deepar-bike-2023-03-24-12-18-56-054\n"
     ]
    }
   ],
   "source": [
    "job_name = deepar.latest_training_job.name\n",
    "print('Job name: ', job_name)"
   ]
  },
  {
   "cell_type": "code",
   "execution_count": 40,
   "metadata": {
    "tags": []
   },
   "outputs": [
    {
     "name": "stderr",
     "output_type": "stream",
     "text": [
      "INFO:sagemaker:Creating model with name: deepar-bike-2023-03-24-12-18-56-054\n",
      "INFO:sagemaker:Creating endpoint-config with name deepar-bike-2023-03-24-12-18-56-054\n",
      "INFO:sagemaker:Creating endpoint with name deepar-bike-2023-03-24-12-18-56-054\n"
     ]
    },
    {
     "name": "stdout",
     "output_type": "stream",
     "text": [
      "-----!"
     ]
    }
   ],
   "source": [
    "endpoint = session.endpoint_from_job(job_name = job_name,\n",
    "                                     initial_instance_count = 1,\n",
    "                                     instance_type = \"ml.m5.large\",\n",
    "                                     image_uri = container,\n",
    "                                     role = role)"
   ]
  },
  {
   "cell_type": "code",
   "execution_count": 41,
   "metadata": {
    "tags": []
   },
   "outputs": [
    {
     "name": "stdout",
     "output_type": "stream",
     "text": [
      "Endpoint:  deepar-bike-2023-03-24-12-18-56-054\n"
     ]
    }
   ],
   "source": [
    "print('Endpoint: ', endpoint)"
   ]
  },
  {
   "cell_type": "code",
   "execution_count": 42,
   "metadata": {
    "tags": []
   },
   "outputs": [],
   "source": [
    "class DeepARPredictor(sagemaker.predictor.Predictor):\n",
    "\n",
    "    def set_prediction_parameters(self, freq, prediction_length):\n",
    "        \"\"\"Set the time frequency and prediction length parameters. \n",
    "          This method **must** be called before being able to use `predict`.\n",
    "        \n",
    "        Parameters:\n",
    "        freq -- string indicating the time frequency\n",
    "        prediction_length -- integer, number of predicted time points\n",
    "        \n",
    "        Return value: none.\n",
    "        \"\"\"\n",
    "        self.freq = freq\n",
    "        self.prediction_length = prediction_length\n",
    "        \n",
    "    def predict(self, ts, cat=None, dynamic_feat=None, \n",
    "                encoding=\"utf-8\", num_samples=100, quantiles=[\"0.1\", \"0.5\", \"0.9\"]):\n",
    "        \"\"\"Requests the prediction of for the time series listed in `ts`, \n",
    "           each with the (optional) corresponding category listed in `cat`.\n",
    "        \n",
    "        Parameters:\n",
    "        ts -- list of `pandas.Series` objects, the time series to predict\n",
    "        cat -- list of integers (default: None)\n",
    "        encoding -- string, encoding to use for the request (default: \"utf-8\")\n",
    "        num_samples -- integer, number of samples to compute at prediction time (default: 100)\n",
    "        quantiles -- list of strings specifying the quantiles to compute (default: [\"0.1\", \"0.5\", \"0.9\"])\n",
    "        \n",
    "        Return value: list of `pandas.DataFrame` objects, each containing the predictions\n",
    "        \"\"\"\n",
    "        prediction_times = [x.index[-1] + datetime.timedelta(hours=1) for x in ts] \n",
    "        \n",
    "        req = self.__encode_request(ts, cat, dynamic_feat, encoding, num_samples, quantiles)\n",
    "        res = super(DeepARPredictor, self).predict(req)\n",
    "        return self.__decode_response(res, prediction_times, encoding)\n",
    "    \n",
    "    def __encode_request(self, ts, cat, dynamic_feat, encoding, num_samples, quantiles):\n",
    "        \n",
    "        instances = [series_to_obj(ts[k]) for k in range(len(ts))]\n",
    "        \n",
    "        configuration = {\"num_samples\": num_samples, \"output_types\": [\"quantiles\"], \"quantiles\": quantiles}\n",
    "        http_request_data = {\"instances\": instances, \"configuration\": configuration}\n",
    "        return json.dumps(http_request_data).encode(encoding)\n",
    "    \n",
    "    def __decode_response(self, response, prediction_times, encoding):\n",
    "        response_data = json.loads(response.decode(encoding))\n",
    "        list_of_df = []\n",
    "        for k in range(len(prediction_times)):\n",
    "            prediction_index = pd.date_range(start=prediction_times[k], freq=self.freq, periods=self.prediction_length)\n",
    "            list_of_df.append(pd.DataFrame(data=response_data['predictions'][k]['quantiles'], index=prediction_index))\n",
    "        return list_of_df"
   ]
  },
  {
   "cell_type": "code",
   "execution_count": 49,
   "metadata": {
    "tags": []
   },
   "outputs": [],
   "source": [
    "predictor = DeepARPredictor(endpoint_name = 'deepar-bike-2023-03-24-12-18-56-054',\n",
    "                            sagemaker_session = session)\n",
    "predictor.set_prediction_parameters(freq, prediction_length)\n",
    "predictor.serializer.content_type = \"application/json\""
   ]
  },
  {
   "cell_type": "code",
   "execution_count": 50,
   "metadata": {
    "tags": []
   },
   "outputs": [],
   "source": [
    "previsoes = predictor.predict(serie_temporal_treinamento)"
   ]
  },
  {
   "cell_type": "code",
   "execution_count": 57,
   "metadata": {
    "tags": []
   },
   "outputs": [
    {
     "data": {
      "text/plain": [
       "30"
      ]
     },
     "execution_count": 57,
     "metadata": {},
     "output_type": "execute_result"
    }
   ],
   "source": [
    "len(previsoes[0])"
   ]
  },
  {
   "cell_type": "code",
   "execution_count": 52,
   "metadata": {
    "tags": []
   },
   "outputs": [
    {
     "data": {
      "text/plain": [
       "[                             0.1          0.5          0.9\n",
       " 2012-11-19 01:00:00   111.584229   921.611511  1709.092285\n",
       " 2012-11-20 01:00:00  -434.704254  -150.003693   123.766541\n",
       " 2012-11-21 01:00:00  -190.550262   -84.852264    49.981014\n",
       " 2012-11-22 01:00:00   -88.809830   -29.323154    60.221302\n",
       " 2012-11-23 01:00:00  -120.288956   -53.598740     1.654831\n",
       " 2012-11-24 01:00:00  -120.254959   -62.113014     4.661034\n",
       " 2012-11-25 01:00:00   -78.181572   -15.171663    64.622902\n",
       " 2012-11-26 01:00:00  -127.588020   -77.229042    -2.739670\n",
       " 2012-11-27 01:00:00  -214.949677   -80.840912    27.113136\n",
       " 2012-11-28 01:00:00  -146.098953   -26.845678   134.267029\n",
       " 2012-11-29 01:00:00   -95.595383   236.747284   655.611633\n",
       " 2012-11-30 01:00:00  1151.727417  2131.217773  3617.472168\n",
       " 2012-12-01 01:00:00  2889.052734  4325.695801  6304.942383\n",
       " 2012-12-02 01:00:00  3759.012207  5520.679688  7456.511719\n",
       " 2012-12-03 01:00:00  4010.742188  6048.187988  7805.772461\n",
       " 2012-12-04 01:00:00  4250.365234  5830.347656  7080.328125\n",
       " 2012-12-05 01:00:00  4540.637695  5703.637207  7226.272949\n",
       " 2012-12-06 01:00:00  4324.925781  5545.060547  6630.815430\n",
       " 2012-12-07 01:00:00  4652.598633  5626.667969  7133.003418\n",
       " 2012-12-08 01:00:00  4531.839355  5697.355469  6992.565430\n",
       " 2012-12-09 01:00:00  4948.065918  5692.691406  6765.788086\n",
       " 2012-12-10 01:00:00  4972.171875  5824.599121  6741.080078\n",
       " 2012-12-11 01:00:00  4871.050293  5722.373535  6702.351562\n",
       " 2012-12-12 01:00:00  4864.155762  5696.913086  6791.517578\n",
       " 2012-12-13 01:00:00  5052.218262  6025.909180  7218.839355\n",
       " 2012-12-14 01:00:00  4772.774414  5809.710938  6581.392578\n",
       " 2012-12-15 01:00:00  4679.835938  5739.562988  6851.726562\n",
       " 2012-12-16 01:00:00  4810.857422  5795.512207  7315.645020\n",
       " 2012-12-17 01:00:00  3770.636719  5833.512207  7794.594727\n",
       " 2012-12-18 01:00:00  1920.403809  4204.376465  6201.728516]"
      ]
     },
     "execution_count": 52,
     "metadata": {},
     "output_type": "execute_result"
    }
   ],
   "source": [
    "previsoes"
   ]
  },
  {
   "cell_type": "code",
   "execution_count": 59,
   "metadata": {
    "tags": []
   },
   "outputs": [
    {
     "data": {
      "image/png": "[encoded data removed]",
      "text/plain": [
       "<Figure size 1200x600 with 1 Axes>"
      ]
     },
     "metadata": {},
     "output_type": "display_data"
    }
   ],
   "source": [
    "for k in range(len(previsoes)):\n",
    "    plt.figure(figsize=(12,6))\n",
    "    previsoes[k]['0.5'].plot(label = 'Mediana', color = 'red')\n",
    "    #serie_temporal_teste[k].plot(label = 'Alvo')\n",
    "    serie_temporal_teste[k][-prediction_length - context_length:].plot(label = 'Alvo')\n",
    "    p10 = previsoes[k]['0.1']\n",
    "    p90 = previsoes[k]['0.9']\n",
    "    plt.fill_between(p10.index, p10, p90, color = 'y', alpha = 0.3, label = 'Intervalo de confiança')\n",
    "    plt.legend()\n",
    "    plt.show()"
   ]
  },
  {
   "cell_type": "code",
   "execution_count": 54,
   "metadata": {
    "tags": []
   },
   "outputs": [
    {
     "data": {
      "text/plain": [
       "30"
      ]
     },
     "execution_count": 54,
     "metadata": {},
     "output_type": "execute_result"
    }
   ],
   "source": [
    "df_teste = base.iloc[689:,:]\n",
    "len(df_teste)"
   ]
  },
  {
   "cell_type": "code",
   "execution_count": 55,
   "metadata": {
    "tags": []
   },
   "outputs": [
    {
     "data": {
      "text/html": [
       "<div>\n",
       "<style scoped>\n",
       "    .dataframe tbody tr th:only-of-type {\n",
       "        vertical-align: middle;\n",
       "    }\n",
       "\n",
       "    .dataframe tbody tr th {\n",
       "        vertical-align: top;\n",
       "    }\n",
       "\n",
       "    .dataframe thead th {\n",
       "        text-align: right;\n",
       "    }\n",
       "</style>\n",
       "<table border=\"1\" class=\"dataframe\">\n",
       "  <thead>\n",
       "    <tr style=\"text-align: right;\">\n",
       "      <th></th>\n",
       "      <th>count</th>\n",
       "    </tr>\n",
       "    <tr>\n",
       "      <th>datetime</th>\n",
       "      <th></th>\n",
       "    </tr>\n",
       "  </thead>\n",
       "  <tbody>\n",
       "    <tr>\n",
       "      <th>2012-11-20</th>\n",
       "      <td>0</td>\n",
       "    </tr>\n",
       "    <tr>\n",
       "      <th>2012-11-21</th>\n",
       "      <td>0</td>\n",
       "    </tr>\n",
       "    <tr>\n",
       "      <th>2012-11-22</th>\n",
       "      <td>0</td>\n",
       "    </tr>\n",
       "    <tr>\n",
       "      <th>2012-11-23</th>\n",
       "      <td>0</td>\n",
       "    </tr>\n",
       "    <tr>\n",
       "      <th>2012-11-24</th>\n",
       "      <td>0</td>\n",
       "    </tr>\n",
       "    <tr>\n",
       "      <th>2012-11-25</th>\n",
       "      <td>0</td>\n",
       "    </tr>\n",
       "    <tr>\n",
       "      <th>2012-11-26</th>\n",
       "      <td>0</td>\n",
       "    </tr>\n",
       "    <tr>\n",
       "      <th>2012-11-27</th>\n",
       "      <td>0</td>\n",
       "    </tr>\n",
       "    <tr>\n",
       "      <th>2012-11-28</th>\n",
       "      <td>0</td>\n",
       "    </tr>\n",
       "    <tr>\n",
       "      <th>2012-11-29</th>\n",
       "      <td>0</td>\n",
       "    </tr>\n",
       "    <tr>\n",
       "      <th>2012-11-30</th>\n",
       "      <td>0</td>\n",
       "    </tr>\n",
       "    <tr>\n",
       "      <th>2012-12-01</th>\n",
       "      <td>5191</td>\n",
       "    </tr>\n",
       "    <tr>\n",
       "      <th>2012-12-02</th>\n",
       "      <td>4649</td>\n",
       "    </tr>\n",
       "    <tr>\n",
       "      <th>2012-12-03</th>\n",
       "      <td>6234</td>\n",
       "    </tr>\n",
       "    <tr>\n",
       "      <th>2012-12-04</th>\n",
       "      <td>6606</td>\n",
       "    </tr>\n",
       "    <tr>\n",
       "      <th>2012-12-05</th>\n",
       "      <td>5729</td>\n",
       "    </tr>\n",
       "    <tr>\n",
       "      <th>2012-12-06</th>\n",
       "      <td>5375</td>\n",
       "    </tr>\n",
       "    <tr>\n",
       "      <th>2012-12-07</th>\n",
       "      <td>5008</td>\n",
       "    </tr>\n",
       "    <tr>\n",
       "      <th>2012-12-08</th>\n",
       "      <td>5582</td>\n",
       "    </tr>\n",
       "    <tr>\n",
       "      <th>2012-12-09</th>\n",
       "      <td>3228</td>\n",
       "    </tr>\n",
       "    <tr>\n",
       "      <th>2012-12-10</th>\n",
       "      <td>5170</td>\n",
       "    </tr>\n",
       "    <tr>\n",
       "      <th>2012-12-11</th>\n",
       "      <td>5501</td>\n",
       "    </tr>\n",
       "    <tr>\n",
       "      <th>2012-12-12</th>\n",
       "      <td>5319</td>\n",
       "    </tr>\n",
       "    <tr>\n",
       "      <th>2012-12-13</th>\n",
       "      <td>5532</td>\n",
       "    </tr>\n",
       "    <tr>\n",
       "      <th>2012-12-14</th>\n",
       "      <td>5611</td>\n",
       "    </tr>\n",
       "    <tr>\n",
       "      <th>2012-12-15</th>\n",
       "      <td>5047</td>\n",
       "    </tr>\n",
       "    <tr>\n",
       "      <th>2012-12-16</th>\n",
       "      <td>3786</td>\n",
       "    </tr>\n",
       "    <tr>\n",
       "      <th>2012-12-17</th>\n",
       "      <td>4585</td>\n",
       "    </tr>\n",
       "    <tr>\n",
       "      <th>2012-12-18</th>\n",
       "      <td>5557</td>\n",
       "    </tr>\n",
       "    <tr>\n",
       "      <th>2012-12-19</th>\n",
       "      <td>5267</td>\n",
       "    </tr>\n",
       "  </tbody>\n",
       "</table>\n",
       "</div>"
      ],
      "text/plain": [
       "            count\n",
       "datetime         \n",
       "2012-11-20      0\n",
       "2012-11-21      0\n",
       "2012-11-22      0\n",
       "2012-11-23      0\n",
       "2012-11-24      0\n",
       "2012-11-25      0\n",
       "2012-11-26      0\n",
       "2012-11-27      0\n",
       "2012-11-28      0\n",
       "2012-11-29      0\n",
       "2012-11-30      0\n",
       "2012-12-01   5191\n",
       "2012-12-02   4649\n",
       "2012-12-03   6234\n",
       "2012-12-04   6606\n",
       "2012-12-05   5729\n",
       "2012-12-06   5375\n",
       "2012-12-07   5008\n",
       "2012-12-08   5582\n",
       "2012-12-09   3228\n",
       "2012-12-10   5170\n",
       "2012-12-11   5501\n",
       "2012-12-12   5319\n",
       "2012-12-13   5532\n",
       "2012-12-14   5611\n",
       "2012-12-15   5047\n",
       "2012-12-16   3786\n",
       "2012-12-17   4585\n",
       "2012-12-18   5557\n",
       "2012-12-19   5267"
      ]
     },
     "execution_count": 55,
     "metadata": {},
     "output_type": "execute_result"
    }
   ],
   "source": [
    "df_teste"
   ]
  },
  {
   "cell_type": "code",
   "execution_count": 79,
   "metadata": {},
   "outputs": [
    {
     "data": {
      "text/plain": [
       "array([1021.14703369, -126.18373108,  -62.93225098,  -10.40964127,\n",
       "        -38.68906403,  -45.84260178,    8.27722645,  -50.41740799,\n",
       "        -61.40195847,  -40.22240448,  285.66772461, 2135.74121094,\n",
       "       4239.02148438, 5567.34863281, 5737.73291016, 5699.87792969,\n",
       "       5529.66015625, 5640.21337891, 5621.30224609, 5593.93701172,\n",
       "       5710.78173828, 5814.34619141, 5631.15917969, 5810.91992188,\n",
       "       5948.39208984, 5705.53564453, 5719.68164062, 5766.33740234,\n",
       "       5775.59228516, 4414.26025391])"
      ]
     },
     "execution_count": 79,
     "metadata": {},
     "output_type": "execute_result"
    }
   ],
   "source": [
    "previsoes2 = previsoes[0]['0.5'].values\n",
    "previsoes2"
   ]
  },
  {
   "cell_type": "code",
   "execution_count": 80,
   "metadata": {},
   "outputs": [
    {
     "data": {
      "text/plain": [
       "array([   0,    0,    0,    0,    0,    0,    0,    0,    0,    0,    0,\n",
       "       5191, 4649, 6234, 6606, 5729, 5375, 5008, 5582, 3228, 5170, 5501,\n",
       "       5319, 5532, 5611, 5047, 3786, 4585, 5557, 5267])"
      ]
     },
     "execution_count": 80,
     "metadata": {},
     "output_type": "execute_result"
    }
   ],
   "source": [
    "esperado = df_teste['count'].values\n",
    "esperado"
   ]
  },
  {
   "cell_type": "code",
   "execution_count": 81,
   "metadata": {},
   "outputs": [
    {
     "name": "stdout",
     "output_type": "stream",
     "text": [
      "MAE:  553.3355836550468 \n",
      "MSE:  830120.1140067634\n"
     ]
    }
   ],
   "source": [
    "from sklearn.metrics import mean_absolute_error, mean_squared_error\n",
    "mae = mean_absolute_error(esperado, previsoes2)\n",
    "mse = mean_squared_error(esperado, previsoes2)\n",
    "print('MAE: ', mae, '\\nMSE: ', mse)"
   ]
  },
  {
   "cell_type": "code",
   "execution_count": null,
   "metadata": {},
   "outputs": [],
   "source": []
  }
 ],
 "metadata": {
  "availableInstances": [
   {
    "_defaultOrder": 0,
    "_isFastLaunch": true,
    "category": "General purpose",
    "gpuNum": 0,
    "memoryGiB": 4,
    "name": "ml.t3.medium",
    "vcpuNum": 2
   },
   {
    "_defaultOrder": 1,
    "_isFastLaunch": false,
    "category": "General purpose",
    "gpuNum": 0,
    "memoryGiB": 8,
    "name": "ml.t3.large",
    "vcpuNum": 2
   },
   {
    "_defaultOrder": 2,
    "_isFastLaunch": false,
    "category": "General purpose",
    "gpuNum": 0,
    "memoryGiB": 16,
    "name": "ml.t3.xlarge",
    "vcpuNum": 4
   },
   {
    "_defaultOrder": 3,
    "_isFastLaunch": false,
    "category": "General purpose",
    "gpuNum": 0,
    "memoryGiB": 32,
    "name": "ml.t3.2xlarge",
    "vcpuNum": 8
   },
   {
    "_defaultOrder": 4,
    "_isFastLaunch": true,
    "category": "General purpose",
    "gpuNum": 0,
    "memoryGiB": 8,
    "name": "ml.m5.large",
    "vcpuNum": 2
   },
   {
    "_defaultOrder": 5,
    "_isFastLaunch": false,
    "category": "General purpose",
    "gpuNum": 0,
    "memoryGiB": 16,
    "name": "ml.m5.xlarge",
    "vcpuNum": 4
   },
   {
    "_defaultOrder": 6,
    "_isFastLaunch": false,
    "category": "General purpose",
    "gpuNum": 0,
    "memoryGiB": 32,
    "name": "ml.m5.2xlarge",
    "vcpuNum": 8
   },
   {
    "_defaultOrder": 7,
    "_isFastLaunch": false,
    "category": "General purpose",
    "gpuNum": 0,
    "memoryGiB": 64,
    "name": "ml.m5.4xlarge",
    "vcpuNum": 16
   },
   {
    "_defaultOrder": 8,
    "_isFastLaunch": false,
    "category": "General purpose",
    "gpuNum": 0,
    "memoryGiB": 128,
    "name": "ml.m5.8xlarge",
    "vcpuNum": 32
   },
   {
    "_defaultOrder": 9,
    "_isFastLaunch": false,
    "category": "General purpose",
    "gpuNum": 0,
    "memoryGiB": 192,
    "name": "ml.m5.12xlarge",
    "vcpuNum": 48
   },
   {
    "_defaultOrder": 10,
    "_isFastLaunch": false,
    "category": "General purpose",
    "gpuNum": 0,
    "memoryGiB": 256,
    "name": "ml.m5.16xlarge",
    "vcpuNum": 64
   },
   {
    "_defaultOrder": 11,
    "_isFastLaunch": false,
    "category": "General purpose",
    "gpuNum": 0,
    "memoryGiB": 384,
    "name": "ml.m5.24xlarge",
    "vcpuNum": 96
   },
   {
    "_defaultOrder": 12,
    "_isFastLaunch": false,
    "category": "General purpose",
    "gpuNum": 0,
    "memoryGiB": 8,
    "name": "ml.m5d.large",
    "vcpuNum": 2
   },
   {
    "_defaultOrder": 13,
    "_isFastLaunch": false,
    "category": "General purpose",
    "gpuNum": 0,
    "memoryGiB": 16,
    "name": "ml.m5d.xlarge",
    "vcpuNum": 4
   },
   {
    "_defaultOrder": 14,
    "_isFastLaunch": false,
    "category": "General purpose",
    "gpuNum": 0,
    "memoryGiB": 32,
    "name": "ml.m5d.2xlarge",
    "vcpuNum": 8
   },
   {
    "_defaultOrder": 15,
    "_isFastLaunch": false,
    "category": "General purpose",
    "gpuNum": 0,
    "memoryGiB": 64,
    "name": "ml.m5d.4xlarge",
    "vcpuNum": 16
   },
   {
    "_defaultOrder": 16,
    "_isFastLaunch": false,
    "category": "General purpose",
    "gpuNum": 0,
    "memoryGiB": 128,
    "name": "ml.m5d.8xlarge",
    "vcpuNum": 32
   },
   {
    "_defaultOrder": 17,
    "_isFastLaunch": false,
    "category": "General purpose",
    "gpuNum": 0,
    "memoryGiB": 192,
    "name": "ml.m5d.12xlarge",
    "vcpuNum": 48
   },
   {
    "_defaultOrder": 18,
    "_isFastLaunch": false,
    "category": "General purpose",
    "gpuNum": 0,
    "memoryGiB": 256,
    "name": "ml.m5d.16xlarge",
    "vcpuNum": 64
   },
   {
    "_defaultOrder": 19,
    "_isFastLaunch": false,
    "category": "General purpose",
    "gpuNum": 0,
    "memoryGiB": 384,
    "name": "ml.m5d.24xlarge",
    "vcpuNum": 96
   },
   {
    "_defaultOrder": 20,
    "_isFastLaunch": true,
    "category": "Compute optimized",
    "gpuNum": 0,
    "memoryGiB": 4,
    "name": "ml.c5.large",
    "vcpuNum": 2
   },
   {
    "_defaultOrder": 21,
    "_isFastLaunch": false,
    "category": "Compute optimized",
    "gpuNum": 0,
    "memoryGiB": 8,
    "name": "ml.c5.xlarge",
    "vcpuNum": 4
   },
   {
    "_defaultOrder": 22,
    "_isFastLaunch": false,
    "category": "Compute optimized",
    "gpuNum": 0,
    "memoryGiB": 16,
    "name": "ml.c5.2xlarge",
    "vcpuNum": 8
   },
   {
    "_defaultOrder": 23,
    "_isFastLaunch": false,
    "category": "Compute optimized",
    "gpuNum": 0,
    "memoryGiB": 32,
    "name": "ml.c5.4xlarge",
    "vcpuNum": 16
   },
   {
    "_defaultOrder": 24,
    "_isFastLaunch": false,
    "category": "Compute optimized",
    "gpuNum": 0,
    "memoryGiB": 72,
    "name": "ml.c5.9xlarge",
    "vcpuNum": 36
   },
   {
    "_defaultOrder": 25,
    "_isFastLaunch": false,
    "category": "Compute optimized",
    "gpuNum": 0,
    "memoryGiB": 96,
    "name": "ml.c5.12xlarge",
    "vcpuNum": 48
   },
   {
    "_defaultOrder": 26,
    "_isFastLaunch": false,
    "category": "Compute optimized",
    "gpuNum": 0,
    "memoryGiB": 144,
    "name": "ml.c5.18xlarge",
    "vcpuNum": 72
   },
   {
    "_defaultOrder": 27,
    "_isFastLaunch": false,
    "category": "Compute optimized",
    "gpuNum": 0,
    "memoryGiB": 192,
    "name": "ml.c5.24xlarge",
    "vcpuNum": 96
   },
   {
    "_defaultOrder": 28,
    "_isFastLaunch": true,
    "category": "Accelerated computing",
    "gpuNum": 1,
    "memoryGiB": 16,
    "name": "ml.g4dn.xlarge",
    "vcpuNum": 4
   },
   {
    "_defaultOrder": 29,
    "_isFastLaunch": false,
    "category": "Accelerated computing",
    "gpuNum": 1,
    "memoryGiB": 32,
    "name": "ml.g4dn.2xlarge",
    "vcpuNum": 8
   },
   {
    "_defaultOrder": 30,
    "_isFastLaunch": false,
    "category": "Accelerated computing",
    "gpuNum": 1,
    "memoryGiB": 64,
    "name": "ml.g4dn.4xlarge",
    "vcpuNum": 16
   },
   {
    "_defaultOrder": 31,
    "_isFastLaunch": false,
    "category": "Accelerated computing",
    "gpuNum": 1,
    "memoryGiB": 128,
    "name": "ml.g4dn.8xlarge",
    "vcpuNum": 32
   },
   {
    "_defaultOrder": 32,
    "_isFastLaunch": false,
    "category": "Accelerated computing",
    "gpuNum": 4,
    "memoryGiB": 192,
    "name": "ml.g4dn.12xlarge",
    "vcpuNum": 48
   },
   {
    "_defaultOrder": 33,
    "_isFastLaunch": false,
    "category": "Accelerated computing",
    "gpuNum": 1,
    "memoryGiB": 256,
    "name": "ml.g4dn.16xlarge",
    "vcpuNum": 64
   },
   {
    "_defaultOrder": 34,
    "_isFastLaunch": false,
    "category": "Accelerated computing",
    "gpuNum": 1,
    "memoryGiB": 61,
    "name": "ml.p3.2xlarge",
    "vcpuNum": 8
   },
   {
    "_defaultOrder": 35,
    "_isFastLaunch": false,
    "category": "Accelerated computing",
    "gpuNum": 4,
    "memoryGiB": 244,
    "name": "ml.p3.8xlarge",
    "vcpuNum": 32
   },
   {
    "_defaultOrder": 36,
    "_isFastLaunch": false,
    "category": "Accelerated computing",
    "gpuNum": 8,
    "memoryGiB": 488,
    "name": "ml.p3.16xlarge",
    "vcpuNum": 64
   },
   {
    "_defaultOrder": 37,
    "_isFastLaunch": false,
    "category": "Accelerated computing",
    "gpuNum": 8,
    "memoryGiB": 768,
    "name": "ml.p3dn.24xlarge",
    "vcpuNum": 96
   },
   {
    "_defaultOrder": 38,
    "_isFastLaunch": false,
    "category": "Memory Optimized",
    "gpuNum": 0,
    "memoryGiB": 16,
    "name": "ml.r5.large",
    "vcpuNum": 2
   },
   {
    "_defaultOrder": 39,
    "_isFastLaunch": false,
    "category": "Memory Optimized",
    "gpuNum": 0,
    "memoryGiB": 32,
    "name": "ml.r5.xlarge",
    "vcpuNum": 4
   },
   {
    "_defaultOrder": 40,
    "_isFastLaunch": false,
    "category": "Memory Optimized",
    "gpuNum": 0,
    "memoryGiB": 64,
    "name": "ml.r5.2xlarge",
    "vcpuNum": 8
   },
   {
    "_defaultOrder": 41,
    "_isFastLaunch": false,
    "category": "Memory Optimized",
    "gpuNum": 0,
    "memoryGiB": 128,
    "name": "ml.r5.4xlarge",
    "vcpuNum": 16
   },
   {
    "_defaultOrder": 42,
    "_isFastLaunch": false,
    "category": "Memory Optimized",
    "gpuNum": 0,
    "memoryGiB": 256,
    "name": "ml.r5.8xlarge",
    "vcpuNum": 32
   },
   {
    "_defaultOrder": 43,
    "_isFastLaunch": false,
    "category": "Memory Optimized",
    "gpuNum": 0,
    "memoryGiB": 384,
    "name": "ml.r5.12xlarge",
    "vcpuNum": 48
   },
   {
    "_defaultOrder": 44,
    "_isFastLaunch": false,
    "category": "Memory Optimized",
    "gpuNum": 0,
    "memoryGiB": 512,
    "name": "ml.r5.16xlarge",
    "vcpuNum": 64
   },
   {
    "_defaultOrder": 45,
    "_isFastLaunch": false,
    "category": "Memory Optimized",
    "gpuNum": 0,
    "memoryGiB": 768,
    "name": "ml.r5.24xlarge",
    "vcpuNum": 96
   },
   {
    "_defaultOrder": 46,
    "_isFastLaunch": false,
    "category": "Accelerated computing",
    "gpuNum": 1,
    "memoryGiB": 16,
    "name": "ml.g5.xlarge",
    "vcpuNum": 4
   },
   {
    "_defaultOrder": 47,
    "_isFastLaunch": false,
    "category": "Accelerated computing",
    "gpuNum": 1,
    "memoryGiB": 32,
    "name": "ml.g5.2xlarge",
    "vcpuNum": 8
   },
   {
    "_defaultOrder": 48,
    "_isFastLaunch": false,
    "category": "Accelerated computing",
    "gpuNum": 1,
    "memoryGiB": 64,
    "name": "ml.g5.4xlarge",
    "vcpuNum": 16
   },
   {
    "_defaultOrder": 49,
    "_isFastLaunch": false,
    "category": "Accelerated computing",
    "gpuNum": 1,
    "memoryGiB": 128,
    "name": "ml.g5.8xlarge",
    "vcpuNum": 32
   },
   {
    "_defaultOrder": 50,
    "_isFastLaunch": false,
    "category": "Accelerated computing",
    "gpuNum": 1,
    "memoryGiB": 256,
    "name": "ml.g5.16xlarge",
    "vcpuNum": 64
   },
   {
    "_defaultOrder": 51,
    "_isFastLaunch": false,
    "category": "Accelerated computing",
    "gpuNum": 4,
    "memoryGiB": 192,
    "name": "ml.g5.12xlarge",
    "vcpuNum": 48
   },
   {
    "_defaultOrder": 52,
    "_isFastLaunch": false,
    "category": "Accelerated computing",
    "gpuNum": 4,
    "memoryGiB": 384,
    "name": "ml.g5.24xlarge",
    "vcpuNum": 96
   },
   {
    "_defaultOrder": 53,
    "_isFastLaunch": false,
    "category": "Accelerated computing",
    "gpuNum": 8,
    "memoryGiB": 768,
    "name": "ml.g5.48xlarge",
    "vcpuNum": 192
   }
  ],
  "instance_type": "ml.t3.medium",
  "kernelspec": {
   "display_name": "Python 3 (Data Science)",
   "language": "python",
   "name": "python3__SAGEMAKER_INTERNAL__arn:aws:sagemaker:sa-east-1:782484402741:image/datascience-1.0"
  },
  "language_info": {
   "codemirror_mode": {
    "name": "ipython",
    "version": 3
   },
   "file_extension": ".py",
   "mimetype": "text/x-python",
   "name": "python",
   "nbconvert_exporter": "python",
   "pygments_lexer": "ipython3",
   "version": "3.7.10"
  }
 },
 "nbformat": 4,
 "nbformat_minor": 4
}
