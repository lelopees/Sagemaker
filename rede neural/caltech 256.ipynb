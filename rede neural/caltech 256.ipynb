{
 "cells": [
  {
   "cell_type": "markdown",
   "id": "2e3da7c1-02e9-47ce-b169-cbc5eaa31aa2",
   "metadata": {},
   "source": [
    "# Base de dados Caltech 256\n",
    "\n",
    "- Base de dados: https://www.kaggle.com/datasets/jessicali9530/caltech256\n",
    "- Código baseado em: https://sagemaker-examples.readthedocs.io/en/latest/introduction_to_amazon_algorithms/imageclassification_caltech/Image-classification-fulltraining-highlevel.html e https://sagemaker-examples.readthedocs.io/en/latest/introduction_to_amazon_algorithms/imageclassification_caltech/Image-classification-fulltraining.html"
   ]
  },
  {
   "cell_type": "code",
   "execution_count": null,
   "id": "45c7fd33-48f8-4762-b91d-202f60aa55ba",
   "metadata": {
    "tags": []
   },
   "outputs": [],
   "source": [
    "import urllib.request\n",
    "import sagemaker\n",
    "from sagemaker import get_execution_role\n",
    "import boto3\n",
    "import json\n",
    "import numpy as np\n",
    "import os"
   ]
  },
  {
   "cell_type": "code",
   "execution_count": null,
   "id": "4d644425-60f7-4cc8-8a1a-54cc69ba0197",
   "metadata": {
    "tags": []
   },
   "outputs": [],
   "source": [
    "def download2(url):\n",
    "    arquivo = url.split('/')\n",
    "    print(arquivo)"
   ]
  },
  {
   "cell_type": "code",
   "execution_count": null,
   "id": "45316ddf-f518-4cfe-b222-a3f1edede43e",
   "metadata": {
    "tags": []
   },
   "outputs": [],
   "source": [
    "download2('http://data.mxnet.io/data/caltech-256/caltech-256-60-train.rec')"
   ]
  },
  {
   "cell_type": "code",
   "execution_count": null,
   "id": "b15e874e-aeea-4022-ae6c-ef0cdd7ca7e9",
   "metadata": {
    "tags": []
   },
   "outputs": [],
   "source": [
    "def download(url):\n",
    "    arquivo = url.split('/')[-1]\n",
    "    #print(arquivo)\n",
    "    if not os.path.exists(arquivo):\n",
    "        urllib.request.urlretrieve(url, arquivo)"
   ]
  },
  {
   "cell_type": "code",
   "execution_count": null,
   "id": "ab5d52b5-bfa7-4761-becb-828fcea9ee4c",
   "metadata": {
    "tags": []
   },
   "outputs": [],
   "source": [
    "download('http://data.mxnet.io/data/caltech-256/caltech-256-60-train.rec')"
   ]
  },
  {
   "cell_type": "code",
   "execution_count": null,
   "id": "891d5bf6-4a02-4ade-9b8b-bbf20a79bdc5",
   "metadata": {
    "tags": []
   },
   "outputs": [],
   "source": [
    "download('http://data.mxnet.io/data/caltech-256/caltech-256-60-val.rec')"
   ]
  },
  {
   "cell_type": "markdown",
   "id": "7f0f0f5e-3768-46ff-8421-a23a00d351e5",
   "metadata": {},
   "source": [
    "# Configurações do sagemaker"
   ]
  },
  {
   "cell_type": "code",
   "execution_count": null,
   "id": "1775b9a2-faf5-4010-9f24-97e877d1df67",
   "metadata": {
    "tags": []
   },
   "outputs": [],
   "source": [
    "session = sagemaker.Session()\n",
    "role = get_execution_role()\n",
    "bucket = 'redeneural'\n",
    "subpasta_dataset = 'caltech'\n",
    "s3_treinamento = 's3://{}/{}/train/'.format(bucket, subpasta_dataset)\n",
    "s3_teste = 's3://{}/{}/validation/'.format(bucket, subpasta_dataset)\n",
    "s3_output_location = 's3://{}/{}/output'.format(bucket, subpasta_dataset)\n",
    "print('Localização da base de treinamento: ', s3_treinamento)\n",
    "print('Localização da base de teste: ', s3_teste)\n",
    "print('Localização do modelo final: ', s3_output_location)"
   ]
  },
  {
   "cell_type": "code",
   "execution_count": null,
   "id": "25f836e8-40a7-49fa-beea-dab0888d5c6b",
   "metadata": {
    "tags": []
   },
   "outputs": [],
   "source": [
    "!aws s3 cp caltech-256-60-train.rec $s3_treinamento --quiet\n",
    "!aws s3 cp caltech-256-60-val.rec $s3_teste --quiet"
   ]
  },
  {
   "cell_type": "code",
   "execution_count": null,
   "id": "0890f6e9-f1c7-40f5-a089-ac72c9dc185f",
   "metadata": {
    "tags": []
   },
   "outputs": [],
   "source": [
    "!aws s3 cp caltech-256-60-train.rec $s3_treinamento"
   ]
  },
  {
   "cell_type": "markdown",
   "id": "56fc3647-a7cd-41ee-a016-bb796fd925bb",
   "metadata": {},
   "source": [
    "# Configurações e treinamento da rede neural"
   ]
  },
  {
   "cell_type": "code",
   "execution_count": null,
   "id": "bf1d5d31-d1ef-4438-ab11-32263b9d56bd",
   "metadata": {
    "tags": []
   },
   "outputs": [],
   "source": [
    "# https://docs.aws.amazon.com/sagemaker/latest/dg/image-classification.html\n",
    "# https://docs.aws.amazon.com/sagemaker/latest/dg/ecr-sa-east-1.html\n",
    "container = sagemaker.image_uris.retrieve(framework = 'image-classification', \n",
    "                                          region = boto3.Session().region_name)"
   ]
  },
  {
   "cell_type": "code",
   "execution_count": null,
   "id": "1e2df19b-f2b0-4513-bdf5-57f241686a07",
   "metadata": {
    "tags": []
   },
   "outputs": [],
   "source": [
    "#output_path onde o modelo será salvo\n",
    "# https://sagemaker.readthedocs.io/en/stable/api/training/estimators.html\n",
    "rede_neural = sagemaker.estimator.Estimator(image_uri = container,\n",
    "                                            role = role,\n",
    "                                            instance_count = 1,\n",
    "                                            instance_type = 'ml.p3.2xlarge',\n",
    "                                            input_mode = 'File',\n",
    "                                            output_path = s3_output_location) # spot instances"
   ]
  },
  {
   "cell_type": "code",
   "execution_count": null,
   "id": "c35d24c4-9c83-4c90-8136-69190fa0336d",
   "metadata": {
    "tags": []
   },
   "outputs": [],
   "source": [
    "#num_layers = numero de camadas \n",
    "# image_shape (numeros de canais, e as dimensoes das imagens)\n",
    "#num_classes existem 257 objetos diferentes na base de dados\n",
    "# num_training_samples = numero total de imagens \n",
    "# mini_bath_size quantidade de lotes \n",
    "# epochs = epocas\n",
    "# https://docs.aws.amazon.com/sagemaker/latest/dg/IC-Hyperparameter.html\n",
    "# Resnet: https://arxiv.org/pdf/1512.03385.pdf\n",
    "rede_neural.set_hyperparameters(num_layers = 18,\n",
    "                                image_shape = '3,224,224',\n",
    "                                num_classes = 257,\n",
    "                                num_training_samples = 15420,\n",
    "                                mini_batch_size = 128,\n",
    "                                epochs = 15,\n",
    "                                learning_rate = 0.01)"
   ]
  },
  {
   "cell_type": "code",
   "execution_count": null,
   "id": "b07dbab9-0060-4c8f-bf62-9aba04ba46c4",
   "metadata": {
    "tags": []
   },
   "outputs": [],
   "source": [
    "train_data = sagemaker.inputs.TrainingInput(s3_treinamento,\n",
    "                                            content_type = 'application/x-recordio',\n",
    "                                            s3_data_type = 'S3Prefix')\n",
    "test_data = sagemaker.inputs.TrainingInput(s3_teste,\n",
    "                                            content_type = 'application/x-recordio',\n",
    "                                            s3_data_type = 'S3Prefix')"
   ]
  },
  {
   "cell_type": "code",
   "execution_count": 63,
   "id": "b6299bfb-324b-4f8c-86f4-c8c23ed15b2b",
   "metadata": {
    "tags": []
   },
   "outputs": [
    {
     "name": "stdout",
     "output_type": "stream",
     "text": [
      "\u001b[34m[04/01/2023 13:34:11 INFO 139943924692800] Epoch[0] Batch [80]#011Speed: 832.479 samples/sec#011accuracy=0.017168\u001b[0m\n",
      "\u001b[34m[04/01/2023 13:34:14 INFO 139943924692800] Epoch[0] Batch [100]#011Speed: 856.746 samples/sec#011accuracy=0.022664\u001b[0m\n",
      "\u001b[34m[04/01/2023 13:34:16 INFO 139943924692800] Epoch[0] Train-accuracy=0.026497\u001b[0m\n",
      "\u001b[34m[04/01/2023 13:34:16 INFO 139943924692800] Epoch[0] Time cost=17.410\u001b[0m\n",
      "\u001b[34m[04/01/2023 13:34:24 INFO 139943924692800] Epoch[0] Validation-accuracy=0.065848\u001b[0m\n",
      "\u001b[34m[04/01/2023 13:34:24 INFO 139943924692800] Storing the best model with validation accuracy: 0.065848\u001b[0m\n",
      "\u001b[34m[04/01/2023 13:34:25 INFO 139943924692800] Saved checkpoint to \"/opt/ml/model/image-classification-0001.params\"\u001b[0m\n",
      "\u001b[34m[04/01/2023 13:34:27 INFO 139943924692800] Epoch[1] Batch [20]#011Speed: 942.616 samples/sec#011accuracy=0.050595\u001b[0m\n",
      "\u001b[34m[04/01/2023 13:34:30 INFO 139943924692800] Epoch[1] Batch [40]#011Speed: 957.803 samples/sec#011accuracy=0.058117\u001b[0m\n",
      "\u001b[34m[04/01/2023 13:34:33 INFO 139943924692800] Epoch[1] Batch [60]#011Speed: 962.571 samples/sec#011accuracy=0.059682\u001b[0m\n",
      "\u001b[34m[04/01/2023 13:34:35 INFO 139943924692800] Epoch[1] Batch [80]#011Speed: 965.286 samples/sec#011accuracy=0.064236\u001b[0m\n",
      "\u001b[34m[04/01/2023 13:34:38 INFO 139943924692800] Epoch[1] Batch [100]#011Speed: 967.495 samples/sec#011accuracy=0.067141\u001b[0m\n",
      "\u001b[34m[04/01/2023 13:34:40 INFO 139943924692800] Epoch[1] Train-accuracy=0.071289\u001b[0m\n",
      "\u001b[34m[04/01/2023 13:34:40 INFO 139943924692800] Epoch[1] Time cost=15.687\u001b[0m\n",
      "\u001b[34m[04/01/2023 13:34:48 INFO 139943924692800] Epoch[1] Validation-accuracy=0.128676\u001b[0m\n",
      "\u001b[34m[04/01/2023 13:34:48 INFO 139943924692800] Storing the best model with validation accuracy: 0.128676\u001b[0m\n",
      "\u001b[34m[04/01/2023 13:34:48 INFO 139943924692800] Saved checkpoint to \"/opt/ml/model/image-classification-0002.params\"\u001b[0m\n",
      "\u001b[34m[04/01/2023 13:34:51 INFO 139943924692800] Epoch[2] Batch [20]#011Speed: 942.449 samples/sec#011accuracy=0.088170\u001b[0m\n",
      "\u001b[34m[04/01/2023 13:34:54 INFO 139943924692800] Epoch[2] Batch [40]#011Speed: 959.902 samples/sec#011accuracy=0.094893\u001b[0m\n",
      "\u001b[34m[04/01/2023 13:34:56 INFO 139943924692800] Epoch[2] Batch [60]#011Speed: 965.313 samples/sec#011accuracy=0.096824\u001b[0m\n",
      "\u001b[34m[04/01/2023 13:34:59 INFO 139943924692800] Epoch[2] Batch [80]#011Speed: 966.860 samples/sec#011accuracy=0.102334\u001b[0m\n",
      "\u001b[34m[04/01/2023 13:35:02 INFO 139943924692800] Epoch[2] Batch [100]#011Speed: 967.734 samples/sec#011accuracy=0.104579\u001b[0m\n",
      "\u001b[34m[04/01/2023 13:35:04 INFO 139943924692800] Epoch[2] Train-accuracy=0.107682\u001b[0m\n",
      "\u001b[34m[04/01/2023 13:35:04 INFO 139943924692800] Epoch[2] Time cost=15.701\u001b[0m\n",
      "\u001b[34m[04/01/2023 13:35:12 INFO 139943924692800] Epoch[2] Validation-accuracy=0.170816\u001b[0m\n",
      "\u001b[34m[04/01/2023 13:35:12 INFO 139943924692800] Storing the best model with validation accuracy: 0.170816\u001b[0m\n",
      "\u001b[34m[04/01/2023 13:35:12 INFO 139943924692800] Saved checkpoint to \"/opt/ml/model/image-classification-0003.params\"\u001b[0m\n",
      "\u001b[34m[04/01/2023 13:35:15 INFO 139943924692800] Epoch[3] Batch [20]#011Speed: 944.528 samples/sec#011accuracy=0.116815\u001b[0m\n",
      "\u001b[34m[04/01/2023 13:35:17 INFO 139943924692800] Epoch[3] Batch [40]#011Speed: 959.220 samples/sec#011accuracy=0.121570\u001b[0m\n",
      "\u001b[34m[04/01/2023 13:35:20 INFO 139943924692800] Epoch[3] Batch [60]#011Speed: 963.557 samples/sec#011accuracy=0.125640\u001b[0m\n",
      "\u001b[34m[04/01/2023 13:35:23 INFO 139943924692800] Epoch[3] Batch [80]#011Speed: 966.087 samples/sec#011accuracy=0.132716\u001b[0m\n",
      "\u001b[34m[04/01/2023 13:35:25 INFO 139943924692800] Epoch[3] Batch [100]#011Speed: 967.573 samples/sec#011accuracy=0.136835\u001b[0m\n",
      "\u001b[34m[04/01/2023 13:35:28 INFO 139943924692800] Epoch[3] Train-accuracy=0.139193\u001b[0m\n",
      "\u001b[34m[04/01/2023 13:35:28 INFO 139943924692800] Epoch[3] Time cost=15.687\u001b[0m\n",
      "\u001b[34m[04/01/2023 13:35:36 INFO 139943924692800] Epoch[3] Validation-accuracy=0.199580\u001b[0m\n",
      "\u001b[34m[04/01/2023 13:35:36 INFO 139943924692800] Storing the best model with validation accuracy: 0.199580\u001b[0m\n",
      "\u001b[34m[04/01/2023 13:35:36 INFO 139943924692800] Saved checkpoint to \"/opt/ml/model/image-classification-0004.params\"\u001b[0m\n",
      "\u001b[34m[04/01/2023 13:35:39 INFO 139943924692800] Epoch[4] Batch [20]#011Speed: 944.436 samples/sec#011accuracy=0.149554\u001b[0m\n",
      "\u001b[34m[04/01/2023 13:35:41 INFO 139943924692800] Epoch[4] Batch [40]#011Speed: 958.322 samples/sec#011accuracy=0.151296\u001b[0m\n",
      "\u001b[34m[04/01/2023 13:35:44 INFO 139943924692800] Epoch[4] Batch [60]#011Speed: 963.273 samples/sec#011accuracy=0.158043\u001b[0m\n",
      "\u001b[34m[04/01/2023 13:35:47 INFO 139943924692800] Epoch[4] Batch [80]#011Speed: 964.753 samples/sec#011accuracy=0.165702\u001b[0m\n",
      "\u001b[34m[04/01/2023 13:35:49 INFO 139943924692800] Epoch[4] Batch [100]#011Speed: 966.322 samples/sec#011accuracy=0.167853\u001b[0m\n",
      "\u001b[34m[04/01/2023 13:35:52 INFO 139943924692800] Epoch[4] Train-accuracy=0.170313\u001b[0m\n",
      "\u001b[34m[04/01/2023 13:35:52 INFO 139943924692800] Epoch[4] Time cost=15.713\u001b[0m\n",
      "\u001b[34m[04/01/2023 13:36:00 INFO 139943924692800] Epoch[4] Validation-accuracy=0.202600\u001b[0m\n",
      "\u001b[34m[04/01/2023 13:36:00 INFO 139943924692800] Storing the best model with validation accuracy: 0.202600\u001b[0m\n",
      "\u001b[34m[04/01/2023 13:36:00 INFO 139943924692800] Saved checkpoint to \"/opt/ml/model/image-classification-0005.params\"\u001b[0m\n",
      "\u001b[34m[04/01/2023 13:36:03 INFO 139943924692800] Epoch[5] Batch [20]#011Speed: 937.944 samples/sec#011accuracy=0.191964\u001b[0m\n",
      "\u001b[34m[04/01/2023 13:36:05 INFO 139943924692800] Epoch[5] Batch [40]#011Speed: 951.576 samples/sec#011accuracy=0.187881\u001b[0m\n",
      "\u001b[34m[04/01/2023 13:36:08 INFO 139943924692800] Epoch[5] Batch [60]#011Speed: 957.784 samples/sec#011accuracy=0.193135\u001b[0m\n",
      "\u001b[34m[04/01/2023 13:36:10 INFO 139943924692800] Epoch[5] Batch [80]#011Speed: 961.331 samples/sec#011accuracy=0.200810\u001b[0m\n",
      "\u001b[34m[04/01/2023 13:36:13 INFO 139943924692800] Epoch[5] Batch [100]#011Speed: 962.683 samples/sec#011accuracy=0.201578\u001b[0m\n",
      "\u001b[34m[04/01/2023 13:36:16 INFO 139943924692800] Epoch[5] Train-accuracy=0.204036\u001b[0m\n",
      "\u001b[34m[04/01/2023 13:36:16 INFO 139943924692800] Epoch[5] Time cost=15.763\u001b[0m\n",
      "\u001b[34m[04/01/2023 13:36:24 INFO 139943924692800] Epoch[5] Validation-accuracy=0.211070\u001b[0m\n",
      "\u001b[34m[04/01/2023 13:36:24 INFO 139943924692800] Storing the best model with validation accuracy: 0.211070\u001b[0m\n",
      "\u001b[34m[04/01/2023 13:36:24 INFO 139943924692800] Saved checkpoint to \"/opt/ml/model/image-classification-0006.params\"\u001b[0m\n",
      "\u001b[34m[04/01/2023 13:36:27 INFO 139943924692800] Epoch[6] Batch [20]#011Speed: 942.151 samples/sec#011accuracy=0.215030\u001b[0m\n",
      "\u001b[34m[04/01/2023 13:36:29 INFO 139943924692800] Epoch[6] Batch [40]#011Speed: 956.913 samples/sec#011accuracy=0.211700\u001b[0m\n",
      "\u001b[34m[04/01/2023 13:36:32 INFO 139943924692800] Epoch[6] Batch [60]#011Speed: 960.825 samples/sec#011accuracy=0.216060\u001b[0m\n",
      "\u001b[34m[04/01/2023 13:36:34 INFO 139943924692800] Epoch[6] Batch [80]#011Speed: 963.132 samples/sec#011accuracy=0.221836\u001b[0m\n",
      "\u001b[34m[04/01/2023 13:36:37 INFO 139943924692800] Epoch[6] Batch [100]#011Speed: 964.471 samples/sec#011accuracy=0.223468\u001b[0m\n",
      "\u001b[34m[04/01/2023 13:36:40 INFO 139943924692800] Epoch[6] Train-accuracy=0.226628\u001b[0m\n",
      "\u001b[34m[04/01/2023 13:36:40 INFO 139943924692800] Epoch[6] Time cost=15.742\u001b[0m\n",
      "\u001b[34m[04/01/2023 13:36:47 INFO 139943924692800] Epoch[6] Validation-accuracy=0.203650\u001b[0m\n",
      "\u001b[34m[04/01/2023 13:36:50 INFO 139943924692800] Epoch[7] Batch [20]#011Speed: 934.158 samples/sec#011accuracy=0.245164\u001b[0m\n",
      "\u001b[34m[04/01/2023 13:36:53 INFO 139943924692800] Epoch[7] Batch [40]#011Speed: 951.522 samples/sec#011accuracy=0.242569\u001b[0m\n",
      "\u001b[34m[04/01/2023 13:36:56 INFO 139943924692800] Epoch[7] Batch [60]#011Speed: 957.162 samples/sec#011accuracy=0.249744\u001b[0m\n",
      "\u001b[34m[04/01/2023 13:36:58 INFO 139943924692800] Epoch[7] Batch [80]#011Speed: 960.782 samples/sec#011accuracy=0.257427\u001b[0m\n",
      "\u001b[34m[04/01/2023 13:37:01 INFO 139943924692800] Epoch[7] Batch [100]#011Speed: 961.723 samples/sec#011accuracy=0.259360\u001b[0m\n",
      "\u001b[34m[04/01/2023 13:37:03 INFO 139943924692800] Epoch[7] Train-accuracy=0.262826\u001b[0m\n",
      "\u001b[34m[04/01/2023 13:37:03 INFO 139943924692800] Epoch[7] Time cost=15.801\u001b[0m\n",
      "\u001b[34m[04/01/2023 13:37:11 INFO 139943924692800] Epoch[7] Validation-accuracy=0.218356\u001b[0m\n",
      "\u001b[34m[04/01/2023 13:37:11 INFO 139943924692800] Storing the best model with validation accuracy: 0.218356\u001b[0m\n",
      "\u001b[34m[04/01/2023 13:37:12 INFO 139943924692800] Saved checkpoint to \"/opt/ml/model/image-classification-0008.params\"\u001b[0m\n",
      "\u001b[34m[04/01/2023 13:37:14 INFO 139943924692800] Epoch[8] Batch [20]#011Speed: 935.783 samples/sec#011accuracy=0.281622\u001b[0m\n",
      "\u001b[34m[04/01/2023 13:37:17 INFO 139943924692800] Epoch[8] Batch [40]#011Speed: 952.140 samples/sec#011accuracy=0.273438\u001b[0m\n",
      "\u001b[34m[04/01/2023 13:37:20 INFO 139943924692800] Epoch[8] Batch [60]#011Speed: 957.368 samples/sec#011accuracy=0.280097\u001b[0m\n",
      "\u001b[34m[04/01/2023 13:37:22 INFO 139943924692800] Epoch[8] Batch [80]#011Speed: 960.377 samples/sec#011accuracy=0.286362\u001b[0m\n",
      "\u001b[34m[04/01/2023 13:37:25 INFO 139943924692800] Epoch[8] Batch [100]#011Speed: 962.749 samples/sec#011accuracy=0.288057\u001b[0m\n",
      "\u001b[34m[04/01/2023 13:37:27 INFO 139943924692800] Epoch[8] Train-accuracy=0.294141\u001b[0m\n",
      "\u001b[34m[04/01/2023 13:37:27 INFO 139943924692800] Epoch[8] Time cost=15.768\u001b[0m\n",
      "\u001b[34m[04/01/2023 13:37:35 INFO 139943924692800] Epoch[8] Validation-accuracy=0.239605\u001b[0m\n",
      "\u001b[34m[04/01/2023 13:37:35 INFO 139943924692800] Storing the best model with validation accuracy: 0.239605\u001b[0m\n",
      "\u001b[34m[04/01/2023 13:37:35 INFO 139943924692800] Saved checkpoint to \"/opt/ml/model/image-classification-0009.params\"\u001b[0m\n",
      "\u001b[34m[04/01/2023 13:37:38 INFO 139943924692800] Epoch[9] Batch [20]#011Speed: 935.132 samples/sec#011accuracy=0.311756\u001b[0m\n",
      "\u001b[34m[04/01/2023 13:37:41 INFO 139943924692800] Epoch[9] Batch [40]#011Speed: 953.288 samples/sec#011accuracy=0.309642\u001b[0m\n",
      "\u001b[34m[04/01/2023 13:37:43 INFO 139943924692800] Epoch[9] Batch [60]#011Speed: 959.497 samples/sec#011accuracy=0.313140\u001b[0m\n",
      "\u001b[34m[04/01/2023 13:37:46 INFO 139943924692800] Epoch[9] Batch [80]#011Speed: 962.213 samples/sec#011accuracy=0.319252\u001b[0m\n",
      "\u001b[34m[04/01/2023 13:37:49 INFO 139943924692800] Epoch[9] Batch [100]#011Speed: 963.601 samples/sec#011accuracy=0.323871\u001b[0m\n",
      "\u001b[34m[04/01/2023 13:37:51 INFO 139943924692800] Epoch[9] Train-accuracy=0.329557\u001b[0m\n",
      "\u001b[34m[04/01/2023 13:37:51 INFO 139943924692800] Epoch[9] Time cost=15.758\u001b[0m\n",
      "\u001b[34m[04/01/2023 13:37:59 INFO 139943924692800] Epoch[9] Validation-accuracy=0.242253\u001b[0m\n",
      "\u001b[34m[04/01/2023 13:37:59 INFO 139943924692800] Storing the best model with validation accuracy: 0.242253\u001b[0m\n",
      "\u001b[34m[04/01/2023 13:37:59 INFO 139943924692800] Saved checkpoint to \"/opt/ml/model/image-classification-0010.params\"\u001b[0m\n",
      "\u001b[34m[04/01/2023 13:38:02 INFO 139943924692800] Epoch[10] Batch [20]#011Speed: 931.222 samples/sec#011accuracy=0.365327\u001b[0m\n",
      "\u001b[34m[04/01/2023 13:38:05 INFO 139943924692800] Epoch[10] Batch [40]#011Speed: 946.899 samples/sec#011accuracy=0.360899\u001b[0m\n",
      "\u001b[34m[04/01/2023 13:38:07 INFO 139943924692800] Epoch[10] Batch [60]#011Speed: 954.584 samples/sec#011accuracy=0.357198\u001b[0m\n",
      "\u001b[34m[04/01/2023 13:38:10 INFO 139943924692800] Epoch[10] Batch [80]#011Speed: 957.484 samples/sec#011accuracy=0.362558\u001b[0m\n",
      "\u001b[34m[04/01/2023 13:38:13 INFO 139943924692800] Epoch[10] Batch [100]#011Speed: 960.205 samples/sec#011accuracy=0.366414\u001b[0m\n",
      "\u001b[34m[04/01/2023 13:38:15 INFO 139943924692800] Epoch[10] Train-accuracy=0.369531\u001b[0m\n",
      "\u001b[34m[04/01/2023 13:38:15 INFO 139943924692800] Epoch[10] Time cost=15.810\u001b[0m\n",
      "\u001b[34m[04/01/2023 13:38:23 INFO 139943924692800] Epoch[10] Validation-accuracy=0.251707\u001b[0m\n",
      "\u001b[34m[04/01/2023 13:38:23 INFO 139943924692800] Storing the best model with validation accuracy: 0.251707\u001b[0m\n",
      "\u001b[34m[04/01/2023 13:38:23 INFO 139943924692800] Saved checkpoint to \"/opt/ml/model/image-classification-0011.params\"\u001b[0m\n",
      "\u001b[34m[04/01/2023 13:38:26 INFO 139943924692800] Epoch[11] Batch [20]#011Speed: 919.246 samples/sec#011accuracy=0.398438\u001b[0m\n",
      "\u001b[34m[04/01/2023 13:38:29 INFO 139943924692800] Epoch[11] Batch [40]#011Speed: 943.867 samples/sec#011accuracy=0.399581\u001b[0m\n",
      "\u001b[34m[04/01/2023 13:38:31 INFO 139943924692800] Epoch[11] Batch [60]#011Speed: 951.319 samples/sec#011accuracy=0.400102\u001b[0m\n",
      "\u001b[34m[04/01/2023 13:38:34 INFO 139943924692800] Epoch[11] Batch [80]#011Speed: 956.276 samples/sec#011accuracy=0.400752\u001b[0m\n",
      "\u001b[34m[04/01/2023 13:38:37 INFO 139943924692800] Epoch[11] Batch [100]#011Speed: 958.343 samples/sec#011accuracy=0.403311\u001b[0m\n",
      "\u001b[34m[04/01/2023 13:38:39 INFO 139943924692800] Epoch[11] Train-accuracy=0.407096\u001b[0m\n",
      "\u001b[34m[04/01/2023 13:38:39 INFO 139943924692800] Epoch[11] Time cost=15.831\u001b[0m\n",
      "\u001b[34m[04/01/2023 13:38:47 INFO 139943924692800] Epoch[11] Validation-accuracy=0.223583\u001b[0m\n",
      "\u001b[34m[04/01/2023 13:38:50 INFO 139943924692800] Epoch[12] Batch [20]#011Speed: 938.613 samples/sec#011accuracy=0.460193\u001b[0m\n",
      "\u001b[34m[04/01/2023 13:38:53 INFO 139943924692800] Epoch[12] Batch [40]#011Speed: 952.213 samples/sec#011accuracy=0.454840\u001b[0m\n",
      "\u001b[34m[04/01/2023 13:38:55 INFO 139943924692800] Epoch[12] Batch [60]#011Speed: 957.750 samples/sec#011accuracy=0.456455\u001b[0m\n",
      "\u001b[34m[04/01/2023 13:38:58 INFO 139943924692800] Epoch[12] Batch [80]#011Speed: 959.471 samples/sec#011accuracy=0.458912\u001b[0m\n",
      "\u001b[34m[04/01/2023 13:39:00 INFO 139943924692800] Epoch[12] Batch [100]#011Speed: 960.688 samples/sec#011accuracy=0.457457\u001b[0m\n",
      "\u001b[34m[04/01/2023 13:39:03 INFO 139943924692800] Epoch[12] Train-accuracy=0.461654\u001b[0m\n",
      "\u001b[34m[04/01/2023 13:39:03 INFO 139943924692800] Epoch[12] Time cost=15.821\u001b[0m\n",
      "\u001b[34m[04/01/2023 13:39:11 INFO 139943924692800] Epoch[12] Validation-accuracy=0.215139\u001b[0m\n",
      "\u001b[34m[04/01/2023 13:39:14 INFO 139943924692800] Epoch[13] Batch [20]#011Speed: 923.994 samples/sec#011accuracy=0.495908\u001b[0m\n",
      "\u001b[34m[04/01/2023 13:39:17 INFO 139943924692800] Epoch[13] Batch [40]#011Speed: 944.438 samples/sec#011accuracy=0.500572\u001b[0m\n",
      "\u001b[34m[04/01/2023 13:39:19 INFO 139943924692800] Epoch[13] Batch [60]#011Speed: 950.813 samples/sec#011accuracy=0.498335\u001b[0m\n",
      "\u001b[34m[04/01/2023 13:39:22 INFO 139943924692800] Epoch[13] Batch [80]#011Speed: 954.988 samples/sec#011accuracy=0.500289\u001b[0m\n",
      "\u001b[34m[04/01/2023 13:39:24 INFO 139943924692800] Epoch[13] Batch [100]#011Speed: 957.082 samples/sec#011accuracy=0.503868\u001b[0m\n",
      "\u001b[34m[04/01/2023 13:39:27 INFO 139943924692800] Epoch[13] Train-accuracy=0.508724\u001b[0m\n",
      "\u001b[34m[04/01/2023 13:39:27 INFO 139943924692800] Epoch[13] Time cost=15.846\u001b[0m\n",
      "\u001b[34m[04/01/2023 13:39:35 INFO 139943924692800] Epoch[13] Validation-accuracy=0.221507\u001b[0m\n",
      "\u001b[34m[04/01/2023 13:39:38 INFO 139943924692800] Epoch[14] Batch [20]#011Speed: 938.019 samples/sec#011accuracy=0.561756\u001b[0m\n",
      "\u001b[34m[04/01/2023 13:39:40 INFO 139943924692800] Epoch[14] Batch [40]#011Speed: 952.801 samples/sec#011accuracy=0.554306\u001b[0m\n",
      "\u001b[34m[04/01/2023 13:39:43 INFO 139943924692800] Epoch[14] Batch [60]#011Speed: 958.043 samples/sec#011accuracy=0.561475\u001b[0m\n",
      "\u001b[34m[04/01/2023 13:39:46 INFO 139943924692800] Epoch[14] Batch [80]#011Speed: 960.761 samples/sec#011accuracy=0.566165\u001b[0m\n",
      "\u001b[34m[04/01/2023 13:39:48 INFO 139943924692800] Epoch[14] Batch [100]#011Speed: 962.855 samples/sec#011accuracy=0.564511\u001b[0m\n",
      "\u001b[34m[04/01/2023 13:39:51 INFO 139943924692800] Epoch[14] Train-accuracy=0.566797\u001b[0m\n",
      "\u001b[34m[04/01/2023 13:39:51 INFO 139943924692800] Epoch[14] Time cost=15.768\u001b[0m\n",
      "\n",
      "2023-04-01 13:40:05 Uploading - Uploading generated training model\u001b[34m[04/01/2023 13:39:59 INFO 139943924692800] Epoch[14] Validation-accuracy=0.206237\u001b[0m\n",
      "\n",
      "2023-04-01 13:40:26 Completed - Training job completed\n",
      "Training seconds: 614\n",
      "Billable seconds: 614\n"
     ]
    }
   ],
   "source": [
    "data_channels = {'train': train_data, 'validation': test_data}\n",
    "rede_neural.fit(inputs = data_channels, logs = True)"
   ]
  },
  {
   "cell_type": "markdown",
   "id": "f8660166-7125-46a4-bbe0-175014c4122b",
   "metadata": {},
   "source": [
    "# Deploy e previsões"
   ]
  },
  {
   "cell_type": "code",
   "execution_count": 64,
   "id": "359c80dc-fdf0-4a25-b295-02dce4e3fcc0",
   "metadata": {
    "tags": []
   },
   "outputs": [
    {
     "name": "stderr",
     "output_type": "stream",
     "text": [
      "INFO:sagemaker:Creating model with name: image-classification-2023-04-01-13-42-03-899\n",
      "INFO:sagemaker:Creating endpoint-config with name image-classification-2023-04-01-13-42-03-899\n",
      "INFO:sagemaker:Creating endpoint with name image-classification-2023-04-01-13-42-03-899\n"
     ]
    },
    {
     "name": "stdout",
     "output_type": "stream",
     "text": [
      "----------!"
     ]
    }
   ],
   "source": [
    "rede_neural_classificador = rede_neural.deploy(initial_instance_count=1,\n",
    "                                              instance_type = 'ml.m4.xlarge')"
   ]
  },
  {
   "cell_type": "code",
   "execution_count": 88,
   "id": "53c75a1e-7472-4c4c-8419-29c0f77b045a",
   "metadata": {
    "tags": []
   },
   "outputs": [],
   "source": [
    "# rd para leitura\n",
    "imagem = open('test.jpg', 'rb').read()"
   ]
  },
  {
   "cell_type": "code",
   "execution_count": 106,
   "id": "c60c07fe-a2b0-45e7-84ba-b235655f342b",
   "metadata": {
    "tags": []
   },
   "outputs": [],
   "source": [
    "imagem = open('eyeglasses.jpg', 'rb').read()"
   ]
  },
  {
   "cell_type": "code",
   "execution_count": 107,
   "id": "a204f9e5-4835-4ded-94b1-e7cd4af5d17d",
   "metadata": {
    "tags": []
   },
   "outputs": [],
   "source": [
    "runtime = boto3.Session().client(service_name = 'sagemaker-runtime')\n",
    "resposta = runtime.invoke_endpoint(EndpointName = 'image-classification-2023-04-01-13-42-03-899',\n",
    "                                   ContentType = 'application/x-image',\n",
    "                                   Body = bytearray(imagem))"
   ]
  },
  {
   "cell_type": "code",
   "execution_count": 108,
   "id": "25d5dbf2-3347-423f-9522-11b09a177230",
   "metadata": {
    "tags": []
   },
   "outputs": [
    {
     "data": {
      "text/plain": [
       "{'ResponseMetadata': {'RequestId': 'ae5fd904-33b8-4668-b4e2-38c897befa9f',\n",
       "  'HTTPStatusCode': 200,\n",
       "  'HTTPHeaders': {'x-amzn-requestid': 'ae5fd904-33b8-4668-b4e2-38c897befa9f',\n",
       "   'x-amzn-invoked-production-variant': 'AllTraffic',\n",
       "   'date': 'Sat, 01 Apr 2023 13:54:44 GMT',\n",
       "   'content-type': 'application/json',\n",
       "   'content-length': '5916'},\n",
       "  'RetryAttempts': 0},\n",
       " 'ContentType': 'application/json',\n",
       " 'InvokedProductionVariant': 'AllTraffic',\n",
       " 'Body': <botocore.response.StreamingBody at 0x7f87f37cd2d0>}"
      ]
     },
     "execution_count": 108,
     "metadata": {},
     "output_type": "execute_result"
    }
   ],
   "source": [
    "resposta"
   ]
  },
  {
   "cell_type": "code",
   "execution_count": 109,
   "id": "33d35bf7-3652-4f25-8af3-4d93a5ecefce",
   "metadata": {
    "tags": []
   },
   "outputs": [],
   "source": [
    "resultado = resposta['Body'].read()"
   ]
  },
  {
   "cell_type": "code",
   "execution_count": 110,
   "id": "2a5e9496-77d8-4371-9ebf-8cd0b75752f8",
   "metadata": {
    "tags": []
   },
   "outputs": [],
   "source": [
    "resultado = json.loads(resultado)"
   ]
  },
  {
   "cell_type": "code",
   "execution_count": 102,
   "id": "a4f07830-e575-4f6b-87c4-0e5e8ba48913",
   "metadata": {
    "tags": []
   },
   "outputs": [
    {
     "data": {
      "text/plain": [
       "1.000000537586402"
      ]
     },
     "execution_count": 102,
     "metadata": {},
     "output_type": "execute_result"
    }
   ],
   "source": [
    "sum(resultado)"
   ]
  },
  {
   "cell_type": "code",
   "execution_count": 103,
   "id": "977a49d7-dd5a-4fff-9de1-3946de72a400",
   "metadata": {
    "tags": []
   },
   "outputs": [
    {
     "data": {
      "text/plain": [
       "257"
      ]
     },
     "execution_count": 103,
     "metadata": {},
     "output_type": "execute_result"
    }
   ],
   "source": [
    "len(resultado)"
   ]
  },
  {
   "cell_type": "code",
   "execution_count": 104,
   "id": "58552133-5bbf-42e8-83f6-26f97d1f471b",
   "metadata": {
    "tags": []
   },
   "outputs": [
    {
     "data": {
      "text/plain": [
       "188"
      ]
     },
     "execution_count": 104,
     "metadata": {},
     "output_type": "execute_result"
    }
   ],
   "source": [
    "# argmax trás o indice do maior valor\n",
    "probabilidade_maior = np.argmax(resultado)\n",
    "probabilidade_maior"
   ]
  },
  {
   "cell_type": "code",
   "execution_count": 105,
   "id": "999117e1-66b0-4af5-b38a-1bff8451ca9d",
   "metadata": {
    "tags": []
   },
   "outputs": [
    {
     "data": {
      "text/plain": [
       "'snail'"
      ]
     },
     "execution_count": 105,
     "metadata": {},
     "output_type": "execute_result"
    }
   ],
   "source": [
    "rotulo = categorias[probabilidade_maior]\n",
    "rotulo"
   ]
  },
  {
   "cell_type": "code",
   "execution_count": null,
   "id": "23d15d67-74d8-47ca-9344-aa6f4e40bf79",
   "metadata": {
    "tags": []
   },
   "outputs": [],
   "source": [
    "# lista de todos os objetos da base de dados\n",
    "categorias = [\"ak47\", \"american-flag\", \"backpack\", \"baseball-bat\", \"baseball-glove\",\n",
    "    \"basketball-hoop\", \"bat\", \"bathtub\", \"bear\", \"beer-mug\", \"billiards\", \"binoculars\",\n",
    "    \"birdbath\", \"blimp\", \"bonsai-101\", \"boom-box\", \"bowling-ball\", \"bowling-pin\",\n",
    "    \"boxing-glove\", \"brain-101\", \"breadmaker\", \"buddha-101\", \"bulldozer\", \"butterfly\",\n",
    "    \"cactus\", \"cake\", \"calculator\", \"camel\", \"cannon\", \"canoe\", \"car-tire\",\n",
    "    \"cartman\", \"cd\", \"centipede\", \"cereal-box\", \"chandelier-101\", \"chess-board\",\n",
    "    \"chimp\", \"chopsticks\", \"cockroach\", \"coffee-mug\", \"coffin\", \"coin\", \"comet\",\n",
    "    \"computer-keyboard\", \"computer-monitor\", \"computer-mouse\", \"conch\", \"cormorant\",\n",
    "    \"covered-wagon\", \"cowboy-hat\", \"crab-101\", \"desk-globe\", \"diamond-ring\",\n",
    "    \"dice\", \"dog\", \"dolphin-101\", \"doorknob\", \"drinking-straw\", \"duck\", \"dumb-bell\",\n",
    "    \"eiffel-tower\", \"electric-guitar-101\", \"elephant-101\", \"elk\", \"ewer-101\",\n",
    "    \"eyeglasses\", \"fern\", \"fighter-jet\", \"fire-extinguisher\", \"fire-hydrant\",\n",
    "    \"fire-truck\", \"fireworks\", \"flashlight\", \"floppy-disk\", \"football-helmet\",\n",
    "    \"french-horn\", \"fried-egg\", \"frisbee\", \"frog\", \"frying-pan\", \"galaxy\",\n",
    "    \"gas-pump\", \"giraffe\", \"goat\", \"golden-gate-bridge\", \"goldfish\", \"golf-ball\",\n",
    "    \"goose\", \"gorilla\", \"grand-piano-101\", \"grapes\", \"grasshopper\", \"guitar-pick\",\n",
    "    \"hamburger\", \"hammock\", \"harmonica\", \"harp\", \"harpsichord\", \"hawksbill-101\",\n",
    "    \"head-phones\", \"helicopter-101\", \"hibiscus\", \"homer-simpson\", \"horse\",\n",
    "    \"horseshoe-crab\", \"hot-air-balloon\", \"hot-dog\", \"hot-tub\", \"hourglass\",\n",
    "    \"house-fly\", \"human-skeleton\", \"hummingbird\", \"ibis-101\", \"ice-cream-cone\",\n",
    "    \"iguana\", \"ipod\", \"iris\", \"jesus-christ\", \"joy-stick\", \"kangaroo-101\",\n",
    "    \"kayak\", \"ketch-101\", \"killer-whale\", \"knife\", \"ladder\", \"laptop-101\", \"lathe\",\n",
    "    \"leopards-101\", \"license-plate\", \"lightbulb\", \"light-house\", \"lightning\",\n",
    "    \"llama-101\", \"mailbox\", \"mandolin\", \"mars\", \"mattress\", \"megaphone\", \"menorah-101\",\n",
    "    \"microscope\", \"microwave\", \"minaret\", \"minotaur\", \"motorbikes-101\", \"mountain-bike\",\n",
    "    \"mushroom\", \"mussels\", \"necktie\", \"octopus\", \"ostrich\", \"owl\", \"palm-pilot\",\n",
    "    \"palm-tree\", \"paperclip\", \"paper-shredder\", \"pci-card\", \"penguin\", \"people\",\n",
    "    \"pez-dispenser\", \"photocopier\", \"picnic-table\", \"playing-card\", \"porcupine\",\n",
    "    \"pram\", \"praying-mantis\", \"pyramid\", \"raccoon\", \"radio-telescope\", \"rainbow\",\n",
    "    \"refrigerator\", \"revolver-101\", \"rifle\", \"rotary-phone\", \"roulette-wheel\",\n",
    "    \"saddle\", \"saturn\", \"school-bus\", \"scorpion-101\", \"screwdriver\", \"segway\",\n",
    "    \"self-propelled-lawn-mower\", \"sextant\", \"sheet-music\", \"skateboard\", \"skunk\",\n",
    "    \"skyscraper\", \"smokestack\", \"snail\", \"snake\", \"sneaker\", \"snowmobile\", \"soccer-ball\",\n",
    "    \"socks\", \"soda-can\", \"spaghetti\", \"speed-boat\", \"spider\", \"spoon\", \"stained-glass\",\n",
    "    \"starfish-101\", \"steering-wheel\", \"stirrups\", \"sunflower-101\", \"superman\", \"sushi\",\n",
    "    \"swan\", \"swiss-army-knife\", \"sword\", \"syringe\", \"tambourine\", \"teapot\", \"teddy-bear\",\n",
    "    \"teepee\", \"telephone-box\", \"tennis-ball\", \"tennis-court\", \"tennis-racket\",\n",
    "    \"theodolite\", \"toaster\", \"tomato\", \"tombstone\", \"top-hat\", \"touring-bike\",\n",
    "    \"tower-pisa\", \"traffic-light\", \"treadmill\", \"triceratops\", \"tricycle\", \"trilobite-101\",\n",
    "    \"tripod\", \"t-shirt\", \"tuning-fork\", \"tweezer\", \"umbrella-101\", \"unicorn\", \"vcr\",\n",
    "    \"video-projector\", \"washing-machine\", \"watch-101\", \"waterfall\", \"watermelon\", \"welding-mask\",\n",
    "    \"wheelbarrow\", \"windmill\", \"wine-bottle\", \"xylophone\", \"yarmulke\", \"yo-yo\", \"zebra\",\n",
    "    \"airplanes-101\", \"car-side-101\", \"faces-easy-101\", \"greyhound\", \"tennis-shoes\",\n",
    "    \"toad\", \"clutter\"]"
   ]
  },
  {
   "cell_type": "code",
   "execution_count": null,
   "id": "68c04f57-0938-4933-a541-219d912d691e",
   "metadata": {},
   "outputs": [],
   "source": [
    "rede_neural_classificador.delete_endpoint()"
   ]
  }
 ],
 "metadata": {
  "availableInstances": [
   {
    "_defaultOrder": 0,
    "_isFastLaunch": true,
    "category": "General purpose",
    "gpuNum": 0,
    "memoryGiB": 4,
    "name": "ml.t3.medium",
    "vcpuNum": 2
   },
   {
    "_defaultOrder": 1,
    "_isFastLaunch": false,
    "category": "General purpose",
    "gpuNum": 0,
    "memoryGiB": 8,
    "name": "ml.t3.large",
    "vcpuNum": 2
   },
   {
    "_defaultOrder": 2,
    "_isFastLaunch": false,
    "category": "General purpose",
    "gpuNum": 0,
    "memoryGiB": 16,
    "name": "ml.t3.xlarge",
    "vcpuNum": 4
   },
   {
    "_defaultOrder": 3,
    "_isFastLaunch": false,
    "category": "General purpose",
    "gpuNum": 0,
    "memoryGiB": 32,
    "name": "ml.t3.2xlarge",
    "vcpuNum": 8
   },
   {
    "_defaultOrder": 4,
    "_isFastLaunch": true,
    "category": "General purpose",
    "gpuNum": 0,
    "memoryGiB": 8,
    "name": "ml.m5.large",
    "vcpuNum": 2
   },
   {
    "_defaultOrder": 5,
    "_isFastLaunch": false,
    "category": "General purpose",
    "gpuNum": 0,
    "memoryGiB": 16,
    "name": "ml.m5.xlarge",
    "vcpuNum": 4
   },
   {
    "_defaultOrder": 6,
    "_isFastLaunch": false,
    "category": "General purpose",
    "gpuNum": 0,
    "memoryGiB": 32,
    "name": "ml.m5.2xlarge",
    "vcpuNum": 8
   },
   {
    "_defaultOrder": 7,
    "_isFastLaunch": false,
    "category": "General purpose",
    "gpuNum": 0,
    "memoryGiB": 64,
    "name": "ml.m5.4xlarge",
    "vcpuNum": 16
   },
   {
    "_defaultOrder": 8,
    "_isFastLaunch": false,
    "category": "General purpose",
    "gpuNum": 0,
    "memoryGiB": 128,
    "name": "ml.m5.8xlarge",
    "vcpuNum": 32
   },
   {
    "_defaultOrder": 9,
    "_isFastLaunch": false,
    "category": "General purpose",
    "gpuNum": 0,
    "memoryGiB": 192,
    "name": "ml.m5.12xlarge",
    "vcpuNum": 48
   },
   {
    "_defaultOrder": 10,
    "_isFastLaunch": false,
    "category": "General purpose",
    "gpuNum": 0,
    "memoryGiB": 256,
    "name": "ml.m5.16xlarge",
    "vcpuNum": 64
   },
   {
    "_defaultOrder": 11,
    "_isFastLaunch": false,
    "category": "General purpose",
    "gpuNum": 0,
    "memoryGiB": 384,
    "name": "ml.m5.24xlarge",
    "vcpuNum": 96
   },
   {
    "_defaultOrder": 12,
    "_isFastLaunch": false,
    "category": "General purpose",
    "gpuNum": 0,
    "memoryGiB": 8,
    "name": "ml.m5d.large",
    "vcpuNum": 2
   },
   {
    "_defaultOrder": 13,
    "_isFastLaunch": false,
    "category": "General purpose",
    "gpuNum": 0,
    "memoryGiB": 16,
    "name": "ml.m5d.xlarge",
    "vcpuNum": 4
   },
   {
    "_defaultOrder": 14,
    "_isFastLaunch": false,
    "category": "General purpose",
    "gpuNum": 0,
    "memoryGiB": 32,
    "name": "ml.m5d.2xlarge",
    "vcpuNum": 8
   },
   {
    "_defaultOrder": 15,
    "_isFastLaunch": false,
    "category": "General purpose",
    "gpuNum": 0,
    "memoryGiB": 64,
    "name": "ml.m5d.4xlarge",
    "vcpuNum": 16
   },
   {
    "_defaultOrder": 16,
    "_isFastLaunch": false,
    "category": "General purpose",
    "gpuNum": 0,
    "memoryGiB": 128,
    "name": "ml.m5d.8xlarge",
    "vcpuNum": 32
   },
   {
    "_defaultOrder": 17,
    "_isFastLaunch": false,
    "category": "General purpose",
    "gpuNum": 0,
    "memoryGiB": 192,
    "name": "ml.m5d.12xlarge",
    "vcpuNum": 48
   },
   {
    "_defaultOrder": 18,
    "_isFastLaunch": false,
    "category": "General purpose",
    "gpuNum": 0,
    "memoryGiB": 256,
    "name": "ml.m5d.16xlarge",
    "vcpuNum": 64
   },
   {
    "_defaultOrder": 19,
    "_isFastLaunch": false,
    "category": "General purpose",
    "gpuNum": 0,
    "memoryGiB": 384,
    "name": "ml.m5d.24xlarge",
    "vcpuNum": 96
   },
   {
    "_defaultOrder": 20,
    "_isFastLaunch": true,
    "category": "Compute optimized",
    "gpuNum": 0,
    "memoryGiB": 4,
    "name": "ml.c5.large",
    "vcpuNum": 2
   },
   {
    "_defaultOrder": 21,
    "_isFastLaunch": false,
    "category": "Compute optimized",
    "gpuNum": 0,
    "memoryGiB": 8,
    "name": "ml.c5.xlarge",
    "vcpuNum": 4
   },
   {
    "_defaultOrder": 22,
    "_isFastLaunch": false,
    "category": "Compute optimized",
    "gpuNum": 0,
    "memoryGiB": 16,
    "name": "ml.c5.2xlarge",
    "vcpuNum": 8
   },
   {
    "_defaultOrder": 23,
    "_isFastLaunch": false,
    "category": "Compute optimized",
    "gpuNum": 0,
    "memoryGiB": 32,
    "name": "ml.c5.4xlarge",
    "vcpuNum": 16
   },
   {
    "_defaultOrder": 24,
    "_isFastLaunch": false,
    "category": "Compute optimized",
    "gpuNum": 0,
    "memoryGiB": 72,
    "name": "ml.c5.9xlarge",
    "vcpuNum": 36
   },
   {
    "_defaultOrder": 25,
    "_isFastLaunch": false,
    "category": "Compute optimized",
    "gpuNum": 0,
    "memoryGiB": 96,
    "name": "ml.c5.12xlarge",
    "vcpuNum": 48
   },
   {
    "_defaultOrder": 26,
    "_isFastLaunch": false,
    "category": "Compute optimized",
    "gpuNum": 0,
    "memoryGiB": 144,
    "name": "ml.c5.18xlarge",
    "vcpuNum": 72
   },
   {
    "_defaultOrder": 27,
    "_isFastLaunch": false,
    "category": "Compute optimized",
    "gpuNum": 0,
    "memoryGiB": 192,
    "name": "ml.c5.24xlarge",
    "vcpuNum": 96
   },
   {
    "_defaultOrder": 28,
    "_isFastLaunch": true,
    "category": "Accelerated computing",
    "gpuNum": 1,
    "memoryGiB": 16,
    "name": "ml.g4dn.xlarge",
    "vcpuNum": 4
   },
   {
    "_defaultOrder": 29,
    "_isFastLaunch": false,
    "category": "Accelerated computing",
    "gpuNum": 1,
    "memoryGiB": 32,
    "name": "ml.g4dn.2xlarge",
    "vcpuNum": 8
   },
   {
    "_defaultOrder": 30,
    "_isFastLaunch": false,
    "category": "Accelerated computing",
    "gpuNum": 1,
    "memoryGiB": 64,
    "name": "ml.g4dn.4xlarge",
    "vcpuNum": 16
   },
   {
    "_defaultOrder": 31,
    "_isFastLaunch": false,
    "category": "Accelerated computing",
    "gpuNum": 1,
    "memoryGiB": 128,
    "name": "ml.g4dn.8xlarge",
    "vcpuNum": 32
   },
   {
    "_defaultOrder": 32,
    "_isFastLaunch": false,
    "category": "Accelerated computing",
    "gpuNum": 4,
    "memoryGiB": 192,
    "name": "ml.g4dn.12xlarge",
    "vcpuNum": 48
   },
   {
    "_defaultOrder": 33,
    "_isFastLaunch": false,
    "category": "Accelerated computing",
    "gpuNum": 1,
    "memoryGiB": 256,
    "name": "ml.g4dn.16xlarge",
    "vcpuNum": 64
   },
   {
    "_defaultOrder": 34,
    "_isFastLaunch": false,
    "category": "Accelerated computing",
    "gpuNum": 1,
    "memoryGiB": 61,
    "name": "ml.p3.2xlarge",
    "vcpuNum": 8
   },
   {
    "_defaultOrder": 35,
    "_isFastLaunch": false,
    "category": "Accelerated computing",
    "gpuNum": 4,
    "memoryGiB": 244,
    "name": "ml.p3.8xlarge",
    "vcpuNum": 32
   },
   {
    "_defaultOrder": 36,
    "_isFastLaunch": false,
    "category": "Accelerated computing",
    "gpuNum": 8,
    "memoryGiB": 488,
    "name": "ml.p3.16xlarge",
    "vcpuNum": 64
   },
   {
    "_defaultOrder": 37,
    "_isFastLaunch": false,
    "category": "Accelerated computing",
    "gpuNum": 8,
    "memoryGiB": 768,
    "name": "ml.p3dn.24xlarge",
    "vcpuNum": 96
   },
   {
    "_defaultOrder": 38,
    "_isFastLaunch": false,
    "category": "Memory Optimized",
    "gpuNum": 0,
    "memoryGiB": 16,
    "name": "ml.r5.large",
    "vcpuNum": 2
   },
   {
    "_defaultOrder": 39,
    "_isFastLaunch": false,
    "category": "Memory Optimized",
    "gpuNum": 0,
    "memoryGiB": 32,
    "name": "ml.r5.xlarge",
    "vcpuNum": 4
   },
   {
    "_defaultOrder": 40,
    "_isFastLaunch": false,
    "category": "Memory Optimized",
    "gpuNum": 0,
    "memoryGiB": 64,
    "name": "ml.r5.2xlarge",
    "vcpuNum": 8
   },
   {
    "_defaultOrder": 41,
    "_isFastLaunch": false,
    "category": "Memory Optimized",
    "gpuNum": 0,
    "memoryGiB": 128,
    "name": "ml.r5.4xlarge",
    "vcpuNum": 16
   },
   {
    "_defaultOrder": 42,
    "_isFastLaunch": false,
    "category": "Memory Optimized",
    "gpuNum": 0,
    "memoryGiB": 256,
    "name": "ml.r5.8xlarge",
    "vcpuNum": 32
   },
   {
    "_defaultOrder": 43,
    "_isFastLaunch": false,
    "category": "Memory Optimized",
    "gpuNum": 0,
    "memoryGiB": 384,
    "name": "ml.r5.12xlarge",
    "vcpuNum": 48
   },
   {
    "_defaultOrder": 44,
    "_isFastLaunch": false,
    "category": "Memory Optimized",
    "gpuNum": 0,
    "memoryGiB": 512,
    "name": "ml.r5.16xlarge",
    "vcpuNum": 64
   },
   {
    "_defaultOrder": 45,
    "_isFastLaunch": false,
    "category": "Memory Optimized",
    "gpuNum": 0,
    "memoryGiB": 768,
    "name": "ml.r5.24xlarge",
    "vcpuNum": 96
   },
   {
    "_defaultOrder": 46,
    "_isFastLaunch": false,
    "category": "Accelerated computing",
    "gpuNum": 1,
    "memoryGiB": 16,
    "name": "ml.g5.xlarge",
    "vcpuNum": 4
   },
   {
    "_defaultOrder": 47,
    "_isFastLaunch": false,
    "category": "Accelerated computing",
    "gpuNum": 1,
    "memoryGiB": 32,
    "name": "ml.g5.2xlarge",
    "vcpuNum": 8
   },
   {
    "_defaultOrder": 48,
    "_isFastLaunch": false,
    "category": "Accelerated computing",
    "gpuNum": 1,
    "memoryGiB": 64,
    "name": "ml.g5.4xlarge",
    "vcpuNum": 16
   },
   {
    "_defaultOrder": 49,
    "_isFastLaunch": false,
    "category": "Accelerated computing",
    "gpuNum": 1,
    "memoryGiB": 128,
    "name": "ml.g5.8xlarge",
    "vcpuNum": 32
   },
   {
    "_defaultOrder": 50,
    "_isFastLaunch": false,
    "category": "Accelerated computing",
    "gpuNum": 1,
    "memoryGiB": 256,
    "name": "ml.g5.16xlarge",
    "vcpuNum": 64
   },
   {
    "_defaultOrder": 51,
    "_isFastLaunch": false,
    "category": "Accelerated computing",
    "gpuNum": 4,
    "memoryGiB": 192,
    "name": "ml.g5.12xlarge",
    "vcpuNum": 48
   },
   {
    "_defaultOrder": 52,
    "_isFastLaunch": false,
    "category": "Accelerated computing",
    "gpuNum": 4,
    "memoryGiB": 384,
    "name": "ml.g5.24xlarge",
    "vcpuNum": 96
   },
   {
    "_defaultOrder": 53,
    "_isFastLaunch": false,
    "category": "Accelerated computing",
    "gpuNum": 8,
    "memoryGiB": 768,
    "name": "ml.g5.48xlarge",
    "vcpuNum": 192
   }
  ],
  "instance_type": "ml.t3.medium",
  "kernelspec": {
   "display_name": "Python 3 (Data Science)",
   "language": "python",
   "name": "python3__SAGEMAKER_INTERNAL__arn:aws:sagemaker:us-east-1:081325390199:image/datascience-1.0"
  },
  "language_info": {
   "codemirror_mode": {
    "name": "ipython",
    "version": 3
   },
   "file_extension": ".py",
   "mimetype": "text/x-python",
   "name": "python",
   "nbconvert_exporter": "python",
   "pygments_lexer": "ipython3",
   "version": "3.7.10"
  }
 },
 "nbformat": 4,
 "nbformat_minor": 5
}
