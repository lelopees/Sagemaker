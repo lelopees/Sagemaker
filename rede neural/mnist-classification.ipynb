{
 "cells": [
  {
   "cell_type": "markdown",
   "id": "448708ff-659a-488d-b16f-3e8a148b056b",
   "metadata": {},
   "source": [
    "# Base de dados MNIST\n",
    "\n",
    "- Imagens: https://github.com/myleott/mnist_png"
   ]
  },
  {
   "cell_type": "code",
   "execution_count": 2,
   "id": "ed72bb38-917d-457b-8067-747c6f12c519",
   "metadata": {
    "tags": []
   },
   "outputs": [],
   "source": [
    "import numpy as np\n",
    "# para descompartar o arquivo tar.gz\n",
    "import tarfile \n",
    "import urllib # para download de arquivos\n",
    "import mxnet as mx # framework para aprendizado de máquina\n",
    "import json"
   ]
  },
  {
   "cell_type": "code",
   "execution_count": 3,
   "id": "290e302c-4649-42b2-aea4-3987b024a727",
   "metadata": {},
   "outputs": [],
   "source": [
    "#descompactar \n",
    "base = tarfile.open('mnist_png.tar.gz') \n",
    "# extrair para o direitório padrão \n",
    "base.extractall('./')\n",
    "# para liberar memoria\n",
    "base.close()"
   ]
  },
  {
   "cell_type": "code",
   "execution_count": 4,
   "id": "eb8644d5-8a48-44a2-9ac3-28ce21ff0761",
   "metadata": {
    "tags": []
   },
   "outputs": [
    {
     "data": {
      "text/plain": [
       "('im2rec.py', <http.client.HTTPMessage at 0x7f4c3c644d30>)"
      ]
     },
     "execution_count": 4,
     "metadata": {},
     "output_type": "execute_result"
    }
   ],
   "source": [
    "# download de script para rec\n",
    "# https://awstip.com/make-recordio-files-for-training-on-amazon-sagemaker-a5fe2e6c22eb\n",
    "script_url = \"https://raw.githubusercontent.com/apache/incubator-mxnet/master/tools/im2rec.py\"\n",
    "urllib.request.urlretrieve(script_url, 'im2rec.py')"
   ]
  },
  {
   "cell_type": "code",
   "execution_count": 5,
   "id": "40dce851-fb95-4139-b01a-a9b17ecc07d5",
   "metadata": {
    "tags": []
   },
   "outputs": [
    {
     "name": "stdout",
     "output_type": "stream",
     "text": [
      "0 0\n",
      "1 1\n",
      "2 2\n",
      "3 3\n",
      "4 4\n",
      "5 5\n",
      "6 6\n",
      "7 7\n",
      "8 8\n",
      "9 9\n"
     ]
    }
   ],
   "source": [
    "# será criado um arquivo extensão lst depois criamos para rec\n",
    "!python im2rec.py --list --recursive train_data_mnist mnist_png/training"
   ]
  },
  {
   "cell_type": "code",
   "execution_count": 3,
   "id": "90b241c6-e1a6-4383-99a0-ab24d64fb288",
   "metadata": {},
   "outputs": [
    {
     "name": "stdout",
     "output_type": "stream",
     "text": [
      "0 0\n",
      "0/.ipynb_checkpoints 1\n",
      "1 2\n",
      "2 3\n",
      "3 4\n",
      "4 5\n",
      "5 6\n",
      "6 7\n",
      "7 8\n",
      "8 9\n",
      "9 10\n"
     ]
    }
   ],
   "source": [
    "!python im2rec.py --list --recursive test_data_mnist mnist_png/testing"
   ]
  },
  {
   "cell_type": "code",
   "execution_count": 4,
   "id": "c7253223-0525-4f50-a481-a805bd69528e",
   "metadata": {
    "tags": []
   },
   "outputs": [
    {
     "name": "stdout",
     "output_type": "stream",
     "text": [
      "Creating .rec file from /root/rede-neural/train_data_mnist.lst in /root/rede-neural\n",
      "time: 0.0346677303314209  count: 0\n",
      "time: 4.6495583057403564  count: 1000\n",
      "time: 4.347126245498657  count: 2000\n",
      "time: 4.272626638412476  count: 3000\n",
      "time: 4.144980430603027  count: 4000\n",
      "time: 4.1235620975494385  count: 5000\n",
      "time: 4.228705406188965  count: 6000\n",
      "time: 4.308286905288696  count: 7000\n",
      "time: 4.226806402206421  count: 8000\n",
      "time: 4.246553421020508  count: 9000\n",
      "time: 4.226423263549805  count: 10000\n",
      "time: 4.88622784614563  count: 11000\n",
      "time: 4.355528354644775  count: 12000\n",
      "time: 4.306909084320068  count: 13000\n",
      "time: 4.211307525634766  count: 14000\n",
      "time: 4.283477306365967  count: 15000\n",
      "time: 4.270052194595337  count: 16000\n",
      "time: 5.528489828109741  count: 17000\n",
      "time: 4.090841293334961  count: 18000\n",
      "time: 4.273306608200073  count: 19000\n",
      "time: 4.1561267375946045  count: 20000\n",
      "time: 4.203909397125244  count: 21000\n",
      "time: 4.123006343841553  count: 22000\n",
      "time: 4.2314772605896  count: 23000\n",
      "time: 4.166630268096924  count: 24000\n",
      "time: 4.5417163372039795  count: 25000\n",
      "time: 4.168318510055542  count: 26000\n",
      "time: 4.285093545913696  count: 27000\n",
      "time: 4.192503213882446  count: 28000\n",
      "time: 4.144554376602173  count: 29000\n",
      "time: 4.16408896446228  count: 30000\n",
      "time: 4.210537910461426  count: 31000\n",
      "time: 4.219538688659668  count: 32000\n",
      "time: 4.21453595161438  count: 33000\n",
      "time: 4.057977676391602  count: 34000\n",
      "time: 4.141166687011719  count: 35000\n",
      "time: 4.016032457351685  count: 36000\n",
      "time: 4.044001817703247  count: 37000\n",
      "time: 4.071963310241699  count: 38000\n",
      "time: 4.249474287033081  count: 39000\n",
      "time: 4.1053266525268555  count: 40000\n",
      "time: 4.095170497894287  count: 41000\n",
      "time: 4.109805583953857  count: 42000\n",
      "time: 4.045435667037964  count: 43000\n",
      "time: 4.114508628845215  count: 44000\n",
      "time: 4.132440090179443  count: 45000\n",
      "time: 4.101912260055542  count: 46000\n",
      "time: 4.064846992492676  count: 47000\n",
      "time: 4.014323711395264  count: 48000\n",
      "time: 4.103382587432861  count: 49000\n",
      "time: 4.108140468597412  count: 50000\n",
      "time: 4.032623529434204  count: 51000\n",
      "time: 4.040191411972046  count: 52000\n",
      "time: 4.007421016693115  count: 53000\n",
      "time: 4.385880470275879  count: 54000\n",
      "time: 4.221585035324097  count: 55000\n",
      "time: 4.083800315856934  count: 56000\n",
      "time: 4.0785393714904785  count: 57000\n",
      "time: 4.029153108596802  count: 58000\n",
      "time: 4.016566753387451  count: 59000\n"
     ]
    }
   ],
   "source": [
    "!python im2rec.py --num-thread 2 train_data_mnist mnist_png/training"
   ]
  },
  {
   "cell_type": "code",
   "execution_count": 5,
   "id": "90c37bf1-7b04-44bd-a0d6-14e055955ee5",
   "metadata": {
    "tags": []
   },
   "outputs": [
    {
     "name": "stdout",
     "output_type": "stream",
     "text": [
      "Creating .rec file from /root/rede-neural/test_data_mnist.lst in /root/rede-neural\n",
      "time: 0.024582624435424805  count: 0\n",
      "time: 2.939357280731201  count: 1000\n",
      "time: 3.870227575302124  count: 2000\n",
      "time: 3.8115968704223633  count: 3000\n",
      "time: 3.9712321758270264  count: 4000\n",
      "time: 4.171115875244141  count: 5000\n",
      "time: 3.9943861961364746  count: 6000\n",
      "time: 4.227914094924927  count: 7000\n",
      "time: 3.837383985519409  count: 8000\n",
      "time: 3.8401660919189453  count: 9000\n",
      "time: 3.909902334213257  count: 10000\n"
     ]
    }
   ],
   "source": [
    "!python im2rec.py --num-thread 2 test_data_mnist mnist_png/testing"
   ]
  },
  {
   "cell_type": "markdown",
   "id": "1e75a187-4139-4b39-a065-65cffaf2e18e",
   "metadata": {},
   "source": [
    "# Configurações do sagemaker"
   ]
  },
  {
   "cell_type": "code",
   "execution_count": 6,
   "id": "221383e8-3d83-48c4-b8d5-eb8dcf5d2e73",
   "metadata": {
    "tags": []
   },
   "outputs": [],
   "source": [
    "import boto3\n",
    "import sagemaker\n",
    "from sagemaker import get_execution_role"
   ]
  },
  {
   "cell_type": "code",
   "execution_count": 15,
   "id": "13da1b54-41b0-44b6-be10-6d0fd22bd97e",
   "metadata": {
    "tags": []
   },
   "outputs": [
    {
     "name": "stdout",
     "output_type": "stream",
     "text": [
      "Localização da base de treinamento:  s3://redeneural/mnist/train\n",
      "Localização da base de teste:  s3://redeneural/mnist/test\n",
      "Localização do modelo:  s3://redeneural/mnist/output\n"
     ]
    }
   ],
   "source": [
    "bucket = 'redeneural'\n",
    "subpasta_dataset = 'mnist'\n",
    "role = get_execution_role()\n",
    "s3_treinamento = 's3://{}/{}/train'.format(bucket, subpasta_dataset)\n",
    "s3_teste = 's3://{}/{}/test'.format(bucket, subpasta_dataset)\n",
    "output_location = 's3://{}/{}/output'.format(bucket, subpasta_dataset)\n",
    "print('Localização da base de treinamento: ', s3_treinamento)\n",
    "print('Localização da base de teste: ', s3_teste)\n",
    "print('Localização do modelo: ', output_location)"
   ]
  },
  {
   "cell_type": "markdown",
   "id": "33b1bf63-de35-4504-a9d6-fbb70904b289",
   "metadata": {},
   "source": [
    "# Modelo de rede neural"
   ]
  },
  {
   "cell_type": "code",
   "execution_count": 16,
   "id": "58b62253-6eb4-4075-b649-db9090348574",
   "metadata": {
    "tags": []
   },
   "outputs": [],
   "source": [
    "# https://docs.aws.amazon.com/sagemaker/latest/dg/ecr-sa-east-1.html\n",
    "container = sagemaker.image_uris.retrieve(framework = 'image-classification',\n",
    "                                          region = boto3.Session().region_name)"
   ]
  },
  {
   "cell_type": "code",
   "execution_count": 17,
   "id": "72712d5a-2fd6-4caa-b97a-b09c35d1b6cc",
   "metadata": {
    "tags": []
   },
   "outputs": [],
   "source": [
    "# https://sagemaker.readthedocs.io/en/stable/api/training/estimators.html\n",
    "rede_neural = sagemaker.estimator.Estimator(image_uri = container,\n",
    "                                            role = role,\n",
    "                                            instance_count = 1,\n",
    "                                            instance_type = 'ml.p3.2xlarge',\n",
    "                                            input_mode = 'File', # para extensão arquivo rec\n",
    "                                            output_path = output_location)"
   ]
  },
  {
   "cell_type": "code",
   "execution_count": 18,
   "id": "259347e4-39e3-42ae-919e-17b0d3a9e81e",
   "metadata": {
    "tags": []
   },
   "outputs": [],
   "source": [
    "# image_shape esse treinamento tem somente um canal de cor \n",
    "# https://docs.aws.amazon.com/sagemaker/latest/dg/IC-Hyperparameter.html\n",
    "rede_neural.set_hyperparameters(num_layers = 110,\n",
    "                                image_shape = '1,28,28',\n",
    "                                num_classes = 10,\n",
    "                                num_training_samples = 50000,\n",
    "                                mini_batch_size = 128,\n",
    "                                epochs = 10,\n",
    "                                learning_rate = 0.001)       "
   ]
  },
  {
   "cell_type": "code",
   "execution_count": 19,
   "id": "dcf11af9-fd22-49f8-86f9-3c7c5dac9d45",
   "metadata": {
    "tags": []
   },
   "outputs": [],
   "source": [
    "train_data = sagemaker.inputs.TrainingInput(s3_treinamento,\n",
    "                                            content_type = 'application/x-recordio',\n",
    "                                            s3_data_type = 'S3Prefix')\n",
    "test_data = sagemaker.inputs.TrainingInput(s3_teste,\n",
    "                                            content_type = 'application/x-recordio',\n",
    "                                            s3_data_type = 'S3Prefix')"
   ]
  },
  {
   "cell_type": "code",
   "execution_count": 20,
   "id": "fb4e29bb-2a83-47b5-88c9-ca8510b25c5f",
   "metadata": {
    "tags": []
   },
   "outputs": [
    {
     "name": "stdout",
     "output_type": "stream",
     "text": [
      "2023-04-07 18:07:11 Starting - Starting the training job...\n",
      "2023-04-07 18:07:35 Starting - Preparing the instances for trainingProfilerReport-1680890831: InProgress\n",
      "......\n",
      "2023-04-07 18:08:40 Downloading - Downloading input data...\n",
      "2023-04-07 18:09:00 Training - Downloading the training image..................\n",
      "2023-04-07 18:12:06 Training - Training image download completed. Training in progress....\u001b[34mDocker entrypoint called with argument(s): train\u001b[0m\n",
      "\u001b[34mRunning default environment configuration script\u001b[0m\n",
      "\u001b[34mNvidia gpu devices, drivers and cuda toolkit versions (only available on hosts with GPU):\u001b[0m\n",
      "\u001b[34mFri Apr  7 18:12:30 2023       \u001b[0m\n",
      "\u001b[34m+-----------------------------------------------------------------------------+\u001b[0m\n",
      "\u001b[34m| NVIDIA-SMI 515.65.07    Driver Version: 515.65.07    CUDA Version: 11.7     |\u001b[0m\n",
      "\u001b[34m|-------------------------------+----------------------+----------------------+\u001b[0m\n",
      "\u001b[34m| GPU  Name        Persistence-M| Bus-Id        Disp.A | Volatile Uncorr. ECC |\u001b[0m\n",
      "\u001b[34m| Fan  Temp  Perf  Pwr:Usage/Cap|         Memory-Usage | GPU-Util  Compute M. |\u001b[0m\n",
      "\u001b[34m|                               |                      |               MIG M. |\u001b[0m\n",
      "\u001b[34m|===============================+======================+======================|\u001b[0m\n",
      "\u001b[34m|   0  Tesla V100-SXM2...  On   | 00000000:00:1E.0 Off |                    0 |\u001b[0m\n",
      "\u001b[34m| N/A   42C    P0    25W / 300W |      0MiB / 16384MiB |      0%      Default |\u001b[0m\n",
      "\u001b[34m|                               |                      |                  N/A |\u001b[0m\n",
      "\u001b[34m+-------------------------------+----------------------+----------------------+\n",
      "                                                                               \u001b[0m\n",
      "\u001b[34m+-----------------------------------------------------------------------------+\u001b[0m\n",
      "\u001b[34m| Processes:                                                                  |\u001b[0m\n",
      "\u001b[34m|  GPU   GI   CI        PID   Type   Process name                  GPU Memory |\u001b[0m\n",
      "\u001b[34m|        ID   ID                                                   Usage      |\u001b[0m\n",
      "\u001b[34m|=============================================================================|\u001b[0m\n",
      "\u001b[34m|  No running processes found                                                 |\u001b[0m\n",
      "\u001b[34m+-----------------------------------------------------------------------------+\u001b[0m\n",
      "\u001b[34mChecking for nvidia driver and cuda compatibility.\u001b[0m\n",
      "\u001b[34mCUDA Compatibility driver provided.\u001b[0m\n",
      "\u001b[34mProceeding with compatibility check between driver, cuda-toolkit and cuda-compat.\u001b[0m\n",
      "\u001b[34mDetected cuda-toolkit version: 11.1.\u001b[0m\n",
      "\u001b[34mDetected cuda-compat version: 455.32.00.\u001b[0m\n",
      "\u001b[34mDetected Nvidia driver version: 515.65.07.\u001b[0m\n",
      "\u001b[34mNvidia driver compatible with cuda-toolkit. Disabling cuda-compat.\u001b[0m\n",
      "\u001b[34m[04/07/2023 18:12:34 INFO 140324519249728] Reading default configuration from /opt/amazon/lib/python3.7/site-packages/image_classification/default-input.json: {'use_pretrained_model': 0, 'num_layers': 152, 'epochs': 30, 'learning_rate': 0.1, 'lr_scheduler_factor': 0.1, 'optimizer': 'sgd', 'momentum': 0, 'weight_decay': 0.0001, 'beta_1': 0.9, 'beta_2': 0.999, 'eps': 1e-08, 'gamma': 0.9, 'mini_batch_size': 32, 'image_shape': '3,224,224', 'precision_dtype': 'float32'}\u001b[0m\n",
      "\u001b[34m[04/07/2023 18:12:34 INFO 140324519249728] Merging with provided configuration from /opt/ml/input/config/hyperparameters.json: {'epochs': '10', 'image_shape': '1,28,28', 'learning_rate': '0.001', 'mini_batch_size': '128', 'num_classes': '10', 'num_layers': '110', 'num_training_samples': '50000'}\u001b[0m\n",
      "\u001b[34m[04/07/2023 18:12:34 INFO 140324519249728] Final configuration: {'use_pretrained_model': 0, 'num_layers': '110', 'epochs': '10', 'learning_rate': '0.001', 'lr_scheduler_factor': 0.1, 'optimizer': 'sgd', 'momentum': 0, 'weight_decay': 0.0001, 'beta_1': 0.9, 'beta_2': 0.999, 'eps': 1e-08, 'gamma': 0.9, 'mini_batch_size': '128', 'image_shape': '1,28,28', 'precision_dtype': 'float32', 'num_classes': '10', 'num_training_samples': '50000'}\u001b[0m\n",
      "\u001b[34m[04/07/2023 18:12:34 INFO 140324519249728] Searching for .rec files in /opt/ml/input/data/train.\u001b[0m\n",
      "\u001b[34m[04/07/2023 18:12:34 INFO 140324519249728] Searching for .rec files in /opt/ml/input/data/validation.\u001b[0m\n",
      "\u001b[34m[04/07/2023 18:12:34 INFO 140324519249728] use_pretrained_model: 0\u001b[0m\n",
      "\u001b[34m[04/07/2023 18:12:34 INFO 140324519249728] multi_label: 0\u001b[0m\n",
      "\u001b[34m[04/07/2023 18:12:34 INFO 140324519249728] Performing random weight initialization\u001b[0m\n",
      "\u001b[34m[04/07/2023 18:12:34 INFO 140324519249728] ---- Parameters ----\u001b[0m\n",
      "\u001b[34m[04/07/2023 18:12:34 INFO 140324519249728] num_layers: 110\u001b[0m\n",
      "\u001b[34m[04/07/2023 18:12:34 INFO 140324519249728] data type: <class 'numpy.float32'>\u001b[0m\n",
      "\u001b[34m[04/07/2023 18:12:34 INFO 140324519249728] epochs: 10\u001b[0m\n",
      "\u001b[34m[04/07/2023 18:12:34 INFO 140324519249728] optimizer: sgd\u001b[0m\n",
      "\u001b[34m[04/07/2023 18:12:34 INFO 140324519249728] momentum: 0.9\u001b[0m\n",
      "\u001b[34m[04/07/2023 18:12:34 INFO 140324519249728] weight_decay: 0.0001\u001b[0m\n",
      "\u001b[34m[04/07/2023 18:12:34 INFO 140324519249728] learning_rate: 0.001\u001b[0m\n",
      "\u001b[34m[04/07/2023 18:12:34 INFO 140324519249728] num_training_samples: 50000\u001b[0m\n",
      "\u001b[34m[04/07/2023 18:12:34 INFO 140324519249728] mini_batch_size: 128\u001b[0m\n",
      "\u001b[34m[04/07/2023 18:12:34 INFO 140324519249728] image_shape: 1,28,28\u001b[0m\n",
      "\u001b[34m[04/07/2023 18:12:34 INFO 140324519249728] num_classes: 10\u001b[0m\n",
      "\u001b[34m[04/07/2023 18:12:34 INFO 140324519249728] augmentation_type: None\u001b[0m\n",
      "\u001b[34m[04/07/2023 18:12:34 INFO 140324519249728] kv_store: device\u001b[0m\n",
      "\u001b[34m[04/07/2023 18:12:34 INFO 140324519249728] checkpoint_frequency not set, will store the best model\u001b[0m\n",
      "\u001b[34m[04/07/2023 18:12:34 INFO 140324519249728] --------------------\u001b[0m\n",
      "\u001b[34m[04/07/2023 18:12:34 INFO 140324519249728] Setting number of threads: 7\u001b[0m\n",
      "\u001b[34m[18:12:38] /opt/brazil-pkg-cache/packages/AIAlgorithmsMXNet/AIAlgorithmsMXNet-1.4.x_ecl_Cuda_11.1.x.173.0/AL2_x86_64/generic-flavor/src/src/operator/nn/./cudnn/./cudnn_algoreg-inl.h:97: Running performance tests to find the best convolution algorithm, this can take a while... (setting env variable MXNET_CUDNN_AUTOTUNE_DEFAULT to 0 to disable)\u001b[0m\n",
      "\u001b[34m[04/07/2023 18:12:40 INFO 140324519249728] Epoch[0] Batch [20]#011Speed: 1228.148 samples/sec#011accuracy=0.099702\u001b[0m\n",
      "\u001b[34m[04/07/2023 18:12:42 INFO 140324519249728] Epoch[0] Batch [40]#011Speed: 1337.461 samples/sec#011accuracy=0.105755\u001b[0m\n",
      "\u001b[34m[04/07/2023 18:12:43 INFO 140324519249728] Epoch[0] Batch [60]#011Speed: 1372.166 samples/sec#011accuracy=0.108607\u001b[0m\n",
      "\u001b[34m[04/07/2023 18:12:45 INFO 140324519249728] Epoch[0] Batch [80]#011Speed: 1394.601 samples/sec#011accuracy=0.118152\u001b[0m\n",
      "\u001b[34m[04/07/2023 18:12:47 INFO 140324519249728] Epoch[0] Batch [100]#011Speed: 1395.041 samples/sec#011accuracy=0.141244\u001b[0m\n",
      "\u001b[34m[04/07/2023 18:12:49 INFO 140324519249728] Epoch[0] Batch [120]#011Speed: 1397.070 samples/sec#011accuracy=0.161738\u001b[0m\n",
      "\u001b[34m[04/07/2023 18:12:51 INFO 140324519249728] Epoch[0] Batch [140]#011Speed: 1387.915 samples/sec#011accuracy=0.177804\u001b[0m\n",
      "\u001b[34m[04/07/2023 18:12:53 INFO 140324519249728] Epoch[0] Batch [160]#011Speed: 1388.812 samples/sec#011accuracy=0.191528\u001b[0m\n",
      "\u001b[34m[04/07/2023 18:12:54 INFO 140324519249728] Epoch[0] Batch [180]#011Speed: 1393.844 samples/sec#011accuracy=0.203298\u001b[0m\n",
      "\u001b[34m[04/07/2023 18:12:56 INFO 140324519249728] Epoch[0] Batch [200]#011Speed: 1402.369 samples/sec#011accuracy=0.217001\u001b[0m\n",
      "\u001b[34m[04/07/2023 18:12:58 INFO 140324519249728] Epoch[0] Batch [220]#011Speed: 1409.542 samples/sec#011accuracy=0.230380\u001b[0m\n",
      "\u001b[34m[04/07/2023 18:12:59 INFO 140324519249728] Epoch[0] Batch [240]#011Speed: 1415.606 samples/sec#011accuracy=0.243808\u001b[0m\n",
      "\u001b[34m[04/07/2023 18:13:01 INFO 140324519249728] Epoch[0] Batch [260]#011Speed: 1418.983 samples/sec#011accuracy=0.258651\u001b[0m\n",
      "\u001b[34m[04/07/2023 18:13:03 INFO 140324519249728] Epoch[0] Batch [280]#011Speed: 1415.326 samples/sec#011accuracy=0.272742\u001b[0m\n",
      "\u001b[34m[04/07/2023 18:13:05 INFO 140324519249728] Epoch[0] Batch [300]#011Speed: 1420.187 samples/sec#011accuracy=0.287583\u001b[0m\n",
      "\u001b[34m[04/07/2023 18:13:07 INFO 140324519249728] Epoch[0] Batch [320]#011Speed: 1420.374 samples/sec#011accuracy=0.300672\u001b[0m\n",
      "\u001b[34m[04/07/2023 18:13:08 INFO 140324519249728] Epoch[0] Batch [340]#011Speed: 1423.506 samples/sec#011accuracy=0.316349\u001b[0m\n",
      "\u001b[34m[04/07/2023 18:13:10 INFO 140324519249728] Epoch[0] Batch [360]#011Speed: 1427.436 samples/sec#011accuracy=0.331111\u001b[0m\n",
      "\u001b[34m[04/07/2023 18:13:12 INFO 140324519249728] Epoch[0] Batch [380]#011Speed: 1429.248 samples/sec#011accuracy=0.345103\u001b[0m\n",
      "\u001b[34m[04/07/2023 18:13:13 INFO 140324519249728] Epoch[0] Train-accuracy=0.351603\u001b[0m\n",
      "\u001b[34m[04/07/2023 18:13:13 INFO 140324519249728] Epoch[0] Time cost=34.835\u001b[0m\n",
      "\u001b[34m[04/07/2023 18:13:15 INFO 140324519249728] Epoch[0] Validation-accuracy=0.127275\u001b[0m\n",
      "\u001b[34m[04/07/2023 18:13:15 INFO 140324519249728] Storing the best model with validation accuracy: 0.127275\u001b[0m\n",
      "\u001b[34m[04/07/2023 18:13:16 INFO 140324519249728] Saved checkpoint to \"/opt/ml/model/image-classification-0001.params\"\u001b[0m\n",
      "\u001b[34m[04/07/2023 18:13:18 INFO 140324519249728] Epoch[1] Batch [20]#011Speed: 1330.425 samples/sec#011accuracy=0.646949\u001b[0m\n",
      "\u001b[34m[04/07/2023 18:13:19 INFO 140324519249728] Epoch[1] Batch [40]#011Speed: 1375.226 samples/sec#011accuracy=0.647866\u001b[0m\n",
      "\u001b[34m[04/07/2023 18:13:21 INFO 140324519249728] Epoch[1] Batch [60]#011Speed: 1402.045 samples/sec#011accuracy=0.653817\u001b[0m\n",
      "\u001b[34m[04/07/2023 18:13:23 INFO 140324519249728] Epoch[1] Batch [80]#011Speed: 1417.710 samples/sec#011accuracy=0.663194\u001b[0m\n",
      "\u001b[34m[04/07/2023 18:13:25 INFO 140324519249728] Epoch[1] Batch [100]#011Speed: 1427.487 samples/sec#011accuracy=0.669090\u001b[0m\n",
      "\u001b[34m[04/07/2023 18:13:26 INFO 140324519249728] Epoch[1] Batch [120]#011Speed: 1435.495 samples/sec#011accuracy=0.674845\u001b[0m\n",
      "\u001b[34m[04/07/2023 18:13:28 INFO 140324519249728] Epoch[1] Batch [140]#011Speed: 1444.098 samples/sec#011accuracy=0.679688\u001b[0m\n",
      "\u001b[34m[04/07/2023 18:13:30 INFO 140324519249728] Epoch[1] Batch [160]#011Speed: 1445.141 samples/sec#011accuracy=0.683812\u001b[0m\n",
      "\u001b[34m[04/07/2023 18:13:32 INFO 140324519249728] Epoch[1] Batch [180]#011Speed: 1446.940 samples/sec#011accuracy=0.690219\u001b[0m\n",
      "\u001b[34m[04/07/2023 18:13:33 INFO 140324519249728] Epoch[1] Batch [200]#011Speed: 1450.747 samples/sec#011accuracy=0.696129\u001b[0m\n",
      "\u001b[34m[04/07/2023 18:13:35 INFO 140324519249728] Epoch[1] Batch [220]#011Speed: 1452.984 samples/sec#011accuracy=0.702701\u001b[0m\n",
      "\u001b[34m[04/07/2023 18:13:37 INFO 140324519249728] Epoch[1] Batch [240]#011Speed: 1456.011 samples/sec#011accuracy=0.709284\u001b[0m\n",
      "\u001b[34m[04/07/2023 18:13:38 INFO 140324519249728] Epoch[1] Batch [260]#011Speed: 1456.785 samples/sec#011accuracy=0.714529\u001b[0m\n",
      "\u001b[34m[04/07/2023 18:13:40 INFO 140324519249728] Epoch[1] Batch [280]#011Speed: 1458.216 samples/sec#011accuracy=0.718722\u001b[0m\n",
      "\u001b[34m[04/07/2023 18:13:42 INFO 140324519249728] Epoch[1] Batch [300]#011Speed: 1458.110 samples/sec#011accuracy=0.723085\u001b[0m\n",
      "\u001b[34m[04/07/2023 18:13:44 INFO 140324519249728] Epoch[1] Batch [320]#011Speed: 1456.115 samples/sec#011accuracy=0.727682\u001b[0m\n",
      "\u001b[34m[04/07/2023 18:13:45 INFO 140324519249728] Epoch[1] Batch [340]#011Speed: 1457.141 samples/sec#011accuracy=0.733046\u001b[0m\n",
      "\u001b[34m[04/07/2023 18:13:47 INFO 140324519249728] Epoch[1] Batch [360]#011Speed: 1457.962 samples/sec#011accuracy=0.738292\u001b[0m\n",
      "\u001b[34m[04/07/2023 18:13:49 INFO 140324519249728] Epoch[1] Batch [380]#011Speed: 1459.558 samples/sec#011accuracy=0.743254\u001b[0m\n",
      "\u001b[34m[04/07/2023 18:13:50 INFO 140324519249728] Epoch[1] Train-accuracy=0.745653\u001b[0m\n",
      "\u001b[34m[04/07/2023 18:13:50 INFO 140324519249728] Epoch[1] Time cost=34.086\u001b[0m\n",
      "\u001b[34m[04/07/2023 18:13:52 INFO 140324519249728] Epoch[1] Validation-accuracy=0.105369\u001b[0m\n",
      "\u001b[34m[04/07/2023 18:13:54 INFO 140324519249728] Epoch[2] Batch [20]#011Speed: 1407.902 samples/sec#011accuracy=0.850074\u001b[0m\n",
      "\u001b[34m[04/07/2023 18:13:56 INFO 140324519249728] Epoch[2] Batch [40]#011Speed: 1432.759 samples/sec#011accuracy=0.856898\u001b[0m\n",
      "\u001b[34m[04/07/2023 18:13:58 INFO 140324519249728] Epoch[2] Batch [60]#011Speed: 1436.716 samples/sec#011accuracy=0.858735\u001b[0m\n",
      "\u001b[34m[04/07/2023 18:14:00 INFO 140324519249728] Epoch[2] Batch [80]#011Speed: 1443.629 samples/sec#011accuracy=0.859086\u001b[0m\n",
      "\u001b[34m[04/07/2023 18:14:01 INFO 140324519249728] Epoch[2] Batch [100]#011Speed: 1436.439 samples/sec#011accuracy=0.859607\u001b[0m\n",
      "\u001b[34m[04/07/2023 18:14:03 INFO 140324519249728] Epoch[2] Batch [120]#011Speed: 1427.416 samples/sec#011accuracy=0.863895\u001b[0m\n",
      "\u001b[34m[04/07/2023 18:14:05 INFO 140324519249728] Epoch[2] Batch [140]#011Speed: 1435.039 samples/sec#011accuracy=0.865691\u001b[0m\n",
      "\u001b[34m[04/07/2023 18:14:07 INFO 140324519249728] Epoch[2] Batch [160]#011Speed: 1440.965 samples/sec#011accuracy=0.869420\u001b[0m\n",
      "\u001b[34m[04/07/2023 18:14:09 INFO 140324519249728] Epoch[2] Batch [180]#011Speed: 1444.742 samples/sec#011accuracy=0.872065\u001b[0m\n",
      "\u001b[34m[04/07/2023 18:14:10 INFO 140324519249728] Epoch[2] Batch [200]#011Speed: 1446.488 samples/sec#011accuracy=0.875428\u001b[0m\n",
      "\u001b[34m[04/07/2023 18:14:12 INFO 140324519249728] Epoch[2] Batch [220]#011Speed: 1450.059 samples/sec#011accuracy=0.879454\u001b[0m\n",
      "\u001b[34m[04/07/2023 18:14:14 INFO 140324519249728] Epoch[2] Batch [240]#011Speed: 1451.669 samples/sec#011accuracy=0.882099\u001b[0m\n",
      "\u001b[34m[04/07/2023 18:14:15 INFO 140324519249728] Epoch[2] Batch [260]#011Speed: 1454.544 samples/sec#011accuracy=0.884908\u001b[0m\n",
      "\u001b[34m[04/07/2023 18:14:17 INFO 140324519249728] Epoch[2] Batch [280]#011Speed: 1456.756 samples/sec#011accuracy=0.887956\u001b[0m\n",
      "\u001b[34m[04/07/2023 18:14:19 INFO 140324519249728] Epoch[2] Batch [300]#011Speed: 1458.852 samples/sec#011accuracy=0.890625\u001b[0m\n",
      "\u001b[34m[04/07/2023 18:14:21 INFO 140324519249728] Epoch[2] Batch [320]#011Speed: 1459.730 samples/sec#011accuracy=0.892669\u001b[0m\n",
      "\u001b[34m[04/07/2023 18:14:22 INFO 140324519249728] Epoch[2] Batch [340]#011Speed: 1461.356 samples/sec#011accuracy=0.894818\u001b[0m\n",
      "\u001b[34m[04/07/2023 18:14:24 INFO 140324519249728] Epoch[2] Batch [360]#011Speed: 1463.561 samples/sec#011accuracy=0.896923\u001b[0m\n",
      "\u001b[34m[04/07/2023 18:14:26 INFO 140324519249728] Epoch[2] Batch [380]#011Speed: 1464.296 samples/sec#011accuracy=0.898889\u001b[0m\n",
      "\u001b[34m[04/07/2023 18:14:27 INFO 140324519249728] Epoch[2] Train-accuracy=0.899800\u001b[0m\n",
      "\u001b[34m[04/07/2023 18:14:27 INFO 140324519249728] Epoch[2] Time cost=33.991\u001b[0m\n",
      "\u001b[34m[04/07/2023 18:14:29 INFO 140324519249728] Epoch[2] Validation-accuracy=0.096855\u001b[0m\n",
      "\u001b[34m[04/07/2023 18:14:31 INFO 140324519249728] Epoch[3] Batch [20]#011Speed: 1416.228 samples/sec#011accuracy=0.943452\u001b[0m\n",
      "\u001b[34m[04/07/2023 18:14:33 INFO 140324519249728] Epoch[3] Batch [40]#011Speed: 1443.920 samples/sec#011accuracy=0.940168\u001b[0m\n",
      "\u001b[34m[04/07/2023 18:14:35 INFO 140324519249728] Epoch[3] Batch [60]#011Speed: 1451.439 samples/sec#011accuracy=0.942111\u001b[0m\n",
      "\u001b[34m[04/07/2023 18:14:37 INFO 140324519249728] Epoch[3] Batch [80]#011Speed: 1456.530 samples/sec#011accuracy=0.943866\u001b[0m\n",
      "\u001b[34m[04/07/2023 18:14:38 INFO 140324519249728] Epoch[3] Batch [100]#011Speed: 1461.386 samples/sec#011accuracy=0.944307\u001b[0m\n",
      "\u001b[34m[04/07/2023 18:14:40 INFO 140324519249728] Epoch[3] Batch [120]#011Speed: 1465.089 samples/sec#011accuracy=0.944344\u001b[0m\n",
      "\u001b[34m[04/07/2023 18:14:42 INFO 140324519249728] Epoch[3] Batch [140]#011Speed: 1467.181 samples/sec#011accuracy=0.945202\u001b[0m\n",
      "\u001b[34m[04/07/2023 18:14:43 INFO 140324519249728] Epoch[3] Batch [160]#011Speed: 1469.373 samples/sec#011accuracy=0.945652\u001b[0m\n",
      "\u001b[34m[04/07/2023 18:14:45 INFO 140324519249728] Epoch[3] Batch [180]#011Speed: 1470.740 samples/sec#011accuracy=0.946262\u001b[0m\n",
      "\u001b[34m[04/07/2023 18:14:47 INFO 140324519249728] Epoch[3] Batch [200]#011Speed: 1469.729 samples/sec#011accuracy=0.947450\u001b[0m\n",
      "\u001b[34m[04/07/2023 18:14:49 INFO 140324519249728] Epoch[3] Batch [220]#011Speed: 1471.090 samples/sec#011accuracy=0.947999\u001b[0m\n",
      "\u001b[34m[04/07/2023 18:14:50 INFO 140324519249728] Epoch[3] Batch [240]#011Speed: 1470.720 samples/sec#011accuracy=0.948360\u001b[0m\n",
      "\u001b[34m[04/07/2023 18:14:52 INFO 140324519249728] Epoch[3] Batch [260]#011Speed: 1471.561 samples/sec#011accuracy=0.948904\u001b[0m\n",
      "\u001b[34m[04/07/2023 18:14:54 INFO 140324519249728] Epoch[3] Batch [280]#011Speed: 1470.924 samples/sec#011accuracy=0.948704\u001b[0m\n",
      "\u001b[34m[04/07/2023 18:14:56 INFO 140324519249728] Epoch[3] Batch [300]#011Speed: 1471.449 samples/sec#011accuracy=0.948868\u001b[0m\n",
      "\u001b[34m[04/07/2023 18:14:57 INFO 140324519249728] Epoch[3] Batch [320]#011Speed: 1471.963 samples/sec#011accuracy=0.949328\u001b[0m\n",
      "\u001b[34m[04/07/2023 18:14:59 INFO 140324519249728] Epoch[3] Batch [340]#011Speed: 1471.907 samples/sec#011accuracy=0.949757\u001b[0m\n",
      "\u001b[34m[04/07/2023 18:15:01 INFO 140324519249728] Epoch[3] Batch [360]#011Speed: 1470.958 samples/sec#011accuracy=0.949965\u001b[0m\n",
      "\u001b[34m[04/07/2023 18:15:03 INFO 140324519249728] Epoch[3] Batch [380]#011Speed: 1467.895 samples/sec#011accuracy=0.950685\u001b[0m\n",
      "\u001b[34m[04/07/2023 18:15:03 INFO 140324519249728] Epoch[3] Train-accuracy=0.950881\u001b[0m\n",
      "\u001b[34m[04/07/2023 18:15:03 INFO 140324519249728] Epoch[3] Time cost=33.950\u001b[0m\n",
      "\u001b[34m[04/07/2023 18:15:06 INFO 140324519249728] Epoch[3] Validation-accuracy=0.097055\u001b[0m\n",
      "\u001b[34m[04/07/2023 18:15:08 INFO 140324519249728] Epoch[4] Batch [20]#011Speed: 1388.435 samples/sec#011accuracy=0.962054\u001b[0m\n",
      "\u001b[34m[04/07/2023 18:15:10 INFO 140324519249728] Epoch[4] Batch [40]#011Speed: 1426.405 samples/sec#011accuracy=0.965701\u001b[0m\n",
      "\u001b[34m[04/07/2023 18:15:12 INFO 140324519249728] Epoch[4] Batch [60]#011Speed: 1439.911 samples/sec#011accuracy=0.964908\u001b[0m\n",
      "\u001b[34m[04/07/2023 18:15:13 INFO 140324519249728] Epoch[4] Batch [80]#011Speed: 1445.323 samples/sec#011accuracy=0.963831\u001b[0m\n",
      "\u001b[34m[04/07/2023 18:15:15 INFO 140324519249728] Epoch[4] Batch [100]#011Speed: 1447.679 samples/sec#011accuracy=0.964109\u001b[0m\n",
      "\u001b[34m[04/07/2023 18:15:17 INFO 140324519249728] Epoch[4] Batch [120]#011Speed: 1445.732 samples/sec#011accuracy=0.965393\u001b[0m\n",
      "\u001b[34m[04/07/2023 18:15:19 INFO 140324519249728] Epoch[4] Batch [140]#011Speed: 1451.382 samples/sec#011accuracy=0.965259\u001b[0m\n",
      "\u001b[34m[04/07/2023 18:15:20 INFO 140324519249728] Epoch[4] Batch [160]#011Speed: 1450.971 samples/sec#011accuracy=0.964722\u001b[0m\n",
      "\u001b[34m[04/07/2023 18:15:22 INFO 140324519249728] Epoch[4] Batch [180]#011Speed: 1454.770 samples/sec#011accuracy=0.964995\u001b[0m\n",
      "\u001b[34m[04/07/2023 18:15:24 INFO 140324519249728] Epoch[4] Batch [200]#011Speed: 1458.840 samples/sec#011accuracy=0.964669\u001b[0m\n",
      "\u001b[34m[04/07/2023 18:15:26 INFO 140324519249728] Epoch[4] Batch [220]#011Speed: 1461.323 samples/sec#011accuracy=0.965215\u001b[0m\n",
      "\u001b[34m[04/07/2023 18:15:27 INFO 140324519249728] Epoch[4] Batch [240]#011Speed: 1460.109 samples/sec#011accuracy=0.965670\u001b[0m\n",
      "\u001b[34m[04/07/2023 18:15:29 INFO 140324519249728] Epoch[4] Batch [260]#011Speed: 1461.465 samples/sec#011accuracy=0.965487\u001b[0m\n",
      "\u001b[34m[04/07/2023 18:15:31 INFO 140324519249728] Epoch[4] Batch [280]#011Speed: 1460.385 samples/sec#011accuracy=0.966053\u001b[0m\n",
      "\u001b[34m[04/07/2023 18:15:33 INFO 140324519249728] Epoch[4] Batch [300]#011Speed: 1462.093 samples/sec#011accuracy=0.966154\u001b[0m\n",
      "\u001b[34m[04/07/2023 18:15:34 INFO 140324519249728] Epoch[4] Batch [320]#011Speed: 1463.359 samples/sec#011accuracy=0.966243\u001b[0m\n",
      "\u001b[34m[04/07/2023 18:15:36 INFO 140324519249728] Epoch[4] Batch [340]#011Speed: 1463.641 samples/sec#011accuracy=0.967009\u001b[0m\n",
      "\u001b[34m[04/07/2023 18:15:38 INFO 140324519249728] Epoch[4] Batch [360]#011Speed: 1463.389 samples/sec#011accuracy=0.967625\u001b[0m\n",
      "\u001b[34m[04/07/2023 18:15:40 INFO 140324519249728] Epoch[4] Batch [380]#011Speed: 1463.331 samples/sec#011accuracy=0.967745\u001b[0m\n",
      "\u001b[34m[04/07/2023 18:15:40 INFO 140324519249728] Epoch[4] Train-accuracy=0.967448\u001b[0m\n",
      "\u001b[34m[04/07/2023 18:15:40 INFO 140324519249728] Epoch[4] Time cost=34.054\u001b[0m\n",
      "\u001b[34m[04/07/2023 18:15:43 INFO 140324519249728] Epoch[4] Validation-accuracy=0.098558\u001b[0m\n",
      "\u001b[34m[04/07/2023 18:15:45 INFO 140324519249728] Epoch[5] Batch [20]#011Speed: 1399.208 samples/sec#011accuracy=0.968750\u001b[0m\n",
      "\u001b[34m[04/07/2023 18:15:47 INFO 140324519249728] Epoch[5] Batch [40]#011Speed: 1428.418 samples/sec#011accuracy=0.971799\u001b[0m\n",
      "\u001b[34m[04/07/2023 18:15:49 INFO 140324519249728] Epoch[5] Batch [60]#011Speed: 1443.696 samples/sec#011accuracy=0.972592\u001b[0m\n",
      "\u001b[34m[04/07/2023 18:15:50 INFO 140324519249728] Epoch[5] Batch [80]#011Speed: 1453.319 samples/sec#011accuracy=0.973187\u001b[0m\n",
      "\u001b[34m[04/07/2023 18:15:52 INFO 140324519249728] Epoch[5] Batch [100]#011Speed: 1461.256 samples/sec#011accuracy=0.973314\u001b[0m\n",
      "\u001b[34m[04/07/2023 18:15:54 INFO 140324519249728] Epoch[5] Batch [120]#011Speed: 1458.454 samples/sec#011accuracy=0.973011\u001b[0m\n",
      "\u001b[34m[04/07/2023 18:15:56 INFO 140324519249728] Epoch[5] Batch [140]#011Speed: 1460.926 samples/sec#011accuracy=0.973460\u001b[0m\n",
      "\u001b[34m[04/07/2023 18:15:57 INFO 140324519249728] Epoch[5] Batch [160]#011Speed: 1461.379 samples/sec#011accuracy=0.973748\u001b[0m\n",
      "\u001b[34m[04/07/2023 18:15:59 INFO 140324519249728] Epoch[5] Batch [180]#011Speed: 1463.534 samples/sec#011accuracy=0.973584\u001b[0m\n",
      "\u001b[34m[04/07/2023 18:16:01 INFO 140324519249728] Epoch[5] Batch [200]#011Speed: 1464.905 samples/sec#011accuracy=0.973803\u001b[0m\n",
      "\u001b[34m[04/07/2023 18:16:03 INFO 140324519249728] Epoch[5] Batch [220]#011Speed: 1458.768 samples/sec#011accuracy=0.974194\u001b[0m\n",
      "\u001b[34m[04/07/2023 18:16:04 INFO 140324519249728] Epoch[5] Batch [240]#011Speed: 1456.651 samples/sec#011accuracy=0.974131\u001b[0m\n",
      "\u001b[34m[04/07/2023 18:16:06 INFO 140324519249728] Epoch[5] Batch [260]#011Speed: 1458.659 samples/sec#011accuracy=0.974976\u001b[0m\n",
      "\u001b[34m[04/07/2023 18:16:08 INFO 140324519249728] Epoch[5] Batch [280]#011Speed: 1459.800 samples/sec#011accuracy=0.974755\u001b[0m\n",
      "\u001b[34m[04/07/2023 18:16:10 INFO 140324519249728] Epoch[5] Batch [300]#011Speed: 1461.079 samples/sec#011accuracy=0.974927\u001b[0m\n",
      "\u001b[34m[04/07/2023 18:16:11 INFO 140324519249728] Epoch[5] Batch [320]#011Speed: 1462.087 samples/sec#011accuracy=0.975151\u001b[0m\n",
      "\u001b[34m[04/07/2023 18:16:13 INFO 140324519249728] Epoch[5] Batch [340]#011Speed: 1461.309 samples/sec#011accuracy=0.975119\u001b[0m\n",
      "\u001b[34m[04/07/2023 18:16:15 INFO 140324519249728] Epoch[5] Batch [360]#011Speed: 1462.773 samples/sec#011accuracy=0.975286\u001b[0m\n",
      "\u001b[34m[04/07/2023 18:16:17 INFO 140324519249728] Epoch[5] Batch [380]#011Speed: 1463.812 samples/sec#011accuracy=0.975353\u001b[0m\n",
      "\u001b[34m[04/07/2023 18:16:17 INFO 140324519249728] Epoch[5] Train-accuracy=0.975381\u001b[0m\n",
      "\u001b[34m[04/07/2023 18:16:17 INFO 140324519249728] Epoch[5] Time cost=33.991\u001b[0m\n",
      "\u001b[34m[04/07/2023 18:16:20 INFO 140324519249728] Epoch[5] Validation-accuracy=0.097857\u001b[0m\n",
      "\u001b[34m[04/07/2023 18:16:22 INFO 140324519249728] Epoch[6] Batch [20]#011Speed: 1418.625 samples/sec#011accuracy=0.981399\u001b[0m\n",
      "\u001b[34m[04/07/2023 18:16:24 INFO 140324519249728] Epoch[6] Batch [40]#011Speed: 1448.598 samples/sec#011accuracy=0.980373\u001b[0m\n",
      "\u001b[34m[04/07/2023 18:16:26 INFO 140324519249728] Epoch[6] Batch [60]#011Speed: 1452.098 samples/sec#011accuracy=0.979764\u001b[0m\n",
      "\u001b[34m[04/07/2023 18:16:27 INFO 140324519249728] Epoch[6] Batch [80]#011Speed: 1456.614 samples/sec#011accuracy=0.979842\u001b[0m\n",
      "\u001b[34m[04/07/2023 18:16:29 INFO 140324519249728] Epoch[6] Batch [100]#011Speed: 1460.008 samples/sec#011accuracy=0.978960\u001b[0m\n",
      "\u001b[34m[04/07/2023 18:16:31 INFO 140324519249728] Epoch[6] Batch [120]#011Speed: 1460.610 samples/sec#011accuracy=0.979985\u001b[0m\n",
      "\u001b[34m[04/07/2023 18:16:32 INFO 140324519249728] Epoch[6] Batch [140]#011Speed: 1461.770 samples/sec#011accuracy=0.980607\u001b[0m\n",
      "\u001b[34m[04/07/2023 18:16:34 INFO 140324519249728] Epoch[6] Batch [160]#011Speed: 1461.902 samples/sec#011accuracy=0.980056\u001b[0m\n",
      "\u001b[34m[04/07/2023 18:16:36 INFO 140324519249728] Epoch[6] Batch [180]#011Speed: 1461.960 samples/sec#011accuracy=0.980016\u001b[0m\n",
      "\u001b[34m[04/07/2023 18:16:38 INFO 140324519249728] Epoch[6] Batch [200]#011Speed: 1463.974 samples/sec#011accuracy=0.980294\u001b[0m\n",
      "\u001b[34m[04/07/2023 18:16:39 INFO 140324519249728] Epoch[6] Batch [220]#011Speed: 1466.263 samples/sec#011accuracy=0.980451\u001b[0m\n",
      "\u001b[34m[04/07/2023 18:16:41 INFO 140324519249728] Epoch[6] Batch [240]#011Speed: 1466.367 samples/sec#011accuracy=0.980161\u001b[0m\n",
      "\u001b[34m[04/07/2023 18:16:43 INFO 140324519249728] Epoch[6] Batch [260]#011Speed: 1467.981 samples/sec#011accuracy=0.980424\u001b[0m\n",
      "\u001b[34m[04/07/2023 18:16:45 INFO 140324519249728] Epoch[6] Batch [280]#011Speed: 1468.049 samples/sec#011accuracy=0.980344\u001b[0m\n",
      "\u001b[34m[04/07/2023 18:16:46 INFO 140324519249728] Epoch[6] Batch [300]#011Speed: 1469.164 samples/sec#011accuracy=0.980040\u001b[0m\n",
      "\u001b[34m[04/07/2023 18:16:48 INFO 140324519249728] Epoch[6] Batch [320]#011Speed: 1471.050 samples/sec#011accuracy=0.980189\u001b[0m\n",
      "\u001b[34m[04/07/2023 18:16:50 INFO 140324519249728] Epoch[6] Batch [340]#011Speed: 1469.860 samples/sec#011accuracy=0.980251\u001b[0m\n",
      "\u001b[34m[04/07/2023 18:16:52 INFO 140324519249728] Epoch[6] Batch [360]#011Speed: 1469.648 samples/sec#011accuracy=0.980436\u001b[0m\n",
      "\u001b[34m[04/07/2023 18:16:53 INFO 140324519249728] Epoch[6] Batch [380]#011Speed: 1470.075 samples/sec#011accuracy=0.980541\u001b[0m\n",
      "\u001b[34m[04/07/2023 18:16:54 INFO 140324519249728] Epoch[6] Train-accuracy=0.980509\u001b[0m\n",
      "\u001b[34m[04/07/2023 18:16:54 INFO 140324519249728] Epoch[6] Time cost=33.870\u001b[0m\n",
      "\u001b[34m[04/07/2023 18:16:57 INFO 140324519249728] Epoch[6] Validation-accuracy=0.098558\u001b[0m\n",
      "\u001b[34m[04/07/2023 18:16:59 INFO 140324519249728] Epoch[7] Batch [20]#011Speed: 1398.774 samples/sec#011accuracy=0.983631\u001b[0m\n",
      "\u001b[34m[04/07/2023 18:17:01 INFO 140324519249728] Epoch[7] Batch [40]#011Speed: 1426.148 samples/sec#011accuracy=0.984756\u001b[0m\n",
      "\u001b[34m[04/07/2023 18:17:02 INFO 140324519249728] Epoch[7] Batch [60]#011Speed: 1421.468 samples/sec#011accuracy=0.983991\u001b[0m\n",
      "\u001b[34m[04/07/2023 18:17:04 INFO 140324519249728] Epoch[7] Batch [80]#011Speed: 1418.654 samples/sec#011accuracy=0.984279\u001b[0m\n",
      "\u001b[34m[04/07/2023 18:17:06 INFO 140324519249728] Epoch[7] Batch [100]#011Speed: 1427.482 samples/sec#011accuracy=0.983988\u001b[0m\n",
      "\u001b[34m[04/07/2023 18:17:08 INFO 140324519249728] Epoch[7] Batch [120]#011Speed: 1434.569 samples/sec#011accuracy=0.983665\u001b[0m\n",
      "\u001b[34m[04/07/2023 18:17:09 INFO 140324519249728] Epoch[7] Batch [140]#011Speed: 1436.696 samples/sec#011accuracy=0.983821\u001b[0m\n",
      "\u001b[34m[04/07/2023 18:17:11 INFO 140324519249728] Epoch[7] Batch [160]#011Speed: 1437.301 samples/sec#011accuracy=0.983890\u001b[0m\n",
      "\u001b[34m[04/07/2023 18:17:13 INFO 140324519249728] Epoch[7] Batch [180]#011Speed: 1438.988 samples/sec#011accuracy=0.983987\u001b[0m\n",
      "\u001b[34m[04/07/2023 18:17:15 INFO 140324519249728] Epoch[7] Batch [200]#011Speed: 1443.022 samples/sec#011accuracy=0.984142\u001b[0m\n",
      "\u001b[34m[04/07/2023 18:17:17 INFO 140324519249728] Epoch[7] Batch [220]#011Speed: 1445.843 samples/sec#011accuracy=0.983951\u001b[0m\n",
      "\u001b[34m[04/07/2023 18:17:18 INFO 140324519249728] Epoch[7] Batch [240]#011Speed: 1446.069 samples/sec#011accuracy=0.983694\u001b[0m\n",
      "\u001b[34m[04/07/2023 18:17:20 INFO 140324519249728] Epoch[7] Batch [260]#011Speed: 1447.694 samples/sec#011accuracy=0.983477\u001b[0m\n",
      "\u001b[34m[04/07/2023 18:17:22 INFO 140324519249728] Epoch[7] Batch [280]#011Speed: 1448.654 samples/sec#011accuracy=0.983374\u001b[0m\n",
      "\u001b[34m[04/07/2023 18:17:24 INFO 140324519249728] Epoch[7] Batch [300]#011Speed: 1450.474 samples/sec#011accuracy=0.983518\u001b[0m\n",
      "\u001b[34m[04/07/2023 18:17:25 INFO 140324519249728] Epoch[7] Batch [320]#011Speed: 1449.760 samples/sec#011accuracy=0.983864\u001b[0m\n",
      "\u001b[34m[04/07/2023 18:17:27 INFO 140324519249728] Epoch[7] Batch [340]#011Speed: 1450.600 samples/sec#011accuracy=0.983986\u001b[0m\n",
      "\u001b[34m[04/07/2023 18:17:29 INFO 140324519249728] Epoch[7] Batch [360]#011Speed: 1451.829 samples/sec#011accuracy=0.983964\u001b[0m\n",
      "\u001b[34m[04/07/2023 18:17:30 INFO 140324519249728] Epoch[7] Batch [380]#011Speed: 1453.132 samples/sec#011accuracy=0.984170\u001b[0m\n",
      "\u001b[34m[04/07/2023 18:17:31 INFO 140324519249728] Epoch[7] Train-accuracy=0.983894\u001b[0m\n",
      "\u001b[34m[04/07/2023 18:17:31 INFO 140324519249728] Epoch[7] Time cost=34.231\u001b[0m\n",
      "\u001b[34m[04/07/2023 18:17:34 INFO 140324519249728] Epoch[7] Validation-accuracy=0.097508\u001b[0m\n",
      "\u001b[34m[04/07/2023 18:17:36 INFO 140324519249728] Epoch[8] Batch [20]#011Speed: 1388.774 samples/sec#011accuracy=0.983259\u001b[0m\n",
      "\u001b[34m[04/07/2023 18:17:38 INFO 140324519249728] Epoch[8] Batch [40]#011Speed: 1431.906 samples/sec#011accuracy=0.984184\u001b[0m\n",
      "\u001b[34m[04/07/2023 18:17:40 INFO 140324519249728] Epoch[8] Batch [60]#011Speed: 1439.855 samples/sec#011accuracy=0.985143\u001b[0m\n",
      "\u001b[34m[04/07/2023 18:17:41 INFO 140324519249728] Epoch[8] Batch [80]#011Speed: 1445.562 samples/sec#011accuracy=0.984375\u001b[0m\n",
      "\u001b[34m[04/07/2023 18:17:43 INFO 140324519249728] Epoch[8] Batch [100]#011Speed: 1449.240 samples/sec#011accuracy=0.985690\u001b[0m\n",
      "\u001b[34m[04/07/2023 18:17:45 INFO 140324519249728] Epoch[8] Batch [120]#011Speed: 1450.728 samples/sec#011accuracy=0.985408\u001b[0m\n",
      "\u001b[34m[04/07/2023 18:17:47 INFO 140324519249728] Epoch[8] Batch [140]#011Speed: 1453.609 samples/sec#011accuracy=0.985372\u001b[0m\n",
      "\u001b[34m[04/07/2023 18:17:48 INFO 140324519249728] Epoch[8] Batch [160]#011Speed: 1455.380 samples/sec#011accuracy=0.985831\u001b[0m\n",
      "\u001b[34m[04/07/2023 18:17:50 INFO 140324519249728] Epoch[8] Batch [180]#011Speed: 1451.376 samples/sec#011accuracy=0.986015\u001b[0m\n",
      "\u001b[34m[04/07/2023 18:17:52 INFO 140324519249728] Epoch[8] Batch [200]#011Speed: 1451.667 samples/sec#011accuracy=0.985969\u001b[0m\n",
      "\u001b[34m[04/07/2023 18:17:54 INFO 140324519249728] Epoch[8] Batch [220]#011Speed: 1454.842 samples/sec#011accuracy=0.985966\u001b[0m\n",
      "\u001b[34m[04/07/2023 18:17:55 INFO 140324519249728] Epoch[8] Batch [240]#011Speed: 1458.023 samples/sec#011accuracy=0.986028\u001b[0m\n",
      "\u001b[34m[04/07/2023 18:17:57 INFO 140324519249728] Epoch[8] Batch [260]#011Speed: 1460.643 samples/sec#011accuracy=0.986351\u001b[0m\n",
      "\u001b[34m[04/07/2023 18:17:59 INFO 140324519249728] Epoch[8] Batch [280]#011Speed: 1461.090 samples/sec#011accuracy=0.986293\u001b[0m\n",
      "\u001b[34m[04/07/2023 18:18:01 INFO 140324519249728] Epoch[8] Batch [300]#011Speed: 1460.528 samples/sec#011accuracy=0.986244\u001b[0m\n",
      "\u001b[34m[04/07/2023 18:18:02 INFO 140324519249728] Epoch[8] Batch [320]#011Speed: 1459.434 samples/sec#011accuracy=0.986371\u001b[0m\n",
      "\u001b[34m[04/07/2023 18:18:04 INFO 140324519249728] Epoch[8] Batch [340]#011Speed: 1454.990 samples/sec#011accuracy=0.986506\u001b[0m\n",
      "\u001b[34m[04/07/2023 18:18:06 INFO 140324519249728] Epoch[8] Batch [360]#011Speed: 1455.236 samples/sec#011accuracy=0.986626\u001b[0m\n",
      "\u001b[34m[04/07/2023 18:18:08 INFO 140324519249728] Epoch[8] Batch [380]#011Speed: 1456.663 samples/sec#011accuracy=0.986323\u001b[0m\n",
      "\u001b[34m[04/07/2023 18:18:08 INFO 140324519249728] Epoch[8] Train-accuracy=0.986318\u001b[0m\n",
      "\u001b[34m[04/07/2023 18:18:08 INFO 140324519249728] Epoch[8] Time cost=34.195\u001b[0m\n",
      "\u001b[34m[04/07/2023 18:18:11 INFO 140324519249728] Epoch[8] Validation-accuracy=0.097957\u001b[0m\n",
      "\u001b[34m[04/07/2023 18:18:13 INFO 140324519249728] Epoch[9] Batch [20]#011Speed: 1414.443 samples/sec#011accuracy=0.985863\u001b[0m\n",
      "\u001b[34m[04/07/2023 18:18:15 INFO 140324519249728] Epoch[9] Batch [40]#011Speed: 1442.785 samples/sec#011accuracy=0.988186\u001b[0m\n",
      "\u001b[34m[04/07/2023 18:18:17 INFO 140324519249728] Epoch[9] Batch [60]#011Speed: 1448.517 samples/sec#011accuracy=0.987961\u001b[0m\n",
      "\u001b[34m[04/07/2023 18:18:18 INFO 140324519249728] Epoch[9] Batch [80]#011Speed: 1450.307 samples/sec#011accuracy=0.988619\u001b[0m\n",
      "\u001b[34m[04/07/2023 18:18:20 INFO 140324519249728] Epoch[9] Batch [100]#011Speed: 1456.217 samples/sec#011accuracy=0.988397\u001b[0m\n",
      "\u001b[34m[04/07/2023 18:18:22 INFO 140324519249728] Epoch[9] Batch [120]#011Speed: 1456.971 samples/sec#011accuracy=0.988120\u001b[0m\n",
      "\u001b[34m[04/07/2023 18:18:24 INFO 140324519249728] Epoch[9] Batch [140]#011Speed: 1459.696 samples/sec#011accuracy=0.988198\u001b[0m\n",
      "\u001b[34m[04/07/2023 18:18:25 INFO 140324519249728] Epoch[9] Batch [160]#011Speed: 1465.514 samples/sec#011accuracy=0.987869\u001b[0m\n",
      "\u001b[34m[04/07/2023 18:18:27 INFO 140324519249728] Epoch[9] Batch [180]#011Speed: 1465.527 samples/sec#011accuracy=0.987914\u001b[0m\n",
      "\u001b[34m[04/07/2023 18:18:29 INFO 140324519249728] Epoch[9] Batch [200]#011Speed: 1465.967 samples/sec#011accuracy=0.988067\u001b[0m\n",
      "\u001b[34m[04/07/2023 18:18:31 INFO 140324519249728] Epoch[9] Batch [220]#011Speed: 1463.976 samples/sec#011accuracy=0.988334\u001b[0m\n",
      "\u001b[34m[04/07/2023 18:18:32 INFO 140324519249728] Epoch[9] Batch [240]#011Speed: 1463.282 samples/sec#011accuracy=0.987941\u001b[0m\n",
      "\u001b[34m[04/07/2023 18:18:34 INFO 140324519249728] Epoch[9] Batch [260]#011Speed: 1463.426 samples/sec#011accuracy=0.987967\u001b[0m\n",
      "\u001b[34m[04/07/2023 18:18:36 INFO 140324519249728] Epoch[9] Batch [280]#011Speed: 1461.393 samples/sec#011accuracy=0.988156\u001b[0m\n",
      "\u001b[34m[04/07/2023 18:18:38 INFO 140324519249728] Epoch[9] Batch [300]#011Speed: 1462.573 samples/sec#011accuracy=0.988216\u001b[0m\n",
      "\u001b[34m[04/07/2023 18:18:39 INFO 140324519249728] Epoch[9] Batch [320]#011Speed: 1462.048 samples/sec#011accuracy=0.988074\u001b[0m\n",
      "\u001b[34m[04/07/2023 18:18:41 INFO 140324519249728] Epoch[9] Batch [340]#011Speed: 1460.957 samples/sec#011accuracy=0.988018\u001b[0m\n",
      "\u001b[34m[04/07/2023 18:18:43 INFO 140324519249728] Epoch[9] Batch [360]#011Speed: 1462.118 samples/sec#011accuracy=0.988054\u001b[0m\n",
      "\u001b[34m[04/07/2023 18:18:45 INFO 140324519249728] Epoch[9] Batch [380]#011Speed: 1462.266 samples/sec#011accuracy=0.987902\u001b[0m\n",
      "\u001b[34m[04/07/2023 18:18:45 INFO 140324519249728] Epoch[9] Train-accuracy=0.987680\u001b[0m\n",
      "\u001b[34m[04/07/2023 18:18:45 INFO 140324519249728] Epoch[9] Time cost=34.064\u001b[0m\n",
      "\n",
      "2023-04-07 18:18:58 Uploading - Uploading generated training model\u001b[34m[04/07/2023 18:18:48 INFO 140324519249728] Epoch[9] Validation-accuracy=0.098157\u001b[0m\n",
      "\n",
      "2023-04-07 18:19:18 Completed - Training job completed\n",
      "ProfilerReport-1680890831: IssuesFound\n",
      "Training seconds: 625\n",
      "Billable seconds: 625\n"
     ]
    }
   ],
   "source": [
    "rede_neural.fit({'train': train_data, 'validation': test_data})"
   ]
  },
  {
   "cell_type": "markdown",
   "id": "6aadcadd-9ea2-4327-ab99-80da3017e5aa",
   "metadata": {},
   "source": [
    "# Deploy"
   ]
  },
  {
   "cell_type": "code",
   "execution_count": 21,
   "id": "e8fdbb91-15d6-4c6b-8290-608c5f8b9b45",
   "metadata": {
    "tags": []
   },
   "outputs": [
    {
     "name": "stdout",
     "output_type": "stream",
     "text": [
      "------------!"
     ]
    }
   ],
   "source": [
    "rede_neural_classificador = rede_neural.deploy(initial_instance_count=1, instance_type = 'ml.m4.xlarge')"
   ]
  },
  {
   "cell_type": "code",
   "execution_count": null,
   "id": "d179e9aa-468d-403e-bbf7-b0174cb30d8c",
   "metadata": {},
   "outputs": [],
   "source": [
    "imagem = open('digit.png', 'rb').read()"
   ]
  },
  {
   "cell_type": "code",
   "execution_count": null,
   "id": "f8f38a34-f1b6-4f13-bade-c213f614e98a",
   "metadata": {},
   "outputs": [],
   "source": [
    "runtime = boto3.Session().client(service_name = 'sagemaker-runtime')\n",
    "resposta = runtime.invoke_endpoint(EndpointName = 'image-classification-2023-04-07-18-20-01-871', \n",
    "                                   ContentType = 'application/x-image', \n",
    "                                   Body=bytearray(imagem))"
   ]
  },
  {
   "cell_type": "code",
   "execution_count": null,
   "id": "a19cd687-b479-4250-a49c-c76e54124937",
   "metadata": {},
   "outputs": [],
   "source": [
    "resposta"
   ]
  },
  {
   "cell_type": "code",
   "execution_count": null,
   "id": "4cee69da-31f7-4981-b697-b528e50fb656",
   "metadata": {},
   "outputs": [],
   "source": [
    "resultado = resposta['Body'].read()\n",
    "resultado = json.loads(resultado)\n",
    "print(resultado)"
   ]
  },
  {
   "cell_type": "code",
   "execution_count": null,
   "id": "e03eb0ea-841f-469d-88cc-5b830ad83b12",
   "metadata": {},
   "outputs": [],
   "source": [
    "len(resultado)"
   ]
  },
  {
   "cell_type": "code",
   "execution_count": null,
   "id": "ab29d104-c59e-4513-a940-d0e9f13dc5e8",
   "metadata": {},
   "outputs": [],
   "source": [
    "probabilidade_maior = np.argmax(resultado)\n",
    "probabilidade_maior"
   ]
  },
  {
   "cell_type": "code",
   "execution_count": null,
   "id": "8dbba719-5345-454e-9b5b-ca89e79ab86a",
   "metadata": {},
   "outputs": [],
   "source": [
    "rede_neural_classificador.delete_endpoint()"
   ]
  }
 ],
 "metadata": {
  "availableInstances": [
   {
    "_defaultOrder": 0,
    "_isFastLaunch": true,
    "category": "General purpose",
    "gpuNum": 0,
    "memoryGiB": 4,
    "name": "ml.t3.medium",
    "vcpuNum": 2
   },
   {
    "_defaultOrder": 1,
    "_isFastLaunch": false,
    "category": "General purpose",
    "gpuNum": 0,
    "memoryGiB": 8,
    "name": "ml.t3.large",
    "vcpuNum": 2
   },
   {
    "_defaultOrder": 2,
    "_isFastLaunch": false,
    "category": "General purpose",
    "gpuNum": 0,
    "memoryGiB": 16,
    "name": "ml.t3.xlarge",
    "vcpuNum": 4
   },
   {
    "_defaultOrder": 3,
    "_isFastLaunch": false,
    "category": "General purpose",
    "gpuNum": 0,
    "memoryGiB": 32,
    "name": "ml.t3.2xlarge",
    "vcpuNum": 8
   },
   {
    "_defaultOrder": 4,
    "_isFastLaunch": true,
    "category": "General purpose",
    "gpuNum": 0,
    "memoryGiB": 8,
    "name": "ml.m5.large",
    "vcpuNum": 2
   },
   {
    "_defaultOrder": 5,
    "_isFastLaunch": false,
    "category": "General purpose",
    "gpuNum": 0,
    "memoryGiB": 16,
    "name": "ml.m5.xlarge",
    "vcpuNum": 4
   },
   {
    "_defaultOrder": 6,
    "_isFastLaunch": false,
    "category": "General purpose",
    "gpuNum": 0,
    "memoryGiB": 32,
    "name": "ml.m5.2xlarge",
    "vcpuNum": 8
   },
   {
    "_defaultOrder": 7,
    "_isFastLaunch": false,
    "category": "General purpose",
    "gpuNum": 0,
    "memoryGiB": 64,
    "name": "ml.m5.4xlarge",
    "vcpuNum": 16
   },
   {
    "_defaultOrder": 8,
    "_isFastLaunch": false,
    "category": "General purpose",
    "gpuNum": 0,
    "memoryGiB": 128,
    "name": "ml.m5.8xlarge",
    "vcpuNum": 32
   },
   {
    "_defaultOrder": 9,
    "_isFastLaunch": false,
    "category": "General purpose",
    "gpuNum": 0,
    "memoryGiB": 192,
    "name": "ml.m5.12xlarge",
    "vcpuNum": 48
   },
   {
    "_defaultOrder": 10,
    "_isFastLaunch": false,
    "category": "General purpose",
    "gpuNum": 0,
    "memoryGiB": 256,
    "name": "ml.m5.16xlarge",
    "vcpuNum": 64
   },
   {
    "_defaultOrder": 11,
    "_isFastLaunch": false,
    "category": "General purpose",
    "gpuNum": 0,
    "memoryGiB": 384,
    "name": "ml.m5.24xlarge",
    "vcpuNum": 96
   },
   {
    "_defaultOrder": 12,
    "_isFastLaunch": false,
    "category": "General purpose",
    "gpuNum": 0,
    "memoryGiB": 8,
    "name": "ml.m5d.large",
    "vcpuNum": 2
   },
   {
    "_defaultOrder": 13,
    "_isFastLaunch": false,
    "category": "General purpose",
    "gpuNum": 0,
    "memoryGiB": 16,
    "name": "ml.m5d.xlarge",
    "vcpuNum": 4
   },
   {
    "_defaultOrder": 14,
    "_isFastLaunch": false,
    "category": "General purpose",
    "gpuNum": 0,
    "memoryGiB": 32,
    "name": "ml.m5d.2xlarge",
    "vcpuNum": 8
   },
   {
    "_defaultOrder": 15,
    "_isFastLaunch": false,
    "category": "General purpose",
    "gpuNum": 0,
    "memoryGiB": 64,
    "name": "ml.m5d.4xlarge",
    "vcpuNum": 16
   },
   {
    "_defaultOrder": 16,
    "_isFastLaunch": false,
    "category": "General purpose",
    "gpuNum": 0,
    "memoryGiB": 128,
    "name": "ml.m5d.8xlarge",
    "vcpuNum": 32
   },
   {
    "_defaultOrder": 17,
    "_isFastLaunch": false,
    "category": "General purpose",
    "gpuNum": 0,
    "memoryGiB": 192,
    "name": "ml.m5d.12xlarge",
    "vcpuNum": 48
   },
   {
    "_defaultOrder": 18,
    "_isFastLaunch": false,
    "category": "General purpose",
    "gpuNum": 0,
    "memoryGiB": 256,
    "name": "ml.m5d.16xlarge",
    "vcpuNum": 64
   },
   {
    "_defaultOrder": 19,
    "_isFastLaunch": false,
    "category": "General purpose",
    "gpuNum": 0,
    "memoryGiB": 384,
    "name": "ml.m5d.24xlarge",
    "vcpuNum": 96
   },
   {
    "_defaultOrder": 20,
    "_isFastLaunch": true,
    "category": "Compute optimized",
    "gpuNum": 0,
    "memoryGiB": 4,
    "name": "ml.c5.large",
    "vcpuNum": 2
   },
   {
    "_defaultOrder": 21,
    "_isFastLaunch": false,
    "category": "Compute optimized",
    "gpuNum": 0,
    "memoryGiB": 8,
    "name": "ml.c5.xlarge",
    "vcpuNum": 4
   },
   {
    "_defaultOrder": 22,
    "_isFastLaunch": false,
    "category": "Compute optimized",
    "gpuNum": 0,
    "memoryGiB": 16,
    "name": "ml.c5.2xlarge",
    "vcpuNum": 8
   },
   {
    "_defaultOrder": 23,
    "_isFastLaunch": false,
    "category": "Compute optimized",
    "gpuNum": 0,
    "memoryGiB": 32,
    "name": "ml.c5.4xlarge",
    "vcpuNum": 16
   },
   {
    "_defaultOrder": 24,
    "_isFastLaunch": false,
    "category": "Compute optimized",
    "gpuNum": 0,
    "memoryGiB": 72,
    "name": "ml.c5.9xlarge",
    "vcpuNum": 36
   },
   {
    "_defaultOrder": 25,
    "_isFastLaunch": false,
    "category": "Compute optimized",
    "gpuNum": 0,
    "memoryGiB": 96,
    "name": "ml.c5.12xlarge",
    "vcpuNum": 48
   },
   {
    "_defaultOrder": 26,
    "_isFastLaunch": false,
    "category": "Compute optimized",
    "gpuNum": 0,
    "memoryGiB": 144,
    "name": "ml.c5.18xlarge",
    "vcpuNum": 72
   },
   {
    "_defaultOrder": 27,
    "_isFastLaunch": false,
    "category": "Compute optimized",
    "gpuNum": 0,
    "memoryGiB": 192,
    "name": "ml.c5.24xlarge",
    "vcpuNum": 96
   },
   {
    "_defaultOrder": 28,
    "_isFastLaunch": true,
    "category": "Accelerated computing",
    "gpuNum": 1,
    "memoryGiB": 16,
    "name": "ml.g4dn.xlarge",
    "vcpuNum": 4
   },
   {
    "_defaultOrder": 29,
    "_isFastLaunch": false,
    "category": "Accelerated computing",
    "gpuNum": 1,
    "memoryGiB": 32,
    "name": "ml.g4dn.2xlarge",
    "vcpuNum": 8
   },
   {
    "_defaultOrder": 30,
    "_isFastLaunch": false,
    "category": "Accelerated computing",
    "gpuNum": 1,
    "memoryGiB": 64,
    "name": "ml.g4dn.4xlarge",
    "vcpuNum": 16
   },
   {
    "_defaultOrder": 31,
    "_isFastLaunch": false,
    "category": "Accelerated computing",
    "gpuNum": 1,
    "memoryGiB": 128,
    "name": "ml.g4dn.8xlarge",
    "vcpuNum": 32
   },
   {
    "_defaultOrder": 32,
    "_isFastLaunch": false,
    "category": "Accelerated computing",
    "gpuNum": 4,
    "memoryGiB": 192,
    "name": "ml.g4dn.12xlarge",
    "vcpuNum": 48
   },
   {
    "_defaultOrder": 33,
    "_isFastLaunch": false,
    "category": "Accelerated computing",
    "gpuNum": 1,
    "memoryGiB": 256,
    "name": "ml.g4dn.16xlarge",
    "vcpuNum": 64
   },
   {
    "_defaultOrder": 34,
    "_isFastLaunch": false,
    "category": "Accelerated computing",
    "gpuNum": 1,
    "memoryGiB": 61,
    "name": "ml.p3.2xlarge",
    "vcpuNum": 8
   },
   {
    "_defaultOrder": 35,
    "_isFastLaunch": false,
    "category": "Accelerated computing",
    "gpuNum": 4,
    "memoryGiB": 244,
    "name": "ml.p3.8xlarge",
    "vcpuNum": 32
   },
   {
    "_defaultOrder": 36,
    "_isFastLaunch": false,
    "category": "Accelerated computing",
    "gpuNum": 8,
    "memoryGiB": 488,
    "name": "ml.p3.16xlarge",
    "vcpuNum": 64
   },
   {
    "_defaultOrder": 37,
    "_isFastLaunch": false,
    "category": "Accelerated computing",
    "gpuNum": 8,
    "memoryGiB": 768,
    "name": "ml.p3dn.24xlarge",
    "vcpuNum": 96
   },
   {
    "_defaultOrder": 38,
    "_isFastLaunch": false,
    "category": "Memory Optimized",
    "gpuNum": 0,
    "memoryGiB": 16,
    "name": "ml.r5.large",
    "vcpuNum": 2
   },
   {
    "_defaultOrder": 39,
    "_isFastLaunch": false,
    "category": "Memory Optimized",
    "gpuNum": 0,
    "memoryGiB": 32,
    "name": "ml.r5.xlarge",
    "vcpuNum": 4
   },
   {
    "_defaultOrder": 40,
    "_isFastLaunch": false,
    "category": "Memory Optimized",
    "gpuNum": 0,
    "memoryGiB": 64,
    "name": "ml.r5.2xlarge",
    "vcpuNum": 8
   },
   {
    "_defaultOrder": 41,
    "_isFastLaunch": false,
    "category": "Memory Optimized",
    "gpuNum": 0,
    "memoryGiB": 128,
    "name": "ml.r5.4xlarge",
    "vcpuNum": 16
   },
   {
    "_defaultOrder": 42,
    "_isFastLaunch": false,
    "category": "Memory Optimized",
    "gpuNum": 0,
    "memoryGiB": 256,
    "name": "ml.r5.8xlarge",
    "vcpuNum": 32
   },
   {
    "_defaultOrder": 43,
    "_isFastLaunch": false,
    "category": "Memory Optimized",
    "gpuNum": 0,
    "memoryGiB": 384,
    "name": "ml.r5.12xlarge",
    "vcpuNum": 48
   },
   {
    "_defaultOrder": 44,
    "_isFastLaunch": false,
    "category": "Memory Optimized",
    "gpuNum": 0,
    "memoryGiB": 512,
    "name": "ml.r5.16xlarge",
    "vcpuNum": 64
   },
   {
    "_defaultOrder": 45,
    "_isFastLaunch": false,
    "category": "Memory Optimized",
    "gpuNum": 0,
    "memoryGiB": 768,
    "name": "ml.r5.24xlarge",
    "vcpuNum": 96
   },
   {
    "_defaultOrder": 46,
    "_isFastLaunch": false,
    "category": "Accelerated computing",
    "gpuNum": 1,
    "memoryGiB": 16,
    "name": "ml.g5.xlarge",
    "vcpuNum": 4
   },
   {
    "_defaultOrder": 47,
    "_isFastLaunch": false,
    "category": "Accelerated computing",
    "gpuNum": 1,
    "memoryGiB": 32,
    "name": "ml.g5.2xlarge",
    "vcpuNum": 8
   },
   {
    "_defaultOrder": 48,
    "_isFastLaunch": false,
    "category": "Accelerated computing",
    "gpuNum": 1,
    "memoryGiB": 64,
    "name": "ml.g5.4xlarge",
    "vcpuNum": 16
   },
   {
    "_defaultOrder": 49,
    "_isFastLaunch": false,
    "category": "Accelerated computing",
    "gpuNum": 1,
    "memoryGiB": 128,
    "name": "ml.g5.8xlarge",
    "vcpuNum": 32
   },
   {
    "_defaultOrder": 50,
    "_isFastLaunch": false,
    "category": "Accelerated computing",
    "gpuNum": 1,
    "memoryGiB": 256,
    "name": "ml.g5.16xlarge",
    "vcpuNum": 64
   },
   {
    "_defaultOrder": 51,
    "_isFastLaunch": false,
    "category": "Accelerated computing",
    "gpuNum": 4,
    "memoryGiB": 192,
    "name": "ml.g5.12xlarge",
    "vcpuNum": 48
   },
   {
    "_defaultOrder": 52,
    "_isFastLaunch": false,
    "category": "Accelerated computing",
    "gpuNum": 4,
    "memoryGiB": 384,
    "name": "ml.g5.24xlarge",
    "vcpuNum": 96
   },
   {
    "_defaultOrder": 53,
    "_isFastLaunch": false,
    "category": "Accelerated computing",
    "gpuNum": 8,
    "memoryGiB": 768,
    "name": "ml.g5.48xlarge",
    "vcpuNum": 192
   }
  ],
  "instance_type": "ml.t3.medium",
  "kernelspec": {
   "display_name": "Python 3 (MXNet 1.9 Python 3.8 CPU Optimized)",
   "language": "python",
   "name": "python3__SAGEMAKER_INTERNAL__arn:aws:sagemaker:us-east-1:081325390199:image/mxnet-1.9-cpu-py38-ubuntu20.04-sagemaker-v1.0"
  },
  "language_info": {
   "codemirror_mode": {
    "name": "ipython",
    "version": 3
   },
   "file_extension": ".py",
   "mimetype": "text/x-python",
   "name": "python",
   "nbconvert_exporter": "python",
   "pygments_lexer": "ipython3",
   "version": "3.8.10"
  }
 },
 "nbformat": 4,
 "nbformat_minor": 5
}
