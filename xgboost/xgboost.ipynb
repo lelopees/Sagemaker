{
 "cells": [
  {
   "cell_type": "markdown",
   "id": "e660a2ef-1c9d-478a-bc0c-7e991d0a9fda",
   "metadata": {},
   "source": [
    "# Tratamento da base de dados"
   ]
  },
  {
   "cell_type": "code",
   "execution_count": 2,
   "id": "74cf21e5-0fc1-401f-a3bf-d74697ba3fed",
   "metadata": {
    "tags": []
   },
   "outputs": [],
   "source": [
    "import pandas as pd\n",
    "import numpy as np\n",
    "\n",
    "base_cases = pd.read_csv('house_prices.csv')"
   ]
  },
  {
   "cell_type": "code",
   "execution_count": 3,
   "id": "2e832dc8-d98c-4eb7-8f13-0b589d43ccb8",
   "metadata": {
    "tags": []
   },
   "outputs": [
    {
     "data": {
      "text/html": [
       "<div>\n",
       "<style scoped>\n",
       "    .dataframe tbody tr th:only-of-type {\n",
       "        vertical-align: middle;\n",
       "    }\n",
       "\n",
       "    .dataframe tbody tr th {\n",
       "        vertical-align: top;\n",
       "    }\n",
       "\n",
       "    .dataframe thead th {\n",
       "        text-align: right;\n",
       "    }\n",
       "</style>\n",
       "<table border=\"1\" class=\"dataframe\">\n",
       "  <thead>\n",
       "    <tr style=\"text-align: right;\">\n",
       "      <th></th>\n",
       "      <th>id</th>\n",
       "      <th>date</th>\n",
       "      <th>price</th>\n",
       "      <th>bedrooms</th>\n",
       "      <th>bathrooms</th>\n",
       "      <th>sqft_living</th>\n",
       "      <th>sqft_lot</th>\n",
       "      <th>floors</th>\n",
       "      <th>waterfront</th>\n",
       "      <th>view</th>\n",
       "      <th>...</th>\n",
       "      <th>grade</th>\n",
       "      <th>sqft_above</th>\n",
       "      <th>sqft_basement</th>\n",
       "      <th>yr_built</th>\n",
       "      <th>yr_renovated</th>\n",
       "      <th>zipcode</th>\n",
       "      <th>lat</th>\n",
       "      <th>long</th>\n",
       "      <th>sqft_living15</th>\n",
       "      <th>sqft_lot15</th>\n",
       "    </tr>\n",
       "  </thead>\n",
       "  <tbody>\n",
       "    <tr>\n",
       "      <th>0</th>\n",
       "      <td>7129300520</td>\n",
       "      <td>20141013T000000</td>\n",
       "      <td>221900.0</td>\n",
       "      <td>3</td>\n",
       "      <td>1.00</td>\n",
       "      <td>1180</td>\n",
       "      <td>5650</td>\n",
       "      <td>1.0</td>\n",
       "      <td>0</td>\n",
       "      <td>0</td>\n",
       "      <td>...</td>\n",
       "      <td>7</td>\n",
       "      <td>1180</td>\n",
       "      <td>0</td>\n",
       "      <td>1955</td>\n",
       "      <td>0</td>\n",
       "      <td>98178</td>\n",
       "      <td>47.5112</td>\n",
       "      <td>-122.257</td>\n",
       "      <td>1340</td>\n",
       "      <td>5650</td>\n",
       "    </tr>\n",
       "    <tr>\n",
       "      <th>1</th>\n",
       "      <td>6414100192</td>\n",
       "      <td>20141209T000000</td>\n",
       "      <td>538000.0</td>\n",
       "      <td>3</td>\n",
       "      <td>2.25</td>\n",
       "      <td>2570</td>\n",
       "      <td>7242</td>\n",
       "      <td>2.0</td>\n",
       "      <td>0</td>\n",
       "      <td>0</td>\n",
       "      <td>...</td>\n",
       "      <td>7</td>\n",
       "      <td>2170</td>\n",
       "      <td>400</td>\n",
       "      <td>1951</td>\n",
       "      <td>1991</td>\n",
       "      <td>98125</td>\n",
       "      <td>47.7210</td>\n",
       "      <td>-122.319</td>\n",
       "      <td>1690</td>\n",
       "      <td>7639</td>\n",
       "    </tr>\n",
       "    <tr>\n",
       "      <th>2</th>\n",
       "      <td>5631500400</td>\n",
       "      <td>20150225T000000</td>\n",
       "      <td>180000.0</td>\n",
       "      <td>2</td>\n",
       "      <td>1.00</td>\n",
       "      <td>770</td>\n",
       "      <td>10000</td>\n",
       "      <td>1.0</td>\n",
       "      <td>0</td>\n",
       "      <td>0</td>\n",
       "      <td>...</td>\n",
       "      <td>6</td>\n",
       "      <td>770</td>\n",
       "      <td>0</td>\n",
       "      <td>1933</td>\n",
       "      <td>0</td>\n",
       "      <td>98028</td>\n",
       "      <td>47.7379</td>\n",
       "      <td>-122.233</td>\n",
       "      <td>2720</td>\n",
       "      <td>8062</td>\n",
       "    </tr>\n",
       "    <tr>\n",
       "      <th>3</th>\n",
       "      <td>2487200875</td>\n",
       "      <td>20141209T000000</td>\n",
       "      <td>604000.0</td>\n",
       "      <td>4</td>\n",
       "      <td>3.00</td>\n",
       "      <td>1960</td>\n",
       "      <td>5000</td>\n",
       "      <td>1.0</td>\n",
       "      <td>0</td>\n",
       "      <td>0</td>\n",
       "      <td>...</td>\n",
       "      <td>7</td>\n",
       "      <td>1050</td>\n",
       "      <td>910</td>\n",
       "      <td>1965</td>\n",
       "      <td>0</td>\n",
       "      <td>98136</td>\n",
       "      <td>47.5208</td>\n",
       "      <td>-122.393</td>\n",
       "      <td>1360</td>\n",
       "      <td>5000</td>\n",
       "    </tr>\n",
       "    <tr>\n",
       "      <th>4</th>\n",
       "      <td>1954400510</td>\n",
       "      <td>20150218T000000</td>\n",
       "      <td>510000.0</td>\n",
       "      <td>3</td>\n",
       "      <td>2.00</td>\n",
       "      <td>1680</td>\n",
       "      <td>8080</td>\n",
       "      <td>1.0</td>\n",
       "      <td>0</td>\n",
       "      <td>0</td>\n",
       "      <td>...</td>\n",
       "      <td>8</td>\n",
       "      <td>1680</td>\n",
       "      <td>0</td>\n",
       "      <td>1987</td>\n",
       "      <td>0</td>\n",
       "      <td>98074</td>\n",
       "      <td>47.6168</td>\n",
       "      <td>-122.045</td>\n",
       "      <td>1800</td>\n",
       "      <td>7503</td>\n",
       "    </tr>\n",
       "    <tr>\n",
       "      <th>...</th>\n",
       "      <td>...</td>\n",
       "      <td>...</td>\n",
       "      <td>...</td>\n",
       "      <td>...</td>\n",
       "      <td>...</td>\n",
       "      <td>...</td>\n",
       "      <td>...</td>\n",
       "      <td>...</td>\n",
       "      <td>...</td>\n",
       "      <td>...</td>\n",
       "      <td>...</td>\n",
       "      <td>...</td>\n",
       "      <td>...</td>\n",
       "      <td>...</td>\n",
       "      <td>...</td>\n",
       "      <td>...</td>\n",
       "      <td>...</td>\n",
       "      <td>...</td>\n",
       "      <td>...</td>\n",
       "      <td>...</td>\n",
       "      <td>...</td>\n",
       "    </tr>\n",
       "    <tr>\n",
       "      <th>21608</th>\n",
       "      <td>263000018</td>\n",
       "      <td>20140521T000000</td>\n",
       "      <td>360000.0</td>\n",
       "      <td>3</td>\n",
       "      <td>2.50</td>\n",
       "      <td>1530</td>\n",
       "      <td>1131</td>\n",
       "      <td>3.0</td>\n",
       "      <td>0</td>\n",
       "      <td>0</td>\n",
       "      <td>...</td>\n",
       "      <td>8</td>\n",
       "      <td>1530</td>\n",
       "      <td>0</td>\n",
       "      <td>2009</td>\n",
       "      <td>0</td>\n",
       "      <td>98103</td>\n",
       "      <td>47.6993</td>\n",
       "      <td>-122.346</td>\n",
       "      <td>1530</td>\n",
       "      <td>1509</td>\n",
       "    </tr>\n",
       "    <tr>\n",
       "      <th>21609</th>\n",
       "      <td>6600060120</td>\n",
       "      <td>20150223T000000</td>\n",
       "      <td>400000.0</td>\n",
       "      <td>4</td>\n",
       "      <td>2.50</td>\n",
       "      <td>2310</td>\n",
       "      <td>5813</td>\n",
       "      <td>2.0</td>\n",
       "      <td>0</td>\n",
       "      <td>0</td>\n",
       "      <td>...</td>\n",
       "      <td>8</td>\n",
       "      <td>2310</td>\n",
       "      <td>0</td>\n",
       "      <td>2014</td>\n",
       "      <td>0</td>\n",
       "      <td>98146</td>\n",
       "      <td>47.5107</td>\n",
       "      <td>-122.362</td>\n",
       "      <td>1830</td>\n",
       "      <td>7200</td>\n",
       "    </tr>\n",
       "    <tr>\n",
       "      <th>21610</th>\n",
       "      <td>1523300141</td>\n",
       "      <td>20140623T000000</td>\n",
       "      <td>402101.0</td>\n",
       "      <td>2</td>\n",
       "      <td>0.75</td>\n",
       "      <td>1020</td>\n",
       "      <td>1350</td>\n",
       "      <td>2.0</td>\n",
       "      <td>0</td>\n",
       "      <td>0</td>\n",
       "      <td>...</td>\n",
       "      <td>7</td>\n",
       "      <td>1020</td>\n",
       "      <td>0</td>\n",
       "      <td>2009</td>\n",
       "      <td>0</td>\n",
       "      <td>98144</td>\n",
       "      <td>47.5944</td>\n",
       "      <td>-122.299</td>\n",
       "      <td>1020</td>\n",
       "      <td>2007</td>\n",
       "    </tr>\n",
       "    <tr>\n",
       "      <th>21611</th>\n",
       "      <td>291310100</td>\n",
       "      <td>20150116T000000</td>\n",
       "      <td>400000.0</td>\n",
       "      <td>3</td>\n",
       "      <td>2.50</td>\n",
       "      <td>1600</td>\n",
       "      <td>2388</td>\n",
       "      <td>2.0</td>\n",
       "      <td>0</td>\n",
       "      <td>0</td>\n",
       "      <td>...</td>\n",
       "      <td>8</td>\n",
       "      <td>1600</td>\n",
       "      <td>0</td>\n",
       "      <td>2004</td>\n",
       "      <td>0</td>\n",
       "      <td>98027</td>\n",
       "      <td>47.5345</td>\n",
       "      <td>-122.069</td>\n",
       "      <td>1410</td>\n",
       "      <td>1287</td>\n",
       "    </tr>\n",
       "    <tr>\n",
       "      <th>21612</th>\n",
       "      <td>1523300157</td>\n",
       "      <td>20141015T000000</td>\n",
       "      <td>325000.0</td>\n",
       "      <td>2</td>\n",
       "      <td>0.75</td>\n",
       "      <td>1020</td>\n",
       "      <td>1076</td>\n",
       "      <td>2.0</td>\n",
       "      <td>0</td>\n",
       "      <td>0</td>\n",
       "      <td>...</td>\n",
       "      <td>7</td>\n",
       "      <td>1020</td>\n",
       "      <td>0</td>\n",
       "      <td>2008</td>\n",
       "      <td>0</td>\n",
       "      <td>98144</td>\n",
       "      <td>47.5941</td>\n",
       "      <td>-122.299</td>\n",
       "      <td>1020</td>\n",
       "      <td>1357</td>\n",
       "    </tr>\n",
       "  </tbody>\n",
       "</table>\n",
       "<p>21613 rows × 21 columns</p>\n",
       "</div>"
      ],
      "text/plain": [
       "               id             date     price  bedrooms  bathrooms  \\\n",
       "0      7129300520  20141013T000000  221900.0         3       1.00   \n",
       "1      6414100192  20141209T000000  538000.0         3       2.25   \n",
       "2      5631500400  20150225T000000  180000.0         2       1.00   \n",
       "3      2487200875  20141209T000000  604000.0         4       3.00   \n",
       "4      1954400510  20150218T000000  510000.0         3       2.00   \n",
       "...           ...              ...       ...       ...        ...   \n",
       "21608   263000018  20140521T000000  360000.0         3       2.50   \n",
       "21609  6600060120  20150223T000000  400000.0         4       2.50   \n",
       "21610  1523300141  20140623T000000  402101.0         2       0.75   \n",
       "21611   291310100  20150116T000000  400000.0         3       2.50   \n",
       "21612  1523300157  20141015T000000  325000.0         2       0.75   \n",
       "\n",
       "       sqft_living  sqft_lot  floors  waterfront  view  ...  grade  \\\n",
       "0             1180      5650     1.0           0     0  ...      7   \n",
       "1             2570      7242     2.0           0     0  ...      7   \n",
       "2              770     10000     1.0           0     0  ...      6   \n",
       "3             1960      5000     1.0           0     0  ...      7   \n",
       "4             1680      8080     1.0           0     0  ...      8   \n",
       "...            ...       ...     ...         ...   ...  ...    ...   \n",
       "21608         1530      1131     3.0           0     0  ...      8   \n",
       "21609         2310      5813     2.0           0     0  ...      8   \n",
       "21610         1020      1350     2.0           0     0  ...      7   \n",
       "21611         1600      2388     2.0           0     0  ...      8   \n",
       "21612         1020      1076     2.0           0     0  ...      7   \n",
       "\n",
       "       sqft_above  sqft_basement  yr_built  yr_renovated  zipcode      lat  \\\n",
       "0            1180              0      1955             0    98178  47.5112   \n",
       "1            2170            400      1951          1991    98125  47.7210   \n",
       "2             770              0      1933             0    98028  47.7379   \n",
       "3            1050            910      1965             0    98136  47.5208   \n",
       "4            1680              0      1987             0    98074  47.6168   \n",
       "...           ...            ...       ...           ...      ...      ...   \n",
       "21608        1530              0      2009             0    98103  47.6993   \n",
       "21609        2310              0      2014             0    98146  47.5107   \n",
       "21610        1020              0      2009             0    98144  47.5944   \n",
       "21611        1600              0      2004             0    98027  47.5345   \n",
       "21612        1020              0      2008             0    98144  47.5941   \n",
       "\n",
       "          long  sqft_living15  sqft_lot15  \n",
       "0     -122.257           1340        5650  \n",
       "1     -122.319           1690        7639  \n",
       "2     -122.233           2720        8062  \n",
       "3     -122.393           1360        5000  \n",
       "4     -122.045           1800        7503  \n",
       "...        ...            ...         ...  \n",
       "21608 -122.346           1530        1509  \n",
       "21609 -122.362           1830        7200  \n",
       "21610 -122.299           1020        2007  \n",
       "21611 -122.069           1410        1287  \n",
       "21612 -122.299           1020        1357  \n",
       "\n",
       "[21613 rows x 21 columns]"
      ]
     },
     "execution_count": 3,
     "metadata": {},
     "output_type": "execute_result"
    }
   ],
   "source": [
    "base_cases"
   ]
  },
  {
   "cell_type": "code",
   "execution_count": 4,
   "id": "d95f1ff2-0f9c-4344-9dd5-b258c093b4d2",
   "metadata": {
    "tags": []
   },
   "outputs": [],
   "source": [
    "base_cases.drop(columns = ['id', 'date', 'sqft_living15', 'sqft_lot15'], axis=1, inplace=True)"
   ]
  },
  {
   "cell_type": "code",
   "execution_count": 7,
   "id": "ff1a4c28-a37a-4d80-b49a-7d81b07fa73e",
   "metadata": {
    "tags": []
   },
   "outputs": [
    {
     "data": {
      "text/plain": [
       "Index(['price', 'bedrooms', 'bathrooms', 'sqft_living', 'sqft_lot', 'floors',\n",
       "       'waterfront', 'view', 'condition', 'grade', 'sqft_above',\n",
       "       'sqft_basement', 'yr_built', 'yr_renovated', 'zipcode', 'lat', 'long'],\n",
       "      dtype='object')"
      ]
     },
     "execution_count": 7,
     "metadata": {},
     "output_type": "execute_result"
    }
   ],
   "source": [
    "base_cases.columns"
   ]
  },
  {
   "cell_type": "code",
   "execution_count": 9,
   "id": "788dfd01-c131-4556-bb7d-434029d377da",
   "metadata": {
    "tags": []
   },
   "outputs": [
    {
     "data": {
      "text/plain": [
       "(15129, 17)"
      ]
     },
     "execution_count": 9,
     "metadata": {},
     "output_type": "execute_result"
    }
   ],
   "source": [
    "base_treinamento = base_cases.iloc[0:15129, :]\n",
    "base_treinamento.shape"
   ]
  },
  {
   "cell_type": "code",
   "execution_count": 10,
   "id": "f7ba933d-9fc7-4398-99e4-cb0386e75676",
   "metadata": {
    "tags": []
   },
   "outputs": [
    {
     "data": {
      "text/plain": [
       "(6484, 17)"
      ]
     },
     "execution_count": 10,
     "metadata": {},
     "output_type": "execute_result"
    }
   ],
   "source": [
    "base_teste = base_cases.iloc[15129:, :]\n",
    "base_teste.shape"
   ]
  },
  {
   "cell_type": "code",
   "execution_count": 13,
   "id": "9a36b011-5c4b-4540-a77f-0c2e217031de",
   "metadata": {
    "tags": []
   },
   "outputs": [
    {
     "data": {
      "text/plain": [
       "21613"
      ]
     },
     "execution_count": 13,
     "metadata": {},
     "output_type": "execute_result"
    }
   ],
   "source": [
    "base_teste.shape[0] + base_treinamento.shape[0] "
   ]
  },
  {
   "cell_type": "code",
   "execution_count": 14,
   "id": "c6907f5d-fcb4-4e6e-a792-c28de81b6794",
   "metadata": {
    "tags": []
   },
   "outputs": [
    {
     "data": {
      "text/plain": [
       "array([[ 4.00000e+00,  2.75000e+00,  2.58000e+03, ...,  9.81150e+04,\n",
       "         4.76753e+01, -1.22304e+02],\n",
       "       [ 4.00000e+00,  2.50000e+00,  3.20000e+03, ...,  9.80590e+04,\n",
       "         4.75273e+01, -1.22143e+02],\n",
       "       [ 3.00000e+00,  1.00000e+00,  8.40000e+02, ...,  9.81780e+04,\n",
       "         4.74940e+01, -1.22275e+02],\n",
       "       ...,\n",
       "       [ 2.00000e+00,  7.50000e-01,  1.02000e+03, ...,  9.81440e+04,\n",
       "         4.75944e+01, -1.22299e+02],\n",
       "       [ 3.00000e+00,  2.50000e+00,  1.60000e+03, ...,  9.80270e+04,\n",
       "         4.75345e+01, -1.22069e+02],\n",
       "       [ 2.00000e+00,  7.50000e-01,  1.02000e+03, ...,  9.81440e+04,\n",
       "         4.75941e+01, -1.22299e+02]])"
      ]
     },
     "execution_count": 14,
     "metadata": {},
     "output_type": "execute_result"
    }
   ],
   "source": [
    "X_teste = base_teste.iloc[:,1:17].values\n",
    "# formado array\n",
    "X_teste"
   ]
  },
  {
   "cell_type": "code",
   "execution_count": 15,
   "id": "bb607b79-ddb5-4899-9b27-dd77c91c4a5f",
   "metadata": {
    "tags": []
   },
   "outputs": [
    {
     "data": {
      "text/plain": [
       "array([937750., 725126., 135000., ..., 402101., 400000., 325000.])"
      ]
     },
     "execution_count": 15,
     "metadata": {},
     "output_type": "execute_result"
    }
   ],
   "source": [
    "y_teste = base_teste.iloc[:,0].values\n",
    "y_teste"
   ]
  },
  {
   "cell_type": "code",
   "execution_count": 17,
   "id": "1ae81dce-1a1b-4727-b68b-3ef2cdb01586",
   "metadata": {
    "tags": []
   },
   "outputs": [],
   "source": [
    "# tranformando em csv os dados e retirando \n",
    "base_treinamento.to_csv('house_prices_train_xgboost.csv', header = False, index = False)"
   ]
  },
  {
   "cell_type": "code",
   "execution_count": 18,
   "id": "5abf114e-44ce-44bd-a005-c4a11dcd5f7b",
   "metadata": {
    "tags": []
   },
   "outputs": [],
   "source": [
    "# tranformando em csv os dados e retirando \n",
    "base_teste.to_csv('house_prices_test_xgboost.csv', header = False, index = False)"
   ]
  },
  {
   "cell_type": "markdown",
   "id": "b0cf5085-6170-474e-8106-80c8cda41ec6",
   "metadata": {},
   "source": [
    "# Configurações Sage"
   ]
  },
  {
   "cell_type": "code",
   "execution_count": 19,
   "id": "c4f65d56-a216-408d-9f00-23a1d7a0f363",
   "metadata": {
    "tags": []
   },
   "outputs": [],
   "source": [
    "import sagemaker\n",
    "import boto3\n",
    "from sagemaker import Session"
   ]
  },
  {
   "cell_type": "code",
   "execution_count": 23,
   "id": "851871e8-4a87-4825-9870-b34fb9564dac",
   "metadata": {
    "tags": []
   },
   "outputs": [
    {
     "name": "stdout",
     "output_type": "stream",
     "text": [
      "Role: arn:aws:iam::605390214759:role/service-role/AmazonSageMaker-ExecutionRole-20230311T091643\n",
      "Localização da base de treinamento: s3://cursoawssagemakersp/datasets/house-prices/train/houses-train-data-xgboost\n",
      "Localização da base de teste: s3://cursoawssagemakersp/datasets/house-prices/test/houses-test-data-xgboost\n",
      "Modelo final será salvo em: s3://cursoawssagemakersp/modelos/house-prices/xgboost/output\n"
     ]
    }
   ],
   "source": [
    "session = sagemaker.Session()\n",
    "bucket = 'cursoawssagemakersp'\n",
    "subpasta_modelo = 'modelos/house-prices/xgboost'\n",
    "subpasta_data_set = 'datasets/house-prices'\n",
    "# nome da base de dados de treinamento\n",
    "key_train = 'houses-train-data-xgboost'\n",
    "key_test = 'houses-test-data-xgboost'\n",
    "# permissões\n",
    "role = sagemaker.get_execution_role()\n",
    "s3_train_data = 's3://{}/{}/train/{}'.format(bucket, subpasta_data_set, key_train)\n",
    "s3_test_data = 's3://{}/{}/test/{}'.format(bucket, subpasta_data_set, key_test)\n",
    "# onde o modelo será armazenado\n",
    "output_location = 's3://{}/{}/output'.format(bucket, subpasta_modelo)\n",
    "print('Role: {}'.format(role))\n",
    "print('Localização da base de treinamento: {}'.format(s3_train_data))\n",
    "print('Localização da base de teste: {}'.format(s3_test_data))\n",
    "print('Modelo final será salvo em: {}'.format(output_location))"
   ]
  },
  {
   "cell_type": "code",
   "execution_count": null,
   "id": "872485fd-cdd8-48b9-bc64-d5dc278f6fa6",
   "metadata": {},
   "outputs": [],
   "source": [
    "session = sagemaker.Session()\n",
    "bucket = 'cursoawssagemaker'\n",
    "subpasta_modelo = 'modelos/house-prices/xgboost'\n",
    "subpasta_dataset = 'datasets/house-prices'\n",
    "key_train = 'houses-train-data-xgboost'\n",
    "key_test = 'houses-test-data-xgboost'\n",
    "role = sagemaker.get_execution_role()\n",
    "s3_train_data = 's3://{}/{}/train/{}'.format(bucket, subpasta_dataset, key_train)\n",
    "s3_test_data = 's3://{}/{}/test/{}'.format(bucket, subpasta_dataset, key_test)\n",
    "output_location = 's3://{}/{}/output'.format(bucket, subpasta_modelo)\n",
    "print('Role: {}'.format(role))\n",
    "print('Localização da base de treinamento: {}'.format(s3_train_data))\n",
    "print('Localização da base de teste: {}'.format(s3_test_data))\n",
    "print('Modelo final será salvo em: {}'.format(output_location))"
   ]
  },
  {
   "cell_type": "code",
   "execution_count": 28,
   "id": "9f02b018-3a9a-40f9-a10a-db655571d532",
   "metadata": {
    "tags": []
   },
   "outputs": [],
   "source": [
    "import os\n",
    "\n",
    "# salvar os arquivos no bucket em formula de binário no train\n",
    "with open('house_prices_train_xgboost.csv', 'rb') as f:\n",
    "    boto3.Session().resource('s3').Bucket(bucket).Object(os.path.join(subpasta_data_set, 'train', key_train))\n",
    "    .upload_fileobj(f)\n",
    "    "
   ]
  },
  {
   "cell_type": "code",
   "execution_count": 27,
   "id": "9081320b-6fac-4aa1-ad32-a98234dae604",
   "metadata": {
    "tags": []
   },
   "outputs": [],
   "source": [
    "import os\n",
    "\n",
    "# salvar os arquivos no bucket \n",
    "with open('house_prices_test_xgboost.csv', 'rb') as f:\n",
    "    boto3.Session().resource('s3').Bucket(bucket).Object(os.path.join(subpasta_data_set, 'test', key_test)).upload_fileobj(f)\n",
    "    "
   ]
  },
  {
   "cell_type": "markdown",
   "id": "656ddd9d-435a-41fd-9127-11d9d6bc595e",
   "metadata": {},
   "source": [
    "# Treinamento do XGBoost"
   ]
  },
  {
   "cell_type": "code",
   "execution_count": 39,
   "id": "c58e6287-bda8-4426-9d56-7bce7c36c64e",
   "metadata": {
    "tags": []
   },
   "outputs": [
    {
     "name": "stderr",
     "output_type": "stream",
     "text": [
      "INFO:sagemaker.image_uris:Ignoring unnecessary instance type: None.\n"
     ]
    }
   ],
   "source": [
    "# https://docs.aws.amazon.com/sagemaker/latest/dg/ecr-sa-east-1.html\n",
    "from sagemaker import image_uris\n",
    "container = image_uris.retrieve(framework = 'xgboost', region=boto3.Session().region_name, version='latest')"
   ]
  },
  {
   "cell_type": "code",
   "execution_count": 41,
   "id": "25010b1b-ddec-4d6d-a809-af084539bf57",
   "metadata": {
    "tags": []
   },
   "outputs": [],
   "source": [
    "# https://sagemaker.readthedocs.io/en/stable/api/training/estimators.html\n",
    "xgboost = sagemaker.estimator.Estimator(image_uri = container,\n",
    "                                        role = role,\n",
    "                                        instance_count = 1,\n",
    "                                        instance_type = 'ml.m5.2xlarge',\n",
    "                                        output_path = output_location,\n",
    "                                        sagemaker_session = session)"
   ]
  },
  {
   "cell_type": "code",
   "execution_count": 42,
   "id": "fa9192ab-a99d-4012-b124-19b5f1aa12b3",
   "metadata": {
    "tags": []
   },
   "outputs": [],
   "source": [
    "# https://docs.aws.amazon.com/sagemaker/latest/dg/xgboost_hyperparameters.html\n",
    "xgboost.set_hyperparameters(num_round = 100)"
   ]
  },
  {
   "cell_type": "code",
   "execution_count": 43,
   "id": "0763ae19-81c1-4fac-947d-3416e2eb197d",
   "metadata": {
    "tags": []
   },
   "outputs": [],
   "source": [
    "train_input = sagemaker.inputs.TrainingInput(s3_data = s3_train_data, content_type='csv', s3_data_type = 'S3Prefix')\n",
    "validation_input = sagemaker.inputs.TrainingInput(s3_data = s3_test_data, content_type='csv', s3_data_type = 'S3Prefix')\n",
    "# para unir essas duas informações\n",
    "# a cada etapa do algortimo será feita a validação\n",
    "data_channels = {'train': train_input, 'validation': validation_input}"
   ]
  },
  {
   "cell_type": "code",
   "execution_count": 44,
   "id": "c2311100-6a95-4ca0-aa89-e1fa2a8618e2",
   "metadata": {
    "tags": []
   },
   "outputs": [
    {
     "name": "stderr",
     "output_type": "stream",
     "text": [
      "INFO:sagemaker:Creating training-job with name: xgboost-2023-03-14-21-52-30-161\n"
     ]
    },
    {
     "name": "stdout",
     "output_type": "stream",
     "text": [
      "2023-03-14 21:52:30 Starting - Starting the training job...\n",
      "2023-03-14 21:52:51 Starting - Preparing the instances for training......\n",
      "2023-03-14 21:53:50 Downloading - Downloading input data...\n",
      "2023-03-14 21:54:30 Training - Training image download completed. Training in progress....\n",
      "2023-03-14 21:54:56 Uploading - Uploading generated training model\u001b[34mArguments: train\u001b[0m\n",
      "\u001b[34m[2023-03-14:21:54:48:INFO] Running standalone xgboost training.\u001b[0m\n",
      "\u001b[34m[2023-03-14:21:54:48:INFO] File size need to be processed in the node: 1.55mb. Available memory size in the node: 23692.42mb\u001b[0m\n",
      "\u001b[34m[2023-03-14:21:54:48:INFO] Determined delimiter of CSV input is ','\u001b[0m\n",
      "\u001b[34m[21:54:48] S3DistributionType set as FullyReplicated\u001b[0m\n",
      "\u001b[34m[21:54:48] 15129x16 matrix with 242064 entries loaded from /opt/ml/input/data/train?format=csv&label_column=0&delimiter=,\u001b[0m\n",
      "\u001b[34m[2023-03-14:21:54:48:INFO] Determined delimiter of CSV input is ','\u001b[0m\n",
      "\u001b[34m[21:54:48] S3DistributionType set as FullyReplicated\u001b[0m\n",
      "\u001b[34m[21:54:48] 6484x16 matrix with 103744 entries loaded from /opt/ml/input/data/validation?format=csv&label_column=0&delimiter=,\u001b[0m\n",
      "\u001b[34m[21:54:48] src/tree/updater_prune.cc:74: tree pruning end, 1 roots, 114 extra nodes, 0 pruned nodes, max_depth=6\u001b[0m\n",
      "\u001b[34m[0]#011train-rmse:470556#011validation-rmse:488482\u001b[0m\n",
      "\u001b[34m[21:54:48] src/tree/updater_prune.cc:74: tree pruning end, 1 roots, 98 extra nodes, 0 pruned nodes, max_depth=6\u001b[0m\n",
      "\u001b[34m[1]#011train-rmse:349103#011validation-rmse:364995\u001b[0m\n",
      "\u001b[34m[21:54:48] src/tree/updater_prune.cc:74: tree pruning end, 1 roots, 110 extra nodes, 0 pruned nodes, max_depth=6\u001b[0m\n",
      "\u001b[34m[2]#011train-rmse:265763#011validation-rmse:282964\u001b[0m\n",
      "\u001b[34m[21:54:48] src/tree/updater_prune.cc:74: tree pruning end, 1 roots, 104 extra nodes, 0 pruned nodes, max_depth=6\u001b[0m\n",
      "\u001b[34m[3]#011train-rmse:209380#011validation-rmse:226980\u001b[0m\n",
      "\u001b[34m[21:54:48] src/tree/updater_prune.cc:74: tree pruning end, 1 roots, 104 extra nodes, 0 pruned nodes, max_depth=6\u001b[0m\n",
      "\u001b[34m[4]#011train-rmse:172422#011validation-rmse:193026\u001b[0m\n",
      "\u001b[34m[21:54:48] src/tree/updater_prune.cc:74: tree pruning end, 1 roots, 112 extra nodes, 0 pruned nodes, max_depth=6\u001b[0m\n",
      "\u001b[34m[5]#011train-rmse:147947#011validation-rmse:171920\u001b[0m\n",
      "\u001b[34m[21:54:48] src/tree/updater_prune.cc:74: tree pruning end, 1 roots, 114 extra nodes, 0 pruned nodes, max_depth=6\u001b[0m\n",
      "\u001b[34m[6]#011train-rmse:131343#011validation-rmse:157350\u001b[0m\n",
      "\u001b[34m[21:54:48] src/tree/updater_prune.cc:74: tree pruning end, 1 roots, 120 extra nodes, 0 pruned nodes, max_depth=6\u001b[0m\n",
      "\u001b[34m[7]#011train-rmse:120283#011validation-rmse:146962\u001b[0m\n",
      "\u001b[34m[21:54:48] src/tree/updater_prune.cc:74: tree pruning end, 1 roots, 96 extra nodes, 0 pruned nodes, max_depth=6\u001b[0m\n",
      "\u001b[34m[8]#011train-rmse:112496#011validation-rmse:141205\u001b[0m\n",
      "\u001b[34m[21:54:48] src/tree/updater_prune.cc:74: tree pruning end, 1 roots, 80 extra nodes, 0 pruned nodes, max_depth=6\u001b[0m\n",
      "\u001b[34m[9]#011train-rmse:108028#011validation-rmse:138073\u001b[0m\n",
      "\u001b[34m[21:54:48] src/tree/updater_prune.cc:74: tree pruning end, 1 roots, 82 extra nodes, 0 pruned nodes, max_depth=6\u001b[0m\n",
      "\u001b[34m[10]#011train-rmse:105103#011validation-rmse:136574\u001b[0m\n",
      "\u001b[34m[21:54:48] src/tree/updater_prune.cc:74: tree pruning end, 1 roots, 116 extra nodes, 0 pruned nodes, max_depth=6\u001b[0m\n",
      "\u001b[34m[11]#011train-rmse:102048#011validation-rmse:134824\u001b[0m\n",
      "\u001b[34m[21:54:48] src/tree/updater_prune.cc:74: tree pruning end, 1 roots, 112 extra nodes, 0 pruned nodes, max_depth=6\u001b[0m\n",
      "\u001b[34m[12]#011train-rmse:99098.8#011validation-rmse:132881\u001b[0m\n",
      "\u001b[34m[21:54:48] src/tree/updater_prune.cc:74: tree pruning end, 1 roots, 66 extra nodes, 0 pruned nodes, max_depth=6\u001b[0m\n",
      "\u001b[34m[13]#011train-rmse:97927.4#011validation-rmse:132125\u001b[0m\n",
      "\u001b[34m[21:54:48] src/tree/updater_prune.cc:74: tree pruning end, 1 roots, 66 extra nodes, 0 pruned nodes, max_depth=6\u001b[0m\n",
      "\u001b[34m[14]#011train-rmse:96913.1#011validation-rmse:131518\u001b[0m\n",
      "\u001b[34m[21:54:48] src/tree/updater_prune.cc:74: tree pruning end, 1 roots, 102 extra nodes, 0 pruned nodes, max_depth=6\u001b[0m\n",
      "\u001b[34m[15]#011train-rmse:95556.1#011validation-rmse:130557\u001b[0m\n",
      "\u001b[34m[21:54:48] src/tree/updater_prune.cc:74: tree pruning end, 1 roots, 94 extra nodes, 0 pruned nodes, max_depth=6\u001b[0m\n",
      "\u001b[34m[16]#011train-rmse:94358.5#011validation-rmse:129864\u001b[0m\n",
      "\u001b[34m[21:54:48] src/tree/updater_prune.cc:74: tree pruning end, 1 roots, 88 extra nodes, 0 pruned nodes, max_depth=6\u001b[0m\n",
      "\u001b[34m[17]#011train-rmse:93512.8#011validation-rmse:129672\u001b[0m\n",
      "\u001b[34m[21:54:48] src/tree/updater_prune.cc:74: tree pruning end, 1 roots, 92 extra nodes, 0 pruned nodes, max_depth=6\u001b[0m\n",
      "\u001b[34m[18]#011train-rmse:92368.3#011validation-rmse:128961\u001b[0m\n",
      "\u001b[34m[21:54:48] src/tree/updater_prune.cc:74: tree pruning end, 1 roots, 118 extra nodes, 0 pruned nodes, max_depth=6\u001b[0m\n",
      "\u001b[34m[19]#011train-rmse:90808.5#011validation-rmse:128654\u001b[0m\n",
      "\u001b[34m[21:54:48] src/tree/updater_prune.cc:74: tree pruning end, 1 roots, 122 extra nodes, 0 pruned nodes, max_depth=6\u001b[0m\n",
      "\u001b[34m[20]#011train-rmse:89538.9#011validation-rmse:127921\u001b[0m\n",
      "\u001b[34m[21:54:48] src/tree/updater_prune.cc:74: tree pruning end, 1 roots, 116 extra nodes, 0 pruned nodes, max_depth=6\u001b[0m\n",
      "\u001b[34m[21]#011train-rmse:88515.9#011validation-rmse:127360\u001b[0m\n",
      "\u001b[34m[21:54:48] src/tree/updater_prune.cc:74: tree pruning end, 1 roots, 90 extra nodes, 0 pruned nodes, max_depth=6\u001b[0m\n",
      "\u001b[34m[22]#011train-rmse:87664.5#011validation-rmse:126847\u001b[0m\n",
      "\u001b[34m[21:54:48] src/tree/updater_prune.cc:74: tree pruning end, 1 roots, 84 extra nodes, 0 pruned nodes, max_depth=6\u001b[0m\n",
      "\u001b[34m[23]#011train-rmse:87071.3#011validation-rmse:126698\u001b[0m\n",
      "\u001b[34m[21:54:48] src/tree/updater_prune.cc:74: tree pruning end, 1 roots, 92 extra nodes, 0 pruned nodes, max_depth=6\u001b[0m\n",
      "\u001b[34m[24]#011train-rmse:86183.8#011validation-rmse:126479\u001b[0m\n",
      "\u001b[34m[21:54:48] src/tree/updater_prune.cc:74: tree pruning end, 1 roots, 90 extra nodes, 0 pruned nodes, max_depth=6\u001b[0m\n",
      "\u001b[34m[25]#011train-rmse:85441.1#011validation-rmse:126310\u001b[0m\n",
      "\u001b[34m[21:54:48] src/tree/updater_prune.cc:74: tree pruning end, 1 roots, 114 extra nodes, 0 pruned nodes, max_depth=6\u001b[0m\n",
      "\u001b[34m[26]#011train-rmse:84229.6#011validation-rmse:125711\u001b[0m\n",
      "\u001b[34m[21:54:48] src/tree/updater_prune.cc:74: tree pruning end, 1 roots, 110 extra nodes, 0 pruned nodes, max_depth=6\u001b[0m\n",
      "\u001b[34m[27]#011train-rmse:83479.3#011validation-rmse:125483\u001b[0m\n",
      "\u001b[34m[21:54:48] src/tree/updater_prune.cc:74: tree pruning end, 1 roots, 112 extra nodes, 0 pruned nodes, max_depth=6\u001b[0m\n",
      "\u001b[34m[28]#011train-rmse:82456.5#011validation-rmse:125393\u001b[0m\n",
      "\u001b[34m[21:54:48] src/tree/updater_prune.cc:74: tree pruning end, 1 roots, 100 extra nodes, 0 pruned nodes, max_depth=6\u001b[0m\n",
      "\u001b[34m[29]#011train-rmse:81683.3#011validation-rmse:125239\u001b[0m\n",
      "\u001b[34m[21:54:48] src/tree/updater_prune.cc:74: tree pruning end, 1 roots, 82 extra nodes, 0 pruned nodes, max_depth=6\u001b[0m\n",
      "\u001b[34m[30]#011train-rmse:81335.5#011validation-rmse:125331\u001b[0m\n",
      "\u001b[34m[21:54:48] src/tree/updater_prune.cc:74: tree pruning end, 1 roots, 84 extra nodes, 0 pruned nodes, max_depth=6\u001b[0m\n",
      "\u001b[34m[31]#011train-rmse:80743.9#011validation-rmse:125246\u001b[0m\n",
      "\u001b[34m[21:54:48] src/tree/updater_prune.cc:74: tree pruning end, 1 roots, 104 extra nodes, 0 pruned nodes, max_depth=6\u001b[0m\n",
      "\u001b[34m[32]#011train-rmse:80146.9#011validation-rmse:125307\u001b[0m\n",
      "\u001b[34m[21:54:48] src/tree/updater_prune.cc:74: tree pruning end, 1 roots, 66 extra nodes, 0 pruned nodes, max_depth=6\u001b[0m\n",
      "\u001b[34m[33]#011train-rmse:79583.6#011validation-rmse:125052\u001b[0m\n",
      "\u001b[34m[21:54:48] src/tree/updater_prune.cc:74: tree pruning end, 1 roots, 78 extra nodes, 0 pruned nodes, max_depth=6\u001b[0m\n",
      "\u001b[34m[34]#011train-rmse:79181.8#011validation-rmse:125064\u001b[0m\n",
      "\u001b[34m[21:54:48] src/tree/updater_prune.cc:74: tree pruning end, 1 roots, 70 extra nodes, 0 pruned nodes, max_depth=6\u001b[0m\n",
      "\u001b[34m[35]#011train-rmse:78374.3#011validation-rmse:124741\u001b[0m\n",
      "\u001b[34m[21:54:48] src/tree/updater_prune.cc:74: tree pruning end, 1 roots, 106 extra nodes, 0 pruned nodes, max_depth=6\u001b[0m\n",
      "\u001b[34m[36]#011train-rmse:77748#011validation-rmse:124442\u001b[0m\n",
      "\u001b[34m[21:54:48] src/tree/updater_prune.cc:74: tree pruning end, 1 roots, 112 extra nodes, 0 pruned nodes, max_depth=6\u001b[0m\n",
      "\u001b[34m[37]#011train-rmse:77099.8#011validation-rmse:124443\u001b[0m\n",
      "\u001b[34m[21:54:48] src/tree/updater_prune.cc:74: tree pruning end, 1 roots, 102 extra nodes, 0 pruned nodes, max_depth=6\u001b[0m\n",
      "\u001b[34m[38]#011train-rmse:76743.7#011validation-rmse:124197\u001b[0m\n",
      "\u001b[34m[21:54:48] src/tree/updater_prune.cc:74: tree pruning end, 1 roots, 38 extra nodes, 0 pruned nodes, max_depth=6\u001b[0m\n",
      "\u001b[34m[39]#011train-rmse:76634.7#011validation-rmse:124100\u001b[0m\n",
      "\u001b[34m[21:54:48] src/tree/updater_prune.cc:74: tree pruning end, 1 roots, 90 extra nodes, 0 pruned nodes, max_depth=6\u001b[0m\n",
      "\u001b[34m[40]#011train-rmse:76182.6#011validation-rmse:124080\u001b[0m\n",
      "\u001b[34m[21:54:48] src/tree/updater_prune.cc:74: tree pruning end, 1 roots, 110 extra nodes, 0 pruned nodes, max_depth=6\u001b[0m\n",
      "\u001b[34m[41]#011train-rmse:75441.3#011validation-rmse:123983\u001b[0m\n",
      "\u001b[34m[21:54:48] src/tree/updater_prune.cc:74: tree pruning end, 1 roots, 104 extra nodes, 0 pruned nodes, max_depth=6\u001b[0m\n",
      "\u001b[34m[42]#011train-rmse:75150.2#011validation-rmse:123894\u001b[0m\n",
      "\u001b[34m[21:54:48] src/tree/updater_prune.cc:74: tree pruning end, 1 roots, 88 extra nodes, 0 pruned nodes, max_depth=6\u001b[0m\n",
      "\u001b[34m[43]#011train-rmse:74767.2#011validation-rmse:123636\u001b[0m\n",
      "\u001b[34m[21:54:48] src/tree/updater_prune.cc:74: tree pruning end, 1 roots, 110 extra nodes, 0 pruned nodes, max_depth=6\u001b[0m\n",
      "\u001b[34m[44]#011train-rmse:74356.1#011validation-rmse:123569\u001b[0m\n",
      "\u001b[34m[21:54:48] src/tree/updater_prune.cc:74: tree pruning end, 1 roots, 94 extra nodes, 0 pruned nodes, max_depth=6\u001b[0m\n",
      "\u001b[34m[45]#011train-rmse:73580.7#011validation-rmse:123155\u001b[0m\n",
      "\u001b[34m[21:54:48] src/tree/updater_prune.cc:74: tree pruning end, 1 roots, 122 extra nodes, 0 pruned nodes, max_depth=6\u001b[0m\n",
      "\u001b[34m[46]#011train-rmse:72813.1#011validation-rmse:123242\u001b[0m\n",
      "\u001b[34m[21:54:48] src/tree/updater_prune.cc:74: tree pruning end, 1 roots, 104 extra nodes, 0 pruned nodes, max_depth=6\u001b[0m\n",
      "\u001b[34m[47]#011train-rmse:72346.4#011validation-rmse:123385\u001b[0m\n",
      "\u001b[34m[21:54:48] src/tree/updater_prune.cc:74: tree pruning end, 1 roots, 118 extra nodes, 0 pruned nodes, max_depth=6\u001b[0m\n",
      "\u001b[34m[48]#011train-rmse:71708.4#011validation-rmse:123489\u001b[0m\n",
      "\u001b[34m[21:54:48] src/tree/updater_prune.cc:74: tree pruning end, 1 roots, 86 extra nodes, 0 pruned nodes, max_depth=6\u001b[0m\n",
      "\u001b[34m[49]#011train-rmse:71377.2#011validation-rmse:123387\u001b[0m\n",
      "\u001b[34m[21:54:48] src/tree/updater_prune.cc:74: tree pruning end, 1 roots, 104 extra nodes, 0 pruned nodes, max_depth=6\u001b[0m\n",
      "\u001b[34m[50]#011train-rmse:71003#011validation-rmse:123322\u001b[0m\n",
      "\u001b[34m[21:54:48] src/tree/updater_prune.cc:74: tree pruning end, 1 roots, 116 extra nodes, 0 pruned nodes, max_depth=6\u001b[0m\n",
      "\u001b[34m[51]#011train-rmse:70255.8#011validation-rmse:123163\u001b[0m\n",
      "\u001b[34m[21:54:48] src/tree/updater_prune.cc:74: tree pruning end, 1 roots, 98 extra nodes, 0 pruned nodes, max_depth=6\u001b[0m\n",
      "\u001b[34m[52]#011train-rmse:69727.2#011validation-rmse:123042\u001b[0m\n",
      "\u001b[34m[21:54:48] src/tree/updater_prune.cc:74: tree pruning end, 1 roots, 82 extra nodes, 0 pruned nodes, max_depth=6\u001b[0m\n",
      "\u001b[34m[53]#011train-rmse:69440.7#011validation-rmse:123111\u001b[0m\n",
      "\u001b[34m[21:54:48] src/tree/updater_prune.cc:74: tree pruning end, 1 roots, 116 extra nodes, 0 pruned nodes, max_depth=6\u001b[0m\n",
      "\u001b[34m[54]#011train-rmse:68825.1#011validation-rmse:123141\u001b[0m\n",
      "\u001b[34m[21:54:48] src/tree/updater_prune.cc:74: tree pruning end, 1 roots, 90 extra nodes, 0 pruned nodes, max_depth=6\u001b[0m\n",
      "\u001b[34m[55]#011train-rmse:68565.3#011validation-rmse:123090\u001b[0m\n",
      "\u001b[34m[21:54:48] src/tree/updater_prune.cc:74: tree pruning end, 1 roots, 80 extra nodes, 0 pruned nodes, max_depth=6\u001b[0m\n",
      "\u001b[34m[56]#011train-rmse:68338.4#011validation-rmse:123152\u001b[0m\n",
      "\u001b[34m[21:54:48] src/tree/updater_prune.cc:74: tree pruning end, 1 roots, 106 extra nodes, 0 pruned nodes, max_depth=6\u001b[0m\n",
      "\u001b[34m[57]#011train-rmse:67920.7#011validation-rmse:123112\u001b[0m\n",
      "\u001b[34m[21:54:48] src/tree/updater_prune.cc:74: tree pruning end, 1 roots, 72 extra nodes, 0 pruned nodes, max_depth=6\u001b[0m\n",
      "\u001b[34m[58]#011train-rmse:67691.5#011validation-rmse:123068\u001b[0m\n",
      "\u001b[34m[21:54:48] src/tree/updater_prune.cc:74: tree pruning end, 1 roots, 86 extra nodes, 0 pruned nodes, max_depth=6\u001b[0m\n",
      "\u001b[34m[59]#011train-rmse:67354.8#011validation-rmse:123099\u001b[0m\n",
      "\u001b[34m[21:54:48] src/tree/updater_prune.cc:74: tree pruning end, 1 roots, 90 extra nodes, 0 pruned nodes, max_depth=6\u001b[0m\n",
      "\u001b[34m[60]#011train-rmse:67214.5#011validation-rmse:123082\u001b[0m\n",
      "\u001b[34m[21:54:48] src/tree/updater_prune.cc:74: tree pruning end, 1 roots, 86 extra nodes, 0 pruned nodes, max_depth=6\u001b[0m\n",
      "\u001b[34m[61]#011train-rmse:66841.3#011validation-rmse:123000\u001b[0m\n",
      "\u001b[34m[21:54:48] src/tree/updater_prune.cc:74: tree pruning end, 1 roots, 104 extra nodes, 0 pruned nodes, max_depth=6\u001b[0m\n",
      "\u001b[34m[62]#011train-rmse:66220.1#011validation-rmse:122741\u001b[0m\n",
      "\u001b[34m[21:54:48] src/tree/updater_prune.cc:74: tree pruning end, 1 roots, 108 extra nodes, 0 pruned nodes, max_depth=6\u001b[0m\n",
      "\u001b[34m[63]#011train-rmse:65776.9#011validation-rmse:122745\u001b[0m\n",
      "\u001b[34m[21:54:48] src/tree/updater_prune.cc:74: tree pruning end, 1 roots, 118 extra nodes, 0 pruned nodes, max_depth=6\u001b[0m\n",
      "\u001b[34m[64]#011train-rmse:65230#011validation-rmse:122510\u001b[0m\n",
      "\u001b[34m[21:54:48] src/tree/updater_prune.cc:74: tree pruning end, 1 roots, 104 extra nodes, 0 pruned nodes, max_depth=6\u001b[0m\n",
      "\u001b[34m[65]#011train-rmse:64952.9#011validation-rmse:122614\u001b[0m\n",
      "\u001b[34m[21:54:48] src/tree/updater_prune.cc:74: tree pruning end, 1 roots, 110 extra nodes, 0 pruned nodes, max_depth=6\u001b[0m\n",
      "\u001b[34m[66]#011train-rmse:64498.1#011validation-rmse:122433\u001b[0m\n",
      "\u001b[34m[21:54:48] src/tree/updater_prune.cc:74: tree pruning end, 1 roots, 98 extra nodes, 0 pruned nodes, max_depth=6\u001b[0m\n",
      "\u001b[34m[67]#011train-rmse:64177.6#011validation-rmse:122545\u001b[0m\n",
      "\u001b[34m[21:54:48] src/tree/updater_prune.cc:74: tree pruning end, 1 roots, 112 extra nodes, 0 pruned nodes, max_depth=6\u001b[0m\n",
      "\u001b[34m[68]#011train-rmse:63860.8#011validation-rmse:122529\u001b[0m\n",
      "\u001b[34m[21:54:48] src/tree/updater_prune.cc:74: tree pruning end, 1 roots, 94 extra nodes, 0 pruned nodes, max_depth=6\u001b[0m\n",
      "\u001b[34m[69]#011train-rmse:63643.2#011validation-rmse:122515\u001b[0m\n",
      "\u001b[34m[21:54:48] src/tree/updater_prune.cc:74: tree pruning end, 1 roots, 104 extra nodes, 0 pruned nodes, max_depth=6\u001b[0m\n",
      "\u001b[34m[70]#011train-rmse:63290.7#011validation-rmse:122466\u001b[0m\n",
      "\u001b[34m[21:54:48] src/tree/updater_prune.cc:74: tree pruning end, 1 roots, 94 extra nodes, 0 pruned nodes, max_depth=6\u001b[0m\n",
      "\u001b[34m[71]#011train-rmse:62927.3#011validation-rmse:122467\u001b[0m\n",
      "\u001b[34m[21:54:48] src/tree/updater_prune.cc:74: tree pruning end, 1 roots, 106 extra nodes, 0 pruned nodes, max_depth=6\u001b[0m\n",
      "\u001b[34m[72]#011train-rmse:62666.3#011validation-rmse:122420\u001b[0m\n",
      "\u001b[34m[21:54:48] src/tree/updater_prune.cc:74: tree pruning end, 1 roots, 108 extra nodes, 0 pruned nodes, max_depth=6\u001b[0m\n",
      "\u001b[34m[73]#011train-rmse:62308.9#011validation-rmse:122362\u001b[0m\n",
      "\u001b[34m[21:54:48] src/tree/updater_prune.cc:74: tree pruning end, 1 roots, 112 extra nodes, 0 pruned nodes, max_depth=6\u001b[0m\n",
      "\u001b[34m[74]#011train-rmse:62192.3#011validation-rmse:122376\u001b[0m\n",
      "\u001b[34m[21:54:48] src/tree/updater_prune.cc:74: tree pruning end, 1 roots, 106 extra nodes, 0 pruned nodes, max_depth=6\u001b[0m\n",
      "\u001b[34m[75]#011train-rmse:62037.5#011validation-rmse:122359\u001b[0m\n",
      "\u001b[34m[21:54:48] src/tree/updater_prune.cc:74: tree pruning end, 1 roots, 90 extra nodes, 0 pruned nodes, max_depth=6\u001b[0m\n",
      "\u001b[34m[76]#011train-rmse:61797.9#011validation-rmse:122453\u001b[0m\n",
      "\u001b[34m[21:54:48] src/tree/updater_prune.cc:74: tree pruning end, 1 roots, 120 extra nodes, 0 pruned nodes, max_depth=6\u001b[0m\n",
      "\u001b[34m[77]#011train-rmse:61252.2#011validation-rmse:122482\u001b[0m\n",
      "\u001b[34m[21:54:48] src/tree/updater_prune.cc:74: tree pruning end, 1 roots, 122 extra nodes, 0 pruned nodes, max_depth=6\u001b[0m\n",
      "\u001b[34m[78]#011train-rmse:60662.8#011validation-rmse:122460\u001b[0m\n",
      "\u001b[34m[21:54:48] src/tree/updater_prune.cc:74: tree pruning end, 1 roots, 98 extra nodes, 0 pruned nodes, max_depth=6\u001b[0m\n",
      "\u001b[34m[79]#011train-rmse:60478.4#011validation-rmse:122408\u001b[0m\n",
      "\u001b[34m[21:54:48] src/tree/updater_prune.cc:74: tree pruning end, 1 roots, 120 extra nodes, 0 pruned nodes, max_depth=6\u001b[0m\n",
      "\u001b[34m[80]#011train-rmse:60104.5#011validation-rmse:122487\u001b[0m\n",
      "\u001b[34m[21:54:48] src/tree/updater_prune.cc:74: tree pruning end, 1 roots, 72 extra nodes, 0 pruned nodes, max_depth=6\u001b[0m\n",
      "\u001b[34m[81]#011train-rmse:60042.5#011validation-rmse:122457\u001b[0m\n",
      "\u001b[34m[21:54:48] src/tree/updater_prune.cc:74: tree pruning end, 1 roots, 114 extra nodes, 0 pruned nodes, max_depth=6\u001b[0m\n",
      "\u001b[34m[82]#011train-rmse:59856.7#011validation-rmse:122461\u001b[0m\n",
      "\u001b[34m[21:54:48] src/tree/updater_prune.cc:74: tree pruning end, 1 roots, 110 extra nodes, 0 pruned nodes, max_depth=6\u001b[0m\n",
      "\u001b[34m[83]#011train-rmse:59576.2#011validation-rmse:122424\u001b[0m\n",
      "\u001b[34m[21:54:48] src/tree/updater_prune.cc:74: tree pruning end, 1 roots, 112 extra nodes, 0 pruned nodes, max_depth=6\u001b[0m\n",
      "\u001b[34m[84]#011train-rmse:59223.4#011validation-rmse:122388\u001b[0m\n",
      "\u001b[34m[21:54:48] src/tree/updater_prune.cc:74: tree pruning end, 1 roots, 104 extra nodes, 0 pruned nodes, max_depth=6\u001b[0m\n",
      "\u001b[34m[85]#011train-rmse:58942.1#011validation-rmse:122293\u001b[0m\n",
      "\u001b[34m[21:54:48] src/tree/updater_prune.cc:74: tree pruning end, 1 roots, 104 extra nodes, 0 pruned nodes, max_depth=6\u001b[0m\n",
      "\u001b[34m[86]#011train-rmse:58657.7#011validation-rmse:122211\u001b[0m\n",
      "\u001b[34m[21:54:48] src/tree/updater_prune.cc:74: tree pruning end, 1 roots, 92 extra nodes, 0 pruned nodes, max_depth=6\u001b[0m\n",
      "\u001b[34m[87]#011train-rmse:58411.9#011validation-rmse:122234\u001b[0m\n",
      "\u001b[34m[21:54:48] src/tree/updater_prune.cc:74: tree pruning end, 1 roots, 66 extra nodes, 0 pruned nodes, max_depth=6\u001b[0m\n",
      "\u001b[34m[88]#011train-rmse:58308.5#011validation-rmse:122246\u001b[0m\n",
      "\u001b[34m[21:54:48] src/tree/updater_prune.cc:74: tree pruning end, 1 roots, 46 extra nodes, 0 pruned nodes, max_depth=6\u001b[0m\n",
      "\u001b[34m[89]#011train-rmse:58279.1#011validation-rmse:122253\u001b[0m\n",
      "\u001b[34m[21:54:48] src/tree/updater_prune.cc:74: tree pruning end, 1 roots, 100 extra nodes, 0 pruned nodes, max_depth=6\u001b[0m\n",
      "\u001b[34m[90]#011train-rmse:58107.2#011validation-rmse:122232\u001b[0m\n",
      "\u001b[34m[21:54:48] src/tree/updater_prune.cc:74: tree pruning end, 1 roots, 86 extra nodes, 0 pruned nodes, max_depth=6\u001b[0m\n",
      "\u001b[34m[91]#011train-rmse:57885.6#011validation-rmse:122227\u001b[0m\n",
      "\u001b[34m[21:54:48] src/tree/updater_prune.cc:74: tree pruning end, 1 roots, 92 extra nodes, 0 pruned nodes, max_depth=6\u001b[0m\n",
      "\u001b[34m[92]#011train-rmse:57525.8#011validation-rmse:122237\u001b[0m\n",
      "\u001b[34m[21:54:48] src/tree/updater_prune.cc:74: tree pruning end, 1 roots, 92 extra nodes, 0 pruned nodes, max_depth=6\u001b[0m\n",
      "\u001b[34m[93]#011train-rmse:57313.3#011validation-rmse:122250\u001b[0m\n",
      "\u001b[34m[21:54:48] src/tree/updater_prune.cc:74: tree pruning end, 1 roots, 114 extra nodes, 0 pruned nodes, max_depth=6\u001b[0m\n",
      "\u001b[34m[94]#011train-rmse:56991.2#011validation-rmse:122280\u001b[0m\n",
      "\u001b[34m[21:54:48] src/tree/updater_prune.cc:74: tree pruning end, 1 roots, 80 extra nodes, 0 pruned nodes, max_depth=6\u001b[0m\n",
      "\u001b[34m[95]#011train-rmse:56903.8#011validation-rmse:122292\u001b[0m\n",
      "\u001b[34m[21:54:48] src/tree/updater_prune.cc:74: tree pruning end, 1 roots, 64 extra nodes, 0 pruned nodes, max_depth=6\u001b[0m\n",
      "\u001b[34m[96]#011train-rmse:56724.3#011validation-rmse:122300\u001b[0m\n",
      "\u001b[34m[21:54:48] src/tree/updater_prune.cc:74: tree pruning end, 1 roots, 114 extra nodes, 0 pruned nodes, max_depth=6\u001b[0m\n",
      "\u001b[34m[97]#011train-rmse:56407.2#011validation-rmse:122112\u001b[0m\n",
      "\u001b[34m[21:54:48] src/tree/updater_prune.cc:74: tree pruning end, 1 roots, 114 extra nodes, 0 pruned nodes, max_depth=6\u001b[0m\n",
      "\u001b[34m[98]#011train-rmse:56064.4#011validation-rmse:122013\u001b[0m\n",
      "\u001b[34m[21:54:48] src/tree/updater_prune.cc:74: tree pruning end, 1 roots, 90 extra nodes, 0 pruned nodes, max_depth=6\u001b[0m\n",
      "\u001b[34m[99]#011train-rmse:55896.7#011validation-rmse:121962\u001b[0m\n",
      "\n",
      "2023-03-14 21:55:07 Completed - Training job completed\n",
      "Training seconds: 77\n",
      "Billable seconds: 77\n"
     ]
    }
   ],
   "source": [
    "xgboost.fit(data_channels)"
   ]
  },
  {
   "cell_type": "markdown",
   "id": "f3c95aab-3567-4c05-870d-50a36994d4d6",
   "metadata": {},
   "source": [
    "# Deplot, previsões e avaliação"
   ]
  },
  {
   "cell_type": "code",
   "execution_count": 46,
   "id": "5c1dc225-60db-4e68-9864-d9e3e4990c16",
   "metadata": {
    "tags": []
   },
   "outputs": [
    {
     "name": "stderr",
     "output_type": "stream",
     "text": [
      "INFO:sagemaker:Creating model with name: xgboost-2023-03-14-22-05-50-735\n",
      "INFO:sagemaker:Creating endpoint-config with name xgboost-2023-03-14-22-05-50-735\n",
      "INFO:sagemaker:Creating endpoint with name xgboost-2023-03-14-22-05-50-735\n"
     ]
    },
    {
     "name": "stdout",
     "output_type": "stream",
     "text": [
      "------!"
     ]
    }
   ],
   "source": [
    "xgboost_regressor = xgboost.deploy(initial_instance_count=1, instance_type = 'ml.m4.xlarge')"
   ]
  },
  {
   "cell_type": "code",
   "execution_count": 47,
   "id": "0cff2e21-97a7-4c63-966f-9381f3b3fb08",
   "metadata": {
    "tags": []
   },
   "outputs": [],
   "source": [
    "from sagemaker.serializers import CSVSerializer\n",
    "\n",
    "# configurando o tipo de entrada\n",
    "xgboost_regressor.serializer = CSVSerializer()"
   ]
  },
  {
   "cell_type": "code",
   "execution_count": 48,
   "id": "e82b57b5-d160-455d-9092-58ce5e954341",
   "metadata": {
    "tags": []
   },
   "outputs": [
    {
     "data": {
      "text/plain": [
       "((6484, 16), numpy.ndarray)"
      ]
     },
     "execution_count": 48,
     "metadata": {},
     "output_type": "execute_result"
    }
   ],
   "source": [
    "X_teste.shape, type(X_teste)"
   ]
  },
  {
   "cell_type": "code",
   "execution_count": 57,
   "id": "23e4feb8-d63d-4db1-a83b-318fc34bca89",
   "metadata": {
    "tags": []
   },
   "outputs": [
    {
     "data": {
      "text/plain": [
       "array([715760.25 , 759194.25 , 125879.664, ..., 298663.34 , 468468.56 ,\n",
       "       292532.9  ], dtype=float32)"
      ]
     },
     "execution_count": 57,
     "metadata": {},
     "output_type": "execute_result"
    }
   ],
   "source": [
    "previsoes = np.array(xgboost_regressor.predict(X_teste).decode('utf-8').split(',')).astype(np.float32)\n",
    "previsoes"
   ]
  },
  {
   "cell_type": "code",
   "execution_count": 59,
   "id": "0d8a274d-fde2-4640-8505-d56a4ff708a4",
   "metadata": {
    "tags": []
   },
   "outputs": [
    {
     "data": {
      "text/plain": [
       "((6484,), (6484,))"
      ]
     },
     "execution_count": 59,
     "metadata": {},
     "output_type": "execute_result"
    }
   ],
   "source": [
    "previsoes.shape, y_teste.shape"
   ]
  },
  {
   "cell_type": "code",
   "execution_count": 60,
   "id": "13aae3e5-5dfc-40cb-9ace-ea5ce455db88",
   "metadata": {
    "tags": []
   },
   "outputs": [
    {
     "name": "stdout",
     "output_type": "stream",
     "text": [
      "MAE =  69311.54741358536 \n",
      "MSE =  14874845482.575417\n"
     ]
    }
   ],
   "source": [
    "from sklearn.metrics import mean_absolute_error, mean_squared_error\n",
    "mae = mean_absolute_error(y_teste, previsoes)\n",
    "mse = mean_squared_error(y_teste, previsoes)\n",
    "print('MAE = ', mae, '\\nMSE = ', mse)"
   ]
  },
  {
   "cell_type": "markdown",
   "id": "9f0f79d3-1d19-4116-a62c-ac9d056acb56",
   "metadata": {},
   "source": [
    "# Tuning"
   ]
  },
  {
   "cell_type": "code",
   "execution_count": 61,
   "id": "1ad0180e-8662-402d-a9df-41501b1e85e2",
   "metadata": {
    "tags": []
   },
   "outputs": [],
   "source": [
    "#eta = numero de passos para previnir o overfitting\n",
    "# alpha = regularização, é baseada nos pesos extras para evitar o overfitting\n",
    "#min_child_weight = numero de min de instancia para a folha da arvore\n",
    "#max_depth = profundidade de arvore\n",
    "# ResourceLimits para poder computacional \n",
    "# MaxNumberOfTrainingJobs é o numero de algortimo que será gerado\n",
    "# MaxParallelTrainingJobs numero de algoritmo que será executado em paralelo"
   ]
  },
  {
   "cell_type": "code",
   "execution_count": 62,
   "id": "917f4ed1-ba16-47c6-b994-6fe19a2506cd",
   "metadata": {
    "tags": []
   },
   "outputs": [],
   "source": [
    "# https://docs.aws.amazon.com/sagemaker/latest/dg/xgboost_hyperparameters.html\n",
    "tuning_job_config = {\n",
    "    \"ParameterRanges\": {\n",
    "      \"CategoricalParameterRanges\": [],\n",
    "      \"ContinuousParameterRanges\": [\n",
    "        {\n",
    "          \"MaxValue\": \"1\",\n",
    "          \"MinValue\": \"0\",\n",
    "          \"Name\": \"eta\"\n",
    "        },\n",
    "        {\n",
    "          \"MaxValue\": \"2\",\n",
    "          \"MinValue\": \"0\",\n",
    "          \"Name\": \"alpha\"\n",
    "        },\n",
    "        {\n",
    "          \"MaxValue\": \"10\",\n",
    "          \"MinValue\": \"1\",\n",
    "          \"Name\": \"min_child_weight\"\n",
    "        }\n",
    "      ],\n",
    "      \"IntegerParameterRanges\": [\n",
    "        {\n",
    "          \"MaxValue\": \"10\",\n",
    "          \"MinValue\": \"1\",\n",
    "          \"Name\": \"max_depth\"\n",
    "        }\n",
    "      ],\n",
    "      \"IntegerParameterRanges\": [\n",
    "        {\n",
    "          \"MaxValue\": \"300\",\n",
    "          \"MinValue\": \"50\",\n",
    "          \"Name\": \"num_round\"\n",
    "        }\n",
    "      ]\n",
    "    },\n",
    "    \"ResourceLimits\": {\n",
    "      \"MaxNumberOfTrainingJobs\": 9,\n",
    "      \"MaxParallelTrainingJobs\": 3\n",
    "    },\n",
    "    \"Strategy\": \"Bayesian\",\n",
    "    \"HyperParameterTuningJobObjective\": {\n",
    "      \"MetricName\": \"validation:rmse\",\n",
    "      \"Type\": \"Minimize\"\n",
    "    }\n",
    "  }"
   ]
  },
  {
   "cell_type": "code",
   "execution_count": 63,
   "id": "5dce516c-fc31-46ef-9010-02ef5db04876",
   "metadata": {
    "tags": []
   },
   "outputs": [],
   "source": [
    "training_job_definition = {\n",
    "    \"AlgorithmSpecification\": {\n",
    "      \"TrainingImage\": container,\n",
    "      \"TrainingInputMode\": \"File\"\n",
    "    },\n",
    "    \"InputDataConfig\": [\n",
    "      {\n",
    "        \"ChannelName\": \"train\",\n",
    "        \"CompressionType\": \"None\",\n",
    "        \"ContentType\": \"csv\",\n",
    "        \"DataSource\": {\n",
    "          \"S3DataSource\": {\n",
    "            \"S3DataDistributionType\": \"FullyReplicated\",\n",
    "            \"S3DataType\": \"S3Prefix\",\n",
    "            \"S3Uri\": s3_train_data\n",
    "          }\n",
    "        }\n",
    "      },\n",
    "      {\n",
    "        \"ChannelName\": \"validation\",\n",
    "        \"CompressionType\": \"None\",\n",
    "        \"ContentType\": \"csv\",\n",
    "        \"DataSource\": {\n",
    "          \"S3DataSource\": {\n",
    "            \"S3DataDistributionType\": \"FullyReplicated\",\n",
    "            \"S3DataType\": \"S3Prefix\",\n",
    "            \"S3Uri\": s3_test_data\n",
    "          }\n",
    "        }\n",
    "      }\n",
    "    ],\n",
    "    \"OutputDataConfig\": {\n",
    "      \"S3OutputPath\": \"s3://{}/{}/output\".format(bucket,subpasta_modelo)\n",
    "    },\n",
    "    \"ResourceConfig\": {\n",
    "      \"InstanceCount\": 2,\n",
    "      \"InstanceType\": \"ml.c4.2xlarge\",\n",
    "      \"VolumeSizeInGB\": 10\n",
    "    },\n",
    "    \"RoleArn\": role,\n",
    "    \"StaticHyperParameters\": {\n",
    "      \"eval_metric\": \"rmse\",\n",
    "      \"objective\": \"reg:linear\",\n",
    "      \"rate_drop\": \"0.3\",\n",
    "      \"tweedie_variance_power\": \"1.4\"\n",
    "    },\n",
    "    \"StoppingCondition\": {\n",
    "      \"MaxRuntimeInSeconds\": 43200\n",
    "    }\n",
    "}"
   ]
  },
  {
   "cell_type": "code",
   "execution_count": 65,
   "id": "83e0fce2-61cd-475d-850d-970ea377cfcc",
   "metadata": {
    "tags": []
   },
   "outputs": [],
   "source": [
    "smclient = boto3.client('sagemaker')"
   ]
  },
  {
   "cell_type": "code",
   "execution_count": 68,
   "id": "99c5b28e-1b22-4970-af8b-aab8e290cae3",
   "metadata": {
    "tags": []
   },
   "outputs": [
    {
     "data": {
      "text/plain": [
       "{'HyperParameterTuningJobArn': 'arn:aws:sagemaker:sa-east-1:605390214759:hyper-parameter-tuning-job/xgboosttuninghouses2',\n",
       " 'ResponseMetadata': {'RequestId': '009032b0-9b5d-43d6-a7a4-04e135f41dc5',\n",
       "  'HTTPStatusCode': 200,\n",
       "  'HTTPHeaders': {'x-amzn-requestid': '009032b0-9b5d-43d6-a7a4-04e135f41dc5',\n",
       "   'content-type': 'application/x-amz-json-1.1',\n",
       "   'content-length': '121',\n",
       "   'date': 'Tue, 14 Mar 2023 22:46:16 GMT'},\n",
       "  'RetryAttempts': 0}}"
      ]
     },
     "execution_count": 68,
     "metadata": {},
     "output_type": "execute_result"
    }
   ],
   "source": [
    "smclient.create_hyper_parameter_tuning_job(HyperParameterTuningJobName = \"xgboosttuninghouses2\",\n",
    "                                          HyperParameterTuningJobConfig = tuning_job_config,\n",
    "                                          TrainingJobDefinition = training_job_definition)"
   ]
  },
  {
   "cell_type": "code",
   "execution_count": 69,
   "id": "04940118-56c8-43e4-b799-7b3983218122",
   "metadata": {
    "tags": []
   },
   "outputs": [],
   "source": [
    "xgboost.set_hyperparameters(num_round = 219, \n",
    "                            alpha = 1.59, \n",
    "                            eta = 0.07, \n",
    "                            min_child_weight = 2.406,\n",
    "                            rate_drop = 0.3,\n",
    "                            tweedie_varience_power = 1.4)"
   ]
  },
  {
   "cell_type": "code",
   "execution_count": 70,
   "id": "c9de1f0a-b87f-485a-9dd2-27fdb5578360",
   "metadata": {
    "tags": []
   },
   "outputs": [],
   "source": [
    "train_input = sagemaker.inputs.TrainingInput(s3_data = s3_train_data, content_type='csv', s3_data_type = 'S3Prefix')\n",
    "validation_input = sagemaker.inputs.TrainingInput(s3_data = s3_test_data, content_type='csv', s3_data_type = 'S3Prefix')\n",
    "# para unir essas duas informações\n",
    "# a cada etapa do algortimo será feita a validação\n",
    "data_channels = {'train': train_input, 'validation': validation_input}"
   ]
  },
  {
   "cell_type": "code",
   "execution_count": 71,
   "id": "8ce02b73-efb2-4e53-a181-dd59234650a4",
   "metadata": {
    "tags": []
   },
   "outputs": [
    {
     "name": "stderr",
     "output_type": "stream",
     "text": [
      "INFO:sagemaker:Creating training-job with name: xgboost-2023-03-14-22-53-18-575\n"
     ]
    },
    {
     "name": "stdout",
     "output_type": "stream",
     "text": [
      "2023-03-14 22:53:18 Starting - Starting the training job...\n",
      "2023-03-14 22:53:35 Starting - Preparing the instances for training......\n",
      "2023-03-14 22:54:31 Downloading - Downloading input data...\n",
      "2023-03-14 22:55:11 Training - Training image download completed. Training in progress...\u001b[34mArguments: train\u001b[0m\n",
      "\u001b[34m[2023-03-14:22:55:29:INFO] Running standalone xgboost training.\u001b[0m\n",
      "\u001b[34m[2023-03-14:22:55:29:INFO] File size need to be processed in the node: 1.55mb. Available memory size in the node: 23679.0mb\u001b[0m\n",
      "\u001b[34m[2023-03-14:22:55:29:INFO] Determined delimiter of CSV input is ','\u001b[0m\n",
      "\u001b[34m[22:55:29] S3DistributionType set as FullyReplicated\u001b[0m\n",
      "\u001b[34m[22:55:29] 15129x16 matrix with 242064 entries loaded from /opt/ml/input/data/train?format=csv&label_column=0&delimiter=,\u001b[0m\n",
      "\u001b[34m[2023-03-14:22:55:29:INFO] Determined delimiter of CSV input is ','\u001b[0m\n",
      "\u001b[34m[22:55:29] S3DistributionType set as FullyReplicated\u001b[0m\n",
      "\u001b[34m[22:55:29] 6484x16 matrix with 103744 entries loaded from /opt/ml/input/data/validation?format=csv&label_column=0&delimiter=,\u001b[0m\n",
      "\u001b[34m[22:55:29] src/tree/updater_prune.cc:74: tree pruning end, 1 roots, 112 extra nodes, 0 pruned nodes, max_depth=6\u001b[0m\n",
      "\u001b[34m[0]#011train-rmse:604985#011validation-rmse:625847\u001b[0m\n",
      "\u001b[34m[22:55:29] src/tree/updater_prune.cc:74: tree pruning end, 1 roots, 112 extra nodes, 0 pruned nodes, max_depth=6\u001b[0m\n",
      "\u001b[34m[1]#011train-rmse:566532#011validation-rmse:586512\u001b[0m\n",
      "\u001b[34m[22:55:29] src/tree/updater_prune.cc:74: tree pruning end, 1 roots, 110 extra nodes, 0 pruned nodes, max_depth=6\u001b[0m\n",
      "\u001b[34m[2]#011train-rmse:530903#011validation-rmse:549680\u001b[0m\n",
      "\u001b[34m[22:55:29] src/tree/updater_prune.cc:74: tree pruning end, 1 roots, 98 extra nodes, 0 pruned nodes, max_depth=6\u001b[0m\n",
      "\u001b[34m[3]#011train-rmse:497782#011validation-rmse:515359\u001b[0m\n",
      "\u001b[34m[22:55:29] src/tree/updater_prune.cc:74: tree pruning end, 1 roots, 116 extra nodes, 0 pruned nodes, max_depth=6\u001b[0m\n",
      "\u001b[34m[4]#011train-rmse:467110#011validation-rmse:483955\u001b[0m\n",
      "\u001b[34m[22:55:29] src/tree/updater_prune.cc:74: tree pruning end, 1 roots, 104 extra nodes, 0 pruned nodes, max_depth=6\u001b[0m\n",
      "\u001b[34m[5]#011train-rmse:438603#011validation-rmse:454994\u001b[0m\n",
      "\u001b[34m[22:55:29] src/tree/updater_prune.cc:74: tree pruning end, 1 roots, 102 extra nodes, 0 pruned nodes, max_depth=6\u001b[0m\n",
      "\u001b[34m[6]#011train-rmse:412194#011validation-rmse:427803\u001b[0m\n",
      "\u001b[34m[22:55:29] src/tree/updater_prune.cc:74: tree pruning end, 1 roots, 100 extra nodes, 0 pruned nodes, max_depth=6\u001b[0m\n",
      "\u001b[34m[7]#011train-rmse:387790#011validation-rmse:403255\u001b[0m\n",
      "\u001b[34m[22:55:29] src/tree/updater_prune.cc:74: tree pruning end, 1 roots, 96 extra nodes, 0 pruned nodes, max_depth=6\u001b[0m\n",
      "\u001b[34m[8]#011train-rmse:364941#011validation-rmse:380029\u001b[0m\n",
      "\u001b[34m[22:55:29] src/tree/updater_prune.cc:74: tree pruning end, 1 roots, 112 extra nodes, 0 pruned nodes, max_depth=6\u001b[0m\n",
      "\u001b[34m[9]#011train-rmse:343901#011validation-rmse:358907\u001b[0m\n",
      "\u001b[34m[22:55:29] src/tree/updater_prune.cc:74: tree pruning end, 1 roots, 100 extra nodes, 0 pruned nodes, max_depth=6\u001b[0m\n",
      "\u001b[34m[10]#011train-rmse:324231#011validation-rmse:339164\u001b[0m\n",
      "\u001b[34m[22:55:29] src/tree/updater_prune.cc:74: tree pruning end, 1 roots, 98 extra nodes, 0 pruned nodes, max_depth=6\u001b[0m\n",
      "\u001b[34m[11]#011train-rmse:306219#011validation-rmse:321565\u001b[0m\n",
      "\u001b[34m[22:55:29] src/tree/updater_prune.cc:74: tree pruning end, 1 roots, 102 extra nodes, 0 pruned nodes, max_depth=6\u001b[0m\n",
      "\u001b[34m[12]#011train-rmse:289480#011validation-rmse:305269\u001b[0m\n",
      "\u001b[34m[22:55:29] src/tree/updater_prune.cc:74: tree pruning end, 1 roots, 94 extra nodes, 0 pruned nodes, max_depth=6\u001b[0m\n",
      "\u001b[34m[13]#011train-rmse:274116#011validation-rmse:290305\u001b[0m\n",
      "\u001b[34m[22:55:29] src/tree/updater_prune.cc:74: tree pruning end, 1 roots, 114 extra nodes, 0 pruned nodes, max_depth=6\u001b[0m\n",
      "\u001b[34m[14]#011train-rmse:259724#011validation-rmse:276361\u001b[0m\n",
      "\u001b[34m[22:55:29] src/tree/updater_prune.cc:74: tree pruning end, 1 roots, 114 extra nodes, 0 pruned nodes, max_depth=6\u001b[0m\n",
      "\u001b[34m[15]#011train-rmse:246348#011validation-rmse:263438\u001b[0m\n",
      "\u001b[34m[22:55:29] src/tree/updater_prune.cc:74: tree pruning end, 1 roots, 100 extra nodes, 0 pruned nodes, max_depth=6\u001b[0m\n",
      "\u001b[34m[16]#011train-rmse:234077#011validation-rmse:251310\u001b[0m\n",
      "\u001b[34m[22:55:29] src/tree/updater_prune.cc:74: tree pruning end, 1 roots, 114 extra nodes, 0 pruned nodes, max_depth=6\u001b[0m\n",
      "\u001b[34m[17]#011train-rmse:222787#011validation-rmse:240532\u001b[0m\n",
      "\u001b[34m[22:55:29] src/tree/updater_prune.cc:74: tree pruning end, 1 roots, 110 extra nodes, 0 pruned nodes, max_depth=6\u001b[0m\n",
      "\u001b[34m[18]#011train-rmse:212221#011validation-rmse:230461\u001b[0m\n",
      "\u001b[34m[22:55:29] src/tree/updater_prune.cc:74: tree pruning end, 1 roots, 104 extra nodes, 0 pruned nodes, max_depth=6\u001b[0m\n",
      "\u001b[34m[19]#011train-rmse:202670#011validation-rmse:221464\u001b[0m\n",
      "\u001b[34m[22:55:29] src/tree/updater_prune.cc:74: tree pruning end, 1 roots, 100 extra nodes, 0 pruned nodes, max_depth=6\u001b[0m\n",
      "\u001b[34m[20]#011train-rmse:193774#011validation-rmse:213370\u001b[0m\n",
      "\u001b[34m[22:55:29] src/tree/updater_prune.cc:74: tree pruning end, 1 roots, 100 extra nodes, 0 pruned nodes, max_depth=6\u001b[0m\n",
      "\u001b[34m[21]#011train-rmse:185715#011validation-rmse:205991\u001b[0m\n",
      "\u001b[34m[22:55:29] src/tree/updater_prune.cc:74: tree pruning end, 1 roots, 106 extra nodes, 0 pruned nodes, max_depth=6\u001b[0m\n",
      "\u001b[34m[22]#011train-rmse:178282#011validation-rmse:199020\u001b[0m\n",
      "\u001b[34m[22:55:29] src/tree/updater_prune.cc:74: tree pruning end, 1 roots, 104 extra nodes, 0 pruned nodes, max_depth=6\u001b[0m\n",
      "\u001b[34m[23]#011train-rmse:171373#011validation-rmse:192674\u001b[0m\n",
      "\u001b[34m[22:55:29] src/tree/updater_prune.cc:74: tree pruning end, 1 roots, 98 extra nodes, 0 pruned nodes, max_depth=6\u001b[0m\n",
      "\u001b[34m[24]#011train-rmse:165119#011validation-rmse:187029\u001b[0m\n",
      "\u001b[34m[22:55:29] src/tree/updater_prune.cc:74: tree pruning end, 1 roots, 106 extra nodes, 0 pruned nodes, max_depth=6\u001b[0m\n",
      "\u001b[34m[25]#011train-rmse:159358#011validation-rmse:182057\u001b[0m\n",
      "\u001b[34m[22:55:29] src/tree/updater_prune.cc:74: tree pruning end, 1 roots, 106 extra nodes, 0 pruned nodes, max_depth=6\u001b[0m\n",
      "\u001b[34m[26]#011train-rmse:154045#011validation-rmse:177377\u001b[0m\n",
      "\u001b[34m[22:55:29] src/tree/updater_prune.cc:74: tree pruning end, 1 roots, 112 extra nodes, 0 pruned nodes, max_depth=6\u001b[0m\n",
      "\u001b[34m[27]#011train-rmse:149176#011validation-rmse:172897\u001b[0m\n",
      "\u001b[34m[22:55:29] src/tree/updater_prune.cc:74: tree pruning end, 1 roots, 108 extra nodes, 0 pruned nodes, max_depth=6\u001b[0m\n",
      "\u001b[34m[28]#011train-rmse:144565#011validation-rmse:168540\u001b[0m\n",
      "\u001b[34m[22:55:29] src/tree/updater_prune.cc:74: tree pruning end, 1 roots, 104 extra nodes, 0 pruned nodes, max_depth=6\u001b[0m\n",
      "\u001b[34m[29]#011train-rmse:140552#011validation-rmse:165067\u001b[0m\n",
      "\u001b[34m[22:55:29] src/tree/updater_prune.cc:74: tree pruning end, 1 roots, 102 extra nodes, 0 pruned nodes, max_depth=6\u001b[0m\n",
      "\u001b[34m[30]#011train-rmse:136818#011validation-rmse:161910\u001b[0m\n",
      "\u001b[34m[22:55:29] src/tree/updater_prune.cc:74: tree pruning end, 1 roots, 106 extra nodes, 0 pruned nodes, max_depth=6\u001b[0m\n",
      "\u001b[34m[31]#011train-rmse:133226#011validation-rmse:158825\u001b[0m\n",
      "\u001b[34m[22:55:29] src/tree/updater_prune.cc:74: tree pruning end, 1 roots, 124 extra nodes, 0 pruned nodes, max_depth=6\u001b[0m\n",
      "\u001b[34m[32]#011train-rmse:129802#011validation-rmse:155722\u001b[0m\n",
      "\u001b[34m[22:55:29] src/tree/updater_prune.cc:74: tree pruning end, 1 roots, 104 extra nodes, 0 pruned nodes, max_depth=6\u001b[0m\n",
      "\u001b[34m[33]#011train-rmse:126818#011validation-rmse:153216\u001b[0m\n",
      "\u001b[34m[22:55:29] src/tree/updater_prune.cc:74: tree pruning end, 1 roots, 110 extra nodes, 0 pruned nodes, max_depth=6\u001b[0m\n",
      "\u001b[34m[34]#011train-rmse:123983#011validation-rmse:150981\u001b[0m\n",
      "\u001b[34m[22:55:29] src/tree/updater_prune.cc:74: tree pruning end, 1 roots, 106 extra nodes, 0 pruned nodes, max_depth=6\u001b[0m\n",
      "\u001b[34m[35]#011train-rmse:121686#011validation-rmse:149089\u001b[0m\n",
      "\u001b[34m[22:55:29] src/tree/updater_prune.cc:74: tree pruning end, 1 roots, 114 extra nodes, 0 pruned nodes, max_depth=6\u001b[0m\n",
      "\u001b[34m[36]#011train-rmse:119361#011validation-rmse:147199\u001b[0m\n",
      "\u001b[34m[22:55:29] src/tree/updater_prune.cc:74: tree pruning end, 1 roots, 114 extra nodes, 0 pruned nodes, max_depth=6\u001b[0m\n",
      "\u001b[34m[37]#011train-rmse:117155#011validation-rmse:145473\u001b[0m\n",
      "\u001b[34m[22:55:29] src/tree/updater_prune.cc:74: tree pruning end, 1 roots, 104 extra nodes, 0 pruned nodes, max_depth=6\u001b[0m\n",
      "\u001b[34m[38]#011train-rmse:115258#011validation-rmse:143856\u001b[0m\n",
      "\u001b[34m[22:55:29] src/tree/updater_prune.cc:74: tree pruning end, 1 roots, 106 extra nodes, 0 pruned nodes, max_depth=6\u001b[0m\n",
      "\u001b[34m[39]#011train-rmse:113326#011validation-rmse:142309\u001b[0m\n",
      "\u001b[34m[22:55:29] src/tree/updater_prune.cc:74: tree pruning end, 1 roots, 112 extra nodes, 0 pruned nodes, max_depth=6\u001b[0m\n",
      "\u001b[34m[40]#011train-rmse:111655#011validation-rmse:140962\u001b[0m\n",
      "\u001b[34m[22:55:29] src/tree/updater_prune.cc:74: tree pruning end, 1 roots, 94 extra nodes, 0 pruned nodes, max_depth=6\u001b[0m\n",
      "\u001b[34m[41]#011train-rmse:110294#011validation-rmse:139778\u001b[0m\n",
      "\u001b[34m[22:55:29] src/tree/updater_prune.cc:74: tree pruning end, 1 roots, 114 extra nodes, 0 pruned nodes, max_depth=6\u001b[0m\n",
      "\u001b[34m[42]#011train-rmse:108775#011validation-rmse:138751\u001b[0m\n",
      "\u001b[34m[22:55:29] src/tree/updater_prune.cc:74: tree pruning end, 1 roots, 108 extra nodes, 0 pruned nodes, max_depth=6\u001b[0m\n",
      "\u001b[34m[43]#011train-rmse:107515#011validation-rmse:137635\u001b[0m\n",
      "\u001b[34m[22:55:29] src/tree/updater_prune.cc:74: tree pruning end, 1 roots, 84 extra nodes, 0 pruned nodes, max_depth=6\u001b[0m\n",
      "\u001b[34m[44]#011train-rmse:106401#011validation-rmse:136618\u001b[0m\n",
      "\u001b[34m[22:55:29] src/tree/updater_prune.cc:74: tree pruning end, 1 roots, 98 extra nodes, 0 pruned nodes, max_depth=6\u001b[0m\n",
      "\u001b[34m[45]#011train-rmse:105392#011validation-rmse:135928\u001b[0m\n",
      "\u001b[34m[22:55:29] src/tree/updater_prune.cc:74: tree pruning end, 1 roots, 106 extra nodes, 0 pruned nodes, max_depth=6\u001b[0m\n",
      "\u001b[34m[46]#011train-rmse:104440#011validation-rmse:135117\u001b[0m\n",
      "\u001b[34m[22:55:29] src/tree/updater_prune.cc:74: tree pruning end, 1 roots, 110 extra nodes, 0 pruned nodes, max_depth=6\u001b[0m\n",
      "\u001b[34m[47]#011train-rmse:103518#011validation-rmse:134400\u001b[0m\n",
      "\u001b[34m[22:55:29] src/tree/updater_prune.cc:74: tree pruning end, 1 roots, 86 extra nodes, 0 pruned nodes, max_depth=6\u001b[0m\n",
      "\u001b[34m[48]#011train-rmse:102777#011validation-rmse:133681\u001b[0m\n",
      "\u001b[34m[22:55:29] src/tree/updater_prune.cc:74: tree pruning end, 1 roots, 100 extra nodes, 0 pruned nodes, max_depth=6\u001b[0m\n",
      "\u001b[34m[49]#011train-rmse:101989#011validation-rmse:133169\u001b[0m\n",
      "\u001b[34m[22:55:29] src/tree/updater_prune.cc:74: tree pruning end, 1 roots, 94 extra nodes, 0 pruned nodes, max_depth=6\u001b[0m\n",
      "\u001b[34m[50]#011train-rmse:101051#011validation-rmse:132459\u001b[0m\n",
      "\u001b[34m[22:55:29] src/tree/updater_prune.cc:74: tree pruning end, 1 roots, 82 extra nodes, 0 pruned nodes, max_depth=6\u001b[0m\n",
      "\u001b[34m[51]#011train-rmse:100431#011validation-rmse:132051\u001b[0m\n",
      "\u001b[34m[22:55:29] src/tree/updater_prune.cc:74: tree pruning end, 1 roots, 100 extra nodes, 0 pruned nodes, max_depth=6\u001b[0m\n",
      "\u001b[34m[52]#011train-rmse:99794.4#011validation-rmse:131738\u001b[0m\n",
      "\u001b[34m[22:55:29] src/tree/updater_prune.cc:74: tree pruning end, 1 roots, 92 extra nodes, 0 pruned nodes, max_depth=6\u001b[0m\n",
      "\u001b[34m[53]#011train-rmse:99130.4#011validation-rmse:131341\u001b[0m\n",
      "\u001b[34m[22:55:29] src/tree/updater_prune.cc:74: tree pruning end, 1 roots, 78 extra nodes, 0 pruned nodes, max_depth=6\u001b[0m\n",
      "\u001b[34m[54]#011train-rmse:98572.9#011validation-rmse:131038\u001b[0m\n",
      "\u001b[34m[22:55:29] src/tree/updater_prune.cc:74: tree pruning end, 1 roots, 76 extra nodes, 0 pruned nodes, max_depth=6\u001b[0m\n",
      "\u001b[34m[55]#011train-rmse:98146#011validation-rmse:130837\u001b[0m\n",
      "\u001b[34m[22:55:29] src/tree/updater_prune.cc:74: tree pruning end, 1 roots, 120 extra nodes, 0 pruned nodes, max_depth=6\u001b[0m\n",
      "\u001b[34m[56]#011train-rmse:97336.7#011validation-rmse:130373\u001b[0m\n",
      "\u001b[34m[22:55:29] src/tree/updater_prune.cc:74: tree pruning end, 1 roots, 96 extra nodes, 0 pruned nodes, max_depth=6\u001b[0m\n",
      "\u001b[34m[57]#011train-rmse:96779.4#011validation-rmse:130042\u001b[0m\n",
      "\u001b[34m[22:55:29] src/tree/updater_prune.cc:74: tree pruning end, 1 roots, 80 extra nodes, 0 pruned nodes, max_depth=6\u001b[0m\n",
      "\u001b[34m[58]#011train-rmse:96398.9#011validation-rmse:129737\u001b[0m\n",
      "\u001b[34m[22:55:29] src/tree/updater_prune.cc:74: tree pruning end, 1 roots, 100 extra nodes, 0 pruned nodes, max_depth=6\u001b[0m\n",
      "\u001b[34m[59]#011train-rmse:95771.3#011validation-rmse:129338\u001b[0m\n",
      "\u001b[34m[22:55:29] src/tree/updater_prune.cc:74: tree pruning end, 1 roots, 74 extra nodes, 0 pruned nodes, max_depth=6\u001b[0m\n",
      "\u001b[34m[60]#011train-rmse:95461.2#011validation-rmse:129118\u001b[0m\n",
      "\u001b[34m[22:55:29] src/tree/updater_prune.cc:74: tree pruning end, 1 roots, 86 extra nodes, 0 pruned nodes, max_depth=6\u001b[0m\n",
      "\u001b[34m[61]#011train-rmse:95026.3#011validation-rmse:128969\u001b[0m\n",
      "\u001b[34m[22:55:29] src/tree/updater_prune.cc:74: tree pruning end, 1 roots, 88 extra nodes, 0 pruned nodes, max_depth=6\u001b[0m\n",
      "\u001b[34m[62]#011train-rmse:94604.1#011validation-rmse:128767\u001b[0m\n",
      "\u001b[34m[22:55:29] src/tree/updater_prune.cc:74: tree pruning end, 1 roots, 86 extra nodes, 0 pruned nodes, max_depth=6\u001b[0m\n",
      "\u001b[34m[63]#011train-rmse:94253.8#011validation-rmse:128611\u001b[0m\n",
      "\u001b[34m[22:55:29] src/tree/updater_prune.cc:74: tree pruning end, 1 roots, 110 extra nodes, 0 pruned nodes, max_depth=6\u001b[0m\n",
      "\u001b[34m[64]#011train-rmse:93702.5#011validation-rmse:128357\u001b[0m\n",
      "\u001b[34m[22:55:29] src/tree/updater_prune.cc:74: tree pruning end, 1 roots, 84 extra nodes, 0 pruned nodes, max_depth=6\u001b[0m\n",
      "\u001b[34m[65]#011train-rmse:93418.6#011validation-rmse:128179\u001b[0m\n",
      "\u001b[34m[22:55:29] src/tree/updater_prune.cc:74: tree pruning end, 1 roots, 106 extra nodes, 0 pruned nodes, max_depth=6\u001b[0m\n",
      "\u001b[34m[66]#011train-rmse:93001.3#011validation-rmse:127974\u001b[0m\n",
      "\u001b[34m[22:55:29] src/tree/updater_prune.cc:74: tree pruning end, 1 roots, 76 extra nodes, 0 pruned nodes, max_depth=6\u001b[0m\n",
      "\u001b[34m[67]#011train-rmse:92689.4#011validation-rmse:127819\u001b[0m\n",
      "\u001b[34m[22:55:29] src/tree/updater_prune.cc:74: tree pruning end, 1 roots, 108 extra nodes, 0 pruned nodes, max_depth=6\u001b[0m\n",
      "\u001b[34m[68]#011train-rmse:92347.1#011validation-rmse:127665\u001b[0m\n",
      "\u001b[34m[22:55:29] src/tree/updater_prune.cc:74: tree pruning end, 1 roots, 94 extra nodes, 0 pruned nodes, max_depth=6\u001b[0m\n",
      "\u001b[34m[69]#011train-rmse:92032.2#011validation-rmse:127446\u001b[0m\n",
      "\u001b[34m[22:55:29] src/tree/updater_prune.cc:74: tree pruning end, 1 roots, 90 extra nodes, 0 pruned nodes, max_depth=6\u001b[0m\n",
      "\u001b[34m[70]#011train-rmse:91762.4#011validation-rmse:127317\u001b[0m\n",
      "\u001b[34m[22:55:29] src/tree/updater_prune.cc:74: tree pruning end, 1 roots, 86 extra nodes, 0 pruned nodes, max_depth=6\u001b[0m\n",
      "\u001b[34m[71]#011train-rmse:91420.9#011validation-rmse:127243\u001b[0m\n",
      "\u001b[34m[22:55:29] src/tree/updater_prune.cc:74: tree pruning end, 1 roots, 108 extra nodes, 0 pruned nodes, max_depth=6\u001b[0m\n",
      "\u001b[34m[72]#011train-rmse:91072.8#011validation-rmse:127168\u001b[0m\n",
      "\u001b[34m[22:55:29] src/tree/updater_prune.cc:74: tree pruning end, 1 roots, 112 extra nodes, 0 pruned nodes, max_depth=6\u001b[0m\n",
      "\u001b[34m[73]#011train-rmse:90723.8#011validation-rmse:127030\u001b[0m\n",
      "\u001b[34m[22:55:29] src/tree/updater_prune.cc:74: tree pruning end, 1 roots, 102 extra nodes, 0 pruned nodes, max_depth=6\u001b[0m\n",
      "\u001b[34m[74]#011train-rmse:90156.2#011validation-rmse:126595\u001b[0m\n",
      "\u001b[34m[22:55:29] src/tree/updater_prune.cc:74: tree pruning end, 1 roots, 90 extra nodes, 0 pruned nodes, max_depth=6\u001b[0m\n",
      "\u001b[34m[75]#011train-rmse:89882.7#011validation-rmse:126421\u001b[0m\n",
      "\u001b[34m[22:55:29] src/tree/updater_prune.cc:74: tree pruning end, 1 roots, 74 extra nodes, 0 pruned nodes, max_depth=6\u001b[0m\n",
      "\u001b[34m[76]#011train-rmse:89702#011validation-rmse:126366\u001b[0m\n",
      "\u001b[34m[22:55:29] src/tree/updater_prune.cc:74: tree pruning end, 1 roots, 106 extra nodes, 0 pruned nodes, max_depth=6\u001b[0m\n",
      "\u001b[34m[77]#011train-rmse:89361.5#011validation-rmse:126116\u001b[0m\n",
      "\u001b[34m[22:55:29] src/tree/updater_prune.cc:74: tree pruning end, 1 roots, 100 extra nodes, 0 pruned nodes, max_depth=6\u001b[0m\n",
      "\u001b[34m[78]#011train-rmse:89095.8#011validation-rmse:125960\u001b[0m\n",
      "\u001b[34m[22:55:29] src/tree/updater_prune.cc:74: tree pruning end, 1 roots, 64 extra nodes, 0 pruned nodes, max_depth=6\u001b[0m\n",
      "\u001b[34m[79]#011train-rmse:88934.6#011validation-rmse:125867\u001b[0m\n",
      "\u001b[34m[22:55:29] src/tree/updater_prune.cc:74: tree pruning end, 1 roots, 114 extra nodes, 0 pruned nodes, max_depth=6\u001b[0m\n",
      "\u001b[34m[80]#011train-rmse:88495.7#011validation-rmse:125596\u001b[0m\n",
      "\u001b[34m[22:55:29] src/tree/updater_prune.cc:74: tree pruning end, 1 roots, 82 extra nodes, 0 pruned nodes, max_depth=6\u001b[0m\n",
      "\u001b[34m[81]#011train-rmse:88325.3#011validation-rmse:125521\u001b[0m\n",
      "\u001b[34m[22:55:29] src/tree/updater_prune.cc:74: tree pruning end, 1 roots, 90 extra nodes, 0 pruned nodes, max_depth=6\u001b[0m\n",
      "\u001b[34m[82]#011train-rmse:88074.5#011validation-rmse:125335\u001b[0m\n",
      "\u001b[34m[22:55:29] src/tree/updater_prune.cc:74: tree pruning end, 1 roots, 104 extra nodes, 0 pruned nodes, max_depth=6\u001b[0m\n",
      "\u001b[34m[83]#011train-rmse:87770.6#011validation-rmse:125144\u001b[0m\n",
      "\u001b[34m[22:55:29] src/tree/updater_prune.cc:74: tree pruning end, 1 roots, 94 extra nodes, 0 pruned nodes, max_depth=6\u001b[0m\n",
      "\u001b[34m[84]#011train-rmse:87501#011validation-rmse:125118\u001b[0m\n",
      "\u001b[34m[22:55:29] src/tree/updater_prune.cc:74: tree pruning end, 1 roots, 66 extra nodes, 0 pruned nodes, max_depth=6\u001b[0m\n",
      "\u001b[34m[85]#011train-rmse:87341.1#011validation-rmse:125088\u001b[0m\n",
      "\u001b[34m[22:55:29] src/tree/updater_prune.cc:74: tree pruning end, 1 roots, 86 extra nodes, 0 pruned nodes, max_depth=6\u001b[0m\n",
      "\u001b[34m[86]#011train-rmse:87192.9#011validation-rmse:125029\u001b[0m\n",
      "\u001b[34m[22:55:29] src/tree/updater_prune.cc:74: tree pruning end, 1 roots, 102 extra nodes, 0 pruned nodes, max_depth=6\u001b[0m\n",
      "\u001b[34m[87]#011train-rmse:86894#011validation-rmse:124893\u001b[0m\n",
      "\u001b[34m[22:55:29] src/tree/updater_prune.cc:74: tree pruning end, 1 roots, 76 extra nodes, 0 pruned nodes, max_depth=6\u001b[0m\n",
      "\u001b[34m[88]#011train-rmse:86703.6#011validation-rmse:124786\u001b[0m\n",
      "\u001b[34m[22:55:29] src/tree/updater_prune.cc:74: tree pruning end, 1 roots, 84 extra nodes, 0 pruned nodes, max_depth=6\u001b[0m\n",
      "\u001b[34m[89]#011train-rmse:86516.5#011validation-rmse:124751\u001b[0m\n",
      "\u001b[34m[22:55:29] src/tree/updater_prune.cc:74: tree pruning end, 1 roots, 78 extra nodes, 0 pruned nodes, max_depth=6\u001b[0m\n",
      "\u001b[34m[90]#011train-rmse:86395.4#011validation-rmse:124768\u001b[0m\n",
      "\u001b[34m[22:55:29] src/tree/updater_prune.cc:74: tree pruning end, 1 roots, 66 extra nodes, 0 pruned nodes, max_depth=6\u001b[0m\n",
      "\u001b[34m[91]#011train-rmse:86270.6#011validation-rmse:124666\u001b[0m\n",
      "\u001b[34m[22:55:29] src/tree/updater_prune.cc:74: tree pruning end, 1 roots, 88 extra nodes, 0 pruned nodes, max_depth=6\u001b[0m\n",
      "\u001b[34m[92]#011train-rmse:86113.3#011validation-rmse:124632\u001b[0m\n",
      "\u001b[34m[22:55:29] src/tree/updater_prune.cc:74: tree pruning end, 1 roots, 114 extra nodes, 0 pruned nodes, max_depth=6\u001b[0m\n",
      "\u001b[34m[93]#011train-rmse:85829.6#011validation-rmse:124425\u001b[0m\n",
      "\u001b[34m[22:55:29] src/tree/updater_prune.cc:74: tree pruning end, 1 roots, 94 extra nodes, 0 pruned nodes, max_depth=6\u001b[0m\n",
      "\u001b[34m[94]#011train-rmse:85618.3#011validation-rmse:124335\u001b[0m\n",
      "\u001b[34m[22:55:29] src/tree/updater_prune.cc:74: tree pruning end, 1 roots, 96 extra nodes, 0 pruned nodes, max_depth=6\u001b[0m\n",
      "\u001b[34m[95]#011train-rmse:85414.2#011validation-rmse:124237\u001b[0m\n",
      "\u001b[34m[22:55:29] src/tree/updater_prune.cc:74: tree pruning end, 1 roots, 74 extra nodes, 0 pruned nodes, max_depth=6\u001b[0m\n",
      "\u001b[34m[96]#011train-rmse:85288.1#011validation-rmse:124222\u001b[0m\n",
      "\u001b[34m[22:55:29] src/tree/updater_prune.cc:74: tree pruning end, 1 roots, 102 extra nodes, 0 pruned nodes, max_depth=6\u001b[0m\n",
      "\u001b[34m[97]#011train-rmse:85069.3#011validation-rmse:124274\u001b[0m\n",
      "\u001b[34m[22:55:29] src/tree/updater_prune.cc:74: tree pruning end, 1 roots, 70 extra nodes, 0 pruned nodes, max_depth=6\u001b[0m\n",
      "\u001b[34m[98]#011train-rmse:84935.6#011validation-rmse:124207\u001b[0m\n",
      "\u001b[34m[22:55:29] src/tree/updater_prune.cc:74: tree pruning end, 1 roots, 104 extra nodes, 0 pruned nodes, max_depth=6\u001b[0m\n",
      "\u001b[34m[99]#011train-rmse:84605.9#011validation-rmse:124176\u001b[0m\n",
      "\u001b[34m[22:55:29] src/tree/updater_prune.cc:74: tree pruning end, 1 roots, 70 extra nodes, 0 pruned nodes, max_depth=6\u001b[0m\n",
      "\u001b[34m[100]#011train-rmse:84497.4#011validation-rmse:124112\u001b[0m\n",
      "\u001b[34m[22:55:29] src/tree/updater_prune.cc:74: tree pruning end, 1 roots, 104 extra nodes, 0 pruned nodes, max_depth=6\u001b[0m\n",
      "\u001b[34m[101]#011train-rmse:84243.4#011validation-rmse:123976\u001b[0m\n",
      "\u001b[34m[22:55:29] src/tree/updater_prune.cc:74: tree pruning end, 1 roots, 112 extra nodes, 0 pruned nodes, max_depth=6\u001b[0m\n",
      "\u001b[34m[102]#011train-rmse:84022.2#011validation-rmse:124017\u001b[0m\n",
      "\u001b[34m[22:55:29] src/tree/updater_prune.cc:74: tree pruning end, 1 roots, 68 extra nodes, 0 pruned nodes, max_depth=6\u001b[0m\n",
      "\u001b[34m[103]#011train-rmse:83826.8#011validation-rmse:123970\u001b[0m\n",
      "\u001b[34m[22:55:29] src/tree/updater_prune.cc:74: tree pruning end, 1 roots, 82 extra nodes, 0 pruned nodes, max_depth=6\u001b[0m\n",
      "\u001b[34m[104]#011train-rmse:83696.6#011validation-rmse:123919\u001b[0m\n",
      "\u001b[34m[22:55:29] src/tree/updater_prune.cc:74: tree pruning end, 1 roots, 98 extra nodes, 0 pruned nodes, max_depth=6\u001b[0m\n",
      "\u001b[34m[105]#011train-rmse:83487.5#011validation-rmse:123850\u001b[0m\n",
      "\u001b[34m[22:55:29] src/tree/updater_prune.cc:74: tree pruning end, 1 roots, 90 extra nodes, 0 pruned nodes, max_depth=6\u001b[0m\n",
      "\u001b[34m[106]#011train-rmse:83280.1#011validation-rmse:123864\u001b[0m\n",
      "\u001b[34m[22:55:29] src/tree/updater_prune.cc:74: tree pruning end, 1 roots, 112 extra nodes, 0 pruned nodes, max_depth=6\u001b[0m\n",
      "\u001b[34m[107]#011train-rmse:82990#011validation-rmse:123758\u001b[0m\n",
      "\u001b[34m[22:55:29] src/tree/updater_prune.cc:74: tree pruning end, 1 roots, 64 extra nodes, 0 pruned nodes, max_depth=6\u001b[0m\n",
      "\u001b[34m[108]#011train-rmse:82869.3#011validation-rmse:123723\u001b[0m\n",
      "\u001b[34m[22:55:29] src/tree/updater_prune.cc:74: tree pruning end, 1 roots, 102 extra nodes, 0 pruned nodes, max_depth=6\u001b[0m\n",
      "\u001b[34m[109]#011train-rmse:82735.6#011validation-rmse:123720\u001b[0m\n",
      "\u001b[34m[22:55:29] src/tree/updater_prune.cc:74: tree pruning end, 1 roots, 88 extra nodes, 0 pruned nodes, max_depth=6\u001b[0m\n",
      "\u001b[34m[110]#011train-rmse:82588.4#011validation-rmse:123683\u001b[0m\n",
      "\u001b[34m[22:55:29] src/tree/updater_prune.cc:74: tree pruning end, 1 roots, 58 extra nodes, 0 pruned nodes, max_depth=6\u001b[0m\n",
      "\u001b[34m[111]#011train-rmse:82492.4#011validation-rmse:123676\u001b[0m\n",
      "\u001b[34m[22:55:29] src/tree/updater_prune.cc:74: tree pruning end, 1 roots, 100 extra nodes, 0 pruned nodes, max_depth=6\u001b[0m\n",
      "\u001b[34m[112]#011train-rmse:82259.7#011validation-rmse:123555\u001b[0m\n",
      "\u001b[34m[22:55:29] src/tree/updater_prune.cc:74: tree pruning end, 1 roots, 96 extra nodes, 0 pruned nodes, max_depth=6\u001b[0m\n",
      "\u001b[34m[113]#011train-rmse:82156.2#011validation-rmse:123610\u001b[0m\n",
      "\u001b[34m[22:55:29] src/tree/updater_prune.cc:74: tree pruning end, 1 roots, 104 extra nodes, 0 pruned nodes, max_depth=6\u001b[0m\n",
      "\u001b[34m[114]#011train-rmse:82037.9#011validation-rmse:123577\u001b[0m\n",
      "\u001b[34m[22:55:29] src/tree/updater_prune.cc:74: tree pruning end, 1 roots, 108 extra nodes, 0 pruned nodes, max_depth=6\u001b[0m\n",
      "\u001b[34m[115]#011train-rmse:81776.7#011validation-rmse:123472\u001b[0m\n",
      "\u001b[34m[22:55:29] src/tree/updater_prune.cc:74: tree pruning end, 1 roots, 92 extra nodes, 0 pruned nodes, max_depth=6\u001b[0m\n",
      "\u001b[34m[116]#011train-rmse:81598.7#011validation-rmse:123408\u001b[0m\n",
      "\u001b[34m[22:55:29] src/tree/updater_prune.cc:74: tree pruning end, 1 roots, 96 extra nodes, 0 pruned nodes, max_depth=6\u001b[0m\n",
      "\u001b[34m[117]#011train-rmse:81338.7#011validation-rmse:123329\u001b[0m\n",
      "\u001b[34m[22:55:29] src/tree/updater_prune.cc:74: tree pruning end, 1 roots, 104 extra nodes, 0 pruned nodes, max_depth=6\u001b[0m\n",
      "\u001b[34m[118]#011train-rmse:81157.5#011validation-rmse:123281\u001b[0m\n",
      "\u001b[34m[22:55:29] src/tree/updater_prune.cc:74: tree pruning end, 1 roots, 94 extra nodes, 0 pruned nodes, max_depth=6\u001b[0m\n",
      "\u001b[34m[119]#011train-rmse:81046.6#011validation-rmse:123244\u001b[0m\n",
      "\u001b[34m[22:55:29] src/tree/updater_prune.cc:74: tree pruning end, 1 roots, 94 extra nodes, 0 pruned nodes, max_depth=6\u001b[0m\n",
      "\u001b[34m[120]#011train-rmse:80841.3#011validation-rmse:123259\u001b[0m\n",
      "\u001b[34m[22:55:29] src/tree/updater_prune.cc:74: tree pruning end, 1 roots, 76 extra nodes, 0 pruned nodes, max_depth=6\u001b[0m\n",
      "\u001b[34m[121]#011train-rmse:80673.9#011validation-rmse:123276\u001b[0m\n",
      "\u001b[34m[22:55:29] src/tree/updater_prune.cc:74: tree pruning end, 1 roots, 102 extra nodes, 0 pruned nodes, max_depth=6\u001b[0m\n",
      "\u001b[34m[122]#011train-rmse:80395#011validation-rmse:123263\u001b[0m\n",
      "\u001b[34m[22:55:29] src/tree/updater_prune.cc:74: tree pruning end, 1 roots, 54 extra nodes, 0 pruned nodes, max_depth=6\u001b[0m\n",
      "\u001b[34m[123]#011train-rmse:80260.5#011validation-rmse:123234\u001b[0m\n",
      "\u001b[34m[22:55:29] src/tree/updater_prune.cc:74: tree pruning end, 1 roots, 66 extra nodes, 0 pruned nodes, max_depth=6\u001b[0m\n",
      "\u001b[34m[124]#011train-rmse:80166.4#011validation-rmse:123210\u001b[0m\n",
      "\u001b[34m[22:55:29] src/tree/updater_prune.cc:74: tree pruning end, 1 roots, 96 extra nodes, 0 pruned nodes, max_depth=6\u001b[0m\n",
      "\u001b[34m[125]#011train-rmse:80089.6#011validation-rmse:123187\u001b[0m\n",
      "\u001b[34m[22:55:29] src/tree/updater_prune.cc:74: tree pruning end, 1 roots, 68 extra nodes, 0 pruned nodes, max_depth=6\u001b[0m\n",
      "\u001b[34m[126]#011train-rmse:79997.6#011validation-rmse:123219\u001b[0m\n",
      "\u001b[34m[22:55:29] src/tree/updater_prune.cc:74: tree pruning end, 1 roots, 80 extra nodes, 0 pruned nodes, max_depth=6\u001b[0m\n",
      "\u001b[34m[127]#011train-rmse:79844.2#011validation-rmse:123217\u001b[0m\n",
      "\u001b[34m[22:55:29] src/tree/updater_prune.cc:74: tree pruning end, 1 roots, 110 extra nodes, 0 pruned nodes, max_depth=6\u001b[0m\n",
      "\u001b[34m[128]#011train-rmse:79694.5#011validation-rmse:123130\u001b[0m\n",
      "\u001b[34m[22:55:29] src/tree/updater_prune.cc:74: tree pruning end, 1 roots, 68 extra nodes, 0 pruned nodes, max_depth=6\u001b[0m\n",
      "\u001b[34m[129]#011train-rmse:79568.8#011validation-rmse:123065\u001b[0m\n",
      "\u001b[34m[22:55:29] src/tree/updater_prune.cc:74: tree pruning end, 1 roots, 94 extra nodes, 0 pruned nodes, max_depth=6\u001b[0m\n",
      "\u001b[34m[130]#011train-rmse:79369.6#011validation-rmse:123019\u001b[0m\n",
      "\u001b[34m[22:55:29] src/tree/updater_prune.cc:74: tree pruning end, 1 roots, 82 extra nodes, 0 pruned nodes, max_depth=6\u001b[0m\n",
      "\u001b[34m[131]#011train-rmse:79240.4#011validation-rmse:123022\u001b[0m\n",
      "\u001b[34m[22:55:29] src/tree/updater_prune.cc:74: tree pruning end, 1 roots, 104 extra nodes, 0 pruned nodes, max_depth=6\u001b[0m\n",
      "\u001b[34m[132]#011train-rmse:79088.2#011validation-rmse:123013\u001b[0m\n",
      "\u001b[34m[22:55:29] src/tree/updater_prune.cc:74: tree pruning end, 1 roots, 56 extra nodes, 0 pruned nodes, max_depth=6\u001b[0m\n",
      "\u001b[34m[133]#011train-rmse:79001.2#011validation-rmse:123032\u001b[0m\n",
      "\u001b[34m[22:55:29] src/tree/updater_prune.cc:74: tree pruning end, 1 roots, 84 extra nodes, 0 pruned nodes, max_depth=6\u001b[0m\n",
      "\u001b[34m[134]#011train-rmse:78931#011validation-rmse:123042\u001b[0m\n",
      "\u001b[34m[22:55:29] src/tree/updater_prune.cc:74: tree pruning end, 1 roots, 74 extra nodes, 0 pruned nodes, max_depth=6\u001b[0m\n",
      "\u001b[34m[135]#011train-rmse:78800.6#011validation-rmse:123066\u001b[0m\n",
      "\u001b[34m[22:55:29] src/tree/updater_prune.cc:74: tree pruning end, 1 roots, 92 extra nodes, 0 pruned nodes, max_depth=6\u001b[0m\n",
      "\u001b[34m[136]#011train-rmse:78622.9#011validation-rmse:123043\u001b[0m\n",
      "\u001b[34m[22:55:29] src/tree/updater_prune.cc:74: tree pruning end, 1 roots, 98 extra nodes, 0 pruned nodes, max_depth=6\u001b[0m\n",
      "\u001b[34m[137]#011train-rmse:78439.4#011validation-rmse:122937\u001b[0m\n",
      "\u001b[34m[22:55:29] src/tree/updater_prune.cc:74: tree pruning end, 1 roots, 72 extra nodes, 0 pruned nodes, max_depth=6\u001b[0m\n",
      "\u001b[34m[138]#011train-rmse:78359.5#011validation-rmse:123004\u001b[0m\n",
      "\u001b[34m[22:55:29] src/tree/updater_prune.cc:74: tree pruning end, 1 roots, 78 extra nodes, 0 pruned nodes, max_depth=6\u001b[0m\n",
      "\u001b[34m[139]#011train-rmse:78266.3#011validation-rmse:123001\u001b[0m\n",
      "\u001b[34m[22:55:29] src/tree/updater_prune.cc:74: tree pruning end, 1 roots, 98 extra nodes, 0 pruned nodes, max_depth=6\u001b[0m\n",
      "\u001b[34m[140]#011train-rmse:78084.5#011validation-rmse:122915\u001b[0m\n",
      "\u001b[34m[22:55:29] src/tree/updater_prune.cc:74: tree pruning end, 1 roots, 66 extra nodes, 0 pruned nodes, max_depth=6\u001b[0m\n",
      "\u001b[34m[141]#011train-rmse:78015.2#011validation-rmse:122928\u001b[0m\n",
      "\u001b[34m[22:55:29] src/tree/updater_prune.cc:74: tree pruning end, 1 roots, 78 extra nodes, 0 pruned nodes, max_depth=6\u001b[0m\n",
      "\u001b[34m[142]#011train-rmse:77859.8#011validation-rmse:122930\u001b[0m\n",
      "\u001b[34m[22:55:29] src/tree/updater_prune.cc:74: tree pruning end, 1 roots, 82 extra nodes, 0 pruned nodes, max_depth=6\u001b[0m\n",
      "\u001b[34m[143]#011train-rmse:77714.2#011validation-rmse:122831\u001b[0m\n",
      "\u001b[34m[22:55:29] src/tree/updater_prune.cc:74: tree pruning end, 1 roots, 98 extra nodes, 0 pruned nodes, max_depth=6\u001b[0m\n",
      "\u001b[34m[144]#011train-rmse:77547.7#011validation-rmse:122758\u001b[0m\n",
      "\u001b[34m[22:55:29] src/tree/updater_prune.cc:74: tree pruning end, 1 roots, 88 extra nodes, 0 pruned nodes, max_depth=6\u001b[0m\n",
      "\u001b[34m[145]#011train-rmse:77431#011validation-rmse:122760\u001b[0m\n",
      "\u001b[34m[22:55:29] src/tree/updater_prune.cc:74: tree pruning end, 1 roots, 86 extra nodes, 0 pruned nodes, max_depth=6\u001b[0m\n",
      "\u001b[34m[146]#011train-rmse:77215.9#011validation-rmse:122737\u001b[0m\n",
      "\u001b[34m[22:55:29] src/tree/updater_prune.cc:74: tree pruning end, 1 roots, 68 extra nodes, 0 pruned nodes, max_depth=6\u001b[0m\n",
      "\u001b[34m[147]#011train-rmse:77105.9#011validation-rmse:122717\u001b[0m\n",
      "\u001b[34m[22:55:29] src/tree/updater_prune.cc:74: tree pruning end, 1 roots, 110 extra nodes, 0 pruned nodes, max_depth=6\u001b[0m\n",
      "\u001b[34m[148]#011train-rmse:76808#011validation-rmse:122669\u001b[0m\n",
      "\u001b[34m[22:55:29] src/tree/updater_prune.cc:74: tree pruning end, 1 roots, 84 extra nodes, 0 pruned nodes, max_depth=6\u001b[0m\n",
      "\u001b[34m[149]#011train-rmse:76713.7#011validation-rmse:122614\u001b[0m\n",
      "\u001b[34m[22:55:29] src/tree/updater_prune.cc:74: tree pruning end, 1 roots, 70 extra nodes, 0 pruned nodes, max_depth=6\u001b[0m\n",
      "\u001b[34m[150]#011train-rmse:76652.1#011validation-rmse:122576\u001b[0m\n",
      "\u001b[34m[22:55:29] src/tree/updater_prune.cc:74: tree pruning end, 1 roots, 112 extra nodes, 0 pruned nodes, max_depth=6\u001b[0m\n",
      "\u001b[34m[151]#011train-rmse:76382.9#011validation-rmse:122527\u001b[0m\n",
      "\u001b[34m[22:55:29] src/tree/updater_prune.cc:74: tree pruning end, 1 roots, 72 extra nodes, 0 pruned nodes, max_depth=6\u001b[0m\n",
      "\u001b[34m[152]#011train-rmse:76280.5#011validation-rmse:122486\u001b[0m\n",
      "\u001b[34m[22:55:29] src/tree/updater_prune.cc:74: tree pruning end, 1 roots, 114 extra nodes, 0 pruned nodes, max_depth=6\u001b[0m\n",
      "\u001b[34m[153]#011train-rmse:76012.7#011validation-rmse:122436\u001b[0m\n",
      "\u001b[34m[22:55:29] src/tree/updater_prune.cc:74: tree pruning end, 1 roots, 72 extra nodes, 0 pruned nodes, max_depth=6\u001b[0m\n",
      "\u001b[34m[154]#011train-rmse:75898.6#011validation-rmse:122363\u001b[0m\n",
      "\u001b[34m[22:55:29] src/tree/updater_prune.cc:74: tree pruning end, 1 roots, 92 extra nodes, 0 pruned nodes, max_depth=6\u001b[0m\n",
      "\u001b[34m[155]#011train-rmse:75776.9#011validation-rmse:122376\u001b[0m\n",
      "\u001b[34m[22:55:29] src/tree/updater_prune.cc:74: tree pruning end, 1 roots, 52 extra nodes, 0 pruned nodes, max_depth=6\u001b[0m\n",
      "\u001b[34m[156]#011train-rmse:75720.7#011validation-rmse:122349\u001b[0m\n",
      "\u001b[34m[22:55:29] src/tree/updater_prune.cc:74: tree pruning end, 1 roots, 70 extra nodes, 0 pruned nodes, max_depth=6\u001b[0m\n",
      "\u001b[34m[157]#011train-rmse:75659#011validation-rmse:122346\u001b[0m\n",
      "\u001b[34m[22:55:29] src/tree/updater_prune.cc:74: tree pruning end, 1 roots, 80 extra nodes, 0 pruned nodes, max_depth=6\u001b[0m\n",
      "\u001b[34m[158]#011train-rmse:75598.5#011validation-rmse:122336\u001b[0m\n",
      "\u001b[34m[22:55:29] src/tree/updater_prune.cc:74: tree pruning end, 1 roots, 88 extra nodes, 0 pruned nodes, max_depth=6\u001b[0m\n",
      "\u001b[34m[159]#011train-rmse:75478.3#011validation-rmse:122263\u001b[0m\n",
      "\u001b[34m[22:55:29] src/tree/updater_prune.cc:74: tree pruning end, 1 roots, 58 extra nodes, 0 pruned nodes, max_depth=6\u001b[0m\n",
      "\u001b[34m[160]#011train-rmse:75405.3#011validation-rmse:122305\u001b[0m\n",
      "\u001b[34m[22:55:29] src/tree/updater_prune.cc:74: tree pruning end, 1 roots, 116 extra nodes, 0 pruned nodes, max_depth=6\u001b[0m\n",
      "\u001b[34m[161]#011train-rmse:75316.5#011validation-rmse:122281\u001b[0m\n",
      "\u001b[34m[22:55:29] src/tree/updater_prune.cc:74: tree pruning end, 1 roots, 92 extra nodes, 0 pruned nodes, max_depth=6\u001b[0m\n",
      "\u001b[34m[162]#011train-rmse:75180.8#011validation-rmse:122229\u001b[0m\n",
      "\u001b[34m[22:55:29] src/tree/updater_prune.cc:74: tree pruning end, 1 roots, 94 extra nodes, 0 pruned nodes, max_depth=6\u001b[0m\n",
      "\u001b[34m[163]#011train-rmse:75035.2#011validation-rmse:122198\u001b[0m\n",
      "\u001b[34m[22:55:29] src/tree/updater_prune.cc:74: tree pruning end, 1 roots, 112 extra nodes, 0 pruned nodes, max_depth=6\u001b[0m\n",
      "\u001b[34m[164]#011train-rmse:74802#011validation-rmse:122173\u001b[0m\n",
      "\u001b[34m[22:55:29] src/tree/updater_prune.cc:74: tree pruning end, 1 roots, 96 extra nodes, 0 pruned nodes, max_depth=6\u001b[0m\n",
      "\u001b[34m[165]#011train-rmse:74662.7#011validation-rmse:122128\u001b[0m\n",
      "\u001b[34m[22:55:29] src/tree/updater_prune.cc:74: tree pruning end, 1 roots, 92 extra nodes, 0 pruned nodes, max_depth=6\u001b[0m\n",
      "\u001b[34m[166]#011train-rmse:74531.9#011validation-rmse:122155\u001b[0m\n",
      "\u001b[34m[22:55:29] src/tree/updater_prune.cc:74: tree pruning end, 1 roots, 50 extra nodes, 0 pruned nodes, max_depth=6\u001b[0m\n",
      "\u001b[34m[167]#011train-rmse:74460.6#011validation-rmse:122145\u001b[0m\n",
      "\u001b[34m[22:55:29] src/tree/updater_prune.cc:74: tree pruning end, 1 roots, 80 extra nodes, 0 pruned nodes, max_depth=6\u001b[0m\n",
      "\u001b[34m[168]#011train-rmse:74375.4#011validation-rmse:122152\u001b[0m\n",
      "\u001b[34m[22:55:29] src/tree/updater_prune.cc:74: tree pruning end, 1 roots, 82 extra nodes, 0 pruned nodes, max_depth=6\u001b[0m\n",
      "\u001b[34m[169]#011train-rmse:74243.8#011validation-rmse:122132\u001b[0m\n",
      "\u001b[34m[22:55:29] src/tree/updater_prune.cc:74: tree pruning end, 1 roots, 98 extra nodes, 0 pruned nodes, max_depth=6\u001b[0m\n",
      "\u001b[34m[170]#011train-rmse:74191.2#011validation-rmse:122103\u001b[0m\n",
      "\u001b[34m[22:55:29] src/tree/updater_prune.cc:74: tree pruning end, 1 roots, 106 extra nodes, 0 pruned nodes, max_depth=6\u001b[0m\n",
      "\u001b[34m[171]#011train-rmse:73961.6#011validation-rmse:121982\u001b[0m\n",
      "\u001b[34m[22:55:29] src/tree/updater_prune.cc:74: tree pruning end, 1 roots, 108 extra nodes, 0 pruned nodes, max_depth=6\u001b[0m\n",
      "\u001b[34m[172]#011train-rmse:73766#011validation-rmse:121937\u001b[0m\n",
      "\u001b[34m[22:55:30] src/tree/updater_prune.cc:74: tree pruning end, 1 roots, 114 extra nodes, 0 pruned nodes, max_depth=6\u001b[0m\n",
      "\u001b[34m[173]#011train-rmse:73625.7#011validation-rmse:121911\u001b[0m\n",
      "\u001b[34m[22:55:30] src/tree/updater_prune.cc:74: tree pruning end, 1 roots, 92 extra nodes, 0 pruned nodes, max_depth=6\u001b[0m\n",
      "\u001b[34m[174]#011train-rmse:73487.9#011validation-rmse:121849\u001b[0m\n",
      "\u001b[34m[22:55:30] src/tree/updater_prune.cc:74: tree pruning end, 1 roots, 88 extra nodes, 0 pruned nodes, max_depth=6\u001b[0m\n",
      "\u001b[34m[175]#011train-rmse:73420.2#011validation-rmse:121811\u001b[0m\n",
      "\u001b[34m[22:55:30] src/tree/updater_prune.cc:74: tree pruning end, 1 roots, 96 extra nodes, 0 pruned nodes, max_depth=6\u001b[0m\n",
      "\u001b[34m[176]#011train-rmse:73304.3#011validation-rmse:121797\u001b[0m\n",
      "\u001b[34m[22:55:30] src/tree/updater_prune.cc:74: tree pruning end, 1 roots, 78 extra nodes, 0 pruned nodes, max_depth=6\u001b[0m\n",
      "\u001b[34m[177]#011train-rmse:73167.9#011validation-rmse:121765\u001b[0m\n",
      "\u001b[34m[22:55:30] src/tree/updater_prune.cc:74: tree pruning end, 1 roots, 82 extra nodes, 0 pruned nodes, max_depth=6\u001b[0m\n",
      "\u001b[34m[178]#011train-rmse:73046.5#011validation-rmse:121712\u001b[0m\n",
      "\u001b[34m[22:55:30] src/tree/updater_prune.cc:74: tree pruning end, 1 roots, 98 extra nodes, 0 pruned nodes, max_depth=6\u001b[0m\n",
      "\u001b[34m[179]#011train-rmse:72941#011validation-rmse:121655\u001b[0m\n",
      "\u001b[34m[22:55:30] src/tree/updater_prune.cc:74: tree pruning end, 1 roots, 110 extra nodes, 0 pruned nodes, max_depth=6\u001b[0m\n",
      "\u001b[34m[180]#011train-rmse:72869#011validation-rmse:121642\u001b[0m\n",
      "\u001b[34m[22:55:30] src/tree/updater_prune.cc:74: tree pruning end, 1 roots, 58 extra nodes, 0 pruned nodes, max_depth=6\u001b[0m\n",
      "\u001b[34m[181]#011train-rmse:72788.8#011validation-rmse:121631\u001b[0m\n",
      "\u001b[34m[22:55:30] src/tree/updater_prune.cc:74: tree pruning end, 1 roots, 98 extra nodes, 0 pruned nodes, max_depth=6\u001b[0m\n",
      "\u001b[34m[182]#011train-rmse:72678#011validation-rmse:121595\u001b[0m\n",
      "\u001b[34m[22:55:30] src/tree/updater_prune.cc:74: tree pruning end, 1 roots, 54 extra nodes, 0 pruned nodes, max_depth=6\u001b[0m\n",
      "\u001b[34m[183]#011train-rmse:72616#011validation-rmse:121561\u001b[0m\n",
      "\u001b[34m[22:55:30] src/tree/updater_prune.cc:74: tree pruning end, 1 roots, 66 extra nodes, 0 pruned nodes, max_depth=6\u001b[0m\n",
      "\u001b[34m[184]#011train-rmse:72539#011validation-rmse:121526\u001b[0m\n",
      "\u001b[34m[22:55:30] src/tree/updater_prune.cc:74: tree pruning end, 1 roots, 82 extra nodes, 0 pruned nodes, max_depth=6\u001b[0m\n",
      "\u001b[34m[185]#011train-rmse:72451#011validation-rmse:121499\u001b[0m\n",
      "\u001b[34m[22:55:30] src/tree/updater_prune.cc:74: tree pruning end, 1 roots, 88 extra nodes, 0 pruned nodes, max_depth=6\u001b[0m\n",
      "\u001b[34m[186]#011train-rmse:72387.2#011validation-rmse:121491\u001b[0m\n",
      "\u001b[34m[22:55:30] src/tree/updater_prune.cc:74: tree pruning end, 1 roots, 88 extra nodes, 0 pruned nodes, max_depth=6\u001b[0m\n",
      "\u001b[34m[187]#011train-rmse:72345.1#011validation-rmse:121480\u001b[0m\n",
      "\u001b[34m[22:55:30] src/tree/updater_prune.cc:74: tree pruning end, 1 roots, 70 extra nodes, 0 pruned nodes, max_depth=6\u001b[0m\n",
      "\u001b[34m[188]#011train-rmse:72293.1#011validation-rmse:121498\u001b[0m\n",
      "\u001b[34m[22:55:30] src/tree/updater_prune.cc:74: tree pruning end, 1 roots, 88 extra nodes, 0 pruned nodes, max_depth=6\u001b[0m\n",
      "\u001b[34m[189]#011train-rmse:72228.3#011validation-rmse:121465\u001b[0m\n",
      "\u001b[34m[22:55:30] src/tree/updater_prune.cc:74: tree pruning end, 1 roots, 80 extra nodes, 0 pruned nodes, max_depth=6\u001b[0m\n",
      "\u001b[34m[190]#011train-rmse:72147.9#011validation-rmse:121488\u001b[0m\n",
      "\u001b[34m[22:55:30] src/tree/updater_prune.cc:74: tree pruning end, 1 roots, 56 extra nodes, 0 pruned nodes, max_depth=6\u001b[0m\n",
      "\u001b[34m[191]#011train-rmse:72097#011validation-rmse:121471\u001b[0m\n",
      "\u001b[34m[22:55:30] src/tree/updater_prune.cc:74: tree pruning end, 1 roots, 86 extra nodes, 0 pruned nodes, max_depth=6\u001b[0m\n",
      "\u001b[34m[192]#011train-rmse:72039#011validation-rmse:121466\u001b[0m\n",
      "\u001b[34m[22:55:30] src/tree/updater_prune.cc:74: tree pruning end, 1 roots, 102 extra nodes, 0 pruned nodes, max_depth=6\u001b[0m\n",
      "\u001b[34m[193]#011train-rmse:71936.2#011validation-rmse:121444\u001b[0m\n",
      "\u001b[34m[22:55:30] src/tree/updater_prune.cc:74: tree pruning end, 1 roots, 102 extra nodes, 0 pruned nodes, max_depth=6\u001b[0m\n",
      "\u001b[34m[194]#011train-rmse:71741.6#011validation-rmse:121389\u001b[0m\n",
      "\u001b[34m[22:55:30] src/tree/updater_prune.cc:74: tree pruning end, 1 roots, 64 extra nodes, 0 pruned nodes, max_depth=6\u001b[0m\n",
      "\u001b[34m[195]#011train-rmse:71659.8#011validation-rmse:121334\u001b[0m\n",
      "\u001b[34m[22:55:30] src/tree/updater_prune.cc:74: tree pruning end, 1 roots, 66 extra nodes, 0 pruned nodes, max_depth=6\u001b[0m\n",
      "\u001b[34m[196]#011train-rmse:71589.6#011validation-rmse:121331\u001b[0m\n",
      "\u001b[34m[22:55:30] src/tree/updater_prune.cc:74: tree pruning end, 1 roots, 96 extra nodes, 0 pruned nodes, max_depth=6\u001b[0m\n",
      "\u001b[34m[197]#011train-rmse:71437.3#011validation-rmse:121329\u001b[0m\n",
      "\u001b[34m[22:55:30] src/tree/updater_prune.cc:74: tree pruning end, 1 roots, 94 extra nodes, 0 pruned nodes, max_depth=6\u001b[0m\n",
      "\u001b[34m[198]#011train-rmse:71369.2#011validation-rmse:121306\u001b[0m\n",
      "\u001b[34m[22:55:30] src/tree/updater_prune.cc:74: tree pruning end, 1 roots, 66 extra nodes, 0 pruned nodes, max_depth=6\u001b[0m\n",
      "\u001b[34m[199]#011train-rmse:71311.9#011validation-rmse:121293\u001b[0m\n",
      "\u001b[34m[22:55:30] src/tree/updater_prune.cc:74: tree pruning end, 1 roots, 92 extra nodes, 0 pruned nodes, max_depth=6\u001b[0m\n",
      "\u001b[34m[200]#011train-rmse:71258#011validation-rmse:121284\u001b[0m\n",
      "\u001b[34m[22:55:30] src/tree/updater_prune.cc:74: tree pruning end, 1 roots, 108 extra nodes, 0 pruned nodes, max_depth=6\u001b[0m\n",
      "\u001b[34m[201]#011train-rmse:71151.3#011validation-rmse:121262\u001b[0m\n",
      "\u001b[34m[22:55:30] src/tree/updater_prune.cc:74: tree pruning end, 1 roots, 90 extra nodes, 0 pruned nodes, max_depth=6\u001b[0m\n",
      "\u001b[34m[202]#011train-rmse:70979.6#011validation-rmse:121241\u001b[0m\n",
      "\u001b[34m[22:55:30] src/tree/updater_prune.cc:74: tree pruning end, 1 roots, 106 extra nodes, 0 pruned nodes, max_depth=6\u001b[0m\n",
      "\u001b[34m[203]#011train-rmse:70846.4#011validation-rmse:121265\u001b[0m\n",
      "\u001b[34m[22:55:30] src/tree/updater_prune.cc:74: tree pruning end, 1 roots, 68 extra nodes, 0 pruned nodes, max_depth=6\u001b[0m\n",
      "\u001b[34m[204]#011train-rmse:70815.2#011validation-rmse:121262\u001b[0m\n",
      "\u001b[34m[22:55:30] src/tree/updater_prune.cc:74: tree pruning end, 1 roots, 68 extra nodes, 0 pruned nodes, max_depth=6\u001b[0m\n",
      "\u001b[34m[205]#011train-rmse:70764.3#011validation-rmse:121240\u001b[0m\n",
      "\u001b[34m[22:55:30] src/tree/updater_prune.cc:74: tree pruning end, 1 roots, 72 extra nodes, 0 pruned nodes, max_depth=6\u001b[0m\n",
      "\u001b[34m[206]#011train-rmse:70705.4#011validation-rmse:121211\u001b[0m\n",
      "\u001b[34m[22:55:30] src/tree/updater_prune.cc:74: tree pruning end, 1 roots, 102 extra nodes, 0 pruned nodes, max_depth=6\u001b[0m\n",
      "\u001b[34m[207]#011train-rmse:70577.7#011validation-rmse:121182\u001b[0m\n",
      "\u001b[34m[22:55:30] src/tree/updater_prune.cc:74: tree pruning end, 1 roots, 108 extra nodes, 0 pruned nodes, max_depth=6\u001b[0m\n",
      "\u001b[34m[208]#011train-rmse:70465.3#011validation-rmse:121158\u001b[0m\n",
      "\u001b[34m[22:55:30] src/tree/updater_prune.cc:74: tree pruning end, 1 roots, 92 extra nodes, 0 pruned nodes, max_depth=6\u001b[0m\n",
      "\u001b[34m[209]#011train-rmse:70391.6#011validation-rmse:121152\u001b[0m\n",
      "\u001b[34m[22:55:30] src/tree/updater_prune.cc:74: tree pruning end, 1 roots, 102 extra nodes, 0 pruned nodes, max_depth=6\u001b[0m\n",
      "\u001b[34m[210]#011train-rmse:70288.3#011validation-rmse:121142\u001b[0m\n",
      "\u001b[34m[22:55:30] src/tree/updater_prune.cc:74: tree pruning end, 1 roots, 90 extra nodes, 0 pruned nodes, max_depth=6\u001b[0m\n",
      "\u001b[34m[211]#011train-rmse:70204.9#011validation-rmse:121109\u001b[0m\n",
      "\u001b[34m[22:55:30] src/tree/updater_prune.cc:74: tree pruning end, 1 roots, 114 extra nodes, 0 pruned nodes, max_depth=6\u001b[0m\n",
      "\u001b[34m[212]#011train-rmse:70003.7#011validation-rmse:121053\u001b[0m\n",
      "\u001b[34m[22:55:30] src/tree/updater_prune.cc:74: tree pruning end, 1 roots, 94 extra nodes, 0 pruned nodes, max_depth=6\u001b[0m\n",
      "\u001b[34m[213]#011train-rmse:69892.7#011validation-rmse:121042\u001b[0m\n",
      "\u001b[34m[22:55:30] src/tree/updater_prune.cc:74: tree pruning end, 1 roots, 94 extra nodes, 0 pruned nodes, max_depth=6\u001b[0m\n",
      "\u001b[34m[214]#011train-rmse:69790#011validation-rmse:121012\u001b[0m\n",
      "\u001b[34m[22:55:30] src/tree/updater_prune.cc:74: tree pruning end, 1 roots, 92 extra nodes, 0 pruned nodes, max_depth=6\u001b[0m\n",
      "\u001b[34m[215]#011train-rmse:69737.9#011validation-rmse:121023\u001b[0m\n",
      "\u001b[34m[22:55:30] src/tree/updater_prune.cc:74: tree pruning end, 1 roots, 88 extra nodes, 0 pruned nodes, max_depth=6\u001b[0m\n",
      "\u001b[34m[216]#011train-rmse:69642.3#011validation-rmse:120989\u001b[0m\n",
      "\u001b[34m[22:55:30] src/tree/updater_prune.cc:74: tree pruning end, 1 roots, 96 extra nodes, 0 pruned nodes, max_depth=6\u001b[0m\n",
      "\u001b[34m[217]#011train-rmse:69584.3#011validation-rmse:120985\u001b[0m\n",
      "\u001b[34m[22:55:30] src/tree/updater_prune.cc:74: tree pruning end, 1 roots, 120 extra nodes, 0 pruned nodes, max_depth=6\u001b[0m\n",
      "\u001b[34m[218]#011train-rmse:69469.5#011validation-rmse:120948\u001b[0m\n",
      "\n",
      "2023-03-14 22:55:48 Uploading - Uploading generated training model\n",
      "2023-03-14 22:55:48 Completed - Training job completed\n",
      "Training seconds: 78\n",
      "Billable seconds: 78\n"
     ]
    }
   ],
   "source": [
    "xgboost.fit(data_channels)"
   ]
  },
  {
   "cell_type": "code",
   "execution_count": 72,
   "id": "41e69870-0c5b-4bf2-9ec2-0f6e24272b93",
   "metadata": {
    "tags": []
   },
   "outputs": [
    {
     "name": "stderr",
     "output_type": "stream",
     "text": [
      "INFO:sagemaker:Creating model with name: xgboost-2023-03-14-22-56-07-659\n",
      "INFO:sagemaker:Creating endpoint-config with name xgboost-2023-03-14-22-56-07-659\n",
      "INFO:sagemaker:Creating endpoint with name xgboost-2023-03-14-22-56-07-659\n"
     ]
    },
    {
     "name": "stdout",
     "output_type": "stream",
     "text": [
      "------!"
     ]
    }
   ],
   "source": [
    "xgboost_regressor = xgboost.deploy(initial_instance_count=1, instance_type = 'ml.m4.xlarge')"
   ]
  },
  {
   "cell_type": "code",
   "execution_count": 73,
   "id": "778e4d9f-449c-4718-87be-f3374f0a0644",
   "metadata": {
    "tags": []
   },
   "outputs": [],
   "source": [
    "# configurando o tipo de entrada\n",
    "xgboost_regressor.serializer = CSVSerializer()"
   ]
  },
  {
   "cell_type": "code",
   "execution_count": 74,
   "id": "46646ff7-d0c8-482d-af64-e245b20420b6",
   "metadata": {
    "tags": []
   },
   "outputs": [
    {
     "data": {
      "text/plain": [
       "array([730289.06, 803608.4 , 145735.12, ..., 322631.8 , 442199.56,\n",
       "       322340.22], dtype=float32)"
      ]
     },
     "execution_count": 74,
     "metadata": {},
     "output_type": "execute_result"
    }
   ],
   "source": [
    "previsoes = np.array(xgboost_regressor.predict(X_teste).decode('utf-8').split(',')).astype(np.float32)\n",
    "previsoes"
   ]
  },
  {
   "cell_type": "code",
   "execution_count": 75,
   "id": "9ebb36d3-da94-42c2-8ef5-72e906377ff3",
   "metadata": {
    "tags": []
   },
   "outputs": [
    {
     "name": "stdout",
     "output_type": "stream",
     "text": [
      "MAE =  67160.80174516117 \n",
      "MSE =  14628484352.380383\n"
     ]
    }
   ],
   "source": [
    "from sklearn.metrics import mean_absolute_error, mean_squared_error\n",
    "mae = mean_absolute_error(y_teste, previsoes)\n",
    "mse = mean_squared_error(y_teste, previsoes)\n",
    "print('MAE = ', mae, '\\nMSE = ', mse)"
   ]
  },
  {
   "cell_type": "code",
   "execution_count": null,
   "id": "5b82690e-2ce6-4979-817e-eb4e68d6ff59",
   "metadata": {},
   "outputs": [],
   "source": []
  }
 ],
 "metadata": {
  "availableInstances": [
   {
    "_defaultOrder": 0,
    "_isFastLaunch": true,
    "category": "General purpose",
    "gpuNum": 0,
    "memoryGiB": 4,
    "name": "ml.t3.medium",
    "vcpuNum": 2
   },
   {
    "_defaultOrder": 1,
    "_isFastLaunch": false,
    "category": "General purpose",
    "gpuNum": 0,
    "memoryGiB": 8,
    "name": "ml.t3.large",
    "vcpuNum": 2
   },
   {
    "_defaultOrder": 2,
    "_isFastLaunch": false,
    "category": "General purpose",
    "gpuNum": 0,
    "memoryGiB": 16,
    "name": "ml.t3.xlarge",
    "vcpuNum": 4
   },
   {
    "_defaultOrder": 3,
    "_isFastLaunch": false,
    "category": "General purpose",
    "gpuNum": 0,
    "memoryGiB": 32,
    "name": "ml.t3.2xlarge",
    "vcpuNum": 8
   },
   {
    "_defaultOrder": 4,
    "_isFastLaunch": true,
    "category": "General purpose",
    "gpuNum": 0,
    "memoryGiB": 8,
    "name": "ml.m5.large",
    "vcpuNum": 2
   },
   {
    "_defaultOrder": 5,
    "_isFastLaunch": false,
    "category": "General purpose",
    "gpuNum": 0,
    "memoryGiB": 16,
    "name": "ml.m5.xlarge",
    "vcpuNum": 4
   },
   {
    "_defaultOrder": 6,
    "_isFastLaunch": false,
    "category": "General purpose",
    "gpuNum": 0,
    "memoryGiB": 32,
    "name": "ml.m5.2xlarge",
    "vcpuNum": 8
   },
   {
    "_defaultOrder": 7,
    "_isFastLaunch": false,
    "category": "General purpose",
    "gpuNum": 0,
    "memoryGiB": 64,
    "name": "ml.m5.4xlarge",
    "vcpuNum": 16
   },
   {
    "_defaultOrder": 8,
    "_isFastLaunch": false,
    "category": "General purpose",
    "gpuNum": 0,
    "memoryGiB": 128,
    "name": "ml.m5.8xlarge",
    "vcpuNum": 32
   },
   {
    "_defaultOrder": 9,
    "_isFastLaunch": false,
    "category": "General purpose",
    "gpuNum": 0,
    "memoryGiB": 192,
    "name": "ml.m5.12xlarge",
    "vcpuNum": 48
   },
   {
    "_defaultOrder": 10,
    "_isFastLaunch": false,
    "category": "General purpose",
    "gpuNum": 0,
    "memoryGiB": 256,
    "name": "ml.m5.16xlarge",
    "vcpuNum": 64
   },
   {
    "_defaultOrder": 11,
    "_isFastLaunch": false,
    "category": "General purpose",
    "gpuNum": 0,
    "memoryGiB": 384,
    "name": "ml.m5.24xlarge",
    "vcpuNum": 96
   },
   {
    "_defaultOrder": 12,
    "_isFastLaunch": false,
    "category": "General purpose",
    "gpuNum": 0,
    "memoryGiB": 8,
    "name": "ml.m5d.large",
    "vcpuNum": 2
   },
   {
    "_defaultOrder": 13,
    "_isFastLaunch": false,
    "category": "General purpose",
    "gpuNum": 0,
    "memoryGiB": 16,
    "name": "ml.m5d.xlarge",
    "vcpuNum": 4
   },
   {
    "_defaultOrder": 14,
    "_isFastLaunch": false,
    "category": "General purpose",
    "gpuNum": 0,
    "memoryGiB": 32,
    "name": "ml.m5d.2xlarge",
    "vcpuNum": 8
   },
   {
    "_defaultOrder": 15,
    "_isFastLaunch": false,
    "category": "General purpose",
    "gpuNum": 0,
    "memoryGiB": 64,
    "name": "ml.m5d.4xlarge",
    "vcpuNum": 16
   },
   {
    "_defaultOrder": 16,
    "_isFastLaunch": false,
    "category": "General purpose",
    "gpuNum": 0,
    "memoryGiB": 128,
    "name": "ml.m5d.8xlarge",
    "vcpuNum": 32
   },
   {
    "_defaultOrder": 17,
    "_isFastLaunch": false,
    "category": "General purpose",
    "gpuNum": 0,
    "memoryGiB": 192,
    "name": "ml.m5d.12xlarge",
    "vcpuNum": 48
   },
   {
    "_defaultOrder": 18,
    "_isFastLaunch": false,
    "category": "General purpose",
    "gpuNum": 0,
    "memoryGiB": 256,
    "name": "ml.m5d.16xlarge",
    "vcpuNum": 64
   },
   {
    "_defaultOrder": 19,
    "_isFastLaunch": false,
    "category": "General purpose",
    "gpuNum": 0,
    "memoryGiB": 384,
    "name": "ml.m5d.24xlarge",
    "vcpuNum": 96
   },
   {
    "_defaultOrder": 20,
    "_isFastLaunch": true,
    "category": "Compute optimized",
    "gpuNum": 0,
    "memoryGiB": 4,
    "name": "ml.c5.large",
    "vcpuNum": 2
   },
   {
    "_defaultOrder": 21,
    "_isFastLaunch": false,
    "category": "Compute optimized",
    "gpuNum": 0,
    "memoryGiB": 8,
    "name": "ml.c5.xlarge",
    "vcpuNum": 4
   },
   {
    "_defaultOrder": 22,
    "_isFastLaunch": false,
    "category": "Compute optimized",
    "gpuNum": 0,
    "memoryGiB": 16,
    "name": "ml.c5.2xlarge",
    "vcpuNum": 8
   },
   {
    "_defaultOrder": 23,
    "_isFastLaunch": false,
    "category": "Compute optimized",
    "gpuNum": 0,
    "memoryGiB": 32,
    "name": "ml.c5.4xlarge",
    "vcpuNum": 16
   },
   {
    "_defaultOrder": 24,
    "_isFastLaunch": false,
    "category": "Compute optimized",
    "gpuNum": 0,
    "memoryGiB": 72,
    "name": "ml.c5.9xlarge",
    "vcpuNum": 36
   },
   {
    "_defaultOrder": 25,
    "_isFastLaunch": false,
    "category": "Compute optimized",
    "gpuNum": 0,
    "memoryGiB": 96,
    "name": "ml.c5.12xlarge",
    "vcpuNum": 48
   },
   {
    "_defaultOrder": 26,
    "_isFastLaunch": false,
    "category": "Compute optimized",
    "gpuNum": 0,
    "memoryGiB": 144,
    "name": "ml.c5.18xlarge",
    "vcpuNum": 72
   },
   {
    "_defaultOrder": 27,
    "_isFastLaunch": false,
    "category": "Compute optimized",
    "gpuNum": 0,
    "memoryGiB": 192,
    "name": "ml.c5.24xlarge",
    "vcpuNum": 96
   },
   {
    "_defaultOrder": 28,
    "_isFastLaunch": true,
    "category": "Accelerated computing",
    "gpuNum": 1,
    "memoryGiB": 16,
    "name": "ml.g4dn.xlarge",
    "vcpuNum": 4
   },
   {
    "_defaultOrder": 29,
    "_isFastLaunch": false,
    "category": "Accelerated computing",
    "gpuNum": 1,
    "memoryGiB": 32,
    "name": "ml.g4dn.2xlarge",
    "vcpuNum": 8
   },
   {
    "_defaultOrder": 30,
    "_isFastLaunch": false,
    "category": "Accelerated computing",
    "gpuNum": 1,
    "memoryGiB": 64,
    "name": "ml.g4dn.4xlarge",
    "vcpuNum": 16
   },
   {
    "_defaultOrder": 31,
    "_isFastLaunch": false,
    "category": "Accelerated computing",
    "gpuNum": 1,
    "memoryGiB": 128,
    "name": "ml.g4dn.8xlarge",
    "vcpuNum": 32
   },
   {
    "_defaultOrder": 32,
    "_isFastLaunch": false,
    "category": "Accelerated computing",
    "gpuNum": 4,
    "memoryGiB": 192,
    "name": "ml.g4dn.12xlarge",
    "vcpuNum": 48
   },
   {
    "_defaultOrder": 33,
    "_isFastLaunch": false,
    "category": "Accelerated computing",
    "gpuNum": 1,
    "memoryGiB": 256,
    "name": "ml.g4dn.16xlarge",
    "vcpuNum": 64
   },
   {
    "_defaultOrder": 34,
    "_isFastLaunch": false,
    "category": "Accelerated computing",
    "gpuNum": 1,
    "memoryGiB": 61,
    "name": "ml.p3.2xlarge",
    "vcpuNum": 8
   },
   {
    "_defaultOrder": 35,
    "_isFastLaunch": false,
    "category": "Accelerated computing",
    "gpuNum": 4,
    "memoryGiB": 244,
    "name": "ml.p3.8xlarge",
    "vcpuNum": 32
   },
   {
    "_defaultOrder": 36,
    "_isFastLaunch": false,
    "category": "Accelerated computing",
    "gpuNum": 8,
    "memoryGiB": 488,
    "name": "ml.p3.16xlarge",
    "vcpuNum": 64
   },
   {
    "_defaultOrder": 37,
    "_isFastLaunch": false,
    "category": "Accelerated computing",
    "gpuNum": 8,
    "memoryGiB": 768,
    "name": "ml.p3dn.24xlarge",
    "vcpuNum": 96
   },
   {
    "_defaultOrder": 38,
    "_isFastLaunch": false,
    "category": "Memory Optimized",
    "gpuNum": 0,
    "memoryGiB": 16,
    "name": "ml.r5.large",
    "vcpuNum": 2
   },
   {
    "_defaultOrder": 39,
    "_isFastLaunch": false,
    "category": "Memory Optimized",
    "gpuNum": 0,
    "memoryGiB": 32,
    "name": "ml.r5.xlarge",
    "vcpuNum": 4
   },
   {
    "_defaultOrder": 40,
    "_isFastLaunch": false,
    "category": "Memory Optimized",
    "gpuNum": 0,
    "memoryGiB": 64,
    "name": "ml.r5.2xlarge",
    "vcpuNum": 8
   },
   {
    "_defaultOrder": 41,
    "_isFastLaunch": false,
    "category": "Memory Optimized",
    "gpuNum": 0,
    "memoryGiB": 128,
    "name": "ml.r5.4xlarge",
    "vcpuNum": 16
   },
   {
    "_defaultOrder": 42,
    "_isFastLaunch": false,
    "category": "Memory Optimized",
    "gpuNum": 0,
    "memoryGiB": 256,
    "name": "ml.r5.8xlarge",
    "vcpuNum": 32
   },
   {
    "_defaultOrder": 43,
    "_isFastLaunch": false,
    "category": "Memory Optimized",
    "gpuNum": 0,
    "memoryGiB": 384,
    "name": "ml.r5.12xlarge",
    "vcpuNum": 48
   },
   {
    "_defaultOrder": 44,
    "_isFastLaunch": false,
    "category": "Memory Optimized",
    "gpuNum": 0,
    "memoryGiB": 512,
    "name": "ml.r5.16xlarge",
    "vcpuNum": 64
   },
   {
    "_defaultOrder": 45,
    "_isFastLaunch": false,
    "category": "Memory Optimized",
    "gpuNum": 0,
    "memoryGiB": 768,
    "name": "ml.r5.24xlarge",
    "vcpuNum": 96
   },
   {
    "_defaultOrder": 46,
    "_isFastLaunch": false,
    "category": "Accelerated computing",
    "gpuNum": 1,
    "memoryGiB": 16,
    "name": "ml.g5.xlarge",
    "vcpuNum": 4
   },
   {
    "_defaultOrder": 47,
    "_isFastLaunch": false,
    "category": "Accelerated computing",
    "gpuNum": 1,
    "memoryGiB": 32,
    "name": "ml.g5.2xlarge",
    "vcpuNum": 8
   },
   {
    "_defaultOrder": 48,
    "_isFastLaunch": false,
    "category": "Accelerated computing",
    "gpuNum": 1,
    "memoryGiB": 64,
    "name": "ml.g5.4xlarge",
    "vcpuNum": 16
   },
   {
    "_defaultOrder": 49,
    "_isFastLaunch": false,
    "category": "Accelerated computing",
    "gpuNum": 1,
    "memoryGiB": 128,
    "name": "ml.g5.8xlarge",
    "vcpuNum": 32
   },
   {
    "_defaultOrder": 50,
    "_isFastLaunch": false,
    "category": "Accelerated computing",
    "gpuNum": 1,
    "memoryGiB": 256,
    "name": "ml.g5.16xlarge",
    "vcpuNum": 64
   },
   {
    "_defaultOrder": 51,
    "_isFastLaunch": false,
    "category": "Accelerated computing",
    "gpuNum": 4,
    "memoryGiB": 192,
    "name": "ml.g5.12xlarge",
    "vcpuNum": 48
   },
   {
    "_defaultOrder": 52,
    "_isFastLaunch": false,
    "category": "Accelerated computing",
    "gpuNum": 4,
    "memoryGiB": 384,
    "name": "ml.g5.24xlarge",
    "vcpuNum": 96
   },
   {
    "_defaultOrder": 53,
    "_isFastLaunch": false,
    "category": "Accelerated computing",
    "gpuNum": 8,
    "memoryGiB": 768,
    "name": "ml.g5.48xlarge",
    "vcpuNum": 192
   }
  ],
  "instance_type": "ml.t3.medium",
  "kernelspec": {
   "display_name": "Python 3 (Data Science)",
   "language": "python",
   "name": "python3__SAGEMAKER_INTERNAL__arn:aws:sagemaker:sa-east-1:782484402741:image/datascience-1.0"
  },
  "language_info": {
   "codemirror_mode": {
    "name": "ipython",
    "version": 3
   },
   "file_extension": ".py",
   "mimetype": "text/x-python",
   "name": "python",
   "nbconvert_exporter": "python",
   "pygments_lexer": "ipython3",
   "version": "3.7.10"
  }
 },
 "nbformat": 4,
 "nbformat_minor": 5
}
